{
 "cells": [
  {
   "cell_type": "markdown",
   "metadata": {},
   "source": [
    "<a href=\"https://cognitiveclass.ai/?utm_medium=Exinfluencer&utm_source=Exinfluencer&utm_content=000026UJ&utm_term=10006555&utm_id=NA-SkillsNetwork-Channel-SkillsNetworkCoursesIBMDeveloperSkillsNetworkRP0321ENSkillsNetwork25371262-2022-01-01\">\n",
    "    <img src=\"https://cf-courses-data.s3.us.cloud-object-storage.appdomain.cloud/IBMDeveloperSkillsNetwork-RP0101EN-Coursera/v2/M1_R_Basics/images/IDSNlogo.png\" width=\"200\" align=\"center\">\n",
    "</a>\n"
   ]
  },
  {
   "cell_type": "markdown",
   "metadata": {},
   "source": [
    "<h1>Data Wrangling with dplyr</h1>\n",
    "\n",
    "Estimated time needed: **60** minutes\n"
   ]
  },
  {
   "cell_type": "markdown",
   "metadata": {},
   "source": [
    "## Lab Overview:\n",
    "\n",
    "In this lab, you will focus on wrangling the Seoul bike-sharing demand historical dataset. This is the core dataset to build a predictive model later.\n",
    "\n",
    "It contains the following columns:\n",
    "\n",
    "*   `DATE` : Year-month-day\n",
    "*   `RENTED BIKE COUNT`- Count of bikes rented at each hour\n",
    "*   `HOUR`- Hour of he day\n",
    "*   `TEMPERATURE` - Temperature in Celsius\n",
    "*   `HUMIDITY` - Unit is `%`\n",
    "*   `WINDSPEED` - Unit is `m/s`\n",
    "*   `VISIBILITY` - Multiplied by 10m\n",
    "*   `DEW POINT TEMERATURE` - The temperature to which the air would have to cool down in order to reach saturation, unit is Celsius\n",
    "*   `SOLAR RADIATION` - MJ/m2\n",
    "*   `RAINFALL` - mm\n",
    "*   `SNOWFALL` - cm\n",
    "*   `SEASONS` - Winter, Spring, Summer, Autumn\n",
    "*   `HOLIDAY` - Holiday/No holiday\n",
    "*   `FUNCTIONAL DAY` - NoFunc(Non Functional Hours), Fun(Functional hours)\n",
    "\n",
    "For this dataset, you will be asked to use `tidyverse` to perform the following data wrangling tasks:\n",
    "\n",
    "*   **TASK: Detect and handle missing values**\n",
    "*   **TASK: Create indicator (dummy) variables for categorical variables**\n",
    "*   **TASK: Normalize data**\n",
    "\n",
    "Let's start!\n"
   ]
  },
  {
   "cell_type": "markdown",
   "metadata": {},
   "source": [
    "First import the necessary library for this data wrangling task:\n"
   ]
  },
  {
   "cell_type": "code",
   "execution_count": 1,
   "metadata": {},
   "outputs": [
    {
     "name": "stderr",
     "output_type": "stream",
     "text": [
      "Warning message:\n",
      "\"package 'tidyverse' was built under R version 4.1.3\"\n",
      "-- \u001b[1mAttaching packages\u001b[22m ------------------------------------------------------------------------------- tidyverse 1.3.2 --\n",
      "\u001b[32mv\u001b[39m \u001b[34mggplot2\u001b[39m 3.3.6     \u001b[32mv\u001b[39m \u001b[34mpurrr  \u001b[39m 0.3.4\n",
      "\u001b[32mv\u001b[39m \u001b[34mtibble \u001b[39m 3.1.7     \u001b[32mv\u001b[39m \u001b[34mdplyr  \u001b[39m 1.0.9\n",
      "\u001b[32mv\u001b[39m \u001b[34mtidyr  \u001b[39m 1.2.0     \u001b[32mv\u001b[39m \u001b[34mstringr\u001b[39m 1.4.0\n",
      "\u001b[32mv\u001b[39m \u001b[34mreadr  \u001b[39m 2.1.2     \u001b[32mv\u001b[39m \u001b[34mforcats\u001b[39m 0.5.1\n",
      "Warning message:\n",
      "\"package 'ggplot2' was built under R version 4.1.3\"\n",
      "Warning message:\n",
      "\"package 'tibble' was built under R version 4.1.3\"\n",
      "Warning message:\n",
      "\"package 'tidyr' was built under R version 4.1.3\"\n",
      "Warning message:\n",
      "\"package 'readr' was built under R version 4.1.3\"\n",
      "Warning message:\n",
      "\"package 'purrr' was built under R version 4.1.3\"\n",
      "Warning message:\n",
      "\"package 'dplyr' was built under R version 4.1.3\"\n",
      "Warning message:\n",
      "\"package 'stringr' was built under R version 4.1.3\"\n",
      "Warning message:\n",
      "\"package 'forcats' was built under R version 4.1.3\"\n",
      "-- \u001b[1mConflicts\u001b[22m ---------------------------------------------------------------------------------- tidyverse_conflicts() --\n",
      "\u001b[31mx\u001b[39m \u001b[34mdplyr\u001b[39m::\u001b[32mfilter()\u001b[39m masks \u001b[34mstats\u001b[39m::filter()\n",
      "\u001b[31mx\u001b[39m \u001b[34mdplyr\u001b[39m::\u001b[32mlag()\u001b[39m    masks \u001b[34mstats\u001b[39m::lag()\n"
     ]
    }
   ],
   "source": [
    "# Check if you need to install the `tidyverse` library\n",
    "#require(\"tidyverse\")\n",
    "library(tidyverse)"
   ]
  },
  {
   "cell_type": "markdown",
   "metadata": {},
   "source": [
    "Then load the bike-sharing system data from the csv processed in the previous lab:\n"
   ]
  },
  {
   "cell_type": "code",
   "execution_count": 2,
   "metadata": {},
   "outputs": [
    {
     "name": "stderr",
     "output_type": "stream",
     "text": [
      "\u001b[1mRows: \u001b[22m\u001b[34m8760\u001b[39m \u001b[1mColumns: \u001b[22m\u001b[34m14\u001b[39m\n",
      "\u001b[36m--\u001b[39m \u001b[1mColumn specification\u001b[22m \u001b[36m------------------------------------------------------------------------------------------------\u001b[39m\n",
      "\u001b[1mDelimiter:\u001b[22m \",\"\n",
      "\u001b[31mchr\u001b[39m  (4): DATE, SEASONS, HOLIDAY, FUNCTIONING_DAY\n",
      "\u001b[32mdbl\u001b[39m (10): RENTED_BIKE_COUNT, HOUR, TEMPERATURE, HUMIDITY, WIND_SPEED, VISIBI...\n",
      "\n",
      "\u001b[36mi\u001b[39m Use `spec()` to retrieve the full column specification for this data.\n",
      "\u001b[36mi\u001b[39m Specify the column types or set `show_col_types = FALSE` to quiet this message.\n"
     ]
    }
   ],
   "source": [
    "bike_sharing_df <- read_csv(\"raw_seoul_bike_sharing.csv\")"
   ]
  },
  {
   "cell_type": "code",
   "execution_count": 3,
   "metadata": {},
   "outputs": [],
   "source": [
    "# Or you may read it from here again\n",
    "# url <- \"https://cf-courses-data.s3.us.cloud-object-storage.appdomain.cloud/IBMDeveloperSkillsNetwork-RP0321EN-SkillsNetwork/labs/datasets/raw_seoul_bike_sharing.csv\"\n",
    "# Notice some column names in the raw datasets are not standalized if you haven't done them properly in the previous lab"
   ]
  },
  {
   "cell_type": "markdown",
   "metadata": {},
   "source": [
    "First take a quick look at the dataset:\n"
   ]
  },
  {
   "cell_type": "code",
   "execution_count": 4,
   "metadata": {},
   "outputs": [
    {
     "data": {
      "text/plain": [
       "     DATE           RENTED_BIKE_COUNT      HOUR          TEMPERATURE      \n",
       " Length:8760        Min.   :-1.1320   Min.   :-1.6612   Min.   :-2.56760  \n",
       " Class :character   1st Qu.:-0.8020   1st Qu.:-0.8306   1st Qu.:-0.79262  \n",
       " Mode  :character   Median :-0.2914   Median : 0.0000   Median : 0.06975  \n",
       "                    Mean   : 0.0000   Mean   : 0.0000   Mean   : 0.00000  \n",
       "                    3rd Qu.: 0.5524   3rd Qu.: 0.8306   3rd Qu.: 0.80654  \n",
       "                    Max.   : 4.4008   Max.   : 1.6612   Max.   : 2.22149  \n",
       "                    NA's   :295                         NA's   :11        \n",
       "    HUMIDITY          WIND_SPEED        VISIBILITY      DEW_POINT_TEMPERATURE\n",
       " Min.   :-2.85950   Min.   :-1.6645   Min.   :-2.3177   Min.   :-2.65489     \n",
       " 1st Qu.:-0.79687   1st Qu.:-0.7960   1st Qu.:-0.8167   1st Qu.:-0.67179     \n",
       " Median :-0.06022   Median :-0.2170   Median : 0.4294   Median : 0.07857     \n",
       " Mean   : 0.00000   Mean   : 0.0000   Mean   : 0.0000   Mean   : 0.00000     \n",
       " 3rd Qu.: 0.77465   3rd Qu.: 0.5549   3rd Qu.: 0.9258   3rd Qu.: 0.82128     \n",
       " Max.   : 1.95329   Max.   : 5.4763   Max.   : 0.9258   Max.   : 1.77071     \n",
       "                                                                             \n",
       " SOLAR_RADIATION      RAINFALL          SNOWFALL         SEASONS         \n",
       " Min.   :-0.6551   Min.   :-0.1318   Min.   :-0.1719   Length:8760       \n",
       " 1st Qu.:-0.6551   1st Qu.:-0.1318   1st Qu.:-0.1719   Class :character  \n",
       " Median :-0.6436   Median :-0.1318   Median :-0.1719   Mode  :character  \n",
       " Mean   : 0.0000   Mean   : 0.0000   Mean   : 0.0000                     \n",
       " 3rd Qu.: 0.4154   3rd Qu.:-0.1318   3rd Qu.:-0.1719                     \n",
       " Max.   : 3.3967   Max.   :30.8913   Max.   :19.9771                     \n",
       "                                                                         \n",
       "   HOLIDAY          FUNCTIONING_DAY   \n",
       " Length:8760        Length:8760       \n",
       " Class :character   Class :character  \n",
       " Mode  :character   Mode  :character  \n",
       "                                      \n",
       "                                      \n",
       "                                      \n",
       "                                      "
      ]
     },
     "metadata": {},
     "output_type": "display_data"
    },
    {
     "data": {
      "text/html": [
       "<style>\n",
       ".list-inline {list-style: none; margin:0; padding: 0}\n",
       ".list-inline>li {display: inline-block}\n",
       ".list-inline>li:not(:last-child)::after {content: \"\\00b7\"; padding: 0 .5ex}\n",
       "</style>\n",
       "<ol class=list-inline><li>8760</li><li>14</li></ol>\n"
      ],
      "text/latex": [
       "\\begin{enumerate*}\n",
       "\\item 8760\n",
       "\\item 14\n",
       "\\end{enumerate*}\n"
      ],
      "text/markdown": [
       "1. 8760\n",
       "2. 14\n",
       "\n",
       "\n"
      ],
      "text/plain": [
       "[1] 8760   14"
      ]
     },
     "metadata": {},
     "output_type": "display_data"
    }
   ],
   "source": [
    "summary(bike_sharing_df)\n",
    "dim(bike_sharing_df)"
   ]
  },
  {
   "cell_type": "markdown",
   "metadata": {},
   "source": [
    "From the summary, we can observe that:\n",
    "\n",
    "Columns `RENTED_BIKE_COUNT`, `TEMPERATURE`, `HUMIDITY`, `WIND_SPEED`, `VISIBILITY`, `DEW_POINT_TEMPERATURE`, `SOLAR_RADIATION`, `RAINFALL`, `SNOWFALL` are numerical variables/columns and require normalization. Moreover, `RENTED_BIKE_COUNT` and `TEMPERATURE` have some missing values (NA's) that need to be handled properly.\n",
    "\n",
    "`SEASONS`, `HOLIDAY`, `FUNCTIONING_DAY` are categorical variables which need to be converted into indicator columns or dummy variables.\n",
    "Also, `HOUR` is read as a numerical variable but it is in fact a categorical variable with levels ranging from 0 to 23.\n",
    "\n",
    "Now that you have some basic ideas about how to process this bike-sharing demand dataset, let's start working on it!\n"
   ]
  },
  {
   "cell_type": "markdown",
   "metadata": {},
   "source": [
    "# TASK: Detect and handle missing values\n"
   ]
  },
  {
   "cell_type": "markdown",
   "metadata": {},
   "source": [
    "The `RENTED_BIKE_COUNT` column has about 295 missing values, and `TEMPERATURE` has about 11 missing values. Those missing values could be caused by not being recorded, or from malfunctioning bike-sharing systems or weather sensor networks. In any cases, the identified missing values have to be properly handled.\n"
   ]
  },
  {
   "cell_type": "markdown",
   "metadata": {},
   "source": [
    "Let's first handle missing values in `RENTED_BIKE_COUNT` column:\n"
   ]
  },
  {
   "cell_type": "markdown",
   "metadata": {},
   "source": [
    "Considering `RENTED_BIKE_COUNT` is the response variable/dependent variable, i.e., we want to predict the `RENTED_BIKE_COUNT` using other predictor/independent variables later, and we normally can not allow missing values for the response variable, so missing values for response variable must be either dropped or imputed properly.\n",
    "\n",
    "We can see that `RENTED_BIKE_COUNT` only has about 3% missing values (295 / 8760). As such, you can safely drop any rows whose `RENTED_BIKE_COUNT` has missing values.\n"
   ]
  },
  {
   "cell_type": "markdown",
   "metadata": {},
   "source": [
    "*TODO:* Drop rows with missing values in the `RENTED_BIKE_COUNT` column\n"
   ]
  },
  {
   "cell_type": "code",
   "execution_count": 5,
   "metadata": {},
   "outputs": [],
   "source": [
    "# Drop rows with `RENTED_BIKE_COUNT` column == NA\n",
    "bike_sharing_df<-bike_sharing_df %>% drop_na(RENTED_BIKE_COUNT)"
   ]
  },
  {
   "cell_type": "code",
   "execution_count": 6,
   "metadata": {},
   "outputs": [
    {
     "data": {
      "text/html": [
       "<style>\n",
       ".list-inline {list-style: none; margin:0; padding: 0}\n",
       ".list-inline>li {display: inline-block}\n",
       ".list-inline>li:not(:last-child)::after {content: \"\\00b7\"; padding: 0 .5ex}\n",
       "</style>\n",
       "<ol class=list-inline><li>8465</li><li>14</li></ol>\n"
      ],
      "text/latex": [
       "\\begin{enumerate*}\n",
       "\\item 8465\n",
       "\\item 14\n",
       "\\end{enumerate*}\n"
      ],
      "text/markdown": [
       "1. 8465\n",
       "2. 14\n",
       "\n",
       "\n"
      ],
      "text/plain": [
       "[1] 8465   14"
      ]
     },
     "metadata": {},
     "output_type": "display_data"
    }
   ],
   "source": [
    "# Print the dataset dimension again after those rows are dropped\n",
    "dim(bike_sharing_df)"
   ]
  },
  {
   "cell_type": "markdown",
   "metadata": {},
   "source": [
    "Now that you have handled  missing values in the `RENTED_BIKE_COUNT` variable, let's continue processing missing values for the `TEMPERATURE` column.\n"
   ]
  },
  {
   "cell_type": "markdown",
   "metadata": {},
   "source": [
    "Unlike the `RENTED_BIKE_COUNT` variable, `TEMPERATURE` is not a response variable. However, it is still an important predictor variable - as you could imagine, there may be a positve correlation between `TEMPERATURE` and `RENTED_BIKE_COUNT`. For example, in winter time with lower temperatures, people may not want to ride a bike, while in summer with nicer weather, they are more likely to rent a bike.\n"
   ]
  },
  {
   "cell_type": "markdown",
   "metadata": {},
   "source": [
    "How do we handle missing values for `TEMPERATURE`? We could simply remove the rows but it's better to impute them because `TEMPERATURE` should be relatively easy and reliable to estimate statistically.\n"
   ]
  },
  {
   "cell_type": "markdown",
   "metadata": {},
   "source": [
    "Let's first take a look at the missing values in the TEMPERATURE column.\n"
   ]
  },
  {
   "cell_type": "code",
   "execution_count": 7,
   "metadata": {},
   "outputs": [
    {
     "data": {
      "text/html": [
       "<table class=\"dataframe\">\n",
       "<caption>A tibble: 11 × 14</caption>\n",
       "<thead>\n",
       "\t<tr><th scope=col>DATE</th><th scope=col>RENTED_BIKE_COUNT</th><th scope=col>HOUR</th><th scope=col>TEMPERATURE</th><th scope=col>HUMIDITY</th><th scope=col>WIND_SPEED</th><th scope=col>VISIBILITY</th><th scope=col>DEW_POINT_TEMPERATURE</th><th scope=col>SOLAR_RADIATION</th><th scope=col>RAINFALL</th><th scope=col>SNOWFALL</th><th scope=col>SEASONS</th><th scope=col>HOLIDAY</th><th scope=col>FUNCTIONING_DAY</th></tr>\n",
       "\t<tr><th scope=col>&lt;chr&gt;</th><th scope=col>&lt;dbl&gt;</th><th scope=col>&lt;dbl&gt;</th><th scope=col>&lt;dbl&gt;</th><th scope=col>&lt;dbl&gt;</th><th scope=col>&lt;dbl&gt;</th><th scope=col>&lt;dbl&gt;</th><th scope=col>&lt;dbl&gt;</th><th scope=col>&lt;dbl&gt;</th><th scope=col>&lt;dbl&gt;</th><th scope=col>&lt;dbl&gt;</th><th scope=col>&lt;chr&gt;</th><th scope=col>&lt;chr&gt;</th><th scope=col>&lt;chr&gt;</th></tr>\n",
       "</thead>\n",
       "<tbody>\n",
       "\t<tr><td>07/06/2018</td><td> 3.8792535</td><td> 0.9389561</td><td>NA</td><td>-0.06022153</td><td> 0.94093538</td><td>-0.3613780</td><td>0.9437855</td><td> 0.44994643</td><td>-0.1317924</td><td>-0.1718813</td><td>Summer</td><td>No Holiday</td><td>Yes</td></tr>\n",
       "\t<tr><td>12/06/2018</td><td> 0.8046113</td><td> 0.3611369</td><td>NA</td><td>-0.64954264</td><td> 0.45844961</td><td> 0.8617053</td><td>0.6604857</td><td> 0.94491260</td><td>-0.1317924</td><td>-0.1718813</td><td>Summer</td><td>No Holiday</td><td>Yes</td></tr>\n",
       "\t<tr><td>13/06/2018</td><td> 3.0121265</td><td> 0.7945013</td><td>NA</td><td>-0.06022153</td><td> 1.51991830</td><td>-0.8512689</td><td>0.9437855</td><td> 0.34634886</td><td>-0.1317924</td><td>-0.1718813</td><td>Summer</td><td>No Holiday</td><td>Yes</td></tr>\n",
       "\t<tr><td>17/06/2018</td><td> 2.4921617</td><td> 0.7945013</td><td>NA</td><td>-0.01111144</td><td> 1.51991830</td><td>-0.9400411</td><td>0.9667558</td><td> 0.10462119</td><td>-0.1317924</td><td>-0.1718813</td><td>Summer</td><td>No Holiday</td><td>Yes</td></tr>\n",
       "\t<tr><td>20/06/2018</td><td> 3.1319987</td><td> 1.0834108</td><td>NA</td><td> 0.13621884</td><td> 0.94093538</td><td>-0.3301434</td><td>1.0280098</td><td> 0.03555615</td><td>-0.1317924</td><td>-0.1718813</td><td>Summer</td><td>No Holiday</td><td>Yes</td></tr>\n",
       "\t<tr><td>30/06/2018</td><td> 0.6458196</td><td> 0.2166822</td><td>NA</td><td> 1.41308124</td><td>-0.02403616</td><td>-1.7209075</td><td>1.4644446</td><td> 0.16217540</td><td> 2.9705138</td><td>-0.1718813</td><td>Summer</td><td>No Holiday</td><td>Yes</td></tr>\n",
       "\t<tr><td>05/07/2018</td><td> 0.1523201</td><td>-0.2166822</td><td>NA</td><td> 0.82376013</td><td>-0.60301909</td><td>-0.6720807</td><td>1.2806826</td><td> 0.74922830</td><td>-0.1317924</td><td>-0.1718813</td><td>Summer</td><td>No Holiday</td><td>Yes</td></tr>\n",
       "\t<tr><td>11/07/2018</td><td>-0.1481386</td><td>-0.3611369</td><td>NA</td><td> 1.85507207</td><td>-1.08550486</td><td>-1.6222717</td><td>1.5946094</td><td>-0.18314983</td><td>-0.1317924</td><td>-0.1718813</td><td>Summer</td><td>No Holiday</td><td>Yes</td></tr>\n",
       "\t<tr><td>12/07/2018</td><td>-0.2119666</td><td>-0.7945013</td><td>NA</td><td> 1.70774180</td><td>-0.60301909</td><td>-0.9614122</td><td>1.5486689</td><td>-0.64358348</td><td>-0.1317924</td><td>-0.1718813</td><td>Summer</td><td>No Holiday</td><td>Yes</td></tr>\n",
       "\t<tr><td>21/07/2018</td><td>-0.5949347</td><td>-1.0834108</td><td>NA</td><td> 0.92198032</td><td>-0.50652193</td><td>-0.3843931</td><td>1.3113096</td><td>-0.65509432</td><td>-0.1317924</td><td>-0.1718813</td><td>Summer</td><td>No Holiday</td><td>Yes</td></tr>\n",
       "\t<tr><td>21/08/2018</td><td> 0.8528715</td><td> 1.6612299</td><td>NA</td><td> 0.82376013</td><td>-1.56799063</td><td> 0.7482741</td><td>1.2806826</td><td>-0.65509432</td><td>-0.1317924</td><td>-0.1718813</td><td>Summer</td><td>No Holiday</td><td>Yes</td></tr>\n",
       "</tbody>\n",
       "</table>\n"
      ],
      "text/latex": [
       "A tibble: 11 × 14\n",
       "\\begin{tabular}{llllllllllllll}\n",
       " DATE & RENTED\\_BIKE\\_COUNT & HOUR & TEMPERATURE & HUMIDITY & WIND\\_SPEED & VISIBILITY & DEW\\_POINT\\_TEMPERATURE & SOLAR\\_RADIATION & RAINFALL & SNOWFALL & SEASONS & HOLIDAY & FUNCTIONING\\_DAY\\\\\n",
       " <chr> & <dbl> & <dbl> & <dbl> & <dbl> & <dbl> & <dbl> & <dbl> & <dbl> & <dbl> & <dbl> & <chr> & <chr> & <chr>\\\\\n",
       "\\hline\n",
       "\t 07/06/2018 &  3.8792535 &  0.9389561 & NA & -0.06022153 &  0.94093538 & -0.3613780 & 0.9437855 &  0.44994643 & -0.1317924 & -0.1718813 & Summer & No Holiday & Yes\\\\\n",
       "\t 12/06/2018 &  0.8046113 &  0.3611369 & NA & -0.64954264 &  0.45844961 &  0.8617053 & 0.6604857 &  0.94491260 & -0.1317924 & -0.1718813 & Summer & No Holiday & Yes\\\\\n",
       "\t 13/06/2018 &  3.0121265 &  0.7945013 & NA & -0.06022153 &  1.51991830 & -0.8512689 & 0.9437855 &  0.34634886 & -0.1317924 & -0.1718813 & Summer & No Holiday & Yes\\\\\n",
       "\t 17/06/2018 &  2.4921617 &  0.7945013 & NA & -0.01111144 &  1.51991830 & -0.9400411 & 0.9667558 &  0.10462119 & -0.1317924 & -0.1718813 & Summer & No Holiday & Yes\\\\\n",
       "\t 20/06/2018 &  3.1319987 &  1.0834108 & NA &  0.13621884 &  0.94093538 & -0.3301434 & 1.0280098 &  0.03555615 & -0.1317924 & -0.1718813 & Summer & No Holiday & Yes\\\\\n",
       "\t 30/06/2018 &  0.6458196 &  0.2166822 & NA &  1.41308124 & -0.02403616 & -1.7209075 & 1.4644446 &  0.16217540 &  2.9705138 & -0.1718813 & Summer & No Holiday & Yes\\\\\n",
       "\t 05/07/2018 &  0.1523201 & -0.2166822 & NA &  0.82376013 & -0.60301909 & -0.6720807 & 1.2806826 &  0.74922830 & -0.1317924 & -0.1718813 & Summer & No Holiday & Yes\\\\\n",
       "\t 11/07/2018 & -0.1481386 & -0.3611369 & NA &  1.85507207 & -1.08550486 & -1.6222717 & 1.5946094 & -0.18314983 & -0.1317924 & -0.1718813 & Summer & No Holiday & Yes\\\\\n",
       "\t 12/07/2018 & -0.2119666 & -0.7945013 & NA &  1.70774180 & -0.60301909 & -0.9614122 & 1.5486689 & -0.64358348 & -0.1317924 & -0.1718813 & Summer & No Holiday & Yes\\\\\n",
       "\t 21/07/2018 & -0.5949347 & -1.0834108 & NA &  0.92198032 & -0.50652193 & -0.3843931 & 1.3113096 & -0.65509432 & -0.1317924 & -0.1718813 & Summer & No Holiday & Yes\\\\\n",
       "\t 21/08/2018 &  0.8528715 &  1.6612299 & NA &  0.82376013 & -1.56799063 &  0.7482741 & 1.2806826 & -0.65509432 & -0.1317924 & -0.1718813 & Summer & No Holiday & Yes\\\\\n",
       "\\end{tabular}\n"
      ],
      "text/markdown": [
       "\n",
       "A tibble: 11 × 14\n",
       "\n",
       "| DATE &lt;chr&gt; | RENTED_BIKE_COUNT &lt;dbl&gt; | HOUR &lt;dbl&gt; | TEMPERATURE &lt;dbl&gt; | HUMIDITY &lt;dbl&gt; | WIND_SPEED &lt;dbl&gt; | VISIBILITY &lt;dbl&gt; | DEW_POINT_TEMPERATURE &lt;dbl&gt; | SOLAR_RADIATION &lt;dbl&gt; | RAINFALL &lt;dbl&gt; | SNOWFALL &lt;dbl&gt; | SEASONS &lt;chr&gt; | HOLIDAY &lt;chr&gt; | FUNCTIONING_DAY &lt;chr&gt; |\n",
       "|---|---|---|---|---|---|---|---|---|---|---|---|---|---|\n",
       "| 07/06/2018 |  3.8792535 |  0.9389561 | NA | -0.06022153 |  0.94093538 | -0.3613780 | 0.9437855 |  0.44994643 | -0.1317924 | -0.1718813 | Summer | No Holiday | Yes |\n",
       "| 12/06/2018 |  0.8046113 |  0.3611369 | NA | -0.64954264 |  0.45844961 |  0.8617053 | 0.6604857 |  0.94491260 | -0.1317924 | -0.1718813 | Summer | No Holiday | Yes |\n",
       "| 13/06/2018 |  3.0121265 |  0.7945013 | NA | -0.06022153 |  1.51991830 | -0.8512689 | 0.9437855 |  0.34634886 | -0.1317924 | -0.1718813 | Summer | No Holiday | Yes |\n",
       "| 17/06/2018 |  2.4921617 |  0.7945013 | NA | -0.01111144 |  1.51991830 | -0.9400411 | 0.9667558 |  0.10462119 | -0.1317924 | -0.1718813 | Summer | No Holiday | Yes |\n",
       "| 20/06/2018 |  3.1319987 |  1.0834108 | NA |  0.13621884 |  0.94093538 | -0.3301434 | 1.0280098 |  0.03555615 | -0.1317924 | -0.1718813 | Summer | No Holiday | Yes |\n",
       "| 30/06/2018 |  0.6458196 |  0.2166822 | NA |  1.41308124 | -0.02403616 | -1.7209075 | 1.4644446 |  0.16217540 |  2.9705138 | -0.1718813 | Summer | No Holiday | Yes |\n",
       "| 05/07/2018 |  0.1523201 | -0.2166822 | NA |  0.82376013 | -0.60301909 | -0.6720807 | 1.2806826 |  0.74922830 | -0.1317924 | -0.1718813 | Summer | No Holiday | Yes |\n",
       "| 11/07/2018 | -0.1481386 | -0.3611369 | NA |  1.85507207 | -1.08550486 | -1.6222717 | 1.5946094 | -0.18314983 | -0.1317924 | -0.1718813 | Summer | No Holiday | Yes |\n",
       "| 12/07/2018 | -0.2119666 | -0.7945013 | NA |  1.70774180 | -0.60301909 | -0.9614122 | 1.5486689 | -0.64358348 | -0.1317924 | -0.1718813 | Summer | No Holiday | Yes |\n",
       "| 21/07/2018 | -0.5949347 | -1.0834108 | NA |  0.92198032 | -0.50652193 | -0.3843931 | 1.3113096 | -0.65509432 | -0.1317924 | -0.1718813 | Summer | No Holiday | Yes |\n",
       "| 21/08/2018 |  0.8528715 |  1.6612299 | NA |  0.82376013 | -1.56799063 |  0.7482741 | 1.2806826 | -0.65509432 | -0.1317924 | -0.1718813 | Summer | No Holiday | Yes |\n",
       "\n"
      ],
      "text/plain": [
       "   DATE       RENTED_BIKE_COUNT HOUR       TEMPERATURE HUMIDITY    WIND_SPEED \n",
       "1  07/06/2018  3.8792535         0.9389561 NA          -0.06022153  0.94093538\n",
       "2  12/06/2018  0.8046113         0.3611369 NA          -0.64954264  0.45844961\n",
       "3  13/06/2018  3.0121265         0.7945013 NA          -0.06022153  1.51991830\n",
       "4  17/06/2018  2.4921617         0.7945013 NA          -0.01111144  1.51991830\n",
       "5  20/06/2018  3.1319987         1.0834108 NA           0.13621884  0.94093538\n",
       "6  30/06/2018  0.6458196         0.2166822 NA           1.41308124 -0.02403616\n",
       "7  05/07/2018  0.1523201        -0.2166822 NA           0.82376013 -0.60301909\n",
       "8  11/07/2018 -0.1481386        -0.3611369 NA           1.85507207 -1.08550486\n",
       "9  12/07/2018 -0.2119666        -0.7945013 NA           1.70774180 -0.60301909\n",
       "10 21/07/2018 -0.5949347        -1.0834108 NA           0.92198032 -0.50652193\n",
       "11 21/08/2018  0.8528715         1.6612299 NA           0.82376013 -1.56799063\n",
       "   VISIBILITY DEW_POINT_TEMPERATURE SOLAR_RADIATION RAINFALL   SNOWFALL  \n",
       "1  -0.3613780 0.9437855              0.44994643     -0.1317924 -0.1718813\n",
       "2   0.8617053 0.6604857              0.94491260     -0.1317924 -0.1718813\n",
       "3  -0.8512689 0.9437855              0.34634886     -0.1317924 -0.1718813\n",
       "4  -0.9400411 0.9667558              0.10462119     -0.1317924 -0.1718813\n",
       "5  -0.3301434 1.0280098              0.03555615     -0.1317924 -0.1718813\n",
       "6  -1.7209075 1.4644446              0.16217540      2.9705138 -0.1718813\n",
       "7  -0.6720807 1.2806826              0.74922830     -0.1317924 -0.1718813\n",
       "8  -1.6222717 1.5946094             -0.18314983     -0.1317924 -0.1718813\n",
       "9  -0.9614122 1.5486689             -0.64358348     -0.1317924 -0.1718813\n",
       "10 -0.3843931 1.3113096             -0.65509432     -0.1317924 -0.1718813\n",
       "11  0.7482741 1.2806826             -0.65509432     -0.1317924 -0.1718813\n",
       "   SEASONS HOLIDAY    FUNCTIONING_DAY\n",
       "1  Summer  No Holiday Yes            \n",
       "2  Summer  No Holiday Yes            \n",
       "3  Summer  No Holiday Yes            \n",
       "4  Summer  No Holiday Yes            \n",
       "5  Summer  No Holiday Yes            \n",
       "6  Summer  No Holiday Yes            \n",
       "7  Summer  No Holiday Yes            \n",
       "8  Summer  No Holiday Yes            \n",
       "9  Summer  No Holiday Yes            \n",
       "10 Summer  No Holiday Yes            \n",
       "11 Summer  No Holiday Yes            "
      ]
     },
     "metadata": {},
     "output_type": "display_data"
    }
   ],
   "source": [
    "bike_sharing_df %>% \n",
    "                filter(is.na(TEMPERATURE))"
   ]
  },
  {
   "cell_type": "markdown",
   "metadata": {},
   "source": [
    "It seems that all of the missing values for `TEMPERATURE` are found in `SEASONS == Summer`, so it is reasonable to impute those missing values with the summer average temperature.\n"
   ]
  },
  {
   "cell_type": "markdown",
   "metadata": {},
   "source": [
    "*TODO:* Impute missing values for the TEMPERATURE column using its mean value.\n"
   ]
  },
  {
   "cell_type": "code",
   "execution_count": 8,
   "metadata": {},
   "outputs": [
    {
     "data": {
      "text/html": [
       "<table class=\"dataframe\">\n",
       "<caption>A tibble: 4 × 2</caption>\n",
       "<thead>\n",
       "\t<tr><th scope=col>SEASONS</th><th scope=col>avg_temp</th></tr>\n",
       "\t<tr><th scope=col>&lt;chr&gt;</th><th scope=col>&lt;dbl&gt;</th></tr>\n",
       "</thead>\n",
       "<tbody>\n",
       "\t<tr><td>Autumn</td><td> 0.07993194</td></tr>\n",
       "\t<tr><td>Spring</td><td> 0.01296048</td></tr>\n",
       "\t<tr><td>Summer</td><td> 1.14878089</td></tr>\n",
       "\t<tr><td>Winter</td><td>-1.28998603</td></tr>\n",
       "</tbody>\n",
       "</table>\n"
      ],
      "text/latex": [
       "A tibble: 4 × 2\n",
       "\\begin{tabular}{ll}\n",
       " SEASONS & avg\\_temp\\\\\n",
       " <chr> & <dbl>\\\\\n",
       "\\hline\n",
       "\t Autumn &  0.07993194\\\\\n",
       "\t Spring &  0.01296048\\\\\n",
       "\t Summer &  1.14878089\\\\\n",
       "\t Winter & -1.28998603\\\\\n",
       "\\end{tabular}\n"
      ],
      "text/markdown": [
       "\n",
       "A tibble: 4 × 2\n",
       "\n",
       "| SEASONS &lt;chr&gt; | avg_temp &lt;dbl&gt; |\n",
       "|---|---|\n",
       "| Autumn |  0.07993194 |\n",
       "| Spring |  0.01296048 |\n",
       "| Summer |  1.14878089 |\n",
       "| Winter | -1.28998603 |\n",
       "\n"
      ],
      "text/plain": [
       "  SEASONS avg_temp   \n",
       "1 Autumn   0.07993194\n",
       "2 Spring   0.01296048\n",
       "3 Summer   1.14878089\n",
       "4 Winter  -1.28998603"
      ]
     },
     "metadata": {},
     "output_type": "display_data"
    },
    {
     "data": {
      "text/html": [
       "<style>\n",
       ".list-inline {list-style: none; margin:0; padding: 0}\n",
       ".list-inline>li {display: inline-block}\n",
       ".list-inline>li:not(:last-child)::after {content: \"\\00b7\"; padding: 0 .5ex}\n",
       "</style>\n",
       "<ol class=list-inline><li>'tbl_df'</li><li>'tbl'</li><li>'data.frame'</li></ol>\n"
      ],
      "text/latex": [
       "\\begin{enumerate*}\n",
       "\\item 'tbl\\_df'\n",
       "\\item 'tbl'\n",
       "\\item 'data.frame'\n",
       "\\end{enumerate*}\n"
      ],
      "text/markdown": [
       "1. 'tbl_df'\n",
       "2. 'tbl'\n",
       "3. 'data.frame'\n",
       "\n",
       "\n"
      ],
      "text/plain": [
       "[1] \"tbl_df\"     \"tbl\"        \"data.frame\""
      ]
     },
     "metadata": {},
     "output_type": "display_data"
    },
    {
     "data": {
      "text/html": [
       "1.14878088540798"
      ],
      "text/latex": [
       "1.14878088540798"
      ],
      "text/markdown": [
       "1.14878088540798"
      ],
      "text/plain": [
       "[1] 1.148781"
      ]
     },
     "metadata": {},
     "output_type": "display_data"
    }
   ],
   "source": [
    "# Calculate the summer average temperature\n",
    "mean_temp<-bike_sharing_df %>% group_by(SEASONS) %>% summarize(avg_temp=mean(TEMPERATURE, na.rm = TRUE))\n",
    "mean_temp\n",
    "class(mean_temp)\n",
    "mean_temp_summer<-mean_temp$avg_temp[mean_temp$SEASONS == 'Summer']\n",
    "mean_temp_summer"
   ]
  },
  {
   "cell_type": "code",
   "execution_count": 9,
   "metadata": {},
   "outputs": [],
   "source": [
    "# Impute missing values for TEMPERATURE column with summer average temperature\n",
    "bike_sharing_df<-bike_sharing_df %>% replace_na(list(TEMPERATURE= mean_temp_summer)）         "
   ]
  },
  {
   "cell_type": "code",
   "execution_count": 10,
   "metadata": {},
   "outputs": [
    {
     "data": {
      "text/plain": [
       "     DATE           RENTED_BIKE_COUNT      HOUR            TEMPERATURE       \n",
       " Length:8465        Min.   :-1.1320   Min.   :-1.661230   Min.   :-2.567596  \n",
       " Class :character   1st Qu.:-0.8020   1st Qu.:-0.794501   1st Qu.:-0.826109  \n",
       " Mode  :character   Median :-0.2914   Median : 0.072227   Median : 0.053008  \n",
       "                    Mean   : 0.0000   Mean   : 0.001015   Mean   :-0.007919  \n",
       "                    3rd Qu.: 0.5524   3rd Qu.: 0.938956   3rd Qu.: 0.823281  \n",
       "                    Max.   : 4.4008   Max.   : 1.661230   Max.   : 2.221494  \n",
       "    HUMIDITY           WIND_SPEED         VISIBILITY       \n",
       " Min.   :-2.859497   Min.   :-1.66449   Min.   :-2.317654  \n",
       " 1st Qu.:-0.796873   1st Qu.:-0.79601   1st Qu.:-0.824966  \n",
       " Median :-0.060221   Median :-0.21703   Median : 0.416200  \n",
       " Mean   :-0.003883   Mean   : 0.00094   Mean   :-0.004853  \n",
       " 3rd Qu.: 0.774650   3rd Qu.: 0.55495   3rd Qu.: 0.925818  \n",
       " Max.   : 1.953292   Max.   : 5.47630   Max.   : 0.925818  \n",
       " DEW_POINT_TEMPERATURE SOLAR_RADIATION        RAINFALL        \n",
       " Min.   :-2.654888     Min.   :-0.655094   Min.   :-0.131792  \n",
       " 1st Qu.:-0.702416     1st Qu.:-0.655094   1st Qu.:-0.131792  \n",
       " Median : 0.047946     Median :-0.643583   Median :-0.131792  \n",
       " Mean   :-0.009863     Mean   :-0.001431   Mean   : 0.000384  \n",
       " 3rd Qu.: 0.851904     3rd Qu.: 0.415414   3rd Qu.:-0.131792  \n",
       " Max.   : 1.770715     Max.   : 3.396722   Max.   :30.891269  \n",
       "    SNOWFALL          SEASONS            HOLIDAY          FUNCTIONING_DAY   \n",
       " Min.   :-0.17188   Length:8465        Length:8465        Length:8465       \n",
       " 1st Qu.:-0.17188   Class :character   Class :character   Class :character  \n",
       " Median :-0.17188   Mode  :character   Mode  :character   Mode  :character  \n",
       " Mean   : 0.00599                                                           \n",
       " 3rd Qu.:-0.17188                                                           \n",
       " Max.   :19.97712                                                           "
      ]
     },
     "metadata": {},
     "output_type": "display_data"
    }
   ],
   "source": [
    "# Print the summary of the dataset again to make sure no missing values in all columns\n",
    "summary(bike_sharing_df)"
   ]
  },
  {
   "cell_type": "code",
   "execution_count": 11,
   "metadata": {},
   "outputs": [],
   "source": [
    "# Save the dataset as `seoul_bike_sharing.csv`\n",
    "write.csv(bike_sharing_df, \"seoul_bike_sharing.csv\", row.names=FALSE)"
   ]
  },
  {
   "cell_type": "markdown",
   "metadata": {},
   "source": [
    "# TASK: Create indicator (dummy) variables for categorical variables\n"
   ]
  },
  {
   "cell_type": "markdown",
   "metadata": {},
   "source": [
    "Regression models can not process categorical variables directly, thus we need to convert them into indicator variables.\n"
   ]
  },
  {
   "cell_type": "markdown",
   "metadata": {},
   "source": [
    "In the bike-sharing demand dataset, `SEASONS`, `HOLIDAY`, `FUNCTIONING_DAY` are categorical variables.\n",
    "Also, `HOUR` is read as a numerical variable but it is in fact a categorical variable with levels ranged from 0 to 23.\n"
   ]
  },
  {
   "cell_type": "markdown",
   "metadata": {},
   "source": [
    "*TODO:* Convert `HOUR` column from numeric into character first:\n"
   ]
  },
  {
   "cell_type": "code",
   "execution_count": 12,
   "metadata": {},
   "outputs": [
    {
     "name": "stderr",
     "output_type": "stream",
     "text": [
      "Warning message in type.convert.default(HOUR):\n",
      "\"'as.is' should be specified by the caller; using TRUE\"\n"
     ]
    },
    {
     "data": {
      "text/html": [
       "<table class=\"dataframe\">\n",
       "<caption>A tibble: 8465 × 1</caption>\n",
       "<thead>\n",
       "\t<tr><th scope=col>HOUR</th></tr>\n",
       "\t<tr><th scope=col>&lt;chr&gt;</th></tr>\n",
       "</thead>\n",
       "<tbody>\n",
       "\t<tr><td>-1.66122994540396 </td></tr>\n",
       "\t<tr><td>-1.51677516754275 </td></tr>\n",
       "\t<tr><td>-1.37232038968153 </td></tr>\n",
       "\t<tr><td>-1.22786561182032 </td></tr>\n",
       "\t<tr><td>-1.08341083395911 </td></tr>\n",
       "\t<tr><td>-0.938956056097891</td></tr>\n",
       "\t<tr><td>-0.794501278236677</td></tr>\n",
       "\t<tr><td>-0.650046500375463</td></tr>\n",
       "\t<tr><td>-0.505591722514249</td></tr>\n",
       "\t<tr><td>-0.361136944653035</td></tr>\n",
       "\t<tr><td>-0.216682166791821</td></tr>\n",
       "\t<tr><td>-0.072227388930607</td></tr>\n",
       "\t<tr><td>0.072227388930607 </td></tr>\n",
       "\t<tr><td>0.216682166791821 </td></tr>\n",
       "\t<tr><td>0.361136944653035 </td></tr>\n",
       "\t<tr><td>0.505591722514249 </td></tr>\n",
       "\t<tr><td>0.650046500375463 </td></tr>\n",
       "\t<tr><td>0.794501278236677 </td></tr>\n",
       "\t<tr><td>0.938956056097891 </td></tr>\n",
       "\t<tr><td>1.08341083395911  </td></tr>\n",
       "\t<tr><td>1.22786561182032  </td></tr>\n",
       "\t<tr><td>1.37232038968153  </td></tr>\n",
       "\t<tr><td>1.51677516754275  </td></tr>\n",
       "\t<tr><td>1.66122994540396  </td></tr>\n",
       "\t<tr><td>-1.66122994540396 </td></tr>\n",
       "\t<tr><td>-1.51677516754275 </td></tr>\n",
       "\t<tr><td>-1.37232038968153 </td></tr>\n",
       "\t<tr><td>-1.22786561182032 </td></tr>\n",
       "\t<tr><td>-1.08341083395911 </td></tr>\n",
       "\t<tr><td>-0.938956056097891</td></tr>\n",
       "\t<tr><td>...</td></tr>\n",
       "\t<tr><td>0.938956056097891 </td></tr>\n",
       "\t<tr><td>1.08341083395911  </td></tr>\n",
       "\t<tr><td>1.22786561182032  </td></tr>\n",
       "\t<tr><td>1.37232038968153  </td></tr>\n",
       "\t<tr><td>1.51677516754275  </td></tr>\n",
       "\t<tr><td>1.66122994540396  </td></tr>\n",
       "\t<tr><td>-1.66122994540396 </td></tr>\n",
       "\t<tr><td>-1.51677516754275 </td></tr>\n",
       "\t<tr><td>-1.37232038968153 </td></tr>\n",
       "\t<tr><td>-1.22786561182032 </td></tr>\n",
       "\t<tr><td>-1.08341083395911 </td></tr>\n",
       "\t<tr><td>-0.938956056097891</td></tr>\n",
       "\t<tr><td>-0.794501278236677</td></tr>\n",
       "\t<tr><td>-0.650046500375463</td></tr>\n",
       "\t<tr><td>-0.505591722514249</td></tr>\n",
       "\t<tr><td>-0.361136944653035</td></tr>\n",
       "\t<tr><td>-0.216682166791821</td></tr>\n",
       "\t<tr><td>-0.072227388930607</td></tr>\n",
       "\t<tr><td>0.072227388930607 </td></tr>\n",
       "\t<tr><td>0.216682166791821 </td></tr>\n",
       "\t<tr><td>0.361136944653035 </td></tr>\n",
       "\t<tr><td>0.505591722514249 </td></tr>\n",
       "\t<tr><td>0.650046500375463 </td></tr>\n",
       "\t<tr><td>0.794501278236677 </td></tr>\n",
       "\t<tr><td>0.938956056097891 </td></tr>\n",
       "\t<tr><td>1.08341083395911  </td></tr>\n",
       "\t<tr><td>1.22786561182032  </td></tr>\n",
       "\t<tr><td>1.37232038968153  </td></tr>\n",
       "\t<tr><td>1.51677516754275  </td></tr>\n",
       "\t<tr><td>1.66122994540396  </td></tr>\n",
       "</tbody>\n",
       "</table>\n"
      ],
      "text/latex": [
       "A tibble: 8465 × 1\n",
       "\\begin{tabular}{l}\n",
       " HOUR\\\\\n",
       " <chr>\\\\\n",
       "\\hline\n",
       "\t -1.66122994540396 \\\\\n",
       "\t -1.51677516754275 \\\\\n",
       "\t -1.37232038968153 \\\\\n",
       "\t -1.22786561182032 \\\\\n",
       "\t -1.08341083395911 \\\\\n",
       "\t -0.938956056097891\\\\\n",
       "\t -0.794501278236677\\\\\n",
       "\t -0.650046500375463\\\\\n",
       "\t -0.505591722514249\\\\\n",
       "\t -0.361136944653035\\\\\n",
       "\t -0.216682166791821\\\\\n",
       "\t -0.072227388930607\\\\\n",
       "\t 0.072227388930607 \\\\\n",
       "\t 0.216682166791821 \\\\\n",
       "\t 0.361136944653035 \\\\\n",
       "\t 0.505591722514249 \\\\\n",
       "\t 0.650046500375463 \\\\\n",
       "\t 0.794501278236677 \\\\\n",
       "\t 0.938956056097891 \\\\\n",
       "\t 1.08341083395911  \\\\\n",
       "\t 1.22786561182032  \\\\\n",
       "\t 1.37232038968153  \\\\\n",
       "\t 1.51677516754275  \\\\\n",
       "\t 1.66122994540396  \\\\\n",
       "\t -1.66122994540396 \\\\\n",
       "\t -1.51677516754275 \\\\\n",
       "\t -1.37232038968153 \\\\\n",
       "\t -1.22786561182032 \\\\\n",
       "\t -1.08341083395911 \\\\\n",
       "\t -0.938956056097891\\\\\n",
       "\t ...\\\\\n",
       "\t 0.938956056097891 \\\\\n",
       "\t 1.08341083395911  \\\\\n",
       "\t 1.22786561182032  \\\\\n",
       "\t 1.37232038968153  \\\\\n",
       "\t 1.51677516754275  \\\\\n",
       "\t 1.66122994540396  \\\\\n",
       "\t -1.66122994540396 \\\\\n",
       "\t -1.51677516754275 \\\\\n",
       "\t -1.37232038968153 \\\\\n",
       "\t -1.22786561182032 \\\\\n",
       "\t -1.08341083395911 \\\\\n",
       "\t -0.938956056097891\\\\\n",
       "\t -0.794501278236677\\\\\n",
       "\t -0.650046500375463\\\\\n",
       "\t -0.505591722514249\\\\\n",
       "\t -0.361136944653035\\\\\n",
       "\t -0.216682166791821\\\\\n",
       "\t -0.072227388930607\\\\\n",
       "\t 0.072227388930607 \\\\\n",
       "\t 0.216682166791821 \\\\\n",
       "\t 0.361136944653035 \\\\\n",
       "\t 0.505591722514249 \\\\\n",
       "\t 0.650046500375463 \\\\\n",
       "\t 0.794501278236677 \\\\\n",
       "\t 0.938956056097891 \\\\\n",
       "\t 1.08341083395911  \\\\\n",
       "\t 1.22786561182032  \\\\\n",
       "\t 1.37232038968153  \\\\\n",
       "\t 1.51677516754275  \\\\\n",
       "\t 1.66122994540396  \\\\\n",
       "\\end{tabular}\n"
      ],
      "text/markdown": [
       "\n",
       "A tibble: 8465 × 1\n",
       "\n",
       "| HOUR &lt;chr&gt; |\n",
       "|---|\n",
       "| -1.66122994540396  |\n",
       "| -1.51677516754275  |\n",
       "| -1.37232038968153  |\n",
       "| -1.22786561182032  |\n",
       "| -1.08341083395911  |\n",
       "| -0.938956056097891 |\n",
       "| -0.794501278236677 |\n",
       "| -0.650046500375463 |\n",
       "| -0.505591722514249 |\n",
       "| -0.361136944653035 |\n",
       "| -0.216682166791821 |\n",
       "| -0.072227388930607 |\n",
       "| 0.072227388930607  |\n",
       "| 0.216682166791821  |\n",
       "| 0.361136944653035  |\n",
       "| 0.505591722514249  |\n",
       "| 0.650046500375463  |\n",
       "| 0.794501278236677  |\n",
       "| 0.938956056097891  |\n",
       "| 1.08341083395911   |\n",
       "| 1.22786561182032   |\n",
       "| 1.37232038968153   |\n",
       "| 1.51677516754275   |\n",
       "| 1.66122994540396   |\n",
       "| -1.66122994540396  |\n",
       "| -1.51677516754275  |\n",
       "| -1.37232038968153  |\n",
       "| -1.22786561182032  |\n",
       "| -1.08341083395911  |\n",
       "| -0.938956056097891 |\n",
       "| ... |\n",
       "| 0.938956056097891  |\n",
       "| 1.08341083395911   |\n",
       "| 1.22786561182032   |\n",
       "| 1.37232038968153   |\n",
       "| 1.51677516754275   |\n",
       "| 1.66122994540396   |\n",
       "| -1.66122994540396  |\n",
       "| -1.51677516754275  |\n",
       "| -1.37232038968153  |\n",
       "| -1.22786561182032  |\n",
       "| -1.08341083395911  |\n",
       "| -0.938956056097891 |\n",
       "| -0.794501278236677 |\n",
       "| -0.650046500375463 |\n",
       "| -0.505591722514249 |\n",
       "| -0.361136944653035 |\n",
       "| -0.216682166791821 |\n",
       "| -0.072227388930607 |\n",
       "| 0.072227388930607  |\n",
       "| 0.216682166791821  |\n",
       "| 0.361136944653035  |\n",
       "| 0.505591722514249  |\n",
       "| 0.650046500375463  |\n",
       "| 0.794501278236677  |\n",
       "| 0.938956056097891  |\n",
       "| 1.08341083395911   |\n",
       "| 1.22786561182032   |\n",
       "| 1.37232038968153   |\n",
       "| 1.51677516754275   |\n",
       "| 1.66122994540396   |\n",
       "\n"
      ],
      "text/plain": [
       "     HOUR              \n",
       "1    -1.66122994540396 \n",
       "2    -1.51677516754275 \n",
       "3    -1.37232038968153 \n",
       "4    -1.22786561182032 \n",
       "5    -1.08341083395911 \n",
       "6    -0.938956056097891\n",
       "7    -0.794501278236677\n",
       "8    -0.650046500375463\n",
       "9    -0.505591722514249\n",
       "10   -0.361136944653035\n",
       "11   -0.216682166791821\n",
       "12   -0.072227388930607\n",
       "13   0.072227388930607 \n",
       "14   0.216682166791821 \n",
       "15   0.361136944653035 \n",
       "16   0.505591722514249 \n",
       "17   0.650046500375463 \n",
       "18   0.794501278236677 \n",
       "19   0.938956056097891 \n",
       "20   1.08341083395911  \n",
       "21   1.22786561182032  \n",
       "22   1.37232038968153  \n",
       "23   1.51677516754275  \n",
       "24   1.66122994540396  \n",
       "25   -1.66122994540396 \n",
       "26   -1.51677516754275 \n",
       "27   -1.37232038968153 \n",
       "28   -1.22786561182032 \n",
       "29   -1.08341083395911 \n",
       "30   -0.938956056097891\n",
       "...  ...               \n",
       "8436 0.938956056097891 \n",
       "8437 1.08341083395911  \n",
       "8438 1.22786561182032  \n",
       "8439 1.37232038968153  \n",
       "8440 1.51677516754275  \n",
       "8441 1.66122994540396  \n",
       "8442 -1.66122994540396 \n",
       "8443 -1.51677516754275 \n",
       "8444 -1.37232038968153 \n",
       "8445 -1.22786561182032 \n",
       "8446 -1.08341083395911 \n",
       "8447 -0.938956056097891\n",
       "8448 -0.794501278236677\n",
       "8449 -0.650046500375463\n",
       "8450 -0.505591722514249\n",
       "8451 -0.361136944653035\n",
       "8452 -0.216682166791821\n",
       "8453 -0.072227388930607\n",
       "8454 0.072227388930607 \n",
       "8455 0.216682166791821 \n",
       "8456 0.361136944653035 \n",
       "8457 0.505591722514249 \n",
       "8458 0.650046500375463 \n",
       "8459 0.794501278236677 \n",
       "8460 0.938956056097891 \n",
       "8461 1.08341083395911  \n",
       "8462 1.22786561182032  \n",
       "8463 1.37232038968153  \n",
       "8464 1.51677516754275  \n",
       "8465 1.66122994540396  "
      ]
     },
     "metadata": {},
     "output_type": "display_data"
    }
   ],
   "source": [
    "# Using mutate() function to convert HOUR column into character type\n",
    "bike_sharing_df %>%\n",
    "    select(HOUR) %>%\n",
    "    mutate_all(type.convert) %>%\n",
    "    mutate_if(is.numeric, as.character)"
   ]
  },
  {
   "cell_type": "markdown",
   "metadata": {},
   "source": [
    "`SEASONS`, `HOLIDAY`, `FUNCTIONING_DAY`,  `HOUR` are all character columns now and are ready to be converted into indicator variables.\n",
    "\n",
    "For example, `SEASONS` has four categorical values: `Spring`, `Summer`, `Autumn`, `Winter`. We thus need to create four indicator/dummy variables `Spring`, `Summer`, `Autumn`, and `Winter` which only have the value 0 or 1.\n",
    "\n",
    "So, given a data entry with the value `Spring` in the `SEASONS` column, the values for the four new columns `Spring`, `Summer`, `Autumn`, and `Winter` will be set to 1 for `Spring` and 0 for the others:\n",
    "\n",
    "| Spring | Summer | Autumn | Winter |\n",
    "| ------ | ------ | ------ | ------ |\n",
    "| 1      | 0      | 0      | 0      |\n"
   ]
  },
  {
   "cell_type": "markdown",
   "metadata": {},
   "source": [
    "*TODO:* Convert `SEASONS`, `HOLIDAY`, `FUNCTIONING_DAY`, and `HOUR` columns into indicator columns.\n",
    "\n",
    "Note that if `FUNCTIONING_DAY` only contains one categorical value after missing values removal, then you don't need to convert it to an indicator column.\n"
   ]
  },
  {
   "cell_type": "code",
   "execution_count": 13,
   "metadata": {},
   "outputs": [],
   "source": [
    "# Convert SEASONS, HOLIDAY, FUNCTIONING_DAY, and HOUR columns into indicator columns.\n",
    "bike_sharing_df<-bike_sharing_df %>%\n",
    "  mutate(dummy = 1) %>% # column with single value\n",
    "  spread(\n",
    "    key = SEASONS, # column to spread\n",
    "    value = dummy,\n",
    "    fill = 0)\n",
    "bike_sharing_df<-bike_sharing_df %>%\n",
    "  mutate(dummy = 1) %>% # column with single value\n",
    "  spread(\n",
    "    key = HOLIDAY, # column to spread\n",
    "    value = dummy,\n",
    "    fill = 0)\n",
    "bike_sharing_df<-bike_sharing_df %>%\n",
    "  mutate(dummy = 1) %>% # column with single value\n",
    "  spread(\n",
    "    key = HOUR, # column to spread\n",
    "    value = dummy,\n",
    "    fill = 0)"
   ]
  },
  {
   "cell_type": "code",
   "execution_count": 14,
   "metadata": {},
   "outputs": [
    {
     "data": {
      "text/plain": [
       "     DATE           RENTED_BIKE_COUNT  TEMPERATURE           HUMIDITY        \n",
       " Length:8465        Min.   :-1.1320   Min.   :-2.567596   Min.   :-2.859497  \n",
       " Class :character   1st Qu.:-0.8020   1st Qu.:-0.826109   1st Qu.:-0.796873  \n",
       " Mode  :character   Median :-0.2914   Median : 0.053008   Median :-0.060221  \n",
       "                    Mean   : 0.0000   Mean   :-0.007919   Mean   :-0.003883  \n",
       "                    3rd Qu.: 0.5524   3rd Qu.: 0.823281   3rd Qu.: 0.774650  \n",
       "                    Max.   : 4.4008   Max.   : 2.221494   Max.   : 1.953292  \n",
       "   WIND_SPEED         VISIBILITY        DEW_POINT_TEMPERATURE\n",
       " Min.   :-1.66449   Min.   :-2.317654   Min.   :-2.654888    \n",
       " 1st Qu.:-0.79601   1st Qu.:-0.824966   1st Qu.:-0.702416    \n",
       " Median :-0.21703   Median : 0.416200   Median : 0.047946    \n",
       " Mean   : 0.00094   Mean   :-0.004853   Mean   :-0.009863    \n",
       " 3rd Qu.: 0.55495   3rd Qu.: 0.925818   3rd Qu.: 0.851904    \n",
       " Max.   : 5.47630   Max.   : 0.925818   Max.   : 1.770715    \n",
       " SOLAR_RADIATION        RAINFALL            SNOWFALL        FUNCTIONING_DAY   \n",
       " Min.   :-0.655094   Min.   :-0.131792   Min.   :-0.17188   Length:8465       \n",
       " 1st Qu.:-0.655094   1st Qu.:-0.131792   1st Qu.:-0.17188   Class :character  \n",
       " Median :-0.643583   Median :-0.131792   Median :-0.17188   Mode  :character  \n",
       " Mean   :-0.001431   Mean   : 0.000384   Mean   : 0.00599                     \n",
       " 3rd Qu.: 0.415414   3rd Qu.:-0.131792   3rd Qu.:-0.17188                     \n",
       " Max.   : 3.396722   Max.   :30.891269   Max.   :19.97712                     \n",
       "     Autumn           Spring           Summer           Winter      \n",
       " Min.   :0.0000   Min.   :0.0000   Min.   :0.0000   Min.   :0.0000  \n",
       " 1st Qu.:0.0000   1st Qu.:0.0000   1st Qu.:0.0000   1st Qu.:0.0000  \n",
       " Median :0.0000   Median :0.0000   Median :0.0000   Median :0.0000  \n",
       " Mean   :0.2288   Mean   :0.2552   Mean   :0.2608   Mean   :0.2552  \n",
       " 3rd Qu.:0.0000   3rd Qu.:1.0000   3rd Qu.:1.0000   3rd Qu.:1.0000  \n",
       " Max.   :1.0000   Max.   :1.0000   Max.   :1.0000   Max.   :1.0000  \n",
       "    Holiday         No Holiday     -1.66122994540396 -1.51677516754275\n",
       " Min.   :0.0000   Min.   :0.0000   Min.   :0.00000   Min.   :0.00000  \n",
       " 1st Qu.:0.0000   1st Qu.:1.0000   1st Qu.:0.00000   1st Qu.:0.00000  \n",
       " Median :0.0000   Median :1.0000   Median :0.00000   Median :0.00000  \n",
       " Mean   :0.0482   Mean   :0.9518   Mean   :0.04158   Mean   :0.04158  \n",
       " 3rd Qu.:0.0000   3rd Qu.:1.0000   3rd Qu.:0.00000   3rd Qu.:0.00000  \n",
       " Max.   :1.0000   Max.   :1.0000   Max.   :1.00000   Max.   :1.00000  \n",
       " -1.37232038968153 -1.22786561182032 -1.08341083395911 -0.938956056097891\n",
       " Min.   :0.00000   Min.   :0.00000   Min.   :0.00000   Min.   :0.00000   \n",
       " 1st Qu.:0.00000   1st Qu.:0.00000   1st Qu.:0.00000   1st Qu.:0.00000   \n",
       " Median :0.00000   Median :0.00000   Median :0.00000   Median :0.00000   \n",
       " Mean   :0.04158   Mean   :0.04158   Mean   :0.04158   Mean   :0.04158   \n",
       " 3rd Qu.:0.00000   3rd Qu.:0.00000   3rd Qu.:0.00000   3rd Qu.:0.00000   \n",
       " Max.   :1.00000   Max.   :1.00000   Max.   :1.00000   Max.   :1.00000   \n",
       " -0.794501278236677 -0.650046500375463 -0.505591722514249 -0.361136944653035\n",
       " Min.   :0.00000    Min.   :0.0000     Min.   :0.0000     Min.   :0.0000    \n",
       " 1st Qu.:0.00000    1st Qu.:0.0000     1st Qu.:0.0000     1st Qu.:0.0000    \n",
       " Median :0.00000    Median :0.0000     Median :0.0000     Median :0.0000    \n",
       " Mean   :0.04158    Mean   :0.0417     Mean   :0.0417     Mean   :0.0417    \n",
       " 3rd Qu.:0.00000    3rd Qu.:0.0000     3rd Qu.:0.0000     3rd Qu.:0.0000    \n",
       " Max.   :1.00000    Max.   :1.0000     Max.   :1.0000     Max.   :1.0000    \n",
       " -0.216682166791821 -0.072227388930607 0.072227388930607 0.216682166791821\n",
       " Min.   :0.0000     Min.   :0.0000     Min.   :0.0000    Min.   :0.0000   \n",
       " 1st Qu.:0.0000     1st Qu.:0.0000     1st Qu.:0.0000    1st Qu.:0.0000   \n",
       " Median :0.0000     Median :0.0000     Median :0.0000    Median :0.0000   \n",
       " Mean   :0.0417     Mean   :0.0417     Mean   :0.0417    Mean   :0.0417   \n",
       " 3rd Qu.:0.0000     3rd Qu.:0.0000     3rd Qu.:0.0000    3rd Qu.:0.0000   \n",
       " Max.   :1.0000     Max.   :1.0000     Max.   :1.0000    Max.   :1.0000   \n",
       " 0.361136944653035 0.505591722514249 0.650046500375463 0.794501278236677\n",
       " Min.   :0.0000    Min.   :0.0000    Min.   :0.0000    Min.   :0.0000   \n",
       " 1st Qu.:0.0000    1st Qu.:0.0000    1st Qu.:0.0000    1st Qu.:0.0000   \n",
       " Median :0.0000    Median :0.0000    Median :0.0000    Median :0.0000   \n",
       " Mean   :0.0417    Mean   :0.0417    Mean   :0.0417    Mean   :0.0417   \n",
       " 3rd Qu.:0.0000    3rd Qu.:0.0000    3rd Qu.:0.0000    3rd Qu.:0.0000   \n",
       " Max.   :1.0000    Max.   :1.0000    Max.   :1.0000    Max.   :1.0000   \n",
       " 0.938956056097891 1.08341083395911 1.22786561182032 1.37232038968153\n",
       " Min.   :0.0000    Min.   :0.0000   Min.   :0.0000   Min.   :0.0000  \n",
       " 1st Qu.:0.0000    1st Qu.:0.0000   1st Qu.:0.0000   1st Qu.:0.0000  \n",
       " Median :0.0000    Median :0.0000   Median :0.0000   Median :0.0000  \n",
       " Mean   :0.0417    Mean   :0.0417   Mean   :0.0417   Mean   :0.0417  \n",
       " 3rd Qu.:0.0000    3rd Qu.:0.0000   3rd Qu.:0.0000   3rd Qu.:0.0000  \n",
       " Max.   :1.0000    Max.   :1.0000   Max.   :1.0000   Max.   :1.0000  \n",
       " 1.51677516754275 1.66122994540396\n",
       " Min.   :0.0000   Min.   :0.0000  \n",
       " 1st Qu.:0.0000   1st Qu.:0.0000  \n",
       " Median :0.0000   Median :0.0000  \n",
       " Mean   :0.0417   Mean   :0.0417  \n",
       " 3rd Qu.:0.0000   3rd Qu.:0.0000  \n",
       " Max.   :1.0000   Max.   :1.0000  "
      ]
     },
     "metadata": {},
     "output_type": "display_data"
    }
   ],
   "source": [
    "# Print the dataset summary again to make sure the indicator columns are created properly\n",
    "summary(bike_sharing_df)"
   ]
  },
  {
   "cell_type": "code",
   "execution_count": 15,
   "metadata": {},
   "outputs": [],
   "source": [
    "# Save the dataset as `seoul_bike_sharing_converted.csv`\n",
    "write_csv(bike_sharing_df, \"seoul_bike_sharing_converted.csv\")"
   ]
  },
  {
   "cell_type": "markdown",
   "metadata": {},
   "source": [
    "# TASK: Normalize data\n"
   ]
  },
  {
   "cell_type": "markdown",
   "metadata": {},
   "source": [
    "Columns `RENTED_BIKE_COUNT`, `TEMPERATURE`, `HUMIDITY`, `WIND_SPEED`, `VISIBILITY`, `DEW_POINT_TEMPERATURE`, `SOLAR_RADIATION`, `RAINFALL`, `SNOWFALL` are numerical variables/columns with different value units and range. Columns with large values may adversely influence (bias) the predictive models and degrade model accuracy. Thus, we need to perform normalization on these numeric columns to transfer them into a similar range.\n"
   ]
  },
  {
   "cell_type": "markdown",
   "metadata": {},
   "source": [
    "In this project, you are asked to use Min-max normalization:\n",
    "\n",
    "**Min-max** rescales each value in a column by first subtracting the minimum value of the column from each value, and then divides the result by the difference between the maximum and minimum values of the column. So the column gets re-scaled such that the minimum becomes 0 and the maximum becomes 1.\n",
    "\n",
    "$$x\\_{new} = \\frac{x\\_{old} - x\\_{min}}{x\\_{max} - x\\_{min}}$$\n"
   ]
  },
  {
   "cell_type": "markdown",
   "metadata": {},
   "source": [
    "*TODO:* Apply min-max normalization on `RENTED_BIKE_COUNT`, `TEMPERATURE`, `HUMIDITY`, `WIND_SPEED`, `VISIBILITY`, `DEW_POINT_TEMPERATURE`, `SOLAR_RADIATION`, `RAINFALL`, `SNOWFALL`\n"
   ]
  },
  {
   "cell_type": "code",
   "execution_count": 16,
   "metadata": {},
   "outputs": [],
   "source": [
    "# Use the `mutate()` function to apply min-max normalization on columns \n",
    "# `RENTED_BIKE_COUNT`, `TEMPERATURE`, `HUMIDITY`, `WIND_SPEED`, `VISIBILITY`, `DEW_POINT_TEMPERATURE`, `SOLAR_RADIATION`, `RAINFALL`, `SNOWFALL`\n",
    "bike_sharing_df<-bike_sharing_df %>% mutate(RENTED_BIKE_COUNT = (RENTED_BIKE_COUNT - min(RENTED_BIKE_COUNT)) / (max(RENTED_BIKE_COUNT) - min(RENTED_BIKE_COUNT)))\n",
    "bike_sharing_df<-bike_sharing_df %>% mutate(TEMPERATURE = (TEMPERATURE - min(TEMPERATURE)) / (max(TEMPERATURE) - min(TEMPERATURE)))\n",
    "bike_sharing_df<-bike_sharing_df %>% mutate(HUMIDITY = (HUMIDITY - min(HUMIDITY)) / (max(HUMIDITY) - min(HUMIDITY)))\n",
    "bike_sharing_df<-bike_sharing_df %>% mutate(WIND_SPEED = (WIND_SPEED - min(WIND_SPEED)) / (max(WIND_SPEED) - min(WIND_SPEED)))\n",
    "bike_sharing_df<-bike_sharing_df %>% mutate(VISIBILITY = (VISIBILITY - min(VISIBILITY)) / (max(VISIBILITY) - min(VISIBILITY)))\n",
    "bike_sharing_df<-bike_sharing_df %>% mutate(DEW_POINT_TEMPERATURE = (DEW_POINT_TEMPERATURE - min(DEW_POINT_TEMPERATURE)) / (max(DEW_POINT_TEMPERATURE) - min(DEW_POINT_TEMPERATURE)))\n",
    "bike_sharing_df<-bike_sharing_df %>% mutate(SOLAR_RADIATION = (SOLAR_RADIATION - min(SOLAR_RADIATION)) / (max(SOLAR_RADIATION) - min(SOLAR_RADIATION)))\n",
    "bike_sharing_df<-bike_sharing_df %>% mutate(RAINFALL = (RAINFALL - min(RAINFALL)) / (max(RAINFALL) - min(RAINFALL)))\n",
    "bike_sharing_df<-bike_sharing_df %>% mutate(SNOWFALL = (SNOWFALL - min(SNOWFALL)) / (max(SNOWFALL) - min(SNOWFALL)))"
   ]
  },
  {
   "cell_type": "code",
   "execution_count": 17,
   "metadata": {},
   "outputs": [
    {
     "data": {
      "text/plain": [
       "     DATE           RENTED_BIKE_COUNT  TEMPERATURE        HUMIDITY     \n",
       " Length:8465        Min.   :0.00000   Min.   :0.0000   Min.   :0.0000  \n",
       " Class :character   1st Qu.:0.05965   1st Qu.:0.3636   1st Qu.:0.4286  \n",
       " Mode  :character   Median :0.15194   Median :0.5472   Median :0.5816  \n",
       "                    Mean   :0.20460   Mean   :0.5345   Mean   :0.5933  \n",
       "                    3rd Qu.:0.30445   3rd Qu.:0.7080   3rd Qu.:0.7551  \n",
       "                    Max.   :1.00000   Max.   :1.0000   Max.   :1.0000  \n",
       "   WIND_SPEED       VISIBILITY     DEW_POINT_TEMPERATURE SOLAR_RADIATION   \n",
       " Min.   :0.0000   Min.   :0.0000   Min.   :0.0000        Min.   :0.000000  \n",
       " 1st Qu.:0.1216   1st Qu.:0.4602   1st Qu.:0.4412        1st Qu.:0.000000  \n",
       " Median :0.2027   Median :0.8429   Median :0.6107        Median :0.002841  \n",
       " Mean   :0.2332   Mean   :0.7131   Mean   :0.5977        Mean   :0.161326  \n",
       " 3rd Qu.:0.3108   3rd Qu.:1.0000   3rd Qu.:0.7924        3rd Qu.:0.264205  \n",
       " Max.   :1.0000   Max.   :1.0000   Max.   :1.0000        Max.   :1.000000  \n",
       "    RAINFALL           SNOWFALL        FUNCTIONING_DAY        Autumn      \n",
       " Min.   :0.000000   Min.   :0.000000   Length:8465        Min.   :0.0000  \n",
       " 1st Qu.:0.000000   1st Qu.:0.000000   Class :character   1st Qu.:0.0000  \n",
       " Median :0.000000   Median :0.000000   Mode  :character   Median :0.0000  \n",
       " Mean   :0.004261   Mean   :0.008828                      Mean   :0.2288  \n",
       " 3rd Qu.:0.000000   3rd Qu.:0.000000                      3rd Qu.:0.0000  \n",
       " Max.   :1.000000   Max.   :1.000000                      Max.   :1.0000  \n",
       "     Spring           Summer           Winter          Holiday      \n",
       " Min.   :0.0000   Min.   :0.0000   Min.   :0.0000   Min.   :0.0000  \n",
       " 1st Qu.:0.0000   1st Qu.:0.0000   1st Qu.:0.0000   1st Qu.:0.0000  \n",
       " Median :0.0000   Median :0.0000   Median :0.0000   Median :0.0000  \n",
       " Mean   :0.2552   Mean   :0.2608   Mean   :0.2552   Mean   :0.0482  \n",
       " 3rd Qu.:1.0000   3rd Qu.:1.0000   3rd Qu.:1.0000   3rd Qu.:0.0000  \n",
       " Max.   :1.0000   Max.   :1.0000   Max.   :1.0000   Max.   :1.0000  \n",
       "   No Holiday     -1.66122994540396 -1.51677516754275 -1.37232038968153\n",
       " Min.   :0.0000   Min.   :0.00000   Min.   :0.00000   Min.   :0.00000  \n",
       " 1st Qu.:1.0000   1st Qu.:0.00000   1st Qu.:0.00000   1st Qu.:0.00000  \n",
       " Median :1.0000   Median :0.00000   Median :0.00000   Median :0.00000  \n",
       " Mean   :0.9518   Mean   :0.04158   Mean   :0.04158   Mean   :0.04158  \n",
       " 3rd Qu.:1.0000   3rd Qu.:0.00000   3rd Qu.:0.00000   3rd Qu.:0.00000  \n",
       " Max.   :1.0000   Max.   :1.00000   Max.   :1.00000   Max.   :1.00000  \n",
       " -1.22786561182032 -1.08341083395911 -0.938956056097891 -0.794501278236677\n",
       " Min.   :0.00000   Min.   :0.00000   Min.   :0.00000    Min.   :0.00000   \n",
       " 1st Qu.:0.00000   1st Qu.:0.00000   1st Qu.:0.00000    1st Qu.:0.00000   \n",
       " Median :0.00000   Median :0.00000   Median :0.00000    Median :0.00000   \n",
       " Mean   :0.04158   Mean   :0.04158   Mean   :0.04158    Mean   :0.04158   \n",
       " 3rd Qu.:0.00000   3rd Qu.:0.00000   3rd Qu.:0.00000    3rd Qu.:0.00000   \n",
       " Max.   :1.00000   Max.   :1.00000   Max.   :1.00000    Max.   :1.00000   \n",
       " -0.650046500375463 -0.505591722514249 -0.361136944653035 -0.216682166791821\n",
       " Min.   :0.0000     Min.   :0.0000     Min.   :0.0000     Min.   :0.0000    \n",
       " 1st Qu.:0.0000     1st Qu.:0.0000     1st Qu.:0.0000     1st Qu.:0.0000    \n",
       " Median :0.0000     Median :0.0000     Median :0.0000     Median :0.0000    \n",
       " Mean   :0.0417     Mean   :0.0417     Mean   :0.0417     Mean   :0.0417    \n",
       " 3rd Qu.:0.0000     3rd Qu.:0.0000     3rd Qu.:0.0000     3rd Qu.:0.0000    \n",
       " Max.   :1.0000     Max.   :1.0000     Max.   :1.0000     Max.   :1.0000    \n",
       " -0.072227388930607 0.072227388930607 0.216682166791821 0.361136944653035\n",
       " Min.   :0.0000     Min.   :0.0000    Min.   :0.0000    Min.   :0.0000   \n",
       " 1st Qu.:0.0000     1st Qu.:0.0000    1st Qu.:0.0000    1st Qu.:0.0000   \n",
       " Median :0.0000     Median :0.0000    Median :0.0000    Median :0.0000   \n",
       " Mean   :0.0417     Mean   :0.0417    Mean   :0.0417    Mean   :0.0417   \n",
       " 3rd Qu.:0.0000     3rd Qu.:0.0000    3rd Qu.:0.0000    3rd Qu.:0.0000   \n",
       " Max.   :1.0000     Max.   :1.0000    Max.   :1.0000    Max.   :1.0000   \n",
       " 0.505591722514249 0.650046500375463 0.794501278236677 0.938956056097891\n",
       " Min.   :0.0000    Min.   :0.0000    Min.   :0.0000    Min.   :0.0000   \n",
       " 1st Qu.:0.0000    1st Qu.:0.0000    1st Qu.:0.0000    1st Qu.:0.0000   \n",
       " Median :0.0000    Median :0.0000    Median :0.0000    Median :0.0000   \n",
       " Mean   :0.0417    Mean   :0.0417    Mean   :0.0417    Mean   :0.0417   \n",
       " 3rd Qu.:0.0000    3rd Qu.:0.0000    3rd Qu.:0.0000    3rd Qu.:0.0000   \n",
       " Max.   :1.0000    Max.   :1.0000    Max.   :1.0000    Max.   :1.0000   \n",
       " 1.08341083395911 1.22786561182032 1.37232038968153 1.51677516754275\n",
       " Min.   :0.0000   Min.   :0.0000   Min.   :0.0000   Min.   :0.0000  \n",
       " 1st Qu.:0.0000   1st Qu.:0.0000   1st Qu.:0.0000   1st Qu.:0.0000  \n",
       " Median :0.0000   Median :0.0000   Median :0.0000   Median :0.0000  \n",
       " Mean   :0.0417   Mean   :0.0417   Mean   :0.0417   Mean   :0.0417  \n",
       " 3rd Qu.:0.0000   3rd Qu.:0.0000   3rd Qu.:0.0000   3rd Qu.:0.0000  \n",
       " Max.   :1.0000   Max.   :1.0000   Max.   :1.0000   Max.   :1.0000  \n",
       " 1.66122994540396\n",
       " Min.   :0.0000  \n",
       " 1st Qu.:0.0000  \n",
       " Median :0.0000  \n",
       " Mean   :0.0417  \n",
       " 3rd Qu.:0.0000  \n",
       " Max.   :1.0000  "
      ]
     },
     "metadata": {},
     "output_type": "display_data"
    }
   ],
   "source": [
    "# Print the summary of the dataset again to make sure the numeric columns range between 0 and 1\n",
    "summary(bike_sharing_df)"
   ]
  },
  {
   "cell_type": "code",
   "execution_count": 18,
   "metadata": {},
   "outputs": [],
   "source": [
    "# Save the dataset as `seoul_bike_sharing_converted_normalized.csv`\n",
    "write_csv(bike_sharing_df, \"seoul_bike_sharing_converted_normalized.csv\")"
   ]
  },
  {
   "cell_type": "markdown",
   "metadata": {},
   "source": [
    "## Standardize the column names again for the new datasets\n"
   ]
  },
  {
   "cell_type": "markdown",
   "metadata": {},
   "source": [
    "Since you have added many new indicator variables, you need to standardize their column names again by using the following code:\n"
   ]
  },
  {
   "cell_type": "code",
   "execution_count": 19,
   "metadata": {},
   "outputs": [
    {
     "name": "stderr",
     "output_type": "stream",
     "text": [
      "\u001b[1mRows: \u001b[22m\u001b[34m8465\u001b[39m \u001b[1mColumns: \u001b[22m\u001b[34m14\u001b[39m\n",
      "\u001b[36m--\u001b[39m \u001b[1mColumn specification\u001b[22m \u001b[36m------------------------------------------------------------------------------------------------\u001b[39m\n",
      "\u001b[1mDelimiter:\u001b[22m \",\"\n",
      "\u001b[31mchr\u001b[39m  (4): DATE, SEASONS, HOLIDAY, FUNCTIONING_DAY\n",
      "\u001b[32mdbl\u001b[39m (10): RENTED_BIKE_COUNT, HOUR, TEMPERATURE, HUMIDITY, WIND_SPEED, VISIBI...\n",
      "\n",
      "\u001b[36mi\u001b[39m Use `spec()` to retrieve the full column specification for this data.\n",
      "\u001b[36mi\u001b[39m Specify the column types or set `show_col_types = FALSE` to quiet this message.\n",
      "\u001b[1mRows: \u001b[22m\u001b[34m8465\u001b[39m \u001b[1mColumns: \u001b[22m\u001b[34m41\u001b[39m\n",
      "\u001b[36m--\u001b[39m \u001b[1mColumn specification\u001b[22m \u001b[36m------------------------------------------------------------------------------------------------\u001b[39m\n",
      "\u001b[1mDelimiter:\u001b[22m \",\"\n",
      "\u001b[31mchr\u001b[39m  (2): DATE, FUNCTIONING_DAY\n",
      "\u001b[32mdbl\u001b[39m (39): RENTED_BIKE_COUNT, TEMPERATURE, HUMIDITY, WIND_SPEED, VISIBILITY, ...\n",
      "\n",
      "\u001b[36mi\u001b[39m Use `spec()` to retrieve the full column specification for this data.\n",
      "\u001b[36mi\u001b[39m Specify the column types or set `show_col_types = FALSE` to quiet this message.\n",
      "\u001b[1mRows: \u001b[22m\u001b[34m8465\u001b[39m \u001b[1mColumns: \u001b[22m\u001b[34m41\u001b[39m\n",
      "\u001b[36m--\u001b[39m \u001b[1mColumn specification\u001b[22m \u001b[36m------------------------------------------------------------------------------------------------\u001b[39m\n",
      "\u001b[1mDelimiter:\u001b[22m \",\"\n",
      "\u001b[31mchr\u001b[39m  (2): DATE, FUNCTIONING_DAY\n",
      "\u001b[32mdbl\u001b[39m (39): RENTED_BIKE_COUNT, TEMPERATURE, HUMIDITY, WIND_SPEED, VISIBILITY, ...\n",
      "\n",
      "\u001b[36mi\u001b[39m Use `spec()` to retrieve the full column specification for this data.\n",
      "\u001b[36mi\u001b[39m Specify the column types or set `show_col_types = FALSE` to quiet this message.\n"
     ]
    }
   ],
   "source": [
    "# Dataset list\n",
    "dataset_list <- c('seoul_bike_sharing.csv', 'seoul_bike_sharing_converted.csv', 'seoul_bike_sharing_converted_normalized.csv')\n",
    "\n",
    "for (dataset_name in dataset_list){\n",
    "    # Read dataset\n",
    "    dataset <- read_csv(dataset_name)\n",
    "    # Standardized its columns:\n",
    "    # Convert all columns names to uppercase\n",
    "    names(dataset) <- toupper(names(dataset))\n",
    "    # Replace any white space separators by underscore, using str_replace_all function\n",
    "    names(dataset) <- str_replace_all(names(dataset), \" \", \"_\")\n",
    "    # Save the dataset back\n",
    "    write.csv(dataset, dataset_name, row.names=FALSE)\n",
    "}"
   ]
  },
  {
   "cell_type": "markdown",
   "metadata": {},
   "source": [
    "# Next Steps\n"
   ]
  },
  {
   "cell_type": "markdown",
   "metadata": {},
   "source": [
    "Great! Now that you have processed all of the necessary datasets, you are ready to perform exploratory data analysis to get some inital insights from them.\n"
   ]
  },
  {
   "cell_type": "markdown",
   "metadata": {},
   "source": [
    "## Authors\n",
    "\n",
    "<a href=\"https://www.linkedin.com/in/yan-luo-96288783/?utm_medium=Exinfluencer&utm_source=Exinfluencer&utm_content=000026UJ&utm_term=10006555&utm_id=NA-SkillsNetwork-Channel-SkillsNetworkCoursesIBMDeveloperSkillsNetworkRP0321ENSkillsNetwork25371262-2022-01-01\" target=\"_blank\">Yan Luo</a>\n"
   ]
  },
  {
   "cell_type": "markdown",
   "metadata": {},
   "source": [
    "### Other Contributors\n",
    "\n",
    "Jeff Grossman\n"
   ]
  },
  {
   "cell_type": "markdown",
   "metadata": {},
   "source": [
    "## Change Log\n",
    "\n",
    "| Date (YYYY-MM-DD) | Version | Changed By | Change Description      |\n",
    "| ----------------- | ------- | ---------- | ----------------------- |\n",
    "| 2021-04-08        | 1.0     | Yan        | Initial version created |\n",
    "|                   |         |            |                         |\n",
    "|                   |         |            |                         |\n",
    "\n",
    "## <h3 align=\"center\"> © IBM Corporation 2021. All rights reserved. <h3/>\n"
   ]
  }
 ],
 "metadata": {
  "kernelspec": {
   "display_name": "R",
   "language": "R",
   "name": "ir"
  },
  "language_info": {
   "codemirror_mode": "r",
   "file_extension": ".r",
   "mimetype": "text/x-r-source",
   "name": "R",
   "pygments_lexer": "r",
   "version": "4.1.0"
  },
  "toc": {
   "base_numbering": 1,
   "nav_menu": {},
   "number_sections": true,
   "sideBar": true,
   "skip_h1_title": false,
   "title_cell": "Table of Contents",
   "title_sidebar": "Contents",
   "toc_cell": false,
   "toc_position": {},
   "toc_section_display": true,
   "toc_window_display": false
  }
 },
 "nbformat": 4,
 "nbformat_minor": 4
}
