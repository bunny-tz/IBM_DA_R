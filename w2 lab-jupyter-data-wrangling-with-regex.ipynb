{
 "cells": [
  {
   "cell_type": "markdown",
   "metadata": {},
   "source": [
    "<a href=\"https://cognitiveclass.ai/?utm_medium=Exinfluencer&utm_source=Exinfluencer&utm_content=000026UJ&utm_term=10006555&utm_id=NA-SkillsNetwork-Channel-SkillsNetworkCoursesIBMDeveloperSkillsNetworkRP0321ENSkillsNetwork25371262-2022-01-01\">\n",
    "    <img src=\"https://cf-courses-data.s3.us.cloud-object-storage.appdomain.cloud/IBMDeveloperSkillsNetwork-RP0101EN-Coursera/v2/M1_R_Basics/images/IDSNlogo.png\" width=\"200\" align=\"center\">\n",
    "</a>\n"
   ]
  },
  {
   "cell_type": "markdown",
   "metadata": {},
   "source": [
    "<h1>Data Wrangling with Regular Expressions</h1>\n",
    "\n",
    "Estimated time needed: **40** minutes\n"
   ]
  },
  {
   "cell_type": "markdown",
   "metadata": {},
   "source": [
    "## Lab Overview:\n",
    "\n",
    "In the previous data collection labs, you collected some raw datasets from several different sources. In this lab, you need to perform data wrangling tasks in order to improve data quality.\n"
   ]
  },
  {
   "cell_type": "markdown",
   "metadata": {},
   "source": [
    "You will again use regular expressions, along with the `stringr` package (part of `tidyverse`), to clean up the bike-sharing systems data that you previously web scraped from the wiki page:\n",
    "\n",
    "[https://en.wikipedia.org/wiki/List_of_bicycle-sharing_systems](https://en.wikipedia.org/wiki/List_of_bicycle-sharing_systems?utm_medium=Exinfluencer&utm_source=Exinfluencer&utm_content=000026UJ&utm_term=10006555&utm_id=NA-SkillsNetwork-Channel-SkillsNetworkCoursesIBMDeveloperSkillsNetworkRP0321ENSkillsNetwork25371262-2022-01-01)\n",
    "\n",
    "<a href=\"https://cognitiveclass.ai/?utm_medium=Exinfluencer&utm_source=Exinfluencer&utm_content=000026UJ&utm_term=10006555&utm_id=NA-SkillsNetwork-Channel-SkillsNetworkCoursesIBMDeveloperSkillsNetworkRP0321ENSkillsNetwork25371262-2022-01-01\">\n",
    "    <img src=\"https://cf-courses-data.s3.us.cloud-object-storage.appdomain.cloud/IBMDeveloperSkillsNetwork-RP0321EN-SkillsNetwork/labs/module_1/images/l2-list-bike-sharing-systems.png\" width=\"800\" align=\"center\">\n",
    "</a>\n"
   ]
  },
  {
   "cell_type": "markdown",
   "metadata": {},
   "source": [
    "One typical challenge of web scraping is that data extracted from HTML pages may contain unnecessary or inconsistently fomatted information.\\\n",
    "For example:\n",
    "\n",
    "*   Textual annotations in numeric fields: `1000 (Updated with 1050)`\n",
    "*   Attached reference links: `Bike sharing system [123]`\n",
    "*   Inconsistent data formats: `Yes` and `Y` for the logical value `TRUE` or `2021-04-09` and `Apr 09, 2021` for the same date\n",
    "*   HTML style tags: `<span style=\"color:blue\">Bike sharing system</span>`\n",
    "*   Special characters: `&nbsp` for a white space\n",
    "\n",
    "Many more such examples of noise may be encountered in real-world scraped data and most of such text related noises could be handled by regular expressions.\n"
   ]
  },
  {
   "cell_type": "markdown",
   "metadata": {},
   "source": [
    "To summarize, you will be using `stringr` (part of `tidyverse`) and regular expressions to perform the following data wrangling tasks:\n",
    "\n",
    "*   TASK: Standardize column names for all collected datasets\n",
    "*   TASK: Remove undesired reference links from the scraped bike-sharing systems dataset\n",
    "*   TASK: Extract only the numeric value from undesired text annotations\n"
   ]
  },
  {
   "cell_type": "markdown",
   "metadata": {},
   "source": [
    "Let's begin by importing the libraries you will use for these data wrangling tasks.\n"
   ]
  },
  {
   "cell_type": "code",
   "execution_count": 1,
   "metadata": {},
   "outputs": [
    {
     "name": "stderr",
     "output_type": "stream",
     "text": [
      "Warning message:\n",
      "\"package 'tidyverse' was built under R version 4.1.3\"\n",
      "-- \u001b[1mAttaching packages\u001b[22m ------------------------------------------------------------------------------- tidyverse 1.3.2 --\n",
      "\u001b[32mv\u001b[39m \u001b[34mggplot2\u001b[39m 3.3.6     \u001b[32mv\u001b[39m \u001b[34mpurrr  \u001b[39m 0.3.4\n",
      "\u001b[32mv\u001b[39m \u001b[34mtibble \u001b[39m 3.1.7     \u001b[32mv\u001b[39m \u001b[34mdplyr  \u001b[39m 1.0.9\n",
      "\u001b[32mv\u001b[39m \u001b[34mtidyr  \u001b[39m 1.2.0     \u001b[32mv\u001b[39m \u001b[34mstringr\u001b[39m 1.4.0\n",
      "\u001b[32mv\u001b[39m \u001b[34mreadr  \u001b[39m 2.1.2     \u001b[32mv\u001b[39m \u001b[34mforcats\u001b[39m 0.5.1\n",
      "Warning message:\n",
      "\"package 'ggplot2' was built under R version 4.1.3\"\n",
      "Warning message:\n",
      "\"package 'tibble' was built under R version 4.1.3\"\n",
      "Warning message:\n",
      "\"package 'tidyr' was built under R version 4.1.3\"\n",
      "Warning message:\n",
      "\"package 'readr' was built under R version 4.1.3\"\n",
      "Warning message:\n",
      "\"package 'purrr' was built under R version 4.1.3\"\n",
      "Warning message:\n",
      "\"package 'dplyr' was built under R version 4.1.3\"\n",
      "Warning message:\n",
      "\"package 'stringr' was built under R version 4.1.3\"\n",
      "Warning message:\n",
      "\"package 'forcats' was built under R version 4.1.3\"\n",
      "-- \u001b[1mConflicts\u001b[22m ---------------------------------------------------------------------------------- tidyverse_conflicts() --\n",
      "\u001b[31mx\u001b[39m \u001b[34mdplyr\u001b[39m::\u001b[32mfilter()\u001b[39m masks \u001b[34mstats\u001b[39m::filter()\n",
      "\u001b[31mx\u001b[39m \u001b[34mdplyr\u001b[39m::\u001b[32mlag()\u001b[39m    masks \u001b[34mstats\u001b[39m::lag()\n"
     ]
    }
   ],
   "source": [
    "# Check whether you need to install the `tidyverse` library\n",
    "#require(\"tidyverse\")\n",
    "library(tidyverse)"
   ]
  },
  {
   "cell_type": "markdown",
   "metadata": {},
   "source": [
    "## TASK: Standardize column names for all collected datasets\n"
   ]
  },
  {
   "cell_type": "markdown",
   "metadata": {},
   "source": [
    "In the previous data collection labs, you collected four datasets in csv format:\n",
    "\n",
    "*   `raw_bike_sharing_systems.csv`:  A list of active bike-sharing systems across the world\n",
    "*   `raw_cities_weather_forecast.csv`: 5-day weather forecasts for a list of cities, from OpenWeather API\n",
    "*   `raw_worldcities.csv`: A list of major cities' info (such as name, latitude and longitude) across the world\n",
    "*   `raw_seoul_bike_sharing.csv`: Weather information (Temperature, Humidity, Windspeed, Visibility, Dewpoint, Solar radiation, Snowfall, Rainfall), the number of bikes rented per hour, and date information, from Seoul bike-sharing systems\n"
   ]
  },
  {
   "cell_type": "markdown",
   "metadata": {},
   "source": [
    "*Optional:* If you had some difficulties finishing the data collection labs, you may download the datasets directly from the following URLs:\n"
   ]
  },
  {
   "cell_type": "code",
   "execution_count": 2,
   "metadata": {},
   "outputs": [],
   "source": [
    "# Download raw_bike_sharing_systems.csv\n",
    "url <- \"https://cf-courses-data.s3.us.cloud-object-storage.appdomain.cloud/IBMDeveloperSkillsNetwork-RP0321EN-SkillsNetwork/labs/datasets/raw_bike_sharing_systems.csv\"\n",
    "download.file(url, destfile = \"raw_bike_sharing_systems.csv\")\n",
    "\n",
    "# Download raw_cities_weather_forecast.csv\n",
    "url <- \"https://cf-courses-data.s3.us.cloud-object-storage.appdomain.cloud/IBMDeveloperSkillsNetwork-RP0321EN-SkillsNetwork/labs/datasets/raw_cities_weather_forecast.csv\"\n",
    "download.file(url, destfile = \"raw_cities_weather_forecast.csv\")\n",
    "\n",
    "# Download raw_worldcities.csv\n",
    "url <- \"https://cf-courses-data.s3.us.cloud-object-storage.appdomain.cloud/IBMDeveloperSkillsNetwork-RP0321EN-SkillsNetwork/labs/datasets/raw_worldcities.csv\"\n",
    "download.file(url, destfile = \"raw_worldcities.csv\")\n",
    "\n",
    "# Download raw_seoul_bike_sharing.csv\n",
    "url <- \"https://cf-courses-data.s3.us.cloud-object-storage.appdomain.cloud/IBMDeveloperSkillsNetwork-RP0321EN-SkillsNetwork/labs/datasets/raw_seoul_bike_sharing.csv\"\n",
    "download.file(url, destfile = \"raw_seoul_bike_sharing.csv\")"
   ]
  },
  {
   "cell_type": "markdown",
   "metadata": {},
   "source": [
    "To improve dataset readbility by both human and computer systems, we first need to standardize the column names of the datasets above using the following naming convention:\n",
    "\n",
    "*   Column names need to be UPPERCASE\n",
    "*   The word separator needs to be an underscore, such as in `COLUMN_NAME`\n"
   ]
  },
  {
   "cell_type": "markdown",
   "metadata": {},
   "source": [
    "You can use the following dataset list and the `names()` function to get and set each of their column names, and convert them according to our defined naming convention.\n"
   ]
  },
  {
   "cell_type": "code",
   "execution_count": 3,
   "metadata": {},
   "outputs": [],
   "source": [
    "dataset_list <- c('raw_bike_sharing_systems.csv', 'raw_seoul_bike_sharing.csv', 'raw_cities_weather_forecast.csv', 'raw_worldcities.csv')"
   ]
  },
  {
   "cell_type": "markdown",
   "metadata": {},
   "source": [
    "*TODO*: Write a `for` loop to iterate over the above datasets and convert their column names\n"
   ]
  },
  {
   "cell_type": "code",
   "execution_count": 4,
   "metadata": {},
   "outputs": [
    {
     "name": "stderr",
     "output_type": "stream",
     "text": [
      "\u001b[1mRows: \u001b[22m\u001b[34m480\u001b[39m \u001b[1mColumns: \u001b[22m\u001b[34m10\u001b[39m\n",
      "\u001b[36m--\u001b[39m \u001b[1mColumn specification\u001b[22m \u001b[36m------------------------------------------------------------------------------------------------\u001b[39m\n",
      "\u001b[1mDelimiter:\u001b[22m \",\"\n",
      "\u001b[31mchr\u001b[39m (10): COUNTRY, City, Name, SYSTEM, OPERATOR, LAUNCHED, DISCONTINUED, STA...\n",
      "\n",
      "\u001b[36mi\u001b[39m Use `spec()` to retrieve the full column specification for this data.\n",
      "\u001b[36mi\u001b[39m Specify the column types or set `show_col_types = FALSE` to quiet this message.\n",
      "\u001b[1mRows: \u001b[22m\u001b[34m8760\u001b[39m \u001b[1mColumns: \u001b[22m\u001b[34m14\u001b[39m\n",
      "\u001b[36m--\u001b[39m \u001b[1mColumn specification\u001b[22m \u001b[36m------------------------------------------------------------------------------------------------\u001b[39m\n",
      "\u001b[1mDelimiter:\u001b[22m \",\"\n",
      "\u001b[31mchr\u001b[39m  (4): Date, SEASONS, HOLIDAY, FUNCTIONING_DAY\n",
      "\u001b[32mdbl\u001b[39m (10): RENTED_BIKE_COUNT, Hour, TEMPERATURE, HUMIDITY, WIND_SPEED, Visibi...\n",
      "\n",
      "\u001b[36mi\u001b[39m Use `spec()` to retrieve the full column specification for this data.\n",
      "\u001b[36mi\u001b[39m Specify the column types or set `show_col_types = FALSE` to quiet this message.\n",
      "\u001b[1mRows: \u001b[22m\u001b[34m160\u001b[39m \u001b[1mColumns: \u001b[22m\u001b[34m12\u001b[39m\n",
      "\u001b[36m--\u001b[39m \u001b[1mColumn specification\u001b[22m \u001b[36m------------------------------------------------------------------------------------------------\u001b[39m\n",
      "\u001b[1mDelimiter:\u001b[22m \",\"\n",
      "\u001b[31mchr\u001b[39m  (3): city, weather, season\n",
      "\u001b[32mdbl\u001b[39m  (8): visibility, temp, temp_min, temp_max, pressure, humidity, wind_spe...\n",
      "\u001b[34mdttm\u001b[39m (1): forecast_datetime\n",
      "\n",
      "\u001b[36mi\u001b[39m Use `spec()` to retrieve the full column specification for this data.\n",
      "\u001b[36mi\u001b[39m Specify the column types or set `show_col_types = FALSE` to quiet this message.\n",
      "\u001b[1mRows: \u001b[22m\u001b[34m26569\u001b[39m \u001b[1mColumns: \u001b[22m\u001b[34m11\u001b[39m\n",
      "\u001b[36m--\u001b[39m \u001b[1mColumn specification\u001b[22m \u001b[36m------------------------------------------------------------------------------------------------\u001b[39m\n",
      "\u001b[1mDelimiter:\u001b[22m \",\"\n",
      "\u001b[31mchr\u001b[39m (7): City, CITY_ASCII, COUNTRY, ISO2, ISO3, ADMIN_NAME, CAPITAL\n",
      "\u001b[32mdbl\u001b[39m (4): LAT, LNG, POPULATION, ID\n",
      "\n",
      "\u001b[36mi\u001b[39m Use `spec()` to retrieve the full column specification for this data.\n",
      "\u001b[36mi\u001b[39m Specify the column types or set `show_col_types = FALSE` to quiet this message.\n"
     ]
    }
   ],
   "source": [
    "for (dataset_name in dataset_list){\n",
    "    # Read dataset\n",
    "    dataset <- read_csv(dataset_name)\n",
    "    # Standardized its columns:\n",
    "    dataset<-dataset %>% mutate_if(is.numeric,scale)\n",
    "    # Convert all column names to uppercase\n",
    "    dataset_colname <- toupper(names(dataset))\n",
    "    # Replace any white space separators by underscores, using the str_replace_all function\n",
    "    dataset_colname <- str_replace_all(dataset_colname, \" \", \"_\")\n",
    "    names(dataset)<-dataset_colname\n",
    "    # Save the dataset \n",
    "    write.csv(dataset, dataset_name, row.names=FALSE)\n",
    "}"
   ]
  },
  {
   "cell_type": "markdown",
   "metadata": {},
   "source": [
    "*TODO*: Read the resulting datasets back and check whether their column names follow the naming convention\n"
   ]
  },
  {
   "cell_type": "code",
   "execution_count": 5,
   "metadata": {},
   "outputs": [
    {
     "name": "stderr",
     "output_type": "stream",
     "text": [
      "\u001b[1mRows: \u001b[22m\u001b[34m480\u001b[39m \u001b[1mColumns: \u001b[22m\u001b[34m10\u001b[39m\n",
      "\u001b[36m--\u001b[39m \u001b[1mColumn specification\u001b[22m \u001b[36m------------------------------------------------------------------------------------------------\u001b[39m\n",
      "\u001b[1mDelimiter:\u001b[22m \",\"\n",
      "\u001b[31mchr\u001b[39m (10): COUNTRY, CITY, NAME, SYSTEM, OPERATOR, LAUNCHED, DISCONTINUED, STA...\n",
      "\n",
      "\u001b[36mi\u001b[39m Use `spec()` to retrieve the full column specification for this data.\n",
      "\u001b[36mi\u001b[39m Specify the column types or set `show_col_types = FALSE` to quiet this message.\n"
     ]
    },
    {
     "name": "stdout",
     "output_type": "stream",
     "text": [
      "   COUNTRY              CITY               NAME              SYSTEM         \n",
      " Length:480         Length:480         Length:480         Length:480        \n",
      " Class :character   Class :character   Class :character   Class :character  \n",
      " Mode  :character   Mode  :character   Mode  :character   Mode  :character  \n",
      "   OPERATOR           LAUNCHED         DISCONTINUED         STATIONS        \n",
      " Length:480         Length:480         Length:480         Length:480        \n",
      " Class :character   Class :character   Class :character   Class :character  \n",
      " Mode  :character   Mode  :character   Mode  :character   Mode  :character  \n",
      "   BICYCLES         DAILY_RIDERSHIP   \n",
      " Length:480         Length:480        \n",
      " Class :character   Class :character  \n",
      " Mode  :character   Mode  :character  \n"
     ]
    },
    {
     "name": "stderr",
     "output_type": "stream",
     "text": [
      "\u001b[1mRows: \u001b[22m\u001b[34m8760\u001b[39m \u001b[1mColumns: \u001b[22m\u001b[34m14\u001b[39m\n",
      "\u001b[36m--\u001b[39m \u001b[1mColumn specification\u001b[22m \u001b[36m------------------------------------------------------------------------------------------------\u001b[39m\n",
      "\u001b[1mDelimiter:\u001b[22m \",\"\n",
      "\u001b[31mchr\u001b[39m  (4): DATE, SEASONS, HOLIDAY, FUNCTIONING_DAY\n",
      "\u001b[32mdbl\u001b[39m (10): RENTED_BIKE_COUNT, HOUR, TEMPERATURE, HUMIDITY, WIND_SPEED, VISIBI...\n",
      "\n",
      "\u001b[36mi\u001b[39m Use `spec()` to retrieve the full column specification for this data.\n",
      "\u001b[36mi\u001b[39m Specify the column types or set `show_col_types = FALSE` to quiet this message.\n"
     ]
    },
    {
     "name": "stdout",
     "output_type": "stream",
     "text": [
      "     DATE           RENTED_BIKE_COUNT      HOUR          TEMPERATURE      \n",
      " Length:8760        Min.   :-1.1320   Min.   :-1.6612   Min.   :-2.56760  \n",
      " Class :character   1st Qu.:-0.8020   1st Qu.:-0.8306   1st Qu.:-0.79262  \n",
      " Mode  :character   Median :-0.2914   Median : 0.0000   Median : 0.06975  \n",
      "                    Mean   : 0.0000   Mean   : 0.0000   Mean   : 0.00000  \n",
      "                    3rd Qu.: 0.5524   3rd Qu.: 0.8306   3rd Qu.: 0.80654  \n",
      "                    Max.   : 4.4008   Max.   : 1.6612   Max.   : 2.22149  \n",
      "                    NA's   :295                         NA's   :11        \n",
      "    HUMIDITY          WIND_SPEED        VISIBILITY      DEW_POINT_TEMPERATURE\n",
      " Min.   :-2.85950   Min.   :-1.6645   Min.   :-2.3177   Min.   :-2.65489     \n",
      " 1st Qu.:-0.79687   1st Qu.:-0.7960   1st Qu.:-0.8167   1st Qu.:-0.67179     \n",
      " Median :-0.06022   Median :-0.2170   Median : 0.4294   Median : 0.07857     \n",
      " Mean   : 0.00000   Mean   : 0.0000   Mean   : 0.0000   Mean   : 0.00000     \n",
      " 3rd Qu.: 0.77465   3rd Qu.: 0.5549   3rd Qu.: 0.9258   3rd Qu.: 0.82128     \n",
      " Max.   : 1.95329   Max.   : 5.4763   Max.   : 0.9258   Max.   : 1.77071     \n",
      "                                                                             \n",
      " SOLAR_RADIATION      RAINFALL          SNOWFALL         SEASONS         \n",
      " Min.   :-0.6551   Min.   :-0.1318   Min.   :-0.1719   Length:8760       \n",
      " 1st Qu.:-0.6551   1st Qu.:-0.1318   1st Qu.:-0.1719   Class :character  \n",
      " Median :-0.6436   Median :-0.1318   Median :-0.1719   Mode  :character  \n",
      " Mean   : 0.0000   Mean   : 0.0000   Mean   : 0.0000                     \n",
      " 3rd Qu.: 0.4154   3rd Qu.:-0.1318   3rd Qu.:-0.1719                     \n",
      " Max.   : 3.3967   Max.   :30.8913   Max.   :19.9771                     \n",
      "                                                                         \n",
      "   HOLIDAY          FUNCTIONING_DAY   \n",
      " Length:8760        Length:8760       \n",
      " Class :character   Class :character  \n",
      " Mode  :character   Mode  :character  \n",
      "                                      \n",
      "                                      \n",
      "                                      \n",
      "                                      \n"
     ]
    },
    {
     "name": "stderr",
     "output_type": "stream",
     "text": [
      "\u001b[1mRows: \u001b[22m\u001b[34m160\u001b[39m \u001b[1mColumns: \u001b[22m\u001b[34m12\u001b[39m\n",
      "\u001b[36m--\u001b[39m \u001b[1mColumn specification\u001b[22m \u001b[36m------------------------------------------------------------------------------------------------\u001b[39m\n",
      "\u001b[1mDelimiter:\u001b[22m \",\"\n",
      "\u001b[31mchr\u001b[39m  (3): CITY, WEATHER, SEASON\n",
      "\u001b[32mdbl\u001b[39m  (8): VISIBILITY, TEMP, TEMP_MIN, TEMP_MAX, PRESSURE, HUMIDITY, WIND_SPE...\n",
      "\u001b[34mdttm\u001b[39m (1): FORECAST_DATETIME\n",
      "\n",
      "\u001b[36mi\u001b[39m Use `spec()` to retrieve the full column specification for this data.\n",
      "\u001b[36mi\u001b[39m Specify the column types or set `show_col_types = FALSE` to quiet this message.\n"
     ]
    },
    {
     "name": "stdout",
     "output_type": "stream",
     "text": [
      "     CITY             WEATHER            VISIBILITY             TEMP        \n",
      " Length:160         Length:160         Min.   :-12.57005   Min.   :-2.0307  \n",
      " Class :character   Class :character   1st Qu.:  0.07906   1st Qu.:-0.7870  \n",
      " Mode  :character   Mode  :character   Median :  0.07906   Median :-0.1550  \n",
      "                                       Mean   :  0.00000   Mean   : 0.0000  \n",
      "                                       3rd Qu.:  0.07906   3rd Qu.: 0.6792  \n",
      "                                       Max.   :  0.07906   Max.   : 2.6445  \n",
      "    TEMP_MIN          TEMP_MAX          PRESSURE           HUMIDITY       \n",
      " Min.   :-2.0115   Min.   :-2.0397   Min.   :-8.53900   Min.   :-1.89891  \n",
      " 1st Qu.:-0.7765   1st Qu.:-0.7519   1st Qu.:-0.31104   1st Qu.:-0.74544  \n",
      " Median :-0.1417   Median :-0.1623   Median : 0.08709   Median :-0.05335  \n",
      " Mean   : 0.0000   Mean   : 0.0000   Mean   : 0.00000   Mean   : 0.00000  \n",
      " 3rd Qu.: 0.6663   3rd Qu.: 0.7209   3rd Qu.: 0.48522   3rd Qu.: 0.69641  \n",
      " Max.   : 2.6488   Max.   : 2.6397   Max.   : 1.28147   Max.   : 2.54198  \n",
      "   WIND_SPEED         WIND_DEG          SEASON         \n",
      " Min.   :-1.4707   Min.   :-1.5770   Length:160        \n",
      " 1st Qu.:-0.7488   1st Qu.:-0.6995   Class :character  \n",
      " Median :-0.3667   Median :-0.2217   Mode  :character  \n",
      " Mean   : 0.0000   Mean   : 0.0000                     \n",
      " 3rd Qu.: 0.5350   3rd Qu.: 0.9068                     \n",
      " Max.   : 3.0587   Max.   : 1.8355                     \n",
      " FORECAST_DATETIME            \n",
      " Min.   :2021-04-16 12:00:00  \n",
      " 1st Qu.:2021-04-17 17:15:00  \n",
      " Median :2021-04-18 22:30:00  \n",
      " Mean   :2021-04-18 22:30:00  \n",
      " 3rd Qu.:2021-04-20 03:45:00  \n",
      " Max.   :2021-04-21 09:00:00  \n"
     ]
    },
    {
     "name": "stderr",
     "output_type": "stream",
     "text": [
      "\u001b[1mRows: \u001b[22m\u001b[34m26569\u001b[39m \u001b[1mColumns: \u001b[22m\u001b[34m11\u001b[39m\n",
      "\u001b[36m--\u001b[39m \u001b[1mColumn specification\u001b[22m \u001b[36m------------------------------------------------------------------------------------------------\u001b[39m\n",
      "\u001b[1mDelimiter:\u001b[22m \",\"\n",
      "\u001b[31mchr\u001b[39m (7): CITY, CITY_ASCII, COUNTRY, ISO2, ISO3, ADMIN_NAME, CAPITAL\n",
      "\u001b[32mdbl\u001b[39m (4): LAT, LNG, POPULATION, ID\n",
      "\n",
      "\u001b[36mi\u001b[39m Use `spec()` to retrieve the full column specification for this data.\n",
      "\u001b[36mi\u001b[39m Specify the column types or set `show_col_types = FALSE` to quiet this message.\n"
     ]
    },
    {
     "name": "stdout",
     "output_type": "stream",
     "text": [
      "     CITY            CITY_ASCII             LAT               LNG         \n",
      " Length:26569       Length:26569       Min.   :-3.9310   Min.   :-2.2750  \n",
      " Class :character   Class :character   1st Qu.:-0.2312   1st Qu.:-0.9117  \n",
      " Mode  :character   Mode  :character   Median : 0.3181   Median : 0.1433  \n",
      "                                       Mean   : 0.0000   Mean   : 0.0000  \n",
      "                                       3rd Qu.: 0.6650   3rd Qu.: 0.5551  \n",
      "                                       Max.   : 2.1712   Max.   : 2.5793  \n",
      "                                                                          \n",
      "   COUNTRY              ISO2               ISO3            ADMIN_NAME       \n",
      " Length:26569       Length:26569       Length:26569       Length:26569      \n",
      " Class :character   Class :character   Class :character   Class :character  \n",
      " Mode  :character   Mode  :character   Mode  :character   Mode  :character  \n",
      "                                                                            \n",
      "                                                                            \n",
      "                                                                            \n",
      "                                                                            \n",
      "   CAPITAL            POPULATION            ID         \n",
      " Length:26569       Min.   :-0.1805   Min.   :-1.9211  \n",
      " Class :character   1st Qu.:-0.1702   1st Qu.:-0.9723  \n",
      " Mode  :character   Median :-0.1581   Median : 0.3029  \n",
      "                    Mean   : 0.0000   Mean   : 0.0000  \n",
      "                    3rd Qu.:-0.1145   3rd Qu.: 0.9879  \n",
      "                    Max.   :42.0322   Max.   : 1.3150  \n",
      "                    NA's   :973                        \n"
     ]
    }
   ],
   "source": [
    "for (dataset_name in dataset_list){\n",
    "    # Print a summary for each data set to check whether the column names were correctly converted\n",
    "    dataset <- read_csv(dataset_name)\n",
    "    print(summary(dataset))\n",
    "}"
   ]
  },
  {
   "cell_type": "markdown",
   "metadata": {},
   "source": [
    "## Process the web-scraped bike sharing system dataset\n"
   ]
  },
  {
   "cell_type": "markdown",
   "metadata": {},
   "source": [
    "By now we have standardized all column names. Next, we will focus on cleaning up the values in the web-scraped bike sharing systems dataset.\n"
   ]
  },
  {
   "cell_type": "code",
   "execution_count": 6,
   "metadata": {},
   "outputs": [
    {
     "name": "stderr",
     "output_type": "stream",
     "text": [
      "\u001b[1mRows: \u001b[22m\u001b[34m480\u001b[39m \u001b[1mColumns: \u001b[22m\u001b[34m10\u001b[39m\n",
      "\u001b[36m--\u001b[39m \u001b[1mColumn specification\u001b[22m \u001b[36m------------------------------------------------------------------------------------------------\u001b[39m\n",
      "\u001b[1mDelimiter:\u001b[22m \",\"\n",
      "\u001b[31mchr\u001b[39m (10): COUNTRY, CITY, NAME, SYSTEM, OPERATOR, LAUNCHED, DISCONTINUED, STA...\n",
      "\n",
      "\u001b[36mi\u001b[39m Use `spec()` to retrieve the full column specification for this data.\n",
      "\u001b[36mi\u001b[39m Specify the column types or set `show_col_types = FALSE` to quiet this message.\n"
     ]
    }
   ],
   "source": [
    "# First load the dataset\n",
    "bike_sharing_df <- read_csv(\"raw_bike_sharing_systems.csv\")"
   ]
  },
  {
   "cell_type": "code",
   "execution_count": 7,
   "metadata": {},
   "outputs": [
    {
     "data": {
      "text/html": [
       "<table class=\"dataframe\">\n",
       "<caption>A tibble: 6 × 10</caption>\n",
       "<thead>\n",
       "\t<tr><th scope=col>COUNTRY</th><th scope=col>CITY</th><th scope=col>NAME</th><th scope=col>SYSTEM</th><th scope=col>OPERATOR</th><th scope=col>LAUNCHED</th><th scope=col>DISCONTINUED</th><th scope=col>STATIONS</th><th scope=col>BICYCLES</th><th scope=col>DAILY_RIDERSHIP</th></tr>\n",
       "\t<tr><th scope=col>&lt;chr&gt;</th><th scope=col>&lt;chr&gt;</th><th scope=col>&lt;chr&gt;</th><th scope=col>&lt;chr&gt;</th><th scope=col>&lt;chr&gt;</th><th scope=col>&lt;chr&gt;</th><th scope=col>&lt;chr&gt;</th><th scope=col>&lt;chr&gt;</th><th scope=col>&lt;chr&gt;</th><th scope=col>&lt;chr&gt;</th></tr>\n",
       "</thead>\n",
       "<tbody>\n",
       "\t<tr><td>Albania  </td><td>Tirana               </td><td>Ecovolis            </td><td>NA            </td><td>NA                            </td><td>March 2011      </td><td>NA                  </td><td>8  </td><td>200 </td><td>NA   </td></tr>\n",
       "\t<tr><td>Argentina</td><td>Mendoza              </td><td>Metrobici           </td><td>NA            </td><td>NA                            </td><td>2014            </td><td>NA                  </td><td>2  </td><td>40  </td><td>NA   </td></tr>\n",
       "\t<tr><td>Argentina</td><td>San Lorenzo, Santa Fe</td><td>Biciudad            </td><td>Biciudad      </td><td>NA                            </td><td>27 November 2016</td><td>NA                  </td><td>8  </td><td>80  </td><td>NA   </td></tr>\n",
       "\t<tr><td>Argentina</td><td>Buenos Aires         </td><td>Ecobici             </td><td>Serttel Brasil</td><td>Bike In Baires Consortium.[10]</td><td>2010            </td><td>NA                  </td><td>400</td><td>4000</td><td>21917</td></tr>\n",
       "\t<tr><td>Argentina</td><td>Rosario              </td><td>Mi Bici Tu Bici[11] </td><td>NA            </td><td>NA                            </td><td>2 December 2015 </td><td>NA                  </td><td>47 </td><td>480 </td><td>NA   </td></tr>\n",
       "\t<tr><td>Australia</td><td><span style=white-space:pre-wrap>Melbourne[12]        </span></td><td>Melbourne Bike Share</td><td><span style=white-space:pre-wrap>PBSC &amp; 8D     </span></td><td><span style=white-space:pre-wrap>Motivate                      </span></td><td><span style=white-space:pre-wrap>June 2010       </span></td><td>30 November 2019[13]</td><td>53 </td><td>676 </td><td><span style=white-space:pre-wrap>NA   </span></td></tr>\n",
       "</tbody>\n",
       "</table>\n"
      ],
      "text/latex": [
       "A tibble: 6 × 10\n",
       "\\begin{tabular}{llllllllll}\n",
       " COUNTRY & CITY & NAME & SYSTEM & OPERATOR & LAUNCHED & DISCONTINUED & STATIONS & BICYCLES & DAILY\\_RIDERSHIP\\\\\n",
       " <chr> & <chr> & <chr> & <chr> & <chr> & <chr> & <chr> & <chr> & <chr> & <chr>\\\\\n",
       "\\hline\n",
       "\t Albania   & Tirana                & Ecovolis             & NA             & NA                             & March 2011       & NA                   & 8   & 200  & NA   \\\\\n",
       "\t Argentina & Mendoza               & Metrobici            & NA             & NA                             & 2014             & NA                   & 2   & 40   & NA   \\\\\n",
       "\t Argentina & San Lorenzo, Santa Fe & Biciudad             & Biciudad       & NA                             & 27 November 2016 & NA                   & 8   & 80   & NA   \\\\\n",
       "\t Argentina & Buenos Aires          & Ecobici              & Serttel Brasil & Bike In Baires Consortium.{[}10{]} & 2010             & NA                   & 400 & 4000 & 21917\\\\\n",
       "\t Argentina & Rosario               & Mi Bici Tu Bici{[}11{]}  & NA             & NA                             & 2 December 2015  & NA                   & 47  & 480  & NA   \\\\\n",
       "\t Australia & Melbourne{[}12{]}         & Melbourne Bike Share & PBSC \\& 8D      & Motivate                       & June 2010        & 30 November 2019{[}13{]} & 53  & 676  & NA   \\\\\n",
       "\\end{tabular}\n"
      ],
      "text/markdown": [
       "\n",
       "A tibble: 6 × 10\n",
       "\n",
       "| COUNTRY &lt;chr&gt; | CITY &lt;chr&gt; | NAME &lt;chr&gt; | SYSTEM &lt;chr&gt; | OPERATOR &lt;chr&gt; | LAUNCHED &lt;chr&gt; | DISCONTINUED &lt;chr&gt; | STATIONS &lt;chr&gt; | BICYCLES &lt;chr&gt; | DAILY_RIDERSHIP &lt;chr&gt; |\n",
       "|---|---|---|---|---|---|---|---|---|---|\n",
       "| Albania   | Tirana                | Ecovolis             | NA             | NA                             | March 2011       | NA                   | 8   | 200  | NA    |\n",
       "| Argentina | Mendoza               | Metrobici            | NA             | NA                             | 2014             | NA                   | 2   | 40   | NA    |\n",
       "| Argentina | San Lorenzo, Santa Fe | Biciudad             | Biciudad       | NA                             | 27 November 2016 | NA                   | 8   | 80   | NA    |\n",
       "| Argentina | Buenos Aires          | Ecobici              | Serttel Brasil | Bike In Baires Consortium.[10] | 2010             | NA                   | 400 | 4000 | 21917 |\n",
       "| Argentina | Rosario               | Mi Bici Tu Bici[11]  | NA             | NA                             | 2 December 2015  | NA                   | 47  | 480  | NA    |\n",
       "| Australia | Melbourne[12]         | Melbourne Bike Share | PBSC &amp; 8D      | Motivate                       | June 2010        | 30 November 2019[13] | 53  | 676  | NA    |\n",
       "\n"
      ],
      "text/plain": [
       "  COUNTRY   CITY                  NAME                 SYSTEM        \n",
       "1 Albania   Tirana                Ecovolis             NA            \n",
       "2 Argentina Mendoza               Metrobici            NA            \n",
       "3 Argentina San Lorenzo, Santa Fe Biciudad             Biciudad      \n",
       "4 Argentina Buenos Aires          Ecobici              Serttel Brasil\n",
       "5 Argentina Rosario               Mi Bici Tu Bici[11]  NA            \n",
       "6 Australia Melbourne[12]         Melbourne Bike Share PBSC & 8D     \n",
       "  OPERATOR                       LAUNCHED         DISCONTINUED         STATIONS\n",
       "1 NA                             March 2011       NA                   8       \n",
       "2 NA                             2014             NA                   2       \n",
       "3 NA                             27 November 2016 NA                   8       \n",
       "4 Bike In Baires Consortium.[10] 2010             NA                   400     \n",
       "5 NA                             2 December 2015  NA                   47      \n",
       "6 Motivate                       June 2010        30 November 2019[13] 53      \n",
       "  BICYCLES DAILY_RIDERSHIP\n",
       "1 200      NA             \n",
       "2 40       NA             \n",
       "3 80       NA             \n",
       "4 4000     21917          \n",
       "5 480      NA             \n",
       "6 676      NA             "
      ]
     },
     "metadata": {},
     "output_type": "display_data"
    }
   ],
   "source": [
    "# Print its head\n",
    "head(bike_sharing_df)"
   ]
  },
  {
   "cell_type": "markdown",
   "metadata": {},
   "source": [
    "Even from the first few rows, you can see there is plenty of undesireable embedded textual content, such as the reference link included in `Melbourne[12]`.\n"
   ]
  },
  {
   "cell_type": "markdown",
   "metadata": {},
   "source": [
    "In this project, let's only focus on processing the following revelant columns (feel free to process the other columns for more practice):\n",
    "\n",
    "*   `COUNTRY`: Country name\n",
    "*   `CITY`: City name\n",
    "*   `SYSTEM`: Bike-sharing system name\n",
    "*   `BICYCLES`: Total number of bikes in the system\n"
   ]
  },
  {
   "cell_type": "code",
   "execution_count": 8,
   "metadata": {},
   "outputs": [],
   "source": [
    "# Select the four columns\n",
    "sub_bike_sharing_df <- bike_sharing_df %>% select(COUNTRY, CITY, SYSTEM, BICYCLES)"
   ]
  },
  {
   "cell_type": "markdown",
   "metadata": {},
   "source": [
    "Let's see the types of the selected columns\n"
   ]
  },
  {
   "cell_type": "code",
   "execution_count": 9,
   "metadata": {},
   "outputs": [
    {
     "data": {
      "text/html": [
       "<table class=\"dataframe\">\n",
       "<caption>A tibble: 4 × 2</caption>\n",
       "<thead>\n",
       "\t<tr><th scope=col>variable</th><th scope=col>class</th></tr>\n",
       "\t<tr><th scope=col>&lt;chr&gt;</th><th scope=col>&lt;chr&gt;</th></tr>\n",
       "</thead>\n",
       "<tbody>\n",
       "\t<tr><td>COUNTRY </td><td>character</td></tr>\n",
       "\t<tr><td>CITY    </td><td>character</td></tr>\n",
       "\t<tr><td>SYSTEM  </td><td>character</td></tr>\n",
       "\t<tr><td>BICYCLES</td><td>character</td></tr>\n",
       "</tbody>\n",
       "</table>\n"
      ],
      "text/latex": [
       "A tibble: 4 × 2\n",
       "\\begin{tabular}{ll}\n",
       " variable & class\\\\\n",
       " <chr> & <chr>\\\\\n",
       "\\hline\n",
       "\t COUNTRY  & character\\\\\n",
       "\t CITY     & character\\\\\n",
       "\t SYSTEM   & character\\\\\n",
       "\t BICYCLES & character\\\\\n",
       "\\end{tabular}\n"
      ],
      "text/markdown": [
       "\n",
       "A tibble: 4 × 2\n",
       "\n",
       "| variable &lt;chr&gt; | class &lt;chr&gt; |\n",
       "|---|---|\n",
       "| COUNTRY  | character |\n",
       "| CITY     | character |\n",
       "| SYSTEM   | character |\n",
       "| BICYCLES | character |\n",
       "\n"
      ],
      "text/plain": [
       "  variable class    \n",
       "1 COUNTRY  character\n",
       "2 CITY     character\n",
       "3 SYSTEM   character\n",
       "4 BICYCLES character"
      ]
     },
     "metadata": {},
     "output_type": "display_data"
    }
   ],
   "source": [
    "sub_bike_sharing_df %>% \n",
    "    summarize_all(class) %>%\n",
    "    gather(variable, class)"
   ]
  },
  {
   "cell_type": "markdown",
   "metadata": {},
   "source": [
    "They are all interpreted as character columns, but we expect the `BICYCLES` column to be of numeric type. Let's see why it wasn't loaded as a numeric column - possibly some entries contain characters. Let's create a simple function called `find_character` to check that.\n"
   ]
  },
  {
   "cell_type": "code",
   "execution_count": 10,
   "metadata": {},
   "outputs": [],
   "source": [
    "# grepl searches a string for non-digital characters, and returns TRUE or FALSE\n",
    "# if it finds any non-digital characters, then the bicyle column is not purely numeric\n",
    "find_character <- function(strings) grepl(\"[^0-9]\", strings)"
   ]
  },
  {
   "cell_type": "markdown",
   "metadata": {},
   "source": [
    "Let's try to find any elements in the `Bicycles` column containing non-numeric characters.\n"
   ]
  },
  {
   "cell_type": "code",
   "execution_count": 11,
   "metadata": {},
   "outputs": [
    {
     "data": {
      "text/html": [
       "<table class=\"dataframe\">\n",
       "<caption>A tibble: 10 × 1</caption>\n",
       "<thead>\n",
       "\t<tr><th scope=col>BICYCLES</th></tr>\n",
       "\t<tr><th scope=col>&lt;chr&gt;</th></tr>\n",
       "</thead>\n",
       "<tbody>\n",
       "\t<tr><td>4115[22]                  </td></tr>\n",
       "\t<tr><td>310[59]                   </td></tr>\n",
       "\t<tr><td>500[72]                   </td></tr>\n",
       "\t<tr><td>[75]                      </td></tr>\n",
       "\t<tr><td>180[76]                   </td></tr>\n",
       "\t<tr><td>600[77]                   </td></tr>\n",
       "\t<tr><td>[78]                      </td></tr>\n",
       "\t<tr><td>initially 800 (later 2500)</td></tr>\n",
       "\t<tr><td>100 (220)                 </td></tr>\n",
       "\t<tr><td>370[114]                  </td></tr>\n",
       "</tbody>\n",
       "</table>\n"
      ],
      "text/latex": [
       "A tibble: 10 × 1\n",
       "\\begin{tabular}{l}\n",
       " BICYCLES\\\\\n",
       " <chr>\\\\\n",
       "\\hline\n",
       "\t 4115{[}22{]}                  \\\\\n",
       "\t 310{[}59{]}                   \\\\\n",
       "\t 500{[}72{]}                   \\\\\n",
       "\t {[}75{]}                      \\\\\n",
       "\t 180{[}76{]}                   \\\\\n",
       "\t 600{[}77{]}                   \\\\\n",
       "\t {[}78{]}                      \\\\\n",
       "\t initially 800 (later 2500)\\\\\n",
       "\t 100 (220)                 \\\\\n",
       "\t 370{[}114{]}                  \\\\\n",
       "\\end{tabular}\n"
      ],
      "text/markdown": [
       "\n",
       "A tibble: 10 × 1\n",
       "\n",
       "| BICYCLES &lt;chr&gt; |\n",
       "|---|\n",
       "| 4115[22]                   |\n",
       "| 310[59]                    |\n",
       "| 500[72]                    |\n",
       "| [75]                       |\n",
       "| 180[76]                    |\n",
       "| 600[77]                    |\n",
       "| [78]                       |\n",
       "| initially 800 (later 2500) |\n",
       "| 100 (220)                  |\n",
       "| 370[114]                   |\n",
       "\n"
      ],
      "text/plain": [
       "   BICYCLES                  \n",
       "1  4115[22]                  \n",
       "2  310[59]                   \n",
       "3  500[72]                   \n",
       "4  [75]                      \n",
       "5  180[76]                   \n",
       "6  600[77]                   \n",
       "7  [78]                      \n",
       "8  initially 800 (later 2500)\n",
       "9  100 (220)                 \n",
       "10 370[114]                  "
      ]
     },
     "metadata": {},
     "output_type": "display_data"
    }
   ],
   "source": [
    "sub_bike_sharing_df %>% \n",
    "    select(BICYCLES) %>% \n",
    "    filter(find_character(BICYCLES)) %>%\n",
    "    slice(0:10)"
   ]
  },
  {
   "cell_type": "markdown",
   "metadata": {},
   "source": [
    "As you can see, many rows have non-numeric characters, such as `32 (including 6 rollers) [162]` and `1000[253]`. This is actually very common for a table scraped from Wiki when no input validation is enforced.\n",
    "\n",
    "Later, you will use regular expressions to clean them up.\n"
   ]
  },
  {
   "cell_type": "markdown",
   "metadata": {},
   "source": [
    "Next, let's take a look at the other columns, namely `COUNTRY`, `CITY`, and `SYSTEM`, to see if they contain any undesired reference links, such as in `Melbourne[12]`.\n"
   ]
  },
  {
   "cell_type": "code",
   "execution_count": 12,
   "metadata": {},
   "outputs": [],
   "source": [
    "# Define a 'reference link' character class, \n",
    "# `[A-z0-9]` means at least one character \n",
    "# `\\\\[` and `\\\\]` means the character is wrapped by [], such as for [12] or [abc]\n",
    "ref_pattern <- \"\\\\[[A-z0-9]+\\\\]\"\n",
    "find_reference_pattern <- function(strings) grepl(ref_pattern, strings)"
   ]
  },
  {
   "cell_type": "code",
   "execution_count": 13,
   "metadata": {},
   "outputs": [
    {
     "data": {
      "text/html": [
       "<table class=\"dataframe\">\n",
       "<caption>A tibble: 0 × 1</caption>\n",
       "<thead>\n",
       "\t<tr><th scope=col>COUNTRY</th></tr>\n",
       "\t<tr><th scope=col>&lt;chr&gt;</th></tr>\n",
       "</thead>\n",
       "<tbody>\n",
       "</tbody>\n",
       "</table>\n"
      ],
      "text/latex": [
       "A tibble: 0 × 1\n",
       "\\begin{tabular}{l}\n",
       " COUNTRY\\\\\n",
       " <chr>\\\\\n",
       "\\hline\n",
       "\\end{tabular}\n"
      ],
      "text/markdown": [
       "\n",
       "A tibble: 0 × 1\n",
       "\n",
       "| COUNTRY &lt;chr&gt; |\n",
       "|---|\n",
       "\n"
      ],
      "text/plain": [
       "     COUNTRY"
      ]
     },
     "metadata": {},
     "output_type": "display_data"
    }
   ],
   "source": [
    "# Check whether the COUNTRY column has any reference links\n",
    "sub_bike_sharing_df %>% \n",
    "    select(COUNTRY) %>% \n",
    "    filter(find_reference_pattern(COUNTRY)) %>%\n",
    "    slice(0:10)"
   ]
  },
  {
   "cell_type": "markdown",
   "metadata": {},
   "source": [
    "Ok, looks like the `COUNTRY` column is clean. Let's check the `CITY` column.\n"
   ]
  },
  {
   "cell_type": "code",
   "execution_count": 14,
   "metadata": {},
   "outputs": [
    {
     "data": {
      "text/html": [
       "<table class=\"dataframe\">\n",
       "<caption>A tibble: 10 × 1</caption>\n",
       "<thead>\n",
       "\t<tr><th scope=col>CITY</th></tr>\n",
       "\t<tr><th scope=col>&lt;chr&gt;</th></tr>\n",
       "</thead>\n",
       "<tbody>\n",
       "\t<tr><td>Melbourne[12]        </td></tr>\n",
       "\t<tr><td>Brisbane[14][15]     </td></tr>\n",
       "\t<tr><td>Lower Austria[18]    </td></tr>\n",
       "\t<tr><td>Namur[19]            </td></tr>\n",
       "\t<tr><td>Brussels[21]         </td></tr>\n",
       "\t<tr><td>Salvador[23]         </td></tr>\n",
       "\t<tr><td>Belo Horizonte[24]   </td></tr>\n",
       "\t<tr><td><span style=white-space:pre-wrap>Jo&lt;e3&gt;o Pessoa[25]   </span></td></tr>\n",
       "\t<tr><td>(Pedro de) Toledo[26]</td></tr>\n",
       "\t<tr><td>Rio de Janeiro[27]   </td></tr>\n",
       "</tbody>\n",
       "</table>\n"
      ],
      "text/latex": [
       "A tibble: 10 × 1\n",
       "\\begin{tabular}{l}\n",
       " CITY\\\\\n",
       " <chr>\\\\\n",
       "\\hline\n",
       "\t Melbourne{[}12{]}        \\\\\n",
       "\t Brisbane{[}14{]}{[}15{]}     \\\\\n",
       "\t Lower Austria{[}18{]}    \\\\\n",
       "\t Namur{[}19{]}            \\\\\n",
       "\t Brussels{[}21{]}         \\\\\n",
       "\t Salvador{[}23{]}         \\\\\n",
       "\t Belo Horizonte{[}24{]}   \\\\\n",
       "\t Jo<e3>o Pessoa{[}25{]}   \\\\\n",
       "\t (Pedro de) Toledo{[}26{]}\\\\\n",
       "\t Rio de Janeiro{[}27{]}   \\\\\n",
       "\\end{tabular}\n"
      ],
      "text/markdown": [
       "\n",
       "A tibble: 10 × 1\n",
       "\n",
       "| CITY &lt;chr&gt; |\n",
       "|---|\n",
       "| Melbourne[12]         |\n",
       "| Brisbane[14][15]      |\n",
       "| Lower Austria[18]     |\n",
       "| Namur[19]             |\n",
       "| Brussels[21]          |\n",
       "| Salvador[23]          |\n",
       "| Belo Horizonte[24]    |\n",
       "| Jo&lt;e3&gt;o Pessoa[25]    |\n",
       "| (Pedro de) Toledo[26] |\n",
       "| Rio de Janeiro[27]    |\n",
       "\n"
      ],
      "text/plain": [
       "   CITY                 \n",
       "1  Melbourne[12]        \n",
       "2  Brisbane[14][15]     \n",
       "3  Lower Austria[18]    \n",
       "4  Namur[19]            \n",
       "5  Brussels[21]         \n",
       "6  Salvador[23]         \n",
       "7  Belo Horizonte[24]   \n",
       "8  Jo<e3>o Pessoa[25]   \n",
       "9  (Pedro de) Toledo[26]\n",
       "10 Rio de Janeiro[27]   "
      ]
     },
     "metadata": {},
     "output_type": "display_data"
    }
   ],
   "source": [
    "# Check whether the CITY column has any reference links\n",
    "sub_bike_sharing_df %>% \n",
    "    select(CITY) %>% \n",
    "    filter(find_reference_pattern(CITY)) %>%\n",
    "    slice(0:10)"
   ]
  },
  {
   "cell_type": "markdown",
   "metadata": {},
   "source": [
    "Hmm, looks like the `CITY` column has some reference links to be removed. Next, let's check the `SYSTEM` column.\n"
   ]
  },
  {
   "cell_type": "code",
   "execution_count": 15,
   "metadata": {},
   "outputs": [
    {
     "data": {
      "text/html": [
       "<table class=\"dataframe\">\n",
       "<caption>A tibble: 7 × 1</caption>\n",
       "<thead>\n",
       "\t<tr><th scope=col>SYSTEM</th></tr>\n",
       "\t<tr><th scope=col>&lt;chr&gt;</th></tr>\n",
       "</thead>\n",
       "<tbody>\n",
       "\t<tr><td>EasyBike[58]                     </td></tr>\n",
       "\t<tr><td>4 Gen.[61]                       </td></tr>\n",
       "\t<tr><td>3 Gen. SmooveKey[113]            </td></tr>\n",
       "\t<tr><td>3 Gen. Smoove[141][142][143][139]</td></tr>\n",
       "\t<tr><td>3 Gen. Smoove[179]               </td></tr>\n",
       "\t<tr><td>3 Gen. Smoove[181]               </td></tr>\n",
       "\t<tr><td>3 Gen. Smoove[183]               </td></tr>\n",
       "</tbody>\n",
       "</table>\n"
      ],
      "text/latex": [
       "A tibble: 7 × 1\n",
       "\\begin{tabular}{l}\n",
       " SYSTEM\\\\\n",
       " <chr>\\\\\n",
       "\\hline\n",
       "\t EasyBike{[}58{]}                     \\\\\n",
       "\t 4 Gen.{[}61{]}                       \\\\\n",
       "\t 3 Gen. SmooveKey{[}113{]}            \\\\\n",
       "\t 3 Gen. Smoove{[}141{]}{[}142{]}{[}143{]}{[}139{]}\\\\\n",
       "\t 3 Gen. Smoove{[}179{]}               \\\\\n",
       "\t 3 Gen. Smoove{[}181{]}               \\\\\n",
       "\t 3 Gen. Smoove{[}183{]}               \\\\\n",
       "\\end{tabular}\n"
      ],
      "text/markdown": [
       "\n",
       "A tibble: 7 × 1\n",
       "\n",
       "| SYSTEM &lt;chr&gt; |\n",
       "|---|\n",
       "| EasyBike[58]                      |\n",
       "| 4 Gen.[61]                        |\n",
       "| 3 Gen. SmooveKey[113]             |\n",
       "| 3 Gen. Smoove[141][142][143][139] |\n",
       "| 3 Gen. Smoove[179]                |\n",
       "| 3 Gen. Smoove[181]                |\n",
       "| 3 Gen. Smoove[183]                |\n",
       "\n"
      ],
      "text/plain": [
       "  SYSTEM                           \n",
       "1 EasyBike[58]                     \n",
       "2 4 Gen.[61]                       \n",
       "3 3 Gen. SmooveKey[113]            \n",
       "4 3 Gen. Smoove[141][142][143][139]\n",
       "5 3 Gen. Smoove[179]               \n",
       "6 3 Gen. Smoove[181]               \n",
       "7 3 Gen. Smoove[183]               "
      ]
     },
     "metadata": {},
     "output_type": "display_data"
    }
   ],
   "source": [
    "# Check whether the System column has any reference links\n",
    "sub_bike_sharing_df %>% \n",
    "    select(SYSTEM) %>% \n",
    "    filter(find_reference_pattern(SYSTEM)) %>%\n",
    "    slice(0:10)"
   ]
  },
  {
   "cell_type": "markdown",
   "metadata": {},
   "source": [
    "So the `SYSTEM` column also has some reference links.\n"
   ]
  },
  {
   "cell_type": "markdown",
   "metadata": {},
   "source": [
    "After some preliminary investigations, we identified that the `CITY` and `SYSTEM` columns have some undesired reference links, and the `BICYCLES` column has both reference links and some\n",
    "textual annotations.\n",
    "\n",
    "Next, you need to use regular expressions to clean up the unexpected reference links and text annotations in numeric values.\n"
   ]
  },
  {
   "cell_type": "markdown",
   "metadata": {},
   "source": [
    "# TASK: Remove undesired reference links using regular expressions\n"
   ]
  },
  {
   "cell_type": "markdown",
   "metadata": {},
   "source": [
    "*TODO:* Write a custom function using `stringr::str_replace_all` to replace all reference links with an empty character for columns `CITY` and `SYSTEM`\n"
   ]
  },
  {
   "cell_type": "code",
   "execution_count": 16,
   "metadata": {},
   "outputs": [],
   "source": [
    "# remove reference link\n",
    "remove_ref <- function(strings) {\n",
    "    ref_pattern <- \"\\\\[[A-z0-9]+\\\\]\"\n",
    "    # Replace all matched substrings with a white space using str_replace_all()\n",
    "    str_replace_all(strings, ref_pattern,\"\")\n",
    "    # Trim the reslt if you want\n",
    "}"
   ]
  },
  {
   "cell_type": "markdown",
   "metadata": {},
   "source": [
    "*TODO:* Use the `dplyr::mutate()` function to apply the `remove_ref` function to the `CITY` and `SYSTEM` columns\n"
   ]
  },
  {
   "cell_type": "code",
   "execution_count": 17,
   "metadata": {},
   "outputs": [],
   "source": [
    "# sub_bike_sharing_df %>% mutate(column1=remove_ref(column1), ... )\n",
    "result<- sub_bike_sharing_df %>% mutate(CITY=remove_ref(CITY), SYSTEM=remove_ref(SYSTEM), BICYCLES=remove_ref(BICYCLES))"
   ]
  },
  {
   "cell_type": "markdown",
   "metadata": {},
   "source": [
    "*TODO:* Use the following code to check whether all reference links are removed:\n"
   ]
  },
  {
   "cell_type": "code",
   "execution_count": 18,
   "metadata": {},
   "outputs": [
    {
     "data": {
      "text/html": [
       "<table class=\"dataframe\">\n",
       "<caption>A tibble: 0 × 3</caption>\n",
       "<thead>\n",
       "\t<tr><th scope=col>CITY</th><th scope=col>SYSTEM</th><th scope=col>BICYCLES</th></tr>\n",
       "\t<tr><th scope=col>&lt;chr&gt;</th><th scope=col>&lt;chr&gt;</th><th scope=col>&lt;chr&gt;</th></tr>\n",
       "</thead>\n",
       "<tbody>\n",
       "</tbody>\n",
       "</table>\n"
      ],
      "text/latex": [
       "A tibble: 0 × 3\n",
       "\\begin{tabular}{lll}\n",
       " CITY & SYSTEM & BICYCLES\\\\\n",
       " <chr> & <chr> & <chr>\\\\\n",
       "\\hline\n",
       "\\end{tabular}\n"
      ],
      "text/markdown": [
       "\n",
       "A tibble: 0 × 3\n",
       "\n",
       "| CITY &lt;chr&gt; | SYSTEM &lt;chr&gt; | BICYCLES &lt;chr&gt; |\n",
       "|---|---|---|\n",
       "\n"
      ],
      "text/plain": [
       "     CITY SYSTEM BICYCLES"
      ]
     },
     "metadata": {},
     "output_type": "display_data"
    }
   ],
   "source": [
    "result %>% \n",
    "    select(CITY, SYSTEM, BICYCLES) %>% \n",
    "    filter(find_reference_pattern(CITY) | find_reference_pattern(SYSTEM) | find_reference_pattern(BICYCLES))"
   ]
  },
  {
   "cell_type": "markdown",
   "metadata": {},
   "source": [
    "# TASK: Extract the numeric value using regular expressions\n"
   ]
  },
  {
   "cell_type": "markdown",
   "metadata": {},
   "source": [
    "*TODO:* Write a custom function using `stringr::str_extract` to extract the first digital substring match and convert it into numeric type For example, extract the value '32' from `32 (including 6 rollers) [162]`.\n"
   ]
  },
  {
   "cell_type": "code",
   "execution_count": 19,
   "metadata": {},
   "outputs": [],
   "source": [
    "# Extract the first number\n",
    "extract_num <- function(columns){\n",
    "    # Define a digital pattern\n",
    "    digitals_pattern <- \"\\\\d+\"\n",
    "    # Find the first match using str_extract\n",
    "    result<-str_extract(columns, digitals_pattern)\n",
    "    # Convert the result to numeric using the as.numeric() function\n",
    "    result<-as.numeric(result)\n",
    "}"
   ]
  },
  {
   "cell_type": "markdown",
   "metadata": {},
   "source": [
    "*TODO:* Use the `dplyr::mutate()` function to apply `extract_num` on the `BICYCLES` column\n"
   ]
  },
  {
   "cell_type": "code",
   "execution_count": 20,
   "metadata": {},
   "outputs": [],
   "source": [
    "# Use the mutate() function on the BICYCLES column\n",
    "result<- result %>% mutate(BICYCLES=extract_num(BICYCLES))"
   ]
  },
  {
   "cell_type": "markdown",
   "metadata": {},
   "source": [
    "*TODO:* Use the summary function to check the descriptive statistics of the numeric `BICYCLES` column\n"
   ]
  },
  {
   "cell_type": "code",
   "execution_count": 21,
   "metadata": {},
   "outputs": [
    {
     "data": {
      "text/plain": [
       "   Min. 1st Qu.  Median    Mean 3rd Qu.    Max.    NA's \n",
       "      5     100     350    2022    1400   78000      78 "
      ]
     },
     "metadata": {},
     "output_type": "display_data"
    }
   ],
   "source": [
    "summary(result$BICYCLES)"
   ]
  },
  {
   "cell_type": "markdown",
   "metadata": {},
   "source": [
    "*TODO:* Write the cleaned bike-sharing systems dataset into a csv file called `bike_sharing_systems.csv`\n"
   ]
  },
  {
   "cell_type": "code",
   "execution_count": 22,
   "metadata": {},
   "outputs": [],
   "source": [
    "# Write dataset to `bike_sharing_systems.csv`\n",
    " write_csv(result, \"bike_sharing_systems.csv\")"
   ]
  },
  {
   "cell_type": "markdown",
   "metadata": {},
   "source": [
    "# References:\n"
   ]
  },
  {
   "cell_type": "markdown",
   "metadata": {},
   "source": [
    "If you need to refresh your memory about regular expressions, please refer to this good Regular Expression cheat sheet:\n",
    "\n",
    "<a href=\"https://www.rstudio.com/wp-content/uploads/2016/09/RegExCheatsheet.pdf?utm_medium=Exinfluencer&utm_source=Exinfluencer&utm_content=000026UJ&utm_term=10006555&utm_id=NA-SkillsNetwork-Channel-SkillsNetworkCoursesIBMDeveloperSkillsNetworkRP0321ENSkillsNetwork25371262-2022-01-01\" target=\"_blank\">Basic Regular Expressions in R</a>\n"
   ]
  },
  {
   "cell_type": "markdown",
   "metadata": {},
   "source": [
    "# Next Steps\n"
   ]
  },
  {
   "cell_type": "markdown",
   "metadata": {},
   "source": [
    "Great! Now you have cleaned up the bike-sharing system dataset using regular expressions. Next, you will use other `tidyverse` functions to perform data wrangling on the bike-sharing demand dataset.\n"
   ]
  },
  {
   "cell_type": "markdown",
   "metadata": {},
   "source": [
    "## Authors\n",
    "\n",
    "<a href=\"https://www.linkedin.com/in/yan-luo-96288783/?utm_medium=Exinfluencer&utm_source=Exinfluencer&utm_content=000026UJ&utm_term=10006555&utm_id=NA-SkillsNetwork-Channel-SkillsNetworkCoursesIBMDeveloperSkillsNetworkRP0321ENSkillsNetwork25371262-2022-01-01\" target=\"_blank\">Yan Luo</a>\n"
   ]
  },
  {
   "cell_type": "markdown",
   "metadata": {},
   "source": [
    "### Other Contributors\n",
    "\n",
    "Jeff Grossman\n"
   ]
  },
  {
   "cell_type": "markdown",
   "metadata": {},
   "source": [
    "## Change Log\n",
    "\n",
    "| Date (YYYY-MM-DD) | Version | Changed By | Change Description      |\n",
    "| ----------------- | ------- | ---------- | ----------------------- |\n",
    "| 2021-04-08        | 1.0     | Yan        | Initial version created |\n",
    "|                   |         |            |                         |\n",
    "|                   |         |            |                         |\n",
    "\n",
    "## <h3 align=\"center\"> © IBM Corporation 2021. All rights reserved. <h3/>\n"
   ]
  }
 ],
 "metadata": {
  "kernelspec": {
   "display_name": "R",
   "language": "R",
   "name": "ir"
  },
  "language_info": {
   "codemirror_mode": "r",
   "file_extension": ".r",
   "mimetype": "text/x-r-source",
   "name": "R",
   "pygments_lexer": "r",
   "version": "4.1.0"
  },
  "toc": {
   "base_numbering": 1,
   "nav_menu": {},
   "number_sections": true,
   "sideBar": true,
   "skip_h1_title": false,
   "title_cell": "Table of Contents",
   "title_sidebar": "Contents",
   "toc_cell": false,
   "toc_position": {},
   "toc_section_display": true,
   "toc_window_display": false
  }
 },
 "nbformat": 4,
 "nbformat_minor": 4
}
