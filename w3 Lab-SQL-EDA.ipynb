{
 "cells": [
  {
   "cell_type": "markdown",
   "metadata": {},
   "source": [
    "<center>\n",
    "    <img src=\"https://s3-api.us-geo.objectstorage.softlayer.net/cf-courses-data/CognitiveClass/Logos/organization_logo/organization_logo.png\" width=\"1000\" alt=\"cognitiveclass.ai logo\"  />\n",
    "</center>\n",
    "\n",
    "# Assignment: Exploratory Data Analysis with SQL\n",
    "\n",
    "Estimated time needed: 60 minutes\n",
    "\n",
    "# Introduction\n",
    "\n",
    "Using this R notebook you will perform exploratory data analysis tasks using SQL queries with the RODBC R package. You will not be graded here, but you will be asked to present some of these results in your final assignment, where you will be graded on the accuracy of your results as well as the content of your SQL queries.\n"
   ]
  },
  {
   "cell_type": "markdown",
   "metadata": {},
   "source": [
    "### Establish your Db2 connection\n",
    "\n",
    "Load the 'RODBC' library, and use the 'odbcConnect( )' function as you did in the previous lab to establish the connection to your Db2 assets.\\\n",
    "Provided you successfully loaded your data into the tables in that lab, you are now ready to start running SQL queries using the RODBC library as you did in Course 3.\n"
   ]
  },
  {
   "cell_type": "code",
   "execution_count": 1,
   "metadata": {},
   "outputs": [
    {
     "name": "stdout",
     "output_type": "stream",
     "text": [
      "package 'RODBC' successfully unpacked and MD5 sums checked\n",
      "\n",
      "The downloaded binary packages are in\n",
      "\tC:\\Users\\Tianyuan Zhu\\AppData\\Local\\Temp\\RtmpyYPvDq\\downloaded_packages\n"
     ]
    },
    {
     "name": "stderr",
     "output_type": "stream",
     "text": [
      "Warning message:\n",
      "\"package 'RODBC' was built under R version 4.1.1\"\n"
     ]
    }
   ],
   "source": [
    "# provide your solution here\n",
    "install.packages(\"RODBC\")\n",
    "library(RODBC)"
   ]
  },
  {
   "cell_type": "code",
   "execution_count": 2,
   "metadata": {},
   "outputs": [
    {
     "name": "stderr",
     "output_type": "stream",
     "text": [
      "Warning message:\n",
      "\"package 'tidyverse' was built under R version 4.1.3\"\n",
      "-- \u001b[1mAttaching packages\u001b[22m ------------------------------------------------------------------------------- tidyverse 1.3.2 --\n",
      "\u001b[32mv\u001b[39m \u001b[34mggplot2\u001b[39m 3.3.6     \u001b[32mv\u001b[39m \u001b[34mpurrr  \u001b[39m 0.3.4\n",
      "\u001b[32mv\u001b[39m \u001b[34mtibble \u001b[39m 3.1.7     \u001b[32mv\u001b[39m \u001b[34mdplyr  \u001b[39m 1.0.9\n",
      "\u001b[32mv\u001b[39m \u001b[34mtidyr  \u001b[39m 1.2.0     \u001b[32mv\u001b[39m \u001b[34mstringr\u001b[39m 1.4.0\n",
      "\u001b[32mv\u001b[39m \u001b[34mreadr  \u001b[39m 2.1.2     \u001b[32mv\u001b[39m \u001b[34mforcats\u001b[39m 0.5.1\n",
      "Warning message:\n",
      "\"package 'ggplot2' was built under R version 4.1.3\"\n",
      "Warning message:\n",
      "\"package 'tibble' was built under R version 4.1.3\"\n",
      "Warning message:\n",
      "\"package 'tidyr' was built under R version 4.1.3\"\n",
      "Warning message:\n",
      "\"package 'readr' was built under R version 4.1.3\"\n",
      "Warning message:\n",
      "\"package 'purrr' was built under R version 4.1.3\"\n",
      "Warning message:\n",
      "\"package 'dplyr' was built under R version 4.1.3\"\n",
      "Warning message:\n",
      "\"package 'stringr' was built under R version 4.1.3\"\n",
      "Warning message:\n",
      "\"package 'forcats' was built under R version 4.1.3\"\n",
      "-- \u001b[1mConflicts\u001b[22m ---------------------------------------------------------------------------------- tidyverse_conflicts() --\n",
      "\u001b[31mx\u001b[39m \u001b[34mdplyr\u001b[39m::\u001b[32mfilter()\u001b[39m masks \u001b[34mstats\u001b[39m::filter()\n",
      "\u001b[31mx\u001b[39m \u001b[34mdplyr\u001b[39m::\u001b[32mlag()\u001b[39m    masks \u001b[34mstats\u001b[39m::lag()\n"
     ]
    }
   ],
   "source": [
    "library(tidyverse)"
   ]
  },
  {
   "cell_type": "code",
   "execution_count": 3,
   "metadata": {},
   "outputs": [
    {
     "name": "stderr",
     "output_type": "stream",
     "text": [
      "Warning message:\n",
      "\"package 'RSQLite' was built under R version 4.1.3\"\n"
     ]
    }
   ],
   "source": [
    "library(\"RSQLite\")"
   ]
  },
  {
   "cell_type": "code",
   "execution_count": 4,
   "metadata": {},
   "outputs": [],
   "source": [
    "conn <- dbConnect(RSQLite::SQLite(), \"FinalDB.sqlite\")"
   ]
  },
  {
   "cell_type": "code",
   "execution_count": 5,
   "metadata": {},
   "outputs": [
    {
     "data": {
      "text/html": [],
      "text/latex": [],
      "text/markdown": [],
      "text/plain": [
       "character(0)"
      ]
     },
     "metadata": {},
     "output_type": "display_data"
    }
   ],
   "source": [
    "dbListTables(conn)"
   ]
  },
  {
   "cell_type": "code",
   "execution_count": 6,
   "metadata": {},
   "outputs": [
    {
     "name": "stdout",
     "output_type": "stream",
     "text": [
      "spec_tbl_df [8,465 x 14] (S3: spec_tbl_df/tbl_df/tbl/data.frame)\n",
      " $ DATE                 : chr [1:8465] \"01/12/2017\" \"01/12/2017\" \"01/12/2017\" \"01/12/2017\" ...\n",
      " $ RENTED_BIKE_COUNT    : num [1:8465] 254 204 173 107 78 100 181 460 930 490 ...\n",
      " $ HOUR                 : num [1:8465] 0 1 2 3 4 5 6 7 8 9 ...\n",
      " $ TEMPERATURE          : num [1:8465] -5.2 -5.5 -6 -6.2 -6 -6.4 -6.6 -7.4 -7.6 -6.5 ...\n",
      " $ HUMIDITY             : num [1:8465] 37 38 39 40 36 37 35 38 37 27 ...\n",
      " $ WIND_SPEED           : num [1:8465] 2.2 0.8 1 0.9 2.3 1.5 1.3 0.9 1.1 0.5 ...\n",
      " $ VISIBILITY           : num [1:8465] 2000 2000 2000 2000 2000 ...\n",
      " $ DEW_POINT_TEMPERATURE: num [1:8465] -17.6 -17.6 -17.7 -17.6 -18.6 -18.7 -19.5 -19.3 -19.8 -22.4 ...\n",
      " $ SOLAR_RADIATION      : num [1:8465] 0 0 0 0 0 0 0 0 0.01 0.23 ...\n",
      " $ RAINFALL             : num [1:8465] 0 0 0 0 0 0 0 0 0 0 ...\n",
      " $ SNOWFALL             : num [1:8465] 0 0 0 0 0 0 0 0 0 0 ...\n",
      " $ SEASONS              : chr [1:8465] \"Winter\" \"Winter\" \"Winter\" \"Winter\" ...\n",
      " $ HOLIDAY              : chr [1:8465] \"No Holiday\" \"No Holiday\" \"No Holiday\" \"No Holiday\" ...\n",
      " $ FUNCTIONING_DAY      : chr [1:8465] \"Yes\" \"Yes\" \"Yes\" \"Yes\" ...\n",
      " - attr(*, \"spec\")=\n",
      "  .. cols(\n",
      "  ..   DATE = \u001b[31mcol_character()\u001b[39m,\n",
      "  ..   RENTED_BIKE_COUNT = \u001b[32mcol_double()\u001b[39m,\n",
      "  ..   HOUR = \u001b[32mcol_double()\u001b[39m,\n",
      "  ..   TEMPERATURE = \u001b[32mcol_double()\u001b[39m,\n",
      "  ..   HUMIDITY = \u001b[32mcol_double()\u001b[39m,\n",
      "  ..   WIND_SPEED = \u001b[32mcol_double()\u001b[39m,\n",
      "  ..   VISIBILITY = \u001b[32mcol_double()\u001b[39m,\n",
      "  ..   DEW_POINT_TEMPERATURE = \u001b[32mcol_double()\u001b[39m,\n",
      "  ..   SOLAR_RADIATION = \u001b[32mcol_double()\u001b[39m,\n",
      "  ..   RAINFALL = \u001b[32mcol_double()\u001b[39m,\n",
      "  ..   SNOWFALL = \u001b[32mcol_double()\u001b[39m,\n",
      "  ..   SEASONS = \u001b[31mcol_character()\u001b[39m,\n",
      "  ..   HOLIDAY = \u001b[31mcol_character()\u001b[39m,\n",
      "  ..   FUNCTIONING_DAY = \u001b[31mcol_character()\u001b[39m\n",
      "  .. )\n",
      " - attr(*, \"problems\")=<externalptr> \n"
     ]
    }
   ],
   "source": [
    "seoul_bike_sharing <- \"https://cf-courses-data.s3.us.cloud-object-storage.appdomain.cloud/IBMDeveloperSkillsNetwork-RP0321EN-SkillsNetwork/labs/datasets/seoul_bike_sharing.csv\"\n",
    "download.file(seoul_bike_sharing, destfile = \"raw_seoul_bike_sharing.csv\")\n",
    "seoul_bike_sharing_df<-read_csv(\"raw_seoul_bike_sharing.csv\", col_types = cols('DATE' = col_character()))\n",
    "str(seoul_bike_sharing_df)"
   ]
  },
  {
   "cell_type": "code",
   "execution_count": 7,
   "metadata": {},
   "outputs": [
    {
     "name": "stdout",
     "output_type": "stream",
     "text": [
      "spec_tbl_df [8,465 x 14] (S3: spec_tbl_df/tbl_df/tbl/data.frame)\n",
      " $ DATE                 : chr [1:8465] \"2017-12-01\" \"2017-12-01\" \"2017-12-01\" \"2017-12-01\" ...\n",
      " $ RENTED_BIKE_COUNT    : num [1:8465] 254 204 173 107 78 100 181 460 930 490 ...\n",
      " $ HOUR                 : num [1:8465] 0 1 2 3 4 5 6 7 8 9 ...\n",
      " $ TEMPERATURE          : num [1:8465] -5.2 -5.5 -6 -6.2 -6 -6.4 -6.6 -7.4 -7.6 -6.5 ...\n",
      " $ HUMIDITY             : num [1:8465] 37 38 39 40 36 37 35 38 37 27 ...\n",
      " $ WIND_SPEED           : num [1:8465] 2.2 0.8 1 0.9 2.3 1.5 1.3 0.9 1.1 0.5 ...\n",
      " $ VISIBILITY           : num [1:8465] 2000 2000 2000 2000 2000 ...\n",
      " $ DEW_POINT_TEMPERATURE: num [1:8465] -17.6 -17.6 -17.7 -17.6 -18.6 -18.7 -19.5 -19.3 -19.8 -22.4 ...\n",
      " $ SOLAR_RADIATION      : num [1:8465] 0 0 0 0 0 0 0 0 0.01 0.23 ...\n",
      " $ RAINFALL             : num [1:8465] 0 0 0 0 0 0 0 0 0 0 ...\n",
      " $ SNOWFALL             : num [1:8465] 0 0 0 0 0 0 0 0 0 0 ...\n",
      " $ SEASONS              : chr [1:8465] \"Winter\" \"Winter\" \"Winter\" \"Winter\" ...\n",
      " $ HOLIDAY              : chr [1:8465] \"No Holiday\" \"No Holiday\" \"No Holiday\" \"No Holiday\" ...\n",
      " $ FUNCTIONING_DAY      : chr [1:8465] \"Yes\" \"Yes\" \"Yes\" \"Yes\" ...\n",
      " - attr(*, \"spec\")=\n",
      "  .. cols(\n",
      "  ..   DATE = \u001b[31mcol_character()\u001b[39m,\n",
      "  ..   RENTED_BIKE_COUNT = \u001b[32mcol_double()\u001b[39m,\n",
      "  ..   HOUR = \u001b[32mcol_double()\u001b[39m,\n",
      "  ..   TEMPERATURE = \u001b[32mcol_double()\u001b[39m,\n",
      "  ..   HUMIDITY = \u001b[32mcol_double()\u001b[39m,\n",
      "  ..   WIND_SPEED = \u001b[32mcol_double()\u001b[39m,\n",
      "  ..   VISIBILITY = \u001b[32mcol_double()\u001b[39m,\n",
      "  ..   DEW_POINT_TEMPERATURE = \u001b[32mcol_double()\u001b[39m,\n",
      "  ..   SOLAR_RADIATION = \u001b[32mcol_double()\u001b[39m,\n",
      "  ..   RAINFALL = \u001b[32mcol_double()\u001b[39m,\n",
      "  ..   SNOWFALL = \u001b[32mcol_double()\u001b[39m,\n",
      "  ..   SEASONS = \u001b[31mcol_character()\u001b[39m,\n",
      "  ..   HOLIDAY = \u001b[31mcol_character()\u001b[39m,\n",
      "  ..   FUNCTIONING_DAY = \u001b[31mcol_character()\u001b[39m\n",
      "  .. )\n",
      " - attr(*, \"problems\")=<externalptr> \n"
     ]
    }
   ],
   "source": [
    "seoul_bike_sharing_df$DATE<-as.character(as.Date(seoul_bike_sharing_df$DATE, \"%d/%m/%Y\"))\n",
    "str(seoul_bike_sharing_df)"
   ]
  },
  {
   "cell_type": "code",
   "execution_count": 8,
   "metadata": {},
   "outputs": [],
   "source": [
    "dbWriteTable(conn, \"SEOUL_DATA\", seoul_bike_sharing_df, overwrite=TRUE, header = TRUE)"
   ]
  },
  {
   "cell_type": "markdown",
   "metadata": {},
   "source": [
    "## Task 1 - Record Count\n",
    "\n",
    "#### Determine how many records are in the seoul_bike_sharing dataset.\n"
   ]
  },
  {
   "cell_type": "markdown",
   "metadata": {},
   "source": [
    "### Solution 1\n"
   ]
  },
  {
   "cell_type": "code",
   "execution_count": 9,
   "metadata": {
    "scrolled": true
   },
   "outputs": [
    {
     "data": {
      "text/html": [
       "<table class=\"dataframe\">\n",
       "<caption>A data.frame: 1 × 1</caption>\n",
       "<thead>\n",
       "\t<tr><th scope=col>count(*)</th></tr>\n",
       "\t<tr><th scope=col>&lt;int&gt;</th></tr>\n",
       "</thead>\n",
       "<tbody>\n",
       "\t<tr><td>8465</td></tr>\n",
       "</tbody>\n",
       "</table>\n"
      ],
      "text/latex": [
       "A data.frame: 1 × 1\n",
       "\\begin{tabular}{l}\n",
       " count(*)\\\\\n",
       " <int>\\\\\n",
       "\\hline\n",
       "\t 8465\\\\\n",
       "\\end{tabular}\n"
      ],
      "text/markdown": [
       "\n",
       "A data.frame: 1 × 1\n",
       "\n",
       "| count(*) &lt;int&gt; |\n",
       "|---|\n",
       "| 8465 |\n",
       "\n"
      ],
      "text/plain": [
       "  count(*)\n",
       "1 8465    "
      ]
     },
     "metadata": {},
     "output_type": "display_data"
    }
   ],
   "source": [
    "# provide your solution here\n",
    "dbGetQuery(conn, 'SELECT count(*) FROM SEOUL_DATA')"
   ]
  },
  {
   "cell_type": "markdown",
   "metadata": {},
   "source": [
    "## Task 2 - Operational Hours\n",
    "\n",
    "#### Determine how many hours had non-zero rented bike count.\n"
   ]
  },
  {
   "cell_type": "markdown",
   "metadata": {},
   "source": [
    "### Solution 2\n"
   ]
  },
  {
   "cell_type": "code",
   "execution_count": 10,
   "metadata": {
    "scrolled": true
   },
   "outputs": [
    {
     "data": {
      "text/html": [
       "<table class=\"dataframe\">\n",
       "<caption>A data.frame: 1 × 1</caption>\n",
       "<thead>\n",
       "\t<tr><th scope=col>count(HOUR)</th></tr>\n",
       "\t<tr><th scope=col>&lt;int&gt;</th></tr>\n",
       "</thead>\n",
       "<tbody>\n",
       "\t<tr><td>8465</td></tr>\n",
       "</tbody>\n",
       "</table>\n"
      ],
      "text/latex": [
       "A data.frame: 1 × 1\n",
       "\\begin{tabular}{l}\n",
       " count(HOUR)\\\\\n",
       " <int>\\\\\n",
       "\\hline\n",
       "\t 8465\\\\\n",
       "\\end{tabular}\n"
      ],
      "text/markdown": [
       "\n",
       "A data.frame: 1 × 1\n",
       "\n",
       "| count(HOUR) &lt;int&gt; |\n",
       "|---|\n",
       "| 8465 |\n",
       "\n"
      ],
      "text/plain": [
       "  count(HOUR)\n",
       "1 8465       "
      ]
     },
     "metadata": {},
     "output_type": "display_data"
    }
   ],
   "source": [
    "# provide your solution here\n",
    "dbGetQuery(conn, 'SELECT count(HOUR) FROM SEOUL_DATA WHERE RENTED_BIKE_COUNT >0')"
   ]
  },
  {
   "cell_type": "markdown",
   "metadata": {},
   "source": [
    "## Task 3 - Weather Outlook\n",
    "\n",
    "#### Query the the weather forecast for Seoul over the next 3 hours.\n",
    "\n",
    "Recall that the records in the CITIES_WEATHER_FORECAST dataset are 3 hours apart, so we just need the first record from the query.\n"
   ]
  },
  {
   "cell_type": "markdown",
   "metadata": {},
   "source": [
    "### Solution 3\n"
   ]
  },
  {
   "cell_type": "code",
   "execution_count": 11,
   "metadata": {},
   "outputs": [
    {
     "data": {
      "text/html": [
       "<table class=\"dataframe\">\n",
       "<caption>A data.frame: 1 × 14</caption>\n",
       "<thead>\n",
       "\t<tr><th scope=col>DATE</th><th scope=col>RENTED_BIKE_COUNT</th><th scope=col>HOUR</th><th scope=col>TEMPERATURE</th><th scope=col>HUMIDITY</th><th scope=col>WIND_SPEED</th><th scope=col>VISIBILITY</th><th scope=col>DEW_POINT_TEMPERATURE</th><th scope=col>SOLAR_RADIATION</th><th scope=col>RAINFALL</th><th scope=col>SNOWFALL</th><th scope=col>SEASONS</th><th scope=col>HOLIDAY</th><th scope=col>FUNCTIONING_DAY</th></tr>\n",
       "\t<tr><th scope=col>&lt;chr&gt;</th><th scope=col>&lt;dbl&gt;</th><th scope=col>&lt;dbl&gt;</th><th scope=col>&lt;dbl&gt;</th><th scope=col>&lt;dbl&gt;</th><th scope=col>&lt;dbl&gt;</th><th scope=col>&lt;dbl&gt;</th><th scope=col>&lt;dbl&gt;</th><th scope=col>&lt;dbl&gt;</th><th scope=col>&lt;dbl&gt;</th><th scope=col>&lt;dbl&gt;</th><th scope=col>&lt;chr&gt;</th><th scope=col>&lt;chr&gt;</th><th scope=col>&lt;chr&gt;</th></tr>\n",
       "</thead>\n",
       "<tbody>\n",
       "\t<tr><td>2017-12-01</td><td>254</td><td>0</td><td>-5.2</td><td>37</td><td>2.2</td><td>2000</td><td>-17.6</td><td>0</td><td>0</td><td>0</td><td>Winter</td><td>No Holiday</td><td>Yes</td></tr>\n",
       "</tbody>\n",
       "</table>\n"
      ],
      "text/latex": [
       "A data.frame: 1 × 14\n",
       "\\begin{tabular}{llllllllllllll}\n",
       " DATE & RENTED\\_BIKE\\_COUNT & HOUR & TEMPERATURE & HUMIDITY & WIND\\_SPEED & VISIBILITY & DEW\\_POINT\\_TEMPERATURE & SOLAR\\_RADIATION & RAINFALL & SNOWFALL & SEASONS & HOLIDAY & FUNCTIONING\\_DAY\\\\\n",
       " <chr> & <dbl> & <dbl> & <dbl> & <dbl> & <dbl> & <dbl> & <dbl> & <dbl> & <dbl> & <dbl> & <chr> & <chr> & <chr>\\\\\n",
       "\\hline\n",
       "\t 2017-12-01 & 254 & 0 & -5.2 & 37 & 2.2 & 2000 & -17.6 & 0 & 0 & 0 & Winter & No Holiday & Yes\\\\\n",
       "\\end{tabular}\n"
      ],
      "text/markdown": [
       "\n",
       "A data.frame: 1 × 14\n",
       "\n",
       "| DATE &lt;chr&gt; | RENTED_BIKE_COUNT &lt;dbl&gt; | HOUR &lt;dbl&gt; | TEMPERATURE &lt;dbl&gt; | HUMIDITY &lt;dbl&gt; | WIND_SPEED &lt;dbl&gt; | VISIBILITY &lt;dbl&gt; | DEW_POINT_TEMPERATURE &lt;dbl&gt; | SOLAR_RADIATION &lt;dbl&gt; | RAINFALL &lt;dbl&gt; | SNOWFALL &lt;dbl&gt; | SEASONS &lt;chr&gt; | HOLIDAY &lt;chr&gt; | FUNCTIONING_DAY &lt;chr&gt; |\n",
       "|---|---|---|---|---|---|---|---|---|---|---|---|---|---|\n",
       "| 2017-12-01 | 254 | 0 | -5.2 | 37 | 2.2 | 2000 | -17.6 | 0 | 0 | 0 | Winter | No Holiday | Yes |\n",
       "\n"
      ],
      "text/plain": [
       "  DATE       RENTED_BIKE_COUNT HOUR TEMPERATURE HUMIDITY WIND_SPEED VISIBILITY\n",
       "1 2017-12-01 254               0    -5.2        37       2.2        2000      \n",
       "  DEW_POINT_TEMPERATURE SOLAR_RADIATION RAINFALL SNOWFALL SEASONS HOLIDAY   \n",
       "1 -17.6                 0               0        0        Winter  No Holiday\n",
       "  FUNCTIONING_DAY\n",
       "1 Yes            "
      ]
     },
     "metadata": {},
     "output_type": "display_data"
    }
   ],
   "source": [
    "# provide your solution here\n",
    "dbGetQuery(conn, 'SELECT * FROM SEOUL_DATA LIMIT 1')"
   ]
  },
  {
   "cell_type": "markdown",
   "metadata": {},
   "source": [
    "## Task 4 - Seasons\n",
    "\n",
    "#### Find which seasons are included in the seoul bike sharing dataset.\n"
   ]
  },
  {
   "cell_type": "markdown",
   "metadata": {},
   "source": [
    "### Solution 4\n"
   ]
  },
  {
   "cell_type": "code",
   "execution_count": 12,
   "metadata": {},
   "outputs": [
    {
     "data": {
      "text/html": [
       "<table class=\"dataframe\">\n",
       "<caption>A data.frame: 4 × 1</caption>\n",
       "<thead>\n",
       "\t<tr><th scope=col>SEASONS</th></tr>\n",
       "\t<tr><th scope=col>&lt;chr&gt;</th></tr>\n",
       "</thead>\n",
       "<tbody>\n",
       "\t<tr><td>Winter</td></tr>\n",
       "\t<tr><td>Spring</td></tr>\n",
       "\t<tr><td>Summer</td></tr>\n",
       "\t<tr><td>Autumn</td></tr>\n",
       "</tbody>\n",
       "</table>\n"
      ],
      "text/latex": [
       "A data.frame: 4 × 1\n",
       "\\begin{tabular}{l}\n",
       " SEASONS\\\\\n",
       " <chr>\\\\\n",
       "\\hline\n",
       "\t Winter\\\\\n",
       "\t Spring\\\\\n",
       "\t Summer\\\\\n",
       "\t Autumn\\\\\n",
       "\\end{tabular}\n"
      ],
      "text/markdown": [
       "\n",
       "A data.frame: 4 × 1\n",
       "\n",
       "| SEASONS &lt;chr&gt; |\n",
       "|---|\n",
       "| Winter |\n",
       "| Spring |\n",
       "| Summer |\n",
       "| Autumn |\n",
       "\n"
      ],
      "text/plain": [
       "  SEASONS\n",
       "1 Winter \n",
       "2 Spring \n",
       "3 Summer \n",
       "4 Autumn "
      ]
     },
     "metadata": {},
     "output_type": "display_data"
    }
   ],
   "source": [
    "# provide your solution here\n",
    "dbGetQuery(conn, 'SELECT DISTINCT SEASONS FROM SEOUL_DATA')"
   ]
  },
  {
   "cell_type": "markdown",
   "metadata": {},
   "source": [
    "## Task 5 - Date Range\n",
    "\n",
    "#### Find the first and last dates in the Seoul Bike Sharing dataset.\n"
   ]
  },
  {
   "cell_type": "markdown",
   "metadata": {},
   "source": [
    "### Solution 5\n"
   ]
  },
  {
   "cell_type": "code",
   "execution_count": 13,
   "metadata": {},
   "outputs": [
    {
     "data": {
      "text/html": [
       "<table class=\"dataframe\">\n",
       "<caption>A data.frame: 1 × 2</caption>\n",
       "<thead>\n",
       "\t<tr><th scope=col>FIRST_DATE</th><th scope=col>LAST_DATE</th></tr>\n",
       "\t<tr><th scope=col>&lt;chr&gt;</th><th scope=col>&lt;chr&gt;</th></tr>\n",
       "</thead>\n",
       "<tbody>\n",
       "\t<tr><td>2017-12-01</td><td>2018-11-30</td></tr>\n",
       "</tbody>\n",
       "</table>\n"
      ],
      "text/latex": [
       "A data.frame: 1 × 2\n",
       "\\begin{tabular}{ll}\n",
       " FIRST\\_DATE & LAST\\_DATE\\\\\n",
       " <chr> & <chr>\\\\\n",
       "\\hline\n",
       "\t 2017-12-01 & 2018-11-30\\\\\n",
       "\\end{tabular}\n"
      ],
      "text/markdown": [
       "\n",
       "A data.frame: 1 × 2\n",
       "\n",
       "| FIRST_DATE &lt;chr&gt; | LAST_DATE &lt;chr&gt; |\n",
       "|---|---|\n",
       "| 2017-12-01 | 2018-11-30 |\n",
       "\n"
      ],
      "text/plain": [
       "  FIRST_DATE LAST_DATE \n",
       "1 2017-12-01 2018-11-30"
      ]
     },
     "metadata": {},
     "output_type": "display_data"
    }
   ],
   "source": [
    "# provide your solution here\n",
    "dbGetQuery(conn, 'SELECT MIN(DATE) AS FIRST_DATE, MAX(DATE) AS LAST_DATE FROM SEOUL_DATA')"
   ]
  },
  {
   "cell_type": "markdown",
   "metadata": {},
   "source": [
    "## Task 6 - Subquery - 'all-time high'\n",
    "\n",
    "#### determine which date and hour had the most bike rentals.\n"
   ]
  },
  {
   "cell_type": "markdown",
   "metadata": {},
   "source": [
    "### Solution 6\n"
   ]
  },
  {
   "cell_type": "code",
   "execution_count": 14,
   "metadata": {},
   "outputs": [
    {
     "data": {
      "text/html": [
       "<table class=\"dataframe\">\n",
       "<caption>A data.frame: 1 × 3</caption>\n",
       "<thead>\n",
       "\t<tr><th scope=col>DATE</th><th scope=col>HOUR</th><th scope=col>RENTED_BIKE_COUNT</th></tr>\n",
       "\t<tr><th scope=col>&lt;chr&gt;</th><th scope=col>&lt;dbl&gt;</th><th scope=col>&lt;dbl&gt;</th></tr>\n",
       "</thead>\n",
       "<tbody>\n",
       "\t<tr><td>2018-06-19</td><td>18</td><td>3556</td></tr>\n",
       "</tbody>\n",
       "</table>\n"
      ],
      "text/latex": [
       "A data.frame: 1 × 3\n",
       "\\begin{tabular}{lll}\n",
       " DATE & HOUR & RENTED\\_BIKE\\_COUNT\\\\\n",
       " <chr> & <dbl> & <dbl>\\\\\n",
       "\\hline\n",
       "\t 2018-06-19 & 18 & 3556\\\\\n",
       "\\end{tabular}\n"
      ],
      "text/markdown": [
       "\n",
       "A data.frame: 1 × 3\n",
       "\n",
       "| DATE &lt;chr&gt; | HOUR &lt;dbl&gt; | RENTED_BIKE_COUNT &lt;dbl&gt; |\n",
       "|---|---|---|\n",
       "| 2018-06-19 | 18 | 3556 |\n",
       "\n"
      ],
      "text/plain": [
       "  DATE       HOUR RENTED_BIKE_COUNT\n",
       "1 2018-06-19 18   3556             "
      ]
     },
     "metadata": {},
     "output_type": "display_data"
    }
   ],
   "source": [
    "# provide your solution here\n",
    "dbGetQuery(conn, 'SELECT DATE, HOUR, RENTED_BIKE_COUNT FROM SEOUL_DATA WHERE RENTED_BIKE_COUNT = (SELECT MAX(RENTED_BIKE_COUNT) FROM SEOUL_DATA)')"
   ]
  },
  {
   "cell_type": "markdown",
   "metadata": {},
   "source": [
    "## Task 7 - Hourly popularity and temperature by season\n",
    "\n",
    "#### Determine the average hourly temperature and the average number of bike rentals per hour over each season. List the top ten results by average bike count.\n"
   ]
  },
  {
   "cell_type": "markdown",
   "metadata": {},
   "source": [
    "### Solution 7\n"
   ]
  },
  {
   "cell_type": "code",
   "execution_count": 21,
   "metadata": {},
   "outputs": [
    {
     "data": {
      "text/html": [
       "<table class=\"dataframe\">\n",
       "<caption>A data.frame: 10 × 4</caption>\n",
       "<thead>\n",
       "\t<tr><th scope=col>SEASONS</th><th scope=col>HOUR</th><th scope=col>AVG(TEMPERATURE)</th><th scope=col>AVG(RENTED_BIKE_COUNT)</th></tr>\n",
       "\t<tr><th scope=col>&lt;chr&gt;</th><th scope=col>&lt;dbl&gt;</th><th scope=col>&lt;dbl&gt;</th><th scope=col>&lt;dbl&gt;</th></tr>\n",
       "</thead>\n",
       "<tbody>\n",
       "\t<tr><td>Summer</td><td>18</td><td>29.38791</td><td>2135.141</td></tr>\n",
       "\t<tr><td>Autumn</td><td>18</td><td>16.03185</td><td>1983.333</td></tr>\n",
       "\t<tr><td>Summer</td><td>19</td><td>28.27378</td><td>1889.250</td></tr>\n",
       "\t<tr><td>Summer</td><td>20</td><td>27.06630</td><td>1801.924</td></tr>\n",
       "\t<tr><td>Summer</td><td>21</td><td>26.27826</td><td>1754.065</td></tr>\n",
       "\t<tr><td>Spring</td><td>18</td><td>15.97222</td><td>1689.311</td></tr>\n",
       "\t<tr><td>Summer</td><td>22</td><td>25.69891</td><td>1567.870</td></tr>\n",
       "\t<tr><td>Autumn</td><td>17</td><td>17.27778</td><td>1562.877</td></tr>\n",
       "\t<tr><td>Summer</td><td>17</td><td>30.07691</td><td>1526.293</td></tr>\n",
       "\t<tr><td>Autumn</td><td>19</td><td>15.06346</td><td>1515.568</td></tr>\n",
       "</tbody>\n",
       "</table>\n"
      ],
      "text/latex": [
       "A data.frame: 10 × 4\n",
       "\\begin{tabular}{llll}\n",
       " SEASONS & HOUR & AVG(TEMPERATURE) & AVG(RENTED\\_BIKE\\_COUNT)\\\\\n",
       " <chr> & <dbl> & <dbl> & <dbl>\\\\\n",
       "\\hline\n",
       "\t Summer & 18 & 29.38791 & 2135.141\\\\\n",
       "\t Autumn & 18 & 16.03185 & 1983.333\\\\\n",
       "\t Summer & 19 & 28.27378 & 1889.250\\\\\n",
       "\t Summer & 20 & 27.06630 & 1801.924\\\\\n",
       "\t Summer & 21 & 26.27826 & 1754.065\\\\\n",
       "\t Spring & 18 & 15.97222 & 1689.311\\\\\n",
       "\t Summer & 22 & 25.69891 & 1567.870\\\\\n",
       "\t Autumn & 17 & 17.27778 & 1562.877\\\\\n",
       "\t Summer & 17 & 30.07691 & 1526.293\\\\\n",
       "\t Autumn & 19 & 15.06346 & 1515.568\\\\\n",
       "\\end{tabular}\n"
      ],
      "text/markdown": [
       "\n",
       "A data.frame: 10 × 4\n",
       "\n",
       "| SEASONS &lt;chr&gt; | HOUR &lt;dbl&gt; | AVG(TEMPERATURE) &lt;dbl&gt; | AVG(RENTED_BIKE_COUNT) &lt;dbl&gt; |\n",
       "|---|---|---|---|\n",
       "| Summer | 18 | 29.38791 | 2135.141 |\n",
       "| Autumn | 18 | 16.03185 | 1983.333 |\n",
       "| Summer | 19 | 28.27378 | 1889.250 |\n",
       "| Summer | 20 | 27.06630 | 1801.924 |\n",
       "| Summer | 21 | 26.27826 | 1754.065 |\n",
       "| Spring | 18 | 15.97222 | 1689.311 |\n",
       "| Summer | 22 | 25.69891 | 1567.870 |\n",
       "| Autumn | 17 | 17.27778 | 1562.877 |\n",
       "| Summer | 17 | 30.07691 | 1526.293 |\n",
       "| Autumn | 19 | 15.06346 | 1515.568 |\n",
       "\n"
      ],
      "text/plain": [
       "   SEASONS HOUR AVG(TEMPERATURE) AVG(RENTED_BIKE_COUNT)\n",
       "1  Summer  18   29.38791         2135.141              \n",
       "2  Autumn  18   16.03185         1983.333              \n",
       "3  Summer  19   28.27378         1889.250              \n",
       "4  Summer  20   27.06630         1801.924              \n",
       "5  Summer  21   26.27826         1754.065              \n",
       "6  Spring  18   15.97222         1689.311              \n",
       "7  Summer  22   25.69891         1567.870              \n",
       "8  Autumn  17   17.27778         1562.877              \n",
       "9  Summer  17   30.07691         1526.293              \n",
       "10 Autumn  19   15.06346         1515.568              "
      ]
     },
     "metadata": {},
     "output_type": "display_data"
    }
   ],
   "source": [
    "# provide your solution here\n",
    "dbGetQuery(conn, 'SELECT SEASONS, HOUR, AVG(TEMPERATURE), AVG(RENTED_BIKE_COUNT) FROM SEOUL_DATA GROUP BY SEASONS, HOUR ORDER BY AVG(RENTED_BIKE_COUNT) DESC LIMIT 10')"
   ]
  },
  {
   "cell_type": "markdown",
   "metadata": {},
   "source": [
    "## Task 8 - Rental Seasonality\n",
    "\n",
    "#### Find the average hourly bike count during each season.\n",
    "\n",
    "Also include the minimum, maximum, and standard deviation of the hourly bike count for each season.\n"
   ]
  },
  {
   "cell_type": "markdown",
   "metadata": {},
   "source": [
    "### Solution 8\n"
   ]
  },
  {
   "cell_type": "code",
   "execution_count": 23,
   "metadata": {},
   "outputs": [
    {
     "data": {
      "text/html": [
       "<table class=\"dataframe\">\n",
       "<caption>A data.frame: 4 × 5</caption>\n",
       "<thead>\n",
       "\t<tr><th scope=col>SEASONS</th><th scope=col>AVG(RENTED_BIKE_COUNT)</th><th scope=col>MIN(RENTED_BIKE_COUNT)</th><th scope=col>MAX(RENTED_BIKE_COUNT)</th><th scope=col>STDEV(RENTED_BIKE_COUNT)</th></tr>\n",
       "\t<tr><th scope=col>&lt;chr&gt;</th><th scope=col>&lt;dbl&gt;</th><th scope=col>&lt;dbl&gt;</th><th scope=col>&lt;dbl&gt;</th><th scope=col>&lt;dbl&gt;</th></tr>\n",
       "</thead>\n",
       "<tbody>\n",
       "\t<tr><td>Autumn</td><td> 924.1105</td><td>2</td><td>3298</td><td>617.5479</td></tr>\n",
       "\t<tr><td>Spring</td><td> 746.2542</td><td>2</td><td>3251</td><td>618.6680</td></tr>\n",
       "\t<tr><td>Summer</td><td>1034.0734</td><td>9</td><td>3556</td><td>690.2448</td></tr>\n",
       "\t<tr><td>Winter</td><td> 225.5412</td><td>3</td><td> 937</td><td>150.3722</td></tr>\n",
       "</tbody>\n",
       "</table>\n"
      ],
      "text/latex": [
       "A data.frame: 4 × 5\n",
       "\\begin{tabular}{lllll}\n",
       " SEASONS & AVG(RENTED\\_BIKE\\_COUNT) & MIN(RENTED\\_BIKE\\_COUNT) & MAX(RENTED\\_BIKE\\_COUNT) & STDEV(RENTED\\_BIKE\\_COUNT)\\\\\n",
       " <chr> & <dbl> & <dbl> & <dbl> & <dbl>\\\\\n",
       "\\hline\n",
       "\t Autumn &  924.1105 & 2 & 3298 & 617.5479\\\\\n",
       "\t Spring &  746.2542 & 2 & 3251 & 618.6680\\\\\n",
       "\t Summer & 1034.0734 & 9 & 3556 & 690.2448\\\\\n",
       "\t Winter &  225.5412 & 3 &  937 & 150.3722\\\\\n",
       "\\end{tabular}\n"
      ],
      "text/markdown": [
       "\n",
       "A data.frame: 4 × 5\n",
       "\n",
       "| SEASONS &lt;chr&gt; | AVG(RENTED_BIKE_COUNT) &lt;dbl&gt; | MIN(RENTED_BIKE_COUNT) &lt;dbl&gt; | MAX(RENTED_BIKE_COUNT) &lt;dbl&gt; | STDEV(RENTED_BIKE_COUNT) &lt;dbl&gt; |\n",
       "|---|---|---|---|---|\n",
       "| Autumn |  924.1105 | 2 | 3298 | 617.5479 |\n",
       "| Spring |  746.2542 | 2 | 3251 | 618.6680 |\n",
       "| Summer | 1034.0734 | 9 | 3556 | 690.2448 |\n",
       "| Winter |  225.5412 | 3 |  937 | 150.3722 |\n",
       "\n"
      ],
      "text/plain": [
       "  SEASONS AVG(RENTED_BIKE_COUNT) MIN(RENTED_BIKE_COUNT) MAX(RENTED_BIKE_COUNT)\n",
       "1 Autumn   924.1105              2                      3298                  \n",
       "2 Spring   746.2542              2                      3251                  \n",
       "3 Summer  1034.0734              9                      3556                  \n",
       "4 Winter   225.5412              3                       937                  \n",
       "  STDEV(RENTED_BIKE_COUNT)\n",
       "1 617.5479                \n",
       "2 618.6680                \n",
       "3 690.2448                \n",
       "4 150.3722                "
      ]
     },
     "metadata": {},
     "output_type": "display_data"
    }
   ],
   "source": [
    "# provide your solution here\n",
    "dbGetQuery(conn, 'SELECT SEASONS, AVG(RENTED_BIKE_COUNT), MIN(RENTED_BIKE_COUNT), MAX(RENTED_BIKE_COUNT), STDEV(RENTED_BIKE_COUNT) FROM SEOUL_DATA GROUP BY SEASONS')"
   ]
  },
  {
   "cell_type": "markdown",
   "metadata": {},
   "source": [
    "Let's explore a bit and see what might be the most significant contributing factors in terms of the provided data.\n"
   ]
  },
  {
   "cell_type": "markdown",
   "metadata": {},
   "source": [
    "## Task 9 - Weather Seasonality\n",
    "\n",
    "#### Consider the weather over each season. On average, what were the TEMPERATURE, HUMIDITY, WIND_SPEED, VISIBILITY, DEW_POINT_TEMPERATURE, SOLAR_RADIATION, RAINFALL, and SNOWFALL per season?\n",
    "\n",
    "Include the average bike count as well , and rank the results by average bike count so you can see if it is correlated with the weather at all.\n"
   ]
  },
  {
   "cell_type": "markdown",
   "metadata": {},
   "source": [
    "### Solution 9\n"
   ]
  },
  {
   "cell_type": "code",
   "execution_count": 17,
   "metadata": {},
   "outputs": [
    {
     "data": {
      "text/html": [
       "<table class=\"dataframe\">\n",
       "<caption>A data.frame: 4 × 10</caption>\n",
       "<thead>\n",
       "\t<tr><th scope=col>SEASONS</th><th scope=col>AVG(RENTED_BIKE_COUNT)</th><th scope=col>AVG(TEMPERATURE)</th><th scope=col>AVG(HUMIDITY)</th><th scope=col>AVG(WIND_SPEED)</th><th scope=col>AVG(VISIBILITY)</th><th scope=col>AVG(DEW_POINT_TEMPERATURE)</th><th scope=col>AVG(SOLAR_RADIATION)</th><th scope=col>AVG(RAINFALL)</th><th scope=col>AVG(SNOWFALL)</th></tr>\n",
       "\t<tr><th scope=col>&lt;chr&gt;</th><th scope=col>&lt;dbl&gt;</th><th scope=col>&lt;dbl&gt;</th><th scope=col>&lt;dbl&gt;</th><th scope=col>&lt;dbl&gt;</th><th scope=col>&lt;dbl&gt;</th><th scope=col>&lt;dbl&gt;</th><th scope=col>&lt;dbl&gt;</th><th scope=col>&lt;dbl&gt;</th><th scope=col>&lt;dbl&gt;</th></tr>\n",
       "</thead>\n",
       "<tbody>\n",
       "\t<tr><td>Summer</td><td>1034.0734</td><td>26.587711</td><td>64.98143</td><td>1.609420</td><td>1501.745</td><td> 18.750136</td><td>0.7612545</td><td>0.25348732</td><td>0.00000000</td></tr>\n",
       "\t<tr><td>Autumn</td><td> 924.1105</td><td>13.821580</td><td>59.04491</td><td>1.492101</td><td>1558.174</td><td>  5.150594</td><td>0.5227827</td><td>0.11765617</td><td>0.06350026</td></tr>\n",
       "\t<tr><td>Spring</td><td> 746.2542</td><td>13.021685</td><td>58.75833</td><td>1.857778</td><td>1240.912</td><td>  4.091389</td><td>0.6803009</td><td>0.18694444</td><td>0.00000000</td></tr>\n",
       "\t<tr><td>Winter</td><td> 225.5412</td><td>-2.540463</td><td>49.74491</td><td>1.922685</td><td>1445.987</td><td>-12.416667</td><td>0.2981806</td><td>0.03282407</td><td>0.24750000</td></tr>\n",
       "</tbody>\n",
       "</table>\n"
      ],
      "text/latex": [
       "A data.frame: 4 × 10\n",
       "\\begin{tabular}{llllllllll}\n",
       " SEASONS & AVG(RENTED\\_BIKE\\_COUNT) & AVG(TEMPERATURE) & AVG(HUMIDITY) & AVG(WIND\\_SPEED) & AVG(VISIBILITY) & AVG(DEW\\_POINT\\_TEMPERATURE) & AVG(SOLAR\\_RADIATION) & AVG(RAINFALL) & AVG(SNOWFALL)\\\\\n",
       " <chr> & <dbl> & <dbl> & <dbl> & <dbl> & <dbl> & <dbl> & <dbl> & <dbl> & <dbl>\\\\\n",
       "\\hline\n",
       "\t Summer & 1034.0734 & 26.587711 & 64.98143 & 1.609420 & 1501.745 &  18.750136 & 0.7612545 & 0.25348732 & 0.00000000\\\\\n",
       "\t Autumn &  924.1105 & 13.821580 & 59.04491 & 1.492101 & 1558.174 &   5.150594 & 0.5227827 & 0.11765617 & 0.06350026\\\\\n",
       "\t Spring &  746.2542 & 13.021685 & 58.75833 & 1.857778 & 1240.912 &   4.091389 & 0.6803009 & 0.18694444 & 0.00000000\\\\\n",
       "\t Winter &  225.5412 & -2.540463 & 49.74491 & 1.922685 & 1445.987 & -12.416667 & 0.2981806 & 0.03282407 & 0.24750000\\\\\n",
       "\\end{tabular}\n"
      ],
      "text/markdown": [
       "\n",
       "A data.frame: 4 × 10\n",
       "\n",
       "| SEASONS &lt;chr&gt; | AVG(RENTED_BIKE_COUNT) &lt;dbl&gt; | AVG(TEMPERATURE) &lt;dbl&gt; | AVG(HUMIDITY) &lt;dbl&gt; | AVG(WIND_SPEED) &lt;dbl&gt; | AVG(VISIBILITY) &lt;dbl&gt; | AVG(DEW_POINT_TEMPERATURE) &lt;dbl&gt; | AVG(SOLAR_RADIATION) &lt;dbl&gt; | AVG(RAINFALL) &lt;dbl&gt; | AVG(SNOWFALL) &lt;dbl&gt; |\n",
       "|---|---|---|---|---|---|---|---|---|---|\n",
       "| Summer | 1034.0734 | 26.587711 | 64.98143 | 1.609420 | 1501.745 |  18.750136 | 0.7612545 | 0.25348732 | 0.00000000 |\n",
       "| Autumn |  924.1105 | 13.821580 | 59.04491 | 1.492101 | 1558.174 |   5.150594 | 0.5227827 | 0.11765617 | 0.06350026 |\n",
       "| Spring |  746.2542 | 13.021685 | 58.75833 | 1.857778 | 1240.912 |   4.091389 | 0.6803009 | 0.18694444 | 0.00000000 |\n",
       "| Winter |  225.5412 | -2.540463 | 49.74491 | 1.922685 | 1445.987 | -12.416667 | 0.2981806 | 0.03282407 | 0.24750000 |\n",
       "\n"
      ],
      "text/plain": [
       "  SEASONS AVG(RENTED_BIKE_COUNT) AVG(TEMPERATURE) AVG(HUMIDITY) AVG(WIND_SPEED)\n",
       "1 Summer  1034.0734              26.587711        64.98143      1.609420       \n",
       "2 Autumn   924.1105              13.821580        59.04491      1.492101       \n",
       "3 Spring   746.2542              13.021685        58.75833      1.857778       \n",
       "4 Winter   225.5412              -2.540463        49.74491      1.922685       \n",
       "  AVG(VISIBILITY) AVG(DEW_POINT_TEMPERATURE) AVG(SOLAR_RADIATION) AVG(RAINFALL)\n",
       "1 1501.745         18.750136                 0.7612545            0.25348732   \n",
       "2 1558.174          5.150594                 0.5227827            0.11765617   \n",
       "3 1240.912          4.091389                 0.6803009            0.18694444   \n",
       "4 1445.987        -12.416667                 0.2981806            0.03282407   \n",
       "  AVG(SNOWFALL)\n",
       "1 0.00000000   \n",
       "2 0.06350026   \n",
       "3 0.00000000   \n",
       "4 0.24750000   "
      ]
     },
     "metadata": {},
     "output_type": "display_data"
    }
   ],
   "source": [
    "# provide your solution here\n",
    "dbGetQuery(conn, 'SELECT SEASONS, AVG(RENTED_BIKE_COUNT), AVG(TEMPERATURE), AVG(HUMIDITY), AVG(WIND_SPEED), AVG(VISIBILITY), AVG(DEW_POINT_TEMPERATURE), AVG(SOLAR_RADIATION), AVG(RAINFALL), AVG(SNOWFALL) FROM SEOUL_DATA GROUP BY SEASONS ORDER BY AVG(RENTED_BIKE_COUNT) DESC') "
   ]
  },
  {
   "cell_type": "markdown",
   "metadata": {},
   "source": [
    "## Task 10 - Total Bike Count and City Info for Seoul\n",
    "\n",
    "#### Use an implicit join across the WORLD_CITIES and the BIKE_SHARING_SYSTEMS tables to determine the total number of bikes avaialble in Seoul, plus the following city information about Seoul: CITY, COUNTRY, LAT, LON, POPULATION, in a single view.\n",
    "\n",
    "Notice that in this case, the CITY column will work for the WORLD_CITIES table, but in general you would have to use the CITY_ASCII column.\n"
   ]
  },
  {
   "cell_type": "markdown",
   "metadata": {},
   "source": [
    "### Solution 10\n"
   ]
  },
  {
   "cell_type": "code",
   "execution_count": 18,
   "metadata": {},
   "outputs": [],
   "source": [
    "# provide your solution here"
   ]
  },
  {
   "cell_type": "markdown",
   "metadata": {},
   "source": [
    "## Task 11 - Find all city names and coordinates with comparable bike scale to Seoul's bike sharing system\n",
    "\n",
    "#### Find all cities with total bike counts between 15000 and 20000. Return the city and country names, plus the coordinates (LAT, LNG), population, and number of bicycles for each city.\n",
    "\n",
    "Later we will ask you to visualize these similar cities on leaflet, with some weather data.\n"
   ]
  },
  {
   "cell_type": "markdown",
   "metadata": {},
   "source": [
    "### Solution 11\n"
   ]
  },
  {
   "cell_type": "code",
   "execution_count": 19,
   "metadata": {},
   "outputs": [],
   "source": [
    "# provide your solution here"
   ]
  },
  {
   "cell_type": "code",
   "execution_count": 20,
   "metadata": {},
   "outputs": [
    {
     "ename": "ERROR",
     "evalue": "Error in UseMethod(\"close\"): no applicable method for 'close' applied to an object of class \"c('SQLiteConnection', 'DBIConnection', 'DBIObject')\"\n",
     "output_type": "error",
     "traceback": [
      "Error in UseMethod(\"close\"): no applicable method for 'close' applied to an object of class \"c('SQLiteConnection', 'DBIConnection', 'DBIObject')\"\nTraceback:\n",
      "1. close(conn)"
     ]
    }
   ],
   "source": [
    "close(conn)"
   ]
  },
  {
   "cell_type": "markdown",
   "metadata": {},
   "source": [
    "## Author(s)\n",
    "\n",
    "<h4> Jeff Grossman </h4>\n",
    "\n",
    "## Contributor(s)\n",
    "\n",
    "<h4> Yan Luo, Rav Ahuja </h4>\n",
    "\n",
    "## Change log\n",
    "\n",
    "| Date       | Version | Changed by    | Change Description                  |\n",
    "| ---------- | ------- | ------------- | ----------------------------------- |\n",
    "| 2021-05-04 | 0.2     | Jeff Grossman | Finalize                            |\n",
    "| 2021-04-22 | 0.2     | Jeff Grossman | Update as per peer review           |\n",
    "| 2021-04-10 | 0.2     | Jeff Grossman | Add data sources and implicit joins |\n",
    "| 2021-04-05 | 0.1     | Jeff Grossman | Start content creation              |\n",
    "\n",
    "## <h3 align=\"center\"> © IBM Corporation 2021. All rights reserved. <h3/>\n"
   ]
  },
  {
   "cell_type": "code",
   "execution_count": null,
   "metadata": {},
   "outputs": [],
   "source": []
  }
 ],
 "metadata": {
  "kernelspec": {
   "display_name": "R",
   "language": "R",
   "name": "ir"
  },
  "language_info": {
   "codemirror_mode": "r",
   "file_extension": ".r",
   "mimetype": "text/x-r-source",
   "name": "R",
   "pygments_lexer": "r",
   "version": "4.1.0"
  },
  "toc": {
   "base_numbering": 1,
   "nav_menu": {},
   "number_sections": true,
   "sideBar": true,
   "skip_h1_title": false,
   "title_cell": "Table of Contents",
   "title_sidebar": "Contents",
   "toc_cell": false,
   "toc_position": {},
   "toc_section_display": true,
   "toc_window_display": false
  },
  "widgets": {
   "state": {},
   "version": "1.1.2"
  }
 },
 "nbformat": 4,
 "nbformat_minor": 4
}
