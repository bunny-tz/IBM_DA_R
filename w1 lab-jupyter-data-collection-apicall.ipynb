{
 "cells": [
  {
   "cell_type": "markdown",
   "metadata": {},
   "source": [
    "<a href=\"https://cognitiveclass.ai/?utm_medium=Exinfluencer&utm_source=Exinfluencer&utm_content=000026UJ&utm_term=10006555&utm_id=NA-SkillsNetwork-Channel-SkillsNetworkCoursesIBMDeveloperSkillsNetworkRP0321ENSkillsNetwork25371262-2022-01-01\">\n",
    "    <img src=\"https://cf-courses-data.s3.us.cloud-object-storage.appdomain.cloud/IBMDeveloperSkillsNetwork-RP0101EN-Coursera/v2/M1_R_Basics/images/IDSNlogo.png\" width=\"200\" align=\"center\">\n",
    "</a>\n"
   ]
  },
  {
   "cell_type": "markdown",
   "metadata": {},
   "source": [
    "<h1>OpenWeather APIs Calls</h1>\n",
    "\n",
    "Estimated time needed: **40** minutes\n"
   ]
  },
  {
   "cell_type": "markdown",
   "metadata": {},
   "source": [
    "## Lab Overview:\n",
    "\n",
    "In this lab, you will be collecting real-time current and forecasted weather data for cities using the **OpenWeather API**. It can give you current weather data for any location including over 200,000 cities and 5 day forecasts for free (with limited API usage). You just need to use HTTP requests to call those weather APIs and get the weather data.\n",
    "\n",
    "You will be given instructions to set up a free OpenWeather API account with an API key for authentication. Then, you will be shown, with code examples, how to get the current weather for a given city. After you are familiar with OpenWeather API, you will be asked to get 5-day forecast data for a list of cities.\n"
   ]
  },
  {
   "cell_type": "markdown",
   "metadata": {},
   "source": [
    "## Setup OpenWeather API account\n"
   ]
  },
  {
   "cell_type": "markdown",
   "metadata": {},
   "source": [
    "You can create an OpenWeather API account [here](https://home.openweathermap.org/users/sign_up?utm_medium=Exinfluencer&utm_source=Exinfluencer&utm_content=000026UJ&utm_term=10006555&utm_id=NA-SkillsNetwork-Channel-SkillsNetworkCoursesIBMDeveloperSkillsNetworkRP0321ENSkillsNetwork25371262-2022-01-01). After your account has been created and verified, you can go to Account -> My API Keys:\n"
   ]
  },
  {
   "cell_type": "markdown",
   "metadata": {},
   "source": [
    "<a href=\"https://cognitiveclass.ai/?utm_medium=Exinfluencer&utm_source=Exinfluencer&utm_content=000026UJ&utm_term=10006555&utm_id=NA-SkillsNetwork-Channel-SkillsNetworkCoursesIBMDeveloperSkillsNetworkRP0321ENSkillsNetwork25371262-2022-01-01\">\n",
    "    <img src=\"https://cf-courses-data.s3.us.cloud-object-storage.appdomain.cloud/IBMDeveloperSkillsNetwork-RP0321EN-SkillsNetwork/labs/module_1/images/l2-openweather-apikey.png\" width=\"400\" align=\"center\">\n",
    "</a>\n"
   ]
  },
  {
   "cell_type": "markdown",
   "metadata": {},
   "source": [
    "and find your API key here:\n"
   ]
  },
  {
   "cell_type": "markdown",
   "metadata": {},
   "source": [
    "<a href=\"https://cognitiveclass.ai/?utm_medium=Exinfluencer&utm_source=Exinfluencer&utm_content=000026UJ&utm_term=10006555&utm_id=NA-SkillsNetwork-Channel-SkillsNetworkCoursesIBMDeveloperSkillsNetworkRP0321ENSkillsNetwork25371262-2022-01-01\">\n",
    "    <img src=\"https://cf-courses-data.s3.us.cloud-object-storage.appdomain.cloud/IBMDeveloperSkillsNetwork-RP0321EN-SkillsNetwork/labs/module_1/images/l2-openweather-apikey-value.png\" width=\"400\" align=\"center\">\n",
    "</a>\n"
   ]
  },
  {
   "cell_type": "markdown",
   "metadata": {},
   "source": [
    "Now mark down your generated API key, which will be used to authenticate your HTTP requests to OpenWeather API.\n",
    "\n",
    "Note that a new API key may take some time to be activated. You may quickly try the following URL using a web browser.\n",
    "\n",
    "With the `{your_api_key}` URL parameter replaced by your own API key and go to the following URL:\n",
    "\n",
    "[https://api.openweathermap.org/data/2.5/weather?q=Seoul\\&appid={your_api_key}](https://api.openweathermap.org/data/2.5/weather?utm_medium=Exinfluencer&utm_source=Exinfluencer&utm_content=000026UJ&utm_term=10006555&utm_id=NA-SkillsNetwork-Channel-SkillsNetworkCoursesIBMDeveloperSkillsNetworkRP0321ENSkillsNetwork25371262-2022-01-01&q=Seoul&appid=%7Byour_api_key%7D)\n"
   ]
  },
  {
   "cell_type": "markdown",
   "metadata": {},
   "source": [
    "until you see some weather data returned (instead of 401 or other error status), similar to the following JSON result:\n",
    "\n",
    "```\n",
    "{\"coord\":{\"lon\":126.9778,\"lat\":37.5683},\n",
    "\"weather\":[{\"id\":800,\"main\":\"Clear\",\"description\":\"clear sky\",\"icon\":\"01n\"}],\n",
    "\"base\":\"stations\",\n",
    "\"main\":{\"temp\":285.16,\"feels_like\":284.04,\"temp_min\":284.15,\"temp_max\":287.15,\"pressure\":1020,\"humidity\":62},\n",
    "\"visibility\":10000,\n",
    "\"wind\":{\"speed\":1.03,\"deg\":220},\"clouds\":{\"all\":0},\"dt\":1617718307,\"sys\":{\"type\":1,\"id\":8105,\"country\":\"KR\",\"sunrise\":1617657021,\"sunset\":1617703103},\"timezone\":32400,\"id\":1835848,\"name\":\"Seoul\",\"cod\":200}\n",
    "```\n"
   ]
  },
  {
   "cell_type": "markdown",
   "metadata": {},
   "source": [
    "## Coding Practice: Get the current weather data for a city using OpenWeather API\n"
   ]
  },
  {
   "cell_type": "markdown",
   "metadata": {},
   "source": [
    "First import `httr` library\n"
   ]
  },
  {
   "cell_type": "code",
   "execution_count": 1,
   "metadata": {},
   "outputs": [
    {
     "name": "stderr",
     "output_type": "stream",
     "text": [
      "Loading required package: httr\n",
      "\n",
      "Warning message:\n",
      "\"package 'httr' was built under R version 4.1.3\"\n"
     ]
    }
   ],
   "source": [
    "# Check if need to install rvest` library\n",
    "require(\"httr\")\n",
    "\n",
    "library(httr)"
   ]
  },
  {
   "cell_type": "code",
   "execution_count": 2,
   "metadata": {},
   "outputs": [
    {
     "name": "stdout",
     "output_type": "stream",
     "text": [
      "package 'lubridate' successfully unpacked and MD5 sums checked\n",
      "\n",
      "The downloaded binary packages are in\n",
      "\tC:\\Users\\Tianyuan Zhu\\AppData\\Local\\Temp\\RtmpQ7Ota1\\downloaded_packages\n"
     ]
    },
    {
     "name": "stderr",
     "output_type": "stream",
     "text": [
      "Warning message:\n",
      "\"package 'lubridate' was built under R version 4.1.3\"\n",
      "\n",
      "Attaching package: 'lubridate'\n",
      "\n",
      "\n",
      "The following objects are masked from 'package:base':\n",
      "\n",
      "    date, intersect, setdiff, union\n",
      "\n",
      "\n"
     ]
    }
   ],
   "source": [
    "install.packages(\"lubridate\")\n",
    "library(lubridate)"
   ]
  },
  {
   "cell_type": "code",
   "execution_count": 3,
   "metadata": {},
   "outputs": [
    {
     "name": "stderr",
     "output_type": "stream",
     "text": [
      "Warning message:\n",
      "\"package 'dplyr' was built under R version 4.1.3\"\n",
      "\n",
      "Attaching package: 'dplyr'\n",
      "\n",
      "\n",
      "The following objects are masked from 'package:stats':\n",
      "\n",
      "    filter, lag\n",
      "\n",
      "\n",
      "The following objects are masked from 'package:base':\n",
      "\n",
      "    intersect, setdiff, setequal, union\n",
      "\n",
      "\n"
     ]
    }
   ],
   "source": [
    "library(dplyr)"
   ]
  },
  {
   "cell_type": "markdown",
   "metadata": {},
   "source": [
    "The API base URL to get current weather is [https://api.openweathermap.org/data/2.5/weather](https://api.openweathermap.org/data/2.5/weather?utm_medium=Exinfluencer&utm_source=Exinfluencer&utm_content=000026UJ&utm_term=10006555&utm_id=NA-SkillsNetwork-Channel-SkillsNetworkCoursesIBMDeveloperSkillsNetworkRP0321ENSkillsNetwork25371262-2022-01-01)\n"
   ]
  },
  {
   "cell_type": "code",
   "execution_count": 4,
   "metadata": {},
   "outputs": [],
   "source": [
    "# URL for Current Weather API\n",
    "current_weather_url <- 'https://api.openweathermap.org/data/2.5/weather'"
   ]
  },
  {
   "cell_type": "markdown",
   "metadata": {},
   "source": [
    "Next, let's create a list to hold URL parameters for current weather API\n"
   ]
  },
  {
   "cell_type": "code",
   "execution_count": 5,
   "metadata": {},
   "outputs": [],
   "source": [
    "# need to be replaced by your real API key\n",
    "your_api_key <- \"ba0bdfb3d96e412900a0f51c48d2419c\"\n",
    "# Input `q` is the city name\n",
    "# Input `appid` is your API KEY, \n",
    "# Input `units` are preferred units such as Metric or Imperial\n",
    "current_query <- list(q = \"Seoul\", appid = your_api_key, units=\"metric\")"
   ]
  },
  {
   "cell_type": "markdown",
   "metadata": {},
   "source": [
    "Now we can make a HTTP request to the current weather API\n"
   ]
  },
  {
   "cell_type": "code",
   "execution_count": 6,
   "metadata": {},
   "outputs": [],
   "source": [
    "response <- GET(current_weather_url, query=current_query)"
   ]
  },
  {
   "cell_type": "markdown",
   "metadata": {},
   "source": [
    "If we check the response type, we can see it is in JSON format\n"
   ]
  },
  {
   "cell_type": "code",
   "execution_count": 7,
   "metadata": {},
   "outputs": [
    {
     "data": {
      "text/html": [
       "'application/json'"
      ],
      "text/latex": [
       "'application/json'"
      ],
      "text/markdown": [
       "'application/json'"
      ],
      "text/plain": [
       "[1] \"application/json\""
      ]
     },
     "metadata": {},
     "output_type": "display_data"
    }
   ],
   "source": [
    "http_type(response)"
   ]
  },
  {
   "cell_type": "markdown",
   "metadata": {},
   "source": [
    "JSON is an open standard file and data interchange format that uses human-readable text to store and transmit data objects. To read the JSON HTTP response, you can use the `content()` function to parse it as a named list in R.\n"
   ]
  },
  {
   "cell_type": "code",
   "execution_count": 8,
   "metadata": {},
   "outputs": [],
   "source": [
    "json_result <- content(response, as=\"parsed\")"
   ]
  },
  {
   "cell_type": "markdown",
   "metadata": {},
   "source": [
    "If you use the `class()` function, you can see it is a R `List` object\n"
   ]
  },
  {
   "cell_type": "code",
   "execution_count": 9,
   "metadata": {},
   "outputs": [
    {
     "data": {
      "text/html": [
       "'list'"
      ],
      "text/latex": [
       "'list'"
      ],
      "text/markdown": [
       "'list'"
      ],
      "text/plain": [
       "[1] \"list\""
      ]
     },
     "metadata": {},
     "output_type": "display_data"
    }
   ],
   "source": [
    "class(json_result)"
   ]
  },
  {
   "cell_type": "markdown",
   "metadata": {},
   "source": [
    "Now let's print the JSON result.\n"
   ]
  },
  {
   "cell_type": "code",
   "execution_count": 10,
   "metadata": {},
   "outputs": [
    {
     "data": {
      "text/html": [
       "<dl>\n",
       "\t<dt>$coord</dt>\n",
       "\t\t<dd><dl>\n",
       "\t<dt>$lon</dt>\n",
       "\t\t<dd>126.9778</dd>\n",
       "\t<dt>$lat</dt>\n",
       "\t\t<dd>37.5683</dd>\n",
       "</dl>\n",
       "</dd>\n",
       "\t<dt>$weather</dt>\n",
       "\t\t<dd><ol>\n",
       "\t<li><dl>\n",
       "\t<dt>$id</dt>\n",
       "\t\t<dd>800</dd>\n",
       "\t<dt>$main</dt>\n",
       "\t\t<dd>'Clear'</dd>\n",
       "\t<dt>$description</dt>\n",
       "\t\t<dd>'clear sky'</dd>\n",
       "\t<dt>$icon</dt>\n",
       "\t\t<dd>'01d'</dd>\n",
       "</dl>\n",
       "</li>\n",
       "</ol>\n",
       "</dd>\n",
       "\t<dt>$base</dt>\n",
       "\t\t<dd>'stations'</dd>\n",
       "\t<dt>$main</dt>\n",
       "\t\t<dd><dl>\n",
       "\t<dt>$temp</dt>\n",
       "\t\t<dd>30.08</dd>\n",
       "\t<dt>$feels_like</dt>\n",
       "\t\t<dd>34.28</dd>\n",
       "\t<dt>$temp_min</dt>\n",
       "\t\t<dd>28.66</dd>\n",
       "\t<dt>$temp_max</dt>\n",
       "\t\t<dd>30.76</dd>\n",
       "\t<dt>$pressure</dt>\n",
       "\t\t<dd>1011</dd>\n",
       "\t<dt>$humidity</dt>\n",
       "\t\t<dd>66</dd>\n",
       "</dl>\n",
       "</dd>\n",
       "\t<dt>$visibility</dt>\n",
       "\t\t<dd>10000</dd>\n",
       "\t<dt>$wind</dt>\n",
       "\t\t<dd><dl>\n",
       "\t<dt>$speed</dt>\n",
       "\t\t<dd>2.06</dd>\n",
       "\t<dt>$deg</dt>\n",
       "\t\t<dd>50</dd>\n",
       "</dl>\n",
       "</dd>\n",
       "\t<dt>$clouds</dt>\n",
       "\t\t<dd><strong>$all</strong> = 0</dd>\n",
       "\t<dt>$dt</dt>\n",
       "\t\t<dd>1659136806</dd>\n",
       "\t<dt>$sys</dt>\n",
       "\t\t<dd><dl>\n",
       "\t<dt>$type</dt>\n",
       "\t\t<dd>1</dd>\n",
       "\t<dt>$id</dt>\n",
       "\t\t<dd>8105</dd>\n",
       "\t<dt>$country</dt>\n",
       "\t\t<dd>'KR'</dd>\n",
       "\t<dt>$sunrise</dt>\n",
       "\t\t<dd>1659126829</dd>\n",
       "\t<dt>$sunset</dt>\n",
       "\t\t<dd>1659177784</dd>\n",
       "</dl>\n",
       "</dd>\n",
       "\t<dt>$timezone</dt>\n",
       "\t\t<dd>32400</dd>\n",
       "\t<dt>$id</dt>\n",
       "\t\t<dd>1835848</dd>\n",
       "\t<dt>$name</dt>\n",
       "\t\t<dd>'Seoul'</dd>\n",
       "\t<dt>$cod</dt>\n",
       "\t\t<dd>200</dd>\n",
       "</dl>\n"
      ],
      "text/latex": [
       "\\begin{description}\n",
       "\\item[\\$coord] \\begin{description}\n",
       "\\item[\\$lon] 126.9778\n",
       "\\item[\\$lat] 37.5683\n",
       "\\end{description}\n",
       "\n",
       "\\item[\\$weather] \\begin{enumerate}\n",
       "\\item \\begin{description}\n",
       "\\item[\\$id] 800\n",
       "\\item[\\$main] 'Clear'\n",
       "\\item[\\$description] 'clear sky'\n",
       "\\item[\\$icon] '01d'\n",
       "\\end{description}\n",
       "\n",
       "\\end{enumerate}\n",
       "\n",
       "\\item[\\$base] 'stations'\n",
       "\\item[\\$main] \\begin{description}\n",
       "\\item[\\$temp] 30.08\n",
       "\\item[\\$feels\\_like] 34.28\n",
       "\\item[\\$temp\\_min] 28.66\n",
       "\\item[\\$temp\\_max] 30.76\n",
       "\\item[\\$pressure] 1011\n",
       "\\item[\\$humidity] 66\n",
       "\\end{description}\n",
       "\n",
       "\\item[\\$visibility] 10000\n",
       "\\item[\\$wind] \\begin{description}\n",
       "\\item[\\$speed] 2.06\n",
       "\\item[\\$deg] 50\n",
       "\\end{description}\n",
       "\n",
       "\\item[\\$clouds] \\textbf{\\$all} = 0\n",
       "\\item[\\$dt] 1659136806\n",
       "\\item[\\$sys] \\begin{description}\n",
       "\\item[\\$type] 1\n",
       "\\item[\\$id] 8105\n",
       "\\item[\\$country] 'KR'\n",
       "\\item[\\$sunrise] 1659126829\n",
       "\\item[\\$sunset] 1659177784\n",
       "\\end{description}\n",
       "\n",
       "\\item[\\$timezone] 32400\n",
       "\\item[\\$id] 1835848\n",
       "\\item[\\$name] 'Seoul'\n",
       "\\item[\\$cod] 200\n",
       "\\end{description}\n"
      ],
      "text/markdown": [
       "$coord\n",
       ":   $lon\n",
       ":   126.9778\n",
       "$lat\n",
       ":   37.5683\n",
       "\n",
       "\n",
       "\n",
       "$weather\n",
       ":   1. $id\n",
       ":   800\n",
       "$main\n",
       ":   'Clear'\n",
       "$description\n",
       ":   'clear sky'\n",
       "$icon\n",
       ":   '01d'\n",
       "\n",
       "\n",
       "\n",
       "\n",
       "\n",
       "\n",
       "$base\n",
       ":   'stations'\n",
       "$main\n",
       ":   $temp\n",
       ":   30.08\n",
       "$feels_like\n",
       ":   34.28\n",
       "$temp_min\n",
       ":   28.66\n",
       "$temp_max\n",
       ":   30.76\n",
       "$pressure\n",
       ":   1011\n",
       "$humidity\n",
       ":   66\n",
       "\n",
       "\n",
       "\n",
       "$visibility\n",
       ":   10000\n",
       "$wind\n",
       ":   $speed\n",
       ":   2.06\n",
       "$deg\n",
       ":   50\n",
       "\n",
       "\n",
       "\n",
       "$clouds\n",
       ":   **$all** = 0\n",
       "$dt\n",
       ":   1659136806\n",
       "$sys\n",
       ":   $type\n",
       ":   1\n",
       "$id\n",
       ":   8105\n",
       "$country\n",
       ":   'KR'\n",
       "$sunrise\n",
       ":   1659126829\n",
       "$sunset\n",
       ":   1659177784\n",
       "\n",
       "\n",
       "\n",
       "$timezone\n",
       ":   32400\n",
       "$id\n",
       ":   1835848\n",
       "$name\n",
       ":   'Seoul'\n",
       "$cod\n",
       ":   200\n",
       "\n",
       "\n"
      ],
      "text/plain": [
       "$coord\n",
       "$coord$lon\n",
       "[1] 126.9778\n",
       "\n",
       "$coord$lat\n",
       "[1] 37.5683\n",
       "\n",
       "\n",
       "$weather\n",
       "$weather[[1]]\n",
       "$weather[[1]]$id\n",
       "[1] 800\n",
       "\n",
       "$weather[[1]]$main\n",
       "[1] \"Clear\"\n",
       "\n",
       "$weather[[1]]$description\n",
       "[1] \"clear sky\"\n",
       "\n",
       "$weather[[1]]$icon\n",
       "[1] \"01d\"\n",
       "\n",
       "\n",
       "\n",
       "$base\n",
       "[1] \"stations\"\n",
       "\n",
       "$main\n",
       "$main$temp\n",
       "[1] 30.08\n",
       "\n",
       "$main$feels_like\n",
       "[1] 34.28\n",
       "\n",
       "$main$temp_min\n",
       "[1] 28.66\n",
       "\n",
       "$main$temp_max\n",
       "[1] 30.76\n",
       "\n",
       "$main$pressure\n",
       "[1] 1011\n",
       "\n",
       "$main$humidity\n",
       "[1] 66\n",
       "\n",
       "\n",
       "$visibility\n",
       "[1] 10000\n",
       "\n",
       "$wind\n",
       "$wind$speed\n",
       "[1] 2.06\n",
       "\n",
       "$wind$deg\n",
       "[1] 50\n",
       "\n",
       "\n",
       "$clouds\n",
       "$clouds$all\n",
       "[1] 0\n",
       "\n",
       "\n",
       "$dt\n",
       "[1] 1659136806\n",
       "\n",
       "$sys\n",
       "$sys$type\n",
       "[1] 1\n",
       "\n",
       "$sys$id\n",
       "[1] 8105\n",
       "\n",
       "$sys$country\n",
       "[1] \"KR\"\n",
       "\n",
       "$sys$sunrise\n",
       "[1] 1659126829\n",
       "\n",
       "$sys$sunset\n",
       "[1] 1659177784\n",
       "\n",
       "\n",
       "$timezone\n",
       "[1] 32400\n",
       "\n",
       "$id\n",
       "[1] 1835848\n",
       "\n",
       "$name\n",
       "[1] \"Seoul\"\n",
       "\n",
       "$cod\n",
       "[1] 200\n"
      ]
     },
     "metadata": {},
     "output_type": "display_data"
    }
   ],
   "source": [
    "json_result"
   ]
  },
  {
   "cell_type": "markdown",
   "metadata": {},
   "source": [
    "It contains very detailed weather data about the city of `Seoul`. Feel free to try other cities as well. We need to convert the named list to a data frame so that we can use data frame operations to process the data. Below is a simple example, which you may implement your own way to convert it to a data frame.\n"
   ]
  },
  {
   "cell_type": "code",
   "execution_count": 11,
   "metadata": {},
   "outputs": [],
   "source": [
    "# Create some empty vectors to hold data temporarily\n",
    "weather <- c()\n",
    "visibility <- c()\n",
    "temp <- c()\n",
    "temp_min <- c()\n",
    "temp_max <- c()\n",
    "pressure <- c()\n",
    "humidity <- c()\n",
    "wind_speed <- c()\n",
    "wind_deg <- c()"
   ]
  },
  {
   "cell_type": "markdown",
   "metadata": {},
   "source": [
    "Now assign the values in the `json_result` list into different vectors\n"
   ]
  },
  {
   "cell_type": "code",
   "execution_count": 12,
   "metadata": {},
   "outputs": [],
   "source": [
    "# $weather is also a list with one element, its $main element indicates the weather status such as clear or rain\n",
    "weather <- c(weather, json_result$weather[[1]]$main)\n",
    "# Get Visibility\n",
    "visibility <- c(visibility, json_result$visibility)\n",
    "# Get current temperature \n",
    "temp <- c(temp, json_result$main$temp)\n",
    "# Get min temperature \n",
    "temp_min <- c(temp_min, json_result$main$temp_min)\n",
    "# Get max temperature \n",
    "temp_max <- c(temp_max, json_result$main$temp_max)\n",
    "# Get pressure\n",
    "pressure <- c(pressure, json_result$main$pressure)\n",
    "# Get humidity\n",
    "humidity <- c(humidity, json_result$main$humidity)\n",
    "# Get wind speed\n",
    "wind_speed <- c(wind_speed, json_result$wind$speed)\n",
    "# Get wind direction\n",
    "wind_deg <- c(wind_deg, json_result$wind$deg)"
   ]
  },
  {
   "cell_type": "markdown",
   "metadata": {},
   "source": [
    "Combine all vectors as columns of a data frame\n"
   ]
  },
  {
   "cell_type": "code",
   "execution_count": 13,
   "metadata": {},
   "outputs": [],
   "source": [
    "# Combine all vectors\n",
    "weather_data_frame <- data.frame(weather=weather, \n",
    "                                 visibility=visibility, \n",
    "                                 temp=temp, \n",
    "                                 temp_min=temp_min, \n",
    "                                 temp_max=temp_max, \n",
    "                                 pressure=pressure, \n",
    "                                 humidity=humidity, \n",
    "                                 wind_speed=wind_speed, \n",
    "                                 wind_deg=wind_deg)"
   ]
  },
  {
   "cell_type": "code",
   "execution_count": 14,
   "metadata": {},
   "outputs": [
    {
     "name": "stdout",
     "output_type": "stream",
     "text": [
      "  weather visibility  temp temp_min temp_max pressure humidity wind_speed\n",
      "1   Clear      10000 30.08    28.66    30.76     1011       66       2.06\n",
      "  wind_deg\n",
      "1       50\n"
     ]
    }
   ],
   "source": [
    "# Check the generated data frame\n",
    "print(weather_data_frame)"
   ]
  },
  {
   "cell_type": "markdown",
   "metadata": {},
   "source": [
    "# TASK:  Get 5-day weather forecasts for a list of cities using the OpenWeather API\n"
   ]
  },
  {
   "cell_type": "markdown",
   "metadata": {},
   "source": [
    "Now you should be familiar with the usage of OpenWeather API. Next, you need to complete a task to get 5-day weather forecasts for a list of cities\n"
   ]
  },
  {
   "cell_type": "markdown",
   "metadata": {},
   "source": [
    "*TODO:* Write a function to return a data frame containing 5-day weather forecasts for a list of cities\n"
   ]
  },
  {
   "cell_type": "code",
   "execution_count": 15,
   "metadata": {},
   "outputs": [],
   "source": [
    "# Create some empty vectors to hold data temporarily\n",
    "\n",
    "# City name column\n",
    "city <- c()\n",
    "# Weather column, rainy or cloudy, etc\n",
    "weather <- c()\n",
    "# Sky visibility column\n",
    "visibility <- c()\n",
    "# Current temperature column\n",
    "temp <- c()\n",
    "# Max temperature column\n",
    "temp_min <- c()\n",
    "# Min temperature column\n",
    "temp_max <- c()\n",
    "# Pressure column\n",
    "pressure <- c()\n",
    "# Humidity column\n",
    "humidity <- c()\n",
    "# Wind speed column\n",
    "wind_speed <- c()\n",
    "# Wind direction column\n",
    "wind_deg <- c()\n",
    "# Forecast timestamp\n",
    "forecast_datetime <- c()\n",
    "# Season column\n",
    "# Note that for season, you can hard code a season value from levels Spring, Summer, Autumn, and Winter based on your current month.\n",
    "season <- c()\n"
   ]
  },
  {
   "cell_type": "code",
   "execution_count": 16,
   "metadata": {},
   "outputs": [],
   "source": [
    "# Get forecast data for a given city list\n",
    "get_weather_forecaset_by_cities <- function(city_names){\n",
    "    df <- data.frame()\n",
    "    for (city_name in city_names){\n",
    "        # Forecast API URL\n",
    "        forecast_url <- 'https://api.openweathermap.org/data/2.5/forecast'\n",
    "        # Create query parameters\n",
    "        forecast_query <- list(q = city_name, appid = \"ba0bdfb3d96e412900a0f51c48d2419c\", units=\"metric\")\n",
    "        # Make HTTP GET call for the given city\n",
    "        response <- GET(forecast_url, query=forecast_query)\n",
    "        # Note that the 5-day forecast JSON result is a list of lists. You can print the reponse to check the results\n",
    "        json_result <- content(response, as=\"parsed\")\n",
    "        results <- json_result$list\n",
    "        # Loop the json result\n",
    "        for(result in results) {\n",
    "            city <- c(city, city_name)\n",
    "            # Weather column, rainy or cloudy, etc\n",
    "            weather <- c(weather, result$weather[[1]]$main)\n",
    "            # Sky visibility column\n",
    "            visibility <- c(visibility, result$visibility)\n",
    "            # Current temperature column\n",
    "            temp <- c(temp, result$main$temp)\n",
    "            # Max temperature column\n",
    "            temp_min <- c(temp_min, result$main$temp_min)\n",
    "            # Min temperature column\n",
    "            temp_max <- c(temp_max, result$main$temp_max)\n",
    "            # Pressure column\n",
    "            pressure <- c(pressure, result$main$pressure)\n",
    "            # Humidity column\n",
    "            humidity <- c(humidity, result$main$humidity)\n",
    "            # Wind speed column\n",
    "            wind_speed <- c(wind_speed, result$wind$speed)\n",
    "            # Wind direction column\n",
    "            wind_deg <- c(wind_deg, result$wind$deg)\n",
    "            # Forecast timestamp\n",
    "            forecast_datetime <- c(forecast_datetime, as.POSIXct(result$dt, origin=\"1970-01-01\"))\n",
    "            # Season column\n",
    "            # Note that for season, you can hard code a season value from levels Spring, Summer, Autumn, and Winter based on your current month.\n",
    "            season <- c(season, season = case_when(month(as.POSIXlt(result$dt, origin=\"1970-01-01\")) %in% c(12,1,2) ~ \"Winter\", \n",
    "                                                  month(as.POSIXlt(result$dt, origin=\"1970-01-01\")) %in% c(3,4,5) ~ \"Spring\", \n",
    "                                                  month(as.POSIXlt(result$dt, origin=\"1970-01-01\")) %in% c(6,7,8) ~ \"Summer\", \n",
    "                                                  month(as.POSIXlt(result$dt, origin=\"1970-01-01\")) %in% c(9,10,11) ~ \"Fall\"))\n",
    "        }\n",
    "    \n",
    "        # Add the R Lists into a data frame\n",
    "        df <- data.frame(city=city,\n",
    "                         weather=weather, \n",
    "                         visibility=visibility, \n",
    "                         temp=temp, \n",
    "                         temp_min=temp_min, \n",
    "                         temp_max=temp_max, \n",
    "                         pressure=pressure, \n",
    "                         humidity=humidity, \n",
    "                         wind_speed=wind_speed, \n",
    "                         wind_deg=wind_deg,\n",
    "                         forecast_datetime=forecast_datetime,\n",
    "                         season=season)\n",
    "\n",
    "    }\n",
    "    \n",
    "    # Return a data frame\n",
    "    return(df)\n",
    "    \n",
    "}"
   ]
  },
  {
   "cell_type": "markdown",
   "metadata": {},
   "source": [
    "Complete and call `get_weather_forecaset_by_cities` function with a list of cities, and write the data frame into a csv file called `cities_weather_forecast.csv`\n"
   ]
  },
  {
   "cell_type": "code",
   "execution_count": 17,
   "metadata": {},
   "outputs": [
    {
     "data": {
      "text/html": [
       "<table class=\"dataframe\">\n",
       "<caption>A data.frame: 160 × 12</caption>\n",
       "<thead>\n",
       "\t<tr><th scope=col>city</th><th scope=col>weather</th><th scope=col>visibility</th><th scope=col>temp</th><th scope=col>temp_min</th><th scope=col>temp_max</th><th scope=col>pressure</th><th scope=col>humidity</th><th scope=col>wind_speed</th><th scope=col>wind_deg</th><th scope=col>forecast_datetime</th><th scope=col>season</th></tr>\n",
       "\t<tr><th scope=col>&lt;chr&gt;</th><th scope=col>&lt;chr&gt;</th><th scope=col>&lt;int&gt;</th><th scope=col>&lt;dbl&gt;</th><th scope=col>&lt;dbl&gt;</th><th scope=col>&lt;dbl&gt;</th><th scope=col>&lt;int&gt;</th><th scope=col>&lt;int&gt;</th><th scope=col>&lt;dbl&gt;</th><th scope=col>&lt;int&gt;</th><th scope=col>&lt;dbl&gt;</th><th scope=col>&lt;chr&gt;</th></tr>\n",
       "</thead>\n",
       "<tbody>\n",
       "\t<tr><td>Seoul</td><td>Clear </td><td>10000</td><td>30.08</td><td>30.08</td><td>30.65</td><td>1011</td><td>66</td><td>1.96</td><td> 82</td><td>1659139200</td><td>Summer</td></tr>\n",
       "\t<tr><td>Seoul</td><td>Clouds</td><td>10000</td><td>31.74</td><td>31.74</td><td>35.07</td><td>1011</td><td>58</td><td>2.98</td><td>110</td><td>1659150000</td><td>Summer</td></tr>\n",
       "\t<tr><td>Seoul</td><td>Clouds</td><td>10000</td><td>34.19</td><td>34.19</td><td>36.25</td><td>1009</td><td>48</td><td>2.45</td><td>123</td><td>1659160800</td><td>Summer</td></tr>\n",
       "\t<tr><td>Seoul</td><td>Rain  </td><td>10000</td><td>28.94</td><td>28.94</td><td>28.94</td><td>1009</td><td>74</td><td>2.43</td><td>198</td><td>1659171600</td><td>Summer</td></tr>\n",
       "\t<tr><td>Seoul</td><td>Rain  </td><td>10000</td><td>27.66</td><td>27.66</td><td>27.66</td><td>1010</td><td>80</td><td>1.40</td><td> 50</td><td>1659182400</td><td>Summer</td></tr>\n",
       "\t<tr><td>Seoul</td><td>Clouds</td><td>10000</td><td>26.85</td><td>26.85</td><td>26.85</td><td>1009</td><td>82</td><td>1.59</td><td> 77</td><td>1659193200</td><td>Summer</td></tr>\n",
       "\t<tr><td>Seoul</td><td>Clouds</td><td>10000</td><td>26.19</td><td>26.19</td><td>26.19</td><td>1008</td><td>85</td><td>1.72</td><td> 79</td><td>1659204000</td><td>Summer</td></tr>\n",
       "\t<tr><td>Seoul</td><td>Rain  </td><td>10000</td><td>25.67</td><td>25.67</td><td>25.67</td><td>1009</td><td>87</td><td>1.37</td><td> 86</td><td>1659214800</td><td>Summer</td></tr>\n",
       "\t<tr><td>Seoul</td><td>Rain  </td><td>10000</td><td>24.84</td><td>24.84</td><td>24.84</td><td>1009</td><td>94</td><td>1.96</td><td> 61</td><td>1659225600</td><td>Summer</td></tr>\n",
       "\t<tr><td>Seoul</td><td>Rain  </td><td>10000</td><td>25.30</td><td>25.30</td><td>25.30</td><td>1008</td><td>93</td><td>2.22</td><td> 44</td><td>1659236400</td><td>Summer</td></tr>\n",
       "\t<tr><td>Seoul</td><td>Rain  </td><td>10000</td><td>27.84</td><td>27.84</td><td>27.84</td><td>1006</td><td>79</td><td>2.42</td><td> 71</td><td>1659247200</td><td>Summer</td></tr>\n",
       "\t<tr><td>Seoul</td><td>Rain  </td><td> 8506</td><td>25.72</td><td>25.72</td><td>25.72</td><td>1006</td><td>90</td><td>3.31</td><td>115</td><td>1659258000</td><td>Summer</td></tr>\n",
       "\t<tr><td>Seoul</td><td>Rain  </td><td>10000</td><td>25.50</td><td>25.50</td><td>25.50</td><td>1006</td><td>88</td><td>4.21</td><td>110</td><td>1659268800</td><td>Summer</td></tr>\n",
       "\t<tr><td>Seoul</td><td>Rain  </td><td>10000</td><td>25.17</td><td>25.17</td><td>25.17</td><td>1006</td><td>88</td><td>4.31</td><td>126</td><td>1659279600</td><td>Summer</td></tr>\n",
       "\t<tr><td>Seoul</td><td>Rain  </td><td>10000</td><td>25.48</td><td>25.48</td><td>25.48</td><td>1005</td><td>85</td><td>3.70</td><td>125</td><td>1659290400</td><td>Summer</td></tr>\n",
       "\t<tr><td>Seoul</td><td>Clouds</td><td>10000</td><td>25.73</td><td>25.73</td><td>25.73</td><td>1005</td><td>79</td><td>4.23</td><td>122</td><td>1659301200</td><td>Summer</td></tr>\n",
       "\t<tr><td>Seoul</td><td>Rain  </td><td>10000</td><td>26.23</td><td>26.23</td><td>26.23</td><td>1005</td><td>79</td><td>4.82</td><td>125</td><td>1659312000</td><td>Summer</td></tr>\n",
       "\t<tr><td>Seoul</td><td>Clouds</td><td>10000</td><td>32.19</td><td>32.19</td><td>32.19</td><td>1005</td><td>56</td><td>6.89</td><td>140</td><td>1659322800</td><td>Summer</td></tr>\n",
       "\t<tr><td>Seoul</td><td>Clouds</td><td>10000</td><td>32.47</td><td>32.47</td><td>32.47</td><td>1004</td><td>57</td><td>6.64</td><td>142</td><td>1659333600</td><td>Summer</td></tr>\n",
       "\t<tr><td>Seoul</td><td>Clouds</td><td>10000</td><td>30.54</td><td>30.54</td><td>30.54</td><td>1003</td><td>66</td><td>6.33</td><td>131</td><td>1659344400</td><td>Summer</td></tr>\n",
       "\t<tr><td>Seoul</td><td>Rain  </td><td>10000</td><td>27.17</td><td>27.17</td><td>27.17</td><td>1005</td><td>82</td><td>5.16</td><td>139</td><td>1659355200</td><td>Summer</td></tr>\n",
       "\t<tr><td>Seoul</td><td>Rain  </td><td>10000</td><td>26.38</td><td>26.38</td><td>26.38</td><td>1007</td><td>91</td><td>1.88</td><td>148</td><td>1659366000</td><td>Summer</td></tr>\n",
       "\t<tr><td>Seoul</td><td>Rain  </td><td>10000</td><td>26.13</td><td>26.13</td><td>26.13</td><td>1007</td><td>92</td><td>2.15</td><td>149</td><td>1659376800</td><td>Summer</td></tr>\n",
       "\t<tr><td>Seoul</td><td>Rain  </td><td>10000</td><td>25.79</td><td>25.79</td><td>25.79</td><td>1008</td><td>91</td><td>1.80</td><td>143</td><td>1659387600</td><td>Summer</td></tr>\n",
       "\t<tr><td>Seoul</td><td>Rain  </td><td>10000</td><td>28.10</td><td>28.10</td><td>28.10</td><td>1009</td><td>79</td><td>3.70</td><td>179</td><td>1659398400</td><td>Summer</td></tr>\n",
       "\t<tr><td>Seoul</td><td>Rain  </td><td>10000</td><td>29.06</td><td>29.06</td><td>29.06</td><td>1009</td><td>78</td><td>4.54</td><td>199</td><td>1659409200</td><td>Summer</td></tr>\n",
       "\t<tr><td>Seoul</td><td>Rain  </td><td>10000</td><td>30.64</td><td>30.64</td><td>30.64</td><td>1008</td><td>66</td><td>5.91</td><td>217</td><td>1659420000</td><td>Summer</td></tr>\n",
       "\t<tr><td>Seoul</td><td>Rain  </td><td>10000</td><td>29.29</td><td>29.29</td><td>29.29</td><td>1009</td><td>70</td><td>4.96</td><td>222</td><td>1659430800</td><td>Summer</td></tr>\n",
       "\t<tr><td>Seoul</td><td>Clouds</td><td>10000</td><td>26.88</td><td>26.88</td><td>26.88</td><td>1011</td><td>84</td><td>2.72</td><td>198</td><td>1659441600</td><td>Summer</td></tr>\n",
       "\t<tr><td>Seoul</td><td>Rain  </td><td>10000</td><td>25.85</td><td>25.85</td><td>25.85</td><td>1011</td><td>91</td><td>2.23</td><td>189</td><td>1659452400</td><td>Summer</td></tr>\n",
       "\t<tr><td>...</td><td>...</td><td>...</td><td>...</td><td>...</td><td>...</td><td>...</td><td>...</td><td>...</td><td>...</td><td>...</td><td>...</td></tr>\n",
       "\t<tr><td>Suzhou</td><td>Clouds</td><td>10000</td><td>33.59</td><td>33.59</td><td>33.59</td><td> 999</td><td>55</td><td>5.86</td><td>288</td><td>1659247200</td><td>Summer</td></tr>\n",
       "\t<tr><td>Suzhou</td><td>Rain  </td><td>10000</td><td>32.02</td><td>32.02</td><td>32.02</td><td>1000</td><td>62</td><td>4.83</td><td>304</td><td>1659258000</td><td>Summer</td></tr>\n",
       "\t<tr><td>Suzhou</td><td>Rain  </td><td>10000</td><td>28.15</td><td>28.15</td><td>28.15</td><td>1001</td><td>80</td><td>2.73</td><td>332</td><td>1659268800</td><td>Summer</td></tr>\n",
       "\t<tr><td>Suzhou</td><td>Clear </td><td>10000</td><td>27.56</td><td>27.56</td><td>27.56</td><td>1002</td><td>83</td><td>2.30</td><td>309</td><td>1659279600</td><td>Summer</td></tr>\n",
       "\t<tr><td>Suzhou</td><td>Rain  </td><td>10000</td><td>26.48</td><td>26.48</td><td>26.48</td><td>1002</td><td>88</td><td>1.94</td><td>340</td><td>1659290400</td><td>Summer</td></tr>\n",
       "\t<tr><td>Suzhou</td><td>Rain  </td><td>10000</td><td>25.93</td><td>25.93</td><td>25.93</td><td>1003</td><td>91</td><td>1.85</td><td>321</td><td>1659301200</td><td>Summer</td></tr>\n",
       "\t<tr><td>Suzhou</td><td>Clouds</td><td>10000</td><td>29.11</td><td>29.11</td><td>29.11</td><td>1004</td><td>74</td><td>4.01</td><td>309</td><td>1659312000</td><td>Summer</td></tr>\n",
       "\t<tr><td>Suzhou</td><td>Clouds</td><td>10000</td><td>32.67</td><td>32.67</td><td>32.67</td><td>1004</td><td>58</td><td>3.23</td><td>302</td><td>1659322800</td><td>Summer</td></tr>\n",
       "\t<tr><td>Suzhou</td><td>Clouds</td><td>10000</td><td>33.56</td><td>33.56</td><td>33.56</td><td>1002</td><td>56</td><td>2.28</td><td>287</td><td>1659333600</td><td>Summer</td></tr>\n",
       "\t<tr><td>Suzhou</td><td>Clouds</td><td>10000</td><td>33.57</td><td>33.57</td><td>33.57</td><td>1002</td><td>56</td><td>0.32</td><td>360</td><td>1659344400</td><td>Summer</td></tr>\n",
       "\t<tr><td>Suzhou</td><td>Rain  </td><td>10000</td><td>29.41</td><td>29.41</td><td>29.41</td><td>1004</td><td>75</td><td>3.55</td><td>122</td><td>1659355200</td><td>Summer</td></tr>\n",
       "\t<tr><td>Suzhou</td><td>Rain  </td><td>10000</td><td>28.18</td><td>28.18</td><td>28.18</td><td>1005</td><td>81</td><td>3.26</td><td>134</td><td>1659366000</td><td>Summer</td></tr>\n",
       "\t<tr><td>Suzhou</td><td>Rain  </td><td>10000</td><td>27.45</td><td>27.45</td><td>27.45</td><td>1004</td><td>84</td><td>2.41</td><td>128</td><td>1659376800</td><td>Summer</td></tr>\n",
       "\t<tr><td>Suzhou</td><td>Rain  </td><td>10000</td><td>27.02</td><td>27.02</td><td>27.02</td><td>1005</td><td>84</td><td>2.63</td><td>114</td><td>1659387600</td><td>Summer</td></tr>\n",
       "\t<tr><td>Suzhou</td><td>Clear </td><td>10000</td><td>30.72</td><td>30.72</td><td>30.72</td><td>1006</td><td>67</td><td>3.94</td><td>117</td><td>1659398400</td><td>Summer</td></tr>\n",
       "\t<tr><td>Suzhou</td><td>Clouds</td><td>10000</td><td>34.31</td><td>34.31</td><td>34.31</td><td>1006</td><td>53</td><td>4.51</td><td>118</td><td>1659409200</td><td>Summer</td></tr>\n",
       "\t<tr><td>Suzhou</td><td>Clouds</td><td>10000</td><td>34.68</td><td>34.68</td><td>34.68</td><td>1005</td><td>54</td><td>5.58</td><td>122</td><td>1659420000</td><td>Summer</td></tr>\n",
       "\t<tr><td>Suzhou</td><td>Rain  </td><td>10000</td><td>31.98</td><td>31.98</td><td>31.98</td><td>1005</td><td>65</td><td>6.40</td><td>125</td><td>1659430800</td><td>Summer</td></tr>\n",
       "\t<tr><td>Suzhou</td><td>Clouds</td><td>10000</td><td>28.75</td><td>28.75</td><td>28.75</td><td>1006</td><td>81</td><td>6.13</td><td>119</td><td>1659441600</td><td>Summer</td></tr>\n",
       "\t<tr><td>Suzhou</td><td>Clouds</td><td>10000</td><td>28.26</td><td>28.26</td><td>28.26</td><td>1007</td><td>81</td><td>6.38</td><td>134</td><td>1659452400</td><td>Summer</td></tr>\n",
       "\t<tr><td>Suzhou</td><td>Clouds</td><td>10000</td><td>27.57</td><td>27.57</td><td>27.57</td><td>1007</td><td>83</td><td>5.04</td><td>129</td><td>1659463200</td><td>Summer</td></tr>\n",
       "\t<tr><td>Suzhou</td><td>Clouds</td><td>10000</td><td>27.28</td><td>27.28</td><td>27.28</td><td>1007</td><td>85</td><td>5.22</td><td>123</td><td>1659474000</td><td>Summer</td></tr>\n",
       "\t<tr><td>Suzhou</td><td>Clouds</td><td>10000</td><td>29.95</td><td>29.95</td><td>29.95</td><td>1008</td><td>73</td><td>7.61</td><td>127</td><td>1659484800</td><td>Summer</td></tr>\n",
       "\t<tr><td>Suzhou</td><td>Rain  </td><td>10000</td><td>32.10</td><td>32.10</td><td>32.10</td><td>1007</td><td>63</td><td>8.82</td><td>127</td><td>1659495600</td><td>Summer</td></tr>\n",
       "\t<tr><td>Suzhou</td><td>Rain  </td><td>10000</td><td>33.07</td><td>33.07</td><td>33.07</td><td>1006</td><td>58</td><td>9.35</td><td>140</td><td>1659506400</td><td>Summer</td></tr>\n",
       "\t<tr><td>Suzhou</td><td>Clouds</td><td>10000</td><td>30.46</td><td>30.46</td><td>30.46</td><td>1006</td><td>71</td><td>7.94</td><td>132</td><td>1659517200</td><td>Summer</td></tr>\n",
       "\t<tr><td>Suzhou</td><td>Clouds</td><td>10000</td><td>28.33</td><td>28.33</td><td>28.33</td><td>1007</td><td>78</td><td>8.07</td><td>130</td><td>1659528000</td><td>Summer</td></tr>\n",
       "\t<tr><td>Suzhou</td><td>Clouds</td><td>10000</td><td>28.20</td><td>28.20</td><td>28.20</td><td>1007</td><td>79</td><td>7.93</td><td>133</td><td>1659538800</td><td>Summer</td></tr>\n",
       "\t<tr><td>Suzhou</td><td>Clouds</td><td>10000</td><td>27.70</td><td>27.70</td><td>27.70</td><td>1007</td><td>81</td><td>6.42</td><td>135</td><td>1659549600</td><td>Summer</td></tr>\n",
       "\t<tr><td>Suzhou</td><td>Clouds</td><td>10000</td><td>27.54</td><td>27.54</td><td>27.54</td><td>1007</td><td>81</td><td>6.24</td><td>134</td><td>1659560400</td><td>Summer</td></tr>\n",
       "</tbody>\n",
       "</table>\n"
      ],
      "text/latex": [
       "A data.frame: 160 × 12\n",
       "\\begin{tabular}{llllllllllll}\n",
       " city & weather & visibility & temp & temp\\_min & temp\\_max & pressure & humidity & wind\\_speed & wind\\_deg & forecast\\_datetime & season\\\\\n",
       " <chr> & <chr> & <int> & <dbl> & <dbl> & <dbl> & <int> & <int> & <dbl> & <int> & <dbl> & <chr>\\\\\n",
       "\\hline\n",
       "\t Seoul & Clear  & 10000 & 30.08 & 30.08 & 30.65 & 1011 & 66 & 1.96 &  82 & 1659139200 & Summer\\\\\n",
       "\t Seoul & Clouds & 10000 & 31.74 & 31.74 & 35.07 & 1011 & 58 & 2.98 & 110 & 1659150000 & Summer\\\\\n",
       "\t Seoul & Clouds & 10000 & 34.19 & 34.19 & 36.25 & 1009 & 48 & 2.45 & 123 & 1659160800 & Summer\\\\\n",
       "\t Seoul & Rain   & 10000 & 28.94 & 28.94 & 28.94 & 1009 & 74 & 2.43 & 198 & 1659171600 & Summer\\\\\n",
       "\t Seoul & Rain   & 10000 & 27.66 & 27.66 & 27.66 & 1010 & 80 & 1.40 &  50 & 1659182400 & Summer\\\\\n",
       "\t Seoul & Clouds & 10000 & 26.85 & 26.85 & 26.85 & 1009 & 82 & 1.59 &  77 & 1659193200 & Summer\\\\\n",
       "\t Seoul & Clouds & 10000 & 26.19 & 26.19 & 26.19 & 1008 & 85 & 1.72 &  79 & 1659204000 & Summer\\\\\n",
       "\t Seoul & Rain   & 10000 & 25.67 & 25.67 & 25.67 & 1009 & 87 & 1.37 &  86 & 1659214800 & Summer\\\\\n",
       "\t Seoul & Rain   & 10000 & 24.84 & 24.84 & 24.84 & 1009 & 94 & 1.96 &  61 & 1659225600 & Summer\\\\\n",
       "\t Seoul & Rain   & 10000 & 25.30 & 25.30 & 25.30 & 1008 & 93 & 2.22 &  44 & 1659236400 & Summer\\\\\n",
       "\t Seoul & Rain   & 10000 & 27.84 & 27.84 & 27.84 & 1006 & 79 & 2.42 &  71 & 1659247200 & Summer\\\\\n",
       "\t Seoul & Rain   &  8506 & 25.72 & 25.72 & 25.72 & 1006 & 90 & 3.31 & 115 & 1659258000 & Summer\\\\\n",
       "\t Seoul & Rain   & 10000 & 25.50 & 25.50 & 25.50 & 1006 & 88 & 4.21 & 110 & 1659268800 & Summer\\\\\n",
       "\t Seoul & Rain   & 10000 & 25.17 & 25.17 & 25.17 & 1006 & 88 & 4.31 & 126 & 1659279600 & Summer\\\\\n",
       "\t Seoul & Rain   & 10000 & 25.48 & 25.48 & 25.48 & 1005 & 85 & 3.70 & 125 & 1659290400 & Summer\\\\\n",
       "\t Seoul & Clouds & 10000 & 25.73 & 25.73 & 25.73 & 1005 & 79 & 4.23 & 122 & 1659301200 & Summer\\\\\n",
       "\t Seoul & Rain   & 10000 & 26.23 & 26.23 & 26.23 & 1005 & 79 & 4.82 & 125 & 1659312000 & Summer\\\\\n",
       "\t Seoul & Clouds & 10000 & 32.19 & 32.19 & 32.19 & 1005 & 56 & 6.89 & 140 & 1659322800 & Summer\\\\\n",
       "\t Seoul & Clouds & 10000 & 32.47 & 32.47 & 32.47 & 1004 & 57 & 6.64 & 142 & 1659333600 & Summer\\\\\n",
       "\t Seoul & Clouds & 10000 & 30.54 & 30.54 & 30.54 & 1003 & 66 & 6.33 & 131 & 1659344400 & Summer\\\\\n",
       "\t Seoul & Rain   & 10000 & 27.17 & 27.17 & 27.17 & 1005 & 82 & 5.16 & 139 & 1659355200 & Summer\\\\\n",
       "\t Seoul & Rain   & 10000 & 26.38 & 26.38 & 26.38 & 1007 & 91 & 1.88 & 148 & 1659366000 & Summer\\\\\n",
       "\t Seoul & Rain   & 10000 & 26.13 & 26.13 & 26.13 & 1007 & 92 & 2.15 & 149 & 1659376800 & Summer\\\\\n",
       "\t Seoul & Rain   & 10000 & 25.79 & 25.79 & 25.79 & 1008 & 91 & 1.80 & 143 & 1659387600 & Summer\\\\\n",
       "\t Seoul & Rain   & 10000 & 28.10 & 28.10 & 28.10 & 1009 & 79 & 3.70 & 179 & 1659398400 & Summer\\\\\n",
       "\t Seoul & Rain   & 10000 & 29.06 & 29.06 & 29.06 & 1009 & 78 & 4.54 & 199 & 1659409200 & Summer\\\\\n",
       "\t Seoul & Rain   & 10000 & 30.64 & 30.64 & 30.64 & 1008 & 66 & 5.91 & 217 & 1659420000 & Summer\\\\\n",
       "\t Seoul & Rain   & 10000 & 29.29 & 29.29 & 29.29 & 1009 & 70 & 4.96 & 222 & 1659430800 & Summer\\\\\n",
       "\t Seoul & Clouds & 10000 & 26.88 & 26.88 & 26.88 & 1011 & 84 & 2.72 & 198 & 1659441600 & Summer\\\\\n",
       "\t Seoul & Rain   & 10000 & 25.85 & 25.85 & 25.85 & 1011 & 91 & 2.23 & 189 & 1659452400 & Summer\\\\\n",
       "\t ... & ... & ... & ... & ... & ... & ... & ... & ... & ... & ... & ...\\\\\n",
       "\t Suzhou & Clouds & 10000 & 33.59 & 33.59 & 33.59 &  999 & 55 & 5.86 & 288 & 1659247200 & Summer\\\\\n",
       "\t Suzhou & Rain   & 10000 & 32.02 & 32.02 & 32.02 & 1000 & 62 & 4.83 & 304 & 1659258000 & Summer\\\\\n",
       "\t Suzhou & Rain   & 10000 & 28.15 & 28.15 & 28.15 & 1001 & 80 & 2.73 & 332 & 1659268800 & Summer\\\\\n",
       "\t Suzhou & Clear  & 10000 & 27.56 & 27.56 & 27.56 & 1002 & 83 & 2.30 & 309 & 1659279600 & Summer\\\\\n",
       "\t Suzhou & Rain   & 10000 & 26.48 & 26.48 & 26.48 & 1002 & 88 & 1.94 & 340 & 1659290400 & Summer\\\\\n",
       "\t Suzhou & Rain   & 10000 & 25.93 & 25.93 & 25.93 & 1003 & 91 & 1.85 & 321 & 1659301200 & Summer\\\\\n",
       "\t Suzhou & Clouds & 10000 & 29.11 & 29.11 & 29.11 & 1004 & 74 & 4.01 & 309 & 1659312000 & Summer\\\\\n",
       "\t Suzhou & Clouds & 10000 & 32.67 & 32.67 & 32.67 & 1004 & 58 & 3.23 & 302 & 1659322800 & Summer\\\\\n",
       "\t Suzhou & Clouds & 10000 & 33.56 & 33.56 & 33.56 & 1002 & 56 & 2.28 & 287 & 1659333600 & Summer\\\\\n",
       "\t Suzhou & Clouds & 10000 & 33.57 & 33.57 & 33.57 & 1002 & 56 & 0.32 & 360 & 1659344400 & Summer\\\\\n",
       "\t Suzhou & Rain   & 10000 & 29.41 & 29.41 & 29.41 & 1004 & 75 & 3.55 & 122 & 1659355200 & Summer\\\\\n",
       "\t Suzhou & Rain   & 10000 & 28.18 & 28.18 & 28.18 & 1005 & 81 & 3.26 & 134 & 1659366000 & Summer\\\\\n",
       "\t Suzhou & Rain   & 10000 & 27.45 & 27.45 & 27.45 & 1004 & 84 & 2.41 & 128 & 1659376800 & Summer\\\\\n",
       "\t Suzhou & Rain   & 10000 & 27.02 & 27.02 & 27.02 & 1005 & 84 & 2.63 & 114 & 1659387600 & Summer\\\\\n",
       "\t Suzhou & Clear  & 10000 & 30.72 & 30.72 & 30.72 & 1006 & 67 & 3.94 & 117 & 1659398400 & Summer\\\\\n",
       "\t Suzhou & Clouds & 10000 & 34.31 & 34.31 & 34.31 & 1006 & 53 & 4.51 & 118 & 1659409200 & Summer\\\\\n",
       "\t Suzhou & Clouds & 10000 & 34.68 & 34.68 & 34.68 & 1005 & 54 & 5.58 & 122 & 1659420000 & Summer\\\\\n",
       "\t Suzhou & Rain   & 10000 & 31.98 & 31.98 & 31.98 & 1005 & 65 & 6.40 & 125 & 1659430800 & Summer\\\\\n",
       "\t Suzhou & Clouds & 10000 & 28.75 & 28.75 & 28.75 & 1006 & 81 & 6.13 & 119 & 1659441600 & Summer\\\\\n",
       "\t Suzhou & Clouds & 10000 & 28.26 & 28.26 & 28.26 & 1007 & 81 & 6.38 & 134 & 1659452400 & Summer\\\\\n",
       "\t Suzhou & Clouds & 10000 & 27.57 & 27.57 & 27.57 & 1007 & 83 & 5.04 & 129 & 1659463200 & Summer\\\\\n",
       "\t Suzhou & Clouds & 10000 & 27.28 & 27.28 & 27.28 & 1007 & 85 & 5.22 & 123 & 1659474000 & Summer\\\\\n",
       "\t Suzhou & Clouds & 10000 & 29.95 & 29.95 & 29.95 & 1008 & 73 & 7.61 & 127 & 1659484800 & Summer\\\\\n",
       "\t Suzhou & Rain   & 10000 & 32.10 & 32.10 & 32.10 & 1007 & 63 & 8.82 & 127 & 1659495600 & Summer\\\\\n",
       "\t Suzhou & Rain   & 10000 & 33.07 & 33.07 & 33.07 & 1006 & 58 & 9.35 & 140 & 1659506400 & Summer\\\\\n",
       "\t Suzhou & Clouds & 10000 & 30.46 & 30.46 & 30.46 & 1006 & 71 & 7.94 & 132 & 1659517200 & Summer\\\\\n",
       "\t Suzhou & Clouds & 10000 & 28.33 & 28.33 & 28.33 & 1007 & 78 & 8.07 & 130 & 1659528000 & Summer\\\\\n",
       "\t Suzhou & Clouds & 10000 & 28.20 & 28.20 & 28.20 & 1007 & 79 & 7.93 & 133 & 1659538800 & Summer\\\\\n",
       "\t Suzhou & Clouds & 10000 & 27.70 & 27.70 & 27.70 & 1007 & 81 & 6.42 & 135 & 1659549600 & Summer\\\\\n",
       "\t Suzhou & Clouds & 10000 & 27.54 & 27.54 & 27.54 & 1007 & 81 & 6.24 & 134 & 1659560400 & Summer\\\\\n",
       "\\end{tabular}\n"
      ],
      "text/markdown": [
       "\n",
       "A data.frame: 160 × 12\n",
       "\n",
       "| city &lt;chr&gt; | weather &lt;chr&gt; | visibility &lt;int&gt; | temp &lt;dbl&gt; | temp_min &lt;dbl&gt; | temp_max &lt;dbl&gt; | pressure &lt;int&gt; | humidity &lt;int&gt; | wind_speed &lt;dbl&gt; | wind_deg &lt;int&gt; | forecast_datetime &lt;dbl&gt; | season &lt;chr&gt; |\n",
       "|---|---|---|---|---|---|---|---|---|---|---|---|\n",
       "| Seoul | Clear  | 10000 | 30.08 | 30.08 | 30.65 | 1011 | 66 | 1.96 |  82 | 1659139200 | Summer |\n",
       "| Seoul | Clouds | 10000 | 31.74 | 31.74 | 35.07 | 1011 | 58 | 2.98 | 110 | 1659150000 | Summer |\n",
       "| Seoul | Clouds | 10000 | 34.19 | 34.19 | 36.25 | 1009 | 48 | 2.45 | 123 | 1659160800 | Summer |\n",
       "| Seoul | Rain   | 10000 | 28.94 | 28.94 | 28.94 | 1009 | 74 | 2.43 | 198 | 1659171600 | Summer |\n",
       "| Seoul | Rain   | 10000 | 27.66 | 27.66 | 27.66 | 1010 | 80 | 1.40 |  50 | 1659182400 | Summer |\n",
       "| Seoul | Clouds | 10000 | 26.85 | 26.85 | 26.85 | 1009 | 82 | 1.59 |  77 | 1659193200 | Summer |\n",
       "| Seoul | Clouds | 10000 | 26.19 | 26.19 | 26.19 | 1008 | 85 | 1.72 |  79 | 1659204000 | Summer |\n",
       "| Seoul | Rain   | 10000 | 25.67 | 25.67 | 25.67 | 1009 | 87 | 1.37 |  86 | 1659214800 | Summer |\n",
       "| Seoul | Rain   | 10000 | 24.84 | 24.84 | 24.84 | 1009 | 94 | 1.96 |  61 | 1659225600 | Summer |\n",
       "| Seoul | Rain   | 10000 | 25.30 | 25.30 | 25.30 | 1008 | 93 | 2.22 |  44 | 1659236400 | Summer |\n",
       "| Seoul | Rain   | 10000 | 27.84 | 27.84 | 27.84 | 1006 | 79 | 2.42 |  71 | 1659247200 | Summer |\n",
       "| Seoul | Rain   |  8506 | 25.72 | 25.72 | 25.72 | 1006 | 90 | 3.31 | 115 | 1659258000 | Summer |\n",
       "| Seoul | Rain   | 10000 | 25.50 | 25.50 | 25.50 | 1006 | 88 | 4.21 | 110 | 1659268800 | Summer |\n",
       "| Seoul | Rain   | 10000 | 25.17 | 25.17 | 25.17 | 1006 | 88 | 4.31 | 126 | 1659279600 | Summer |\n",
       "| Seoul | Rain   | 10000 | 25.48 | 25.48 | 25.48 | 1005 | 85 | 3.70 | 125 | 1659290400 | Summer |\n",
       "| Seoul | Clouds | 10000 | 25.73 | 25.73 | 25.73 | 1005 | 79 | 4.23 | 122 | 1659301200 | Summer |\n",
       "| Seoul | Rain   | 10000 | 26.23 | 26.23 | 26.23 | 1005 | 79 | 4.82 | 125 | 1659312000 | Summer |\n",
       "| Seoul | Clouds | 10000 | 32.19 | 32.19 | 32.19 | 1005 | 56 | 6.89 | 140 | 1659322800 | Summer |\n",
       "| Seoul | Clouds | 10000 | 32.47 | 32.47 | 32.47 | 1004 | 57 | 6.64 | 142 | 1659333600 | Summer |\n",
       "| Seoul | Clouds | 10000 | 30.54 | 30.54 | 30.54 | 1003 | 66 | 6.33 | 131 | 1659344400 | Summer |\n",
       "| Seoul | Rain   | 10000 | 27.17 | 27.17 | 27.17 | 1005 | 82 | 5.16 | 139 | 1659355200 | Summer |\n",
       "| Seoul | Rain   | 10000 | 26.38 | 26.38 | 26.38 | 1007 | 91 | 1.88 | 148 | 1659366000 | Summer |\n",
       "| Seoul | Rain   | 10000 | 26.13 | 26.13 | 26.13 | 1007 | 92 | 2.15 | 149 | 1659376800 | Summer |\n",
       "| Seoul | Rain   | 10000 | 25.79 | 25.79 | 25.79 | 1008 | 91 | 1.80 | 143 | 1659387600 | Summer |\n",
       "| Seoul | Rain   | 10000 | 28.10 | 28.10 | 28.10 | 1009 | 79 | 3.70 | 179 | 1659398400 | Summer |\n",
       "| Seoul | Rain   | 10000 | 29.06 | 29.06 | 29.06 | 1009 | 78 | 4.54 | 199 | 1659409200 | Summer |\n",
       "| Seoul | Rain   | 10000 | 30.64 | 30.64 | 30.64 | 1008 | 66 | 5.91 | 217 | 1659420000 | Summer |\n",
       "| Seoul | Rain   | 10000 | 29.29 | 29.29 | 29.29 | 1009 | 70 | 4.96 | 222 | 1659430800 | Summer |\n",
       "| Seoul | Clouds | 10000 | 26.88 | 26.88 | 26.88 | 1011 | 84 | 2.72 | 198 | 1659441600 | Summer |\n",
       "| Seoul | Rain   | 10000 | 25.85 | 25.85 | 25.85 | 1011 | 91 | 2.23 | 189 | 1659452400 | Summer |\n",
       "| ... | ... | ... | ... | ... | ... | ... | ... | ... | ... | ... | ... |\n",
       "| Suzhou | Clouds | 10000 | 33.59 | 33.59 | 33.59 |  999 | 55 | 5.86 | 288 | 1659247200 | Summer |\n",
       "| Suzhou | Rain   | 10000 | 32.02 | 32.02 | 32.02 | 1000 | 62 | 4.83 | 304 | 1659258000 | Summer |\n",
       "| Suzhou | Rain   | 10000 | 28.15 | 28.15 | 28.15 | 1001 | 80 | 2.73 | 332 | 1659268800 | Summer |\n",
       "| Suzhou | Clear  | 10000 | 27.56 | 27.56 | 27.56 | 1002 | 83 | 2.30 | 309 | 1659279600 | Summer |\n",
       "| Suzhou | Rain   | 10000 | 26.48 | 26.48 | 26.48 | 1002 | 88 | 1.94 | 340 | 1659290400 | Summer |\n",
       "| Suzhou | Rain   | 10000 | 25.93 | 25.93 | 25.93 | 1003 | 91 | 1.85 | 321 | 1659301200 | Summer |\n",
       "| Suzhou | Clouds | 10000 | 29.11 | 29.11 | 29.11 | 1004 | 74 | 4.01 | 309 | 1659312000 | Summer |\n",
       "| Suzhou | Clouds | 10000 | 32.67 | 32.67 | 32.67 | 1004 | 58 | 3.23 | 302 | 1659322800 | Summer |\n",
       "| Suzhou | Clouds | 10000 | 33.56 | 33.56 | 33.56 | 1002 | 56 | 2.28 | 287 | 1659333600 | Summer |\n",
       "| Suzhou | Clouds | 10000 | 33.57 | 33.57 | 33.57 | 1002 | 56 | 0.32 | 360 | 1659344400 | Summer |\n",
       "| Suzhou | Rain   | 10000 | 29.41 | 29.41 | 29.41 | 1004 | 75 | 3.55 | 122 | 1659355200 | Summer |\n",
       "| Suzhou | Rain   | 10000 | 28.18 | 28.18 | 28.18 | 1005 | 81 | 3.26 | 134 | 1659366000 | Summer |\n",
       "| Suzhou | Rain   | 10000 | 27.45 | 27.45 | 27.45 | 1004 | 84 | 2.41 | 128 | 1659376800 | Summer |\n",
       "| Suzhou | Rain   | 10000 | 27.02 | 27.02 | 27.02 | 1005 | 84 | 2.63 | 114 | 1659387600 | Summer |\n",
       "| Suzhou | Clear  | 10000 | 30.72 | 30.72 | 30.72 | 1006 | 67 | 3.94 | 117 | 1659398400 | Summer |\n",
       "| Suzhou | Clouds | 10000 | 34.31 | 34.31 | 34.31 | 1006 | 53 | 4.51 | 118 | 1659409200 | Summer |\n",
       "| Suzhou | Clouds | 10000 | 34.68 | 34.68 | 34.68 | 1005 | 54 | 5.58 | 122 | 1659420000 | Summer |\n",
       "| Suzhou | Rain   | 10000 | 31.98 | 31.98 | 31.98 | 1005 | 65 | 6.40 | 125 | 1659430800 | Summer |\n",
       "| Suzhou | Clouds | 10000 | 28.75 | 28.75 | 28.75 | 1006 | 81 | 6.13 | 119 | 1659441600 | Summer |\n",
       "| Suzhou | Clouds | 10000 | 28.26 | 28.26 | 28.26 | 1007 | 81 | 6.38 | 134 | 1659452400 | Summer |\n",
       "| Suzhou | Clouds | 10000 | 27.57 | 27.57 | 27.57 | 1007 | 83 | 5.04 | 129 | 1659463200 | Summer |\n",
       "| Suzhou | Clouds | 10000 | 27.28 | 27.28 | 27.28 | 1007 | 85 | 5.22 | 123 | 1659474000 | Summer |\n",
       "| Suzhou | Clouds | 10000 | 29.95 | 29.95 | 29.95 | 1008 | 73 | 7.61 | 127 | 1659484800 | Summer |\n",
       "| Suzhou | Rain   | 10000 | 32.10 | 32.10 | 32.10 | 1007 | 63 | 8.82 | 127 | 1659495600 | Summer |\n",
       "| Suzhou | Rain   | 10000 | 33.07 | 33.07 | 33.07 | 1006 | 58 | 9.35 | 140 | 1659506400 | Summer |\n",
       "| Suzhou | Clouds | 10000 | 30.46 | 30.46 | 30.46 | 1006 | 71 | 7.94 | 132 | 1659517200 | Summer |\n",
       "| Suzhou | Clouds | 10000 | 28.33 | 28.33 | 28.33 | 1007 | 78 | 8.07 | 130 | 1659528000 | Summer |\n",
       "| Suzhou | Clouds | 10000 | 28.20 | 28.20 | 28.20 | 1007 | 79 | 7.93 | 133 | 1659538800 | Summer |\n",
       "| Suzhou | Clouds | 10000 | 27.70 | 27.70 | 27.70 | 1007 | 81 | 6.42 | 135 | 1659549600 | Summer |\n",
       "| Suzhou | Clouds | 10000 | 27.54 | 27.54 | 27.54 | 1007 | 81 | 6.24 | 134 | 1659560400 | Summer |\n",
       "\n"
      ],
      "text/plain": [
       "    city   weather visibility temp  temp_min temp_max pressure humidity\n",
       "1   Seoul  Clear   10000      30.08 30.08    30.65    1011     66      \n",
       "2   Seoul  Clouds  10000      31.74 31.74    35.07    1011     58      \n",
       "3   Seoul  Clouds  10000      34.19 34.19    36.25    1009     48      \n",
       "4   Seoul  Rain    10000      28.94 28.94    28.94    1009     74      \n",
       "5   Seoul  Rain    10000      27.66 27.66    27.66    1010     80      \n",
       "6   Seoul  Clouds  10000      26.85 26.85    26.85    1009     82      \n",
       "7   Seoul  Clouds  10000      26.19 26.19    26.19    1008     85      \n",
       "8   Seoul  Rain    10000      25.67 25.67    25.67    1009     87      \n",
       "9   Seoul  Rain    10000      24.84 24.84    24.84    1009     94      \n",
       "10  Seoul  Rain    10000      25.30 25.30    25.30    1008     93      \n",
       "11  Seoul  Rain    10000      27.84 27.84    27.84    1006     79      \n",
       "12  Seoul  Rain     8506      25.72 25.72    25.72    1006     90      \n",
       "13  Seoul  Rain    10000      25.50 25.50    25.50    1006     88      \n",
       "14  Seoul  Rain    10000      25.17 25.17    25.17    1006     88      \n",
       "15  Seoul  Rain    10000      25.48 25.48    25.48    1005     85      \n",
       "16  Seoul  Clouds  10000      25.73 25.73    25.73    1005     79      \n",
       "17  Seoul  Rain    10000      26.23 26.23    26.23    1005     79      \n",
       "18  Seoul  Clouds  10000      32.19 32.19    32.19    1005     56      \n",
       "19  Seoul  Clouds  10000      32.47 32.47    32.47    1004     57      \n",
       "20  Seoul  Clouds  10000      30.54 30.54    30.54    1003     66      \n",
       "21  Seoul  Rain    10000      27.17 27.17    27.17    1005     82      \n",
       "22  Seoul  Rain    10000      26.38 26.38    26.38    1007     91      \n",
       "23  Seoul  Rain    10000      26.13 26.13    26.13    1007     92      \n",
       "24  Seoul  Rain    10000      25.79 25.79    25.79    1008     91      \n",
       "25  Seoul  Rain    10000      28.10 28.10    28.10    1009     79      \n",
       "26  Seoul  Rain    10000      29.06 29.06    29.06    1009     78      \n",
       "27  Seoul  Rain    10000      30.64 30.64    30.64    1008     66      \n",
       "28  Seoul  Rain    10000      29.29 29.29    29.29    1009     70      \n",
       "29  Seoul  Clouds  10000      26.88 26.88    26.88    1011     84      \n",
       "30  Seoul  Rain    10000      25.85 25.85    25.85    1011     91      \n",
       "... ...    ...     ...        ...   ...      ...      ...      ...     \n",
       "131 Suzhou Clouds  10000      33.59 33.59    33.59     999     55      \n",
       "132 Suzhou Rain    10000      32.02 32.02    32.02    1000     62      \n",
       "133 Suzhou Rain    10000      28.15 28.15    28.15    1001     80      \n",
       "134 Suzhou Clear   10000      27.56 27.56    27.56    1002     83      \n",
       "135 Suzhou Rain    10000      26.48 26.48    26.48    1002     88      \n",
       "136 Suzhou Rain    10000      25.93 25.93    25.93    1003     91      \n",
       "137 Suzhou Clouds  10000      29.11 29.11    29.11    1004     74      \n",
       "138 Suzhou Clouds  10000      32.67 32.67    32.67    1004     58      \n",
       "139 Suzhou Clouds  10000      33.56 33.56    33.56    1002     56      \n",
       "140 Suzhou Clouds  10000      33.57 33.57    33.57    1002     56      \n",
       "141 Suzhou Rain    10000      29.41 29.41    29.41    1004     75      \n",
       "142 Suzhou Rain    10000      28.18 28.18    28.18    1005     81      \n",
       "143 Suzhou Rain    10000      27.45 27.45    27.45    1004     84      \n",
       "144 Suzhou Rain    10000      27.02 27.02    27.02    1005     84      \n",
       "145 Suzhou Clear   10000      30.72 30.72    30.72    1006     67      \n",
       "146 Suzhou Clouds  10000      34.31 34.31    34.31    1006     53      \n",
       "147 Suzhou Clouds  10000      34.68 34.68    34.68    1005     54      \n",
       "148 Suzhou Rain    10000      31.98 31.98    31.98    1005     65      \n",
       "149 Suzhou Clouds  10000      28.75 28.75    28.75    1006     81      \n",
       "150 Suzhou Clouds  10000      28.26 28.26    28.26    1007     81      \n",
       "151 Suzhou Clouds  10000      27.57 27.57    27.57    1007     83      \n",
       "152 Suzhou Clouds  10000      27.28 27.28    27.28    1007     85      \n",
       "153 Suzhou Clouds  10000      29.95 29.95    29.95    1008     73      \n",
       "154 Suzhou Rain    10000      32.10 32.10    32.10    1007     63      \n",
       "155 Suzhou Rain    10000      33.07 33.07    33.07    1006     58      \n",
       "156 Suzhou Clouds  10000      30.46 30.46    30.46    1006     71      \n",
       "157 Suzhou Clouds  10000      28.33 28.33    28.33    1007     78      \n",
       "158 Suzhou Clouds  10000      28.20 28.20    28.20    1007     79      \n",
       "159 Suzhou Clouds  10000      27.70 27.70    27.70    1007     81      \n",
       "160 Suzhou Clouds  10000      27.54 27.54    27.54    1007     81      \n",
       "    wind_speed wind_deg forecast_datetime season\n",
       "1   1.96        82      1659139200        Summer\n",
       "2   2.98       110      1659150000        Summer\n",
       "3   2.45       123      1659160800        Summer\n",
       "4   2.43       198      1659171600        Summer\n",
       "5   1.40        50      1659182400        Summer\n",
       "6   1.59        77      1659193200        Summer\n",
       "7   1.72        79      1659204000        Summer\n",
       "8   1.37        86      1659214800        Summer\n",
       "9   1.96        61      1659225600        Summer\n",
       "10  2.22        44      1659236400        Summer\n",
       "11  2.42        71      1659247200        Summer\n",
       "12  3.31       115      1659258000        Summer\n",
       "13  4.21       110      1659268800        Summer\n",
       "14  4.31       126      1659279600        Summer\n",
       "15  3.70       125      1659290400        Summer\n",
       "16  4.23       122      1659301200        Summer\n",
       "17  4.82       125      1659312000        Summer\n",
       "18  6.89       140      1659322800        Summer\n",
       "19  6.64       142      1659333600        Summer\n",
       "20  6.33       131      1659344400        Summer\n",
       "21  5.16       139      1659355200        Summer\n",
       "22  1.88       148      1659366000        Summer\n",
       "23  2.15       149      1659376800        Summer\n",
       "24  1.80       143      1659387600        Summer\n",
       "25  3.70       179      1659398400        Summer\n",
       "26  4.54       199      1659409200        Summer\n",
       "27  5.91       217      1659420000        Summer\n",
       "28  4.96       222      1659430800        Summer\n",
       "29  2.72       198      1659441600        Summer\n",
       "30  2.23       189      1659452400        Summer\n",
       "... ...        ...      ...               ...   \n",
       "131 5.86       288      1659247200        Summer\n",
       "132 4.83       304      1659258000        Summer\n",
       "133 2.73       332      1659268800        Summer\n",
       "134 2.30       309      1659279600        Summer\n",
       "135 1.94       340      1659290400        Summer\n",
       "136 1.85       321      1659301200        Summer\n",
       "137 4.01       309      1659312000        Summer\n",
       "138 3.23       302      1659322800        Summer\n",
       "139 2.28       287      1659333600        Summer\n",
       "140 0.32       360      1659344400        Summer\n",
       "141 3.55       122      1659355200        Summer\n",
       "142 3.26       134      1659366000        Summer\n",
       "143 2.41       128      1659376800        Summer\n",
       "144 2.63       114      1659387600        Summer\n",
       "145 3.94       117      1659398400        Summer\n",
       "146 4.51       118      1659409200        Summer\n",
       "147 5.58       122      1659420000        Summer\n",
       "148 6.40       125      1659430800        Summer\n",
       "149 6.13       119      1659441600        Summer\n",
       "150 6.38       134      1659452400        Summer\n",
       "151 5.04       129      1659463200        Summer\n",
       "152 5.22       123      1659474000        Summer\n",
       "153 7.61       127      1659484800        Summer\n",
       "154 8.82       127      1659495600        Summer\n",
       "155 9.35       140      1659506400        Summer\n",
       "156 7.94       132      1659517200        Summer\n",
       "157 8.07       130      1659528000        Summer\n",
       "158 7.93       133      1659538800        Summer\n",
       "159 6.42       135      1659549600        Summer\n",
       "160 6.24       134      1659560400        Summer"
      ]
     },
     "metadata": {},
     "output_type": "display_data"
    },
    {
     "name": "stdout",
     "output_type": "stream",
     "text": [
      "'data.frame':\t160 obs. of  12 variables:\n",
      " $ city             : chr  \"Seoul\" \"Seoul\" \"Seoul\" \"Seoul\" ...\n",
      " $ weather          : chr  \"Clear\" \"Clouds\" \"Clouds\" \"Rain\" ...\n",
      " $ visibility       : int  10000 10000 10000 10000 10000 10000 10000 10000 10000 10000 ...\n",
      " $ temp             : num  30.1 31.7 34.2 28.9 27.7 ...\n",
      " $ temp_min         : num  30.1 31.7 34.2 28.9 27.7 ...\n",
      " $ temp_max         : num  30.6 35.1 36.2 28.9 27.7 ...\n",
      " $ pressure         : int  1011 1011 1009 1009 1010 1009 1008 1009 1009 1008 ...\n",
      " $ humidity         : int  66 58 48 74 80 82 85 87 94 93 ...\n",
      " $ wind_speed       : num  1.96 2.98 2.45 2.43 1.4 1.59 1.72 1.37 1.96 2.22 ...\n",
      " $ wind_deg         : int  82 110 123 198 50 77 79 86 61 44 ...\n",
      " $ forecast_datetime: num  1.66e+09 1.66e+09 1.66e+09 1.66e+09 1.66e+09 ...\n",
      " $ season           : chr  \"Summer\" \"Summer\" \"Summer\" \"Summer\" ...\n"
     ]
    }
   ],
   "source": [
    "cities <- c(\"Seoul\", \"Washington, D.C.\", \"Paris\", \"Suzhou\")\n",
    "cities_weather_df <- get_weather_forecaset_by_cities(cities)\n",
    "cities_weather_df\n",
    "str(cities_weather_df)"
   ]
  },
  {
   "cell_type": "code",
   "execution_count": 18,
   "metadata": {},
   "outputs": [],
   "source": [
    "# Write cities_weather_df to `cities_weather_forecast.csv`\n",
    "write.csv(cities_weather_df, \"cities_weather_forecast.csv\", row.names=FALSE)"
   ]
  },
  {
   "cell_type": "markdown",
   "metadata": {},
   "source": [
    "For more details about HTTP requests with `httr`, please refer to the previous HTTP request notebook here:\n",
    "\n",
    "[HTTP request in R](https://cf-courses-data.s3.us.cloud-object-storage.appdomain.cloud/IBMDeveloperSkillsNetwork-RP0101EN-Coursera/v2/M4\\_Working_With_Data/lab2\\_jupyter_http-request.ipynb)\n"
   ]
  },
  {
   "cell_type": "markdown",
   "metadata": {},
   "source": [
    "## TASK: Download datasets as csv files from cloud storage\n"
   ]
  },
  {
   "cell_type": "markdown",
   "metadata": {},
   "source": [
    "The last task of this lab is straightforward: download some aggregated datasets from cloud storage\n"
   ]
  },
  {
   "cell_type": "code",
   "execution_count": 19,
   "metadata": {},
   "outputs": [],
   "source": [
    "# Download several datasets\n",
    "\n",
    "# Download some general city information such as name and locations\n",
    "url <- \"https://cf-courses-data.s3.us.cloud-object-storage.appdomain.cloud/IBMDeveloperSkillsNetwork-RP0321EN-SkillsNetwork/labs/datasets/raw_worldcities.csv\"\n",
    "# download the file\n",
    "download.file(url, destfile = \"raw_worldcities.csv\")\n",
    "\n",
    "# Download a specific hourly Seoul bike sharing demand dataset\n",
    "url <- \"https://cf-courses-data.s3.us.cloud-object-storage.appdomain.cloud/IBMDeveloperSkillsNetwork-RP0321EN-SkillsNetwork/labs/datasets/raw_seoul_bike_sharing.csv\"\n",
    "# download the file\n",
    "download.file(url, destfile = \"raw_seoul_bike_sharing.csv\")"
   ]
  },
  {
   "cell_type": "markdown",
   "metadata": {},
   "source": [
    "## Next Step\n"
   ]
  },
  {
   "cell_type": "markdown",
   "metadata": {},
   "source": [
    "Now you should collect all datasets required for this project, all in csv format. Feel free to explore them preliminarily now. However, they are the raw datasets and have to be processed for further data visualization or data analysis.\n",
    "\n",
    "In the next module, you will improve their quality by performing data wrangling tasks.\n"
   ]
  },
  {
   "cell_type": "markdown",
   "metadata": {},
   "source": [
    "## Authors\n",
    "\n",
    "<a href=\"https://www.linkedin.com/in/yan-luo-96288783/?utm_medium=Exinfluencer&utm_source=Exinfluencer&utm_content=000026UJ&utm_term=10006555&utm_id=NA-SkillsNetwork-Channel-SkillsNetworkCoursesIBMDeveloperSkillsNetworkRP0321ENSkillsNetwork25371262-2022-01-01\" target=\"_blank\">Yan Luo</a>\n"
   ]
  },
  {
   "cell_type": "markdown",
   "metadata": {},
   "source": [
    "### Other Contributors\n"
   ]
  },
  {
   "cell_type": "markdown",
   "metadata": {},
   "source": [
    "## Change Log\n",
    "\n",
    "| Date (YYYY-MM-DD) | Version | Changed By | Change Description      |\n",
    "| ----------------- | ------- | ---------- | ----------------------- |\n",
    "| 2021-04-05        | 0.1     | Yan        | Initial version created |\n",
    "|                   |         |            |                         |\n",
    "|                   |         |            |                         |\n",
    "\n",
    "## <h3 align=\"center\"> © IBM Corporation 2021. All rights reserved. <h3/>\n"
   ]
  }
 ],
 "metadata": {
  "kernelspec": {
   "display_name": "R",
   "language": "R",
   "name": "ir"
  },
  "language_info": {
   "codemirror_mode": "r",
   "file_extension": ".r",
   "mimetype": "text/x-r-source",
   "name": "R",
   "pygments_lexer": "r",
   "version": "4.1.0"
  },
  "toc": {
   "base_numbering": 1,
   "nav_menu": {},
   "number_sections": true,
   "sideBar": true,
   "skip_h1_title": false,
   "title_cell": "Table of Contents",
   "title_sidebar": "Contents",
   "toc_cell": false,
   "toc_position": {},
   "toc_section_display": true,
   "toc_window_display": false
  }
 },
 "nbformat": 4,
 "nbformat_minor": 4
}
