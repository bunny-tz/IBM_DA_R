{
 "cells": [
  {
   "cell_type": "markdown",
   "metadata": {},
   "source": [
    "<a href=\"https://cognitiveclass.ai/?utm_medium=Exinfluencer&utm_source=Exinfluencer&utm_content=000026UJ&utm_term=10006555&utm_id=NA-SkillsNetwork-Channel-SkillsNetworkCoursesIBMDeveloperSkillsNetworkRP0321ENSkillsNetwork25371262-2022-01-01\">\n",
    "    <img src=\"https://cf-courses-data.s3.us.cloud-object-storage.appdomain.cloud/IBMDeveloperSkillsNetwork-RP0101EN-Coursera/v2/M1_R_Basics/images/IDSNlogo.png\" width=\"200\" align=\"center\">\n",
    "</a>\n"
   ]
  },
  {
   "cell_type": "markdown",
   "metadata": {},
   "source": [
    "<h1>Refine the Baseline Regression Models</h1>\n",
    "\n",
    "Estimated time needed: **120** minutes\n"
   ]
  },
  {
   "cell_type": "markdown",
   "metadata": {},
   "source": [
    "## Lab Overview:\n",
    "\n",
    "Now you have built a baseline regression model with some relatively good RMSE and R-squared reported values. However, we could still improve it by using methods like adding polynomial and interaction terms, regularization, and so on.\n",
    "\n",
    "In this lab, you will be asked to continue using `tidymodels` to improve the performance of baseline model:\n",
    "\n",
    "*   **TASK: Add polynomial terms**\n",
    "*   **TASK: Add interactions terms**\n",
    "*   **TASK: Add regularizations terms**\n",
    "*   **TASK: Experiment to search for improved models**\n",
    "\n",
    "Let's start!\n"
   ]
  },
  {
   "cell_type": "markdown",
   "metadata": {},
   "source": [
    "First install and import necessary libraries\n"
   ]
  },
  {
   "cell_type": "code",
   "execution_count": 1,
   "metadata": {},
   "outputs": [],
   "source": [
    "# Check whether you need to install `rlang` and `tidymodels` libraries\n",
    "#install.packages(\"rlang\")\n",
    "#install.packages(\"tidymodels\")"
   ]
  },
  {
   "cell_type": "code",
   "execution_count": 2,
   "metadata": {},
   "outputs": [
    {
     "name": "stderr",
     "output_type": "stream",
     "text": [
      "Warning message:\n",
      "\"package 'tidymodels' was built under R version 4.1.3\"\n",
      "-- \u001b[1mAttaching packages\u001b[22m ------------------------------------------------------------------------------ tidymodels 1.0.0 --\n",
      "\n",
      "\u001b[32mv\u001b[39m \u001b[34mbroom       \u001b[39m 1.0.0     \u001b[32mv\u001b[39m \u001b[34mrecipes     \u001b[39m 1.0.1\n",
      "\u001b[32mv\u001b[39m \u001b[34mdials       \u001b[39m 1.0.0     \u001b[32mv\u001b[39m \u001b[34mrsample     \u001b[39m 1.0.0\n",
      "\u001b[32mv\u001b[39m \u001b[34mdplyr       \u001b[39m 1.0.9     \u001b[32mv\u001b[39m \u001b[34mtibble      \u001b[39m 3.1.7\n",
      "\u001b[32mv\u001b[39m \u001b[34mggplot2     \u001b[39m 3.3.6     \u001b[32mv\u001b[39m \u001b[34mtidyr       \u001b[39m 1.2.0\n",
      "\u001b[32mv\u001b[39m \u001b[34minfer       \u001b[39m 1.0.2     \u001b[32mv\u001b[39m \u001b[34mtune        \u001b[39m 1.0.0\n",
      "\u001b[32mv\u001b[39m \u001b[34mmodeldata   \u001b[39m 1.0.0     \u001b[32mv\u001b[39m \u001b[34mworkflows   \u001b[39m 1.0.0\n",
      "\u001b[32mv\u001b[39m \u001b[34mparsnip     \u001b[39m 1.0.0     \u001b[32mv\u001b[39m \u001b[34mworkflowsets\u001b[39m 1.0.0\n",
      "\u001b[32mv\u001b[39m \u001b[34mpurrr       \u001b[39m 0.3.4     \u001b[32mv\u001b[39m \u001b[34myardstick   \u001b[39m 1.0.0\n",
      "\n",
      "Warning message:\n",
      "\"package 'broom' was built under R version 4.1.3\"\n",
      "Warning message:\n",
      "\"package 'dials' was built under R version 4.1.3\"\n",
      "Warning message:\n",
      "\"package 'scales' was built under R version 4.1.3\"\n",
      "Warning message:\n",
      "\"package 'dplyr' was built under R version 4.1.3\"\n",
      "Warning message:\n",
      "\"package 'ggplot2' was built under R version 4.1.3\"\n",
      "Warning message:\n",
      "\"package 'infer' was built under R version 4.1.3\"\n",
      "Warning message:\n",
      "\"package 'modeldata' was built under R version 4.1.3\"\n",
      "Warning message:\n",
      "\"package 'parsnip' was built under R version 4.1.3\"\n",
      "Warning message:\n",
      "\"package 'purrr' was built under R version 4.1.3\"\n",
      "Warning message:\n",
      "\"package 'recipes' was built under R version 4.1.3\"\n",
      "Warning message:\n",
      "\"package 'rsample' was built under R version 4.1.3\"\n",
      "Warning message:\n",
      "\"package 'tibble' was built under R version 4.1.3\"\n",
      "Warning message:\n",
      "\"package 'tidyr' was built under R version 4.1.3\"\n",
      "Warning message:\n",
      "\"package 'tune' was built under R version 4.1.3\"\n",
      "Warning message:\n",
      "\"package 'workflows' was built under R version 4.1.3\"\n",
      "Warning message:\n",
      "\"package 'workflowsets' was built under R version 4.1.3\"\n",
      "Warning message:\n",
      "\"package 'yardstick' was built under R version 4.1.3\"\n",
      "-- \u001b[1mConflicts\u001b[22m --------------------------------------------------------------------------------- tidymodels_conflicts() --\n",
      "\u001b[31mx\u001b[39m \u001b[34mpurrr\u001b[39m::\u001b[32mdiscard()\u001b[39m masks \u001b[34mscales\u001b[39m::discard()\n",
      "\u001b[31mx\u001b[39m \u001b[34mdplyr\u001b[39m::\u001b[32mfilter()\u001b[39m  masks \u001b[34mstats\u001b[39m::filter()\n",
      "\u001b[31mx\u001b[39m \u001b[34mdplyr\u001b[39m::\u001b[32mlag()\u001b[39m     masks \u001b[34mstats\u001b[39m::lag()\n",
      "\u001b[31mx\u001b[39m \u001b[34mrecipes\u001b[39m::\u001b[32mstep()\u001b[39m  masks \u001b[34mstats\u001b[39m::step()\n",
      "\u001b[34m*\u001b[39m Use suppressPackageStartupMessages() to eliminate package startup messages\n",
      "\n",
      "Warning message:\n",
      "\"package 'tidyverse' was built under R version 4.1.3\"\n",
      "-- \u001b[1mAttaching packages\u001b[22m ------------------------------------------------------------------------------- tidyverse 1.3.2 --\n",
      "\u001b[32mv\u001b[39m \u001b[34mreadr  \u001b[39m 2.1.2     \u001b[32mv\u001b[39m \u001b[34mforcats\u001b[39m 0.5.1\n",
      "\u001b[32mv\u001b[39m \u001b[34mstringr\u001b[39m 1.4.0     \n",
      "Warning message:\n",
      "\"package 'readr' was built under R version 4.1.3\"\n",
      "Warning message:\n",
      "\"package 'stringr' was built under R version 4.1.3\"\n",
      "Warning message:\n",
      "\"package 'forcats' was built under R version 4.1.3\"\n",
      "-- \u001b[1mConflicts\u001b[22m ---------------------------------------------------------------------------------- tidyverse_conflicts() --\n",
      "\u001b[31mx\u001b[39m \u001b[34mreadr\u001b[39m::\u001b[32mcol_factor()\u001b[39m masks \u001b[34mscales\u001b[39m::col_factor()\n",
      "\u001b[31mx\u001b[39m \u001b[34mpurrr\u001b[39m::\u001b[32mdiscard()\u001b[39m    masks \u001b[34mscales\u001b[39m::discard()\n",
      "\u001b[31mx\u001b[39m \u001b[34mdplyr\u001b[39m::\u001b[32mfilter()\u001b[39m     masks \u001b[34mstats\u001b[39m::filter()\n",
      "\u001b[31mx\u001b[39m \u001b[34mstringr\u001b[39m::\u001b[32mfixed()\u001b[39m    masks \u001b[34mrecipes\u001b[39m::fixed()\n",
      "\u001b[31mx\u001b[39m \u001b[34mdplyr\u001b[39m::\u001b[32mlag()\u001b[39m        masks \u001b[34mstats\u001b[39m::lag()\n",
      "\u001b[31mx\u001b[39m \u001b[34mreadr\u001b[39m::\u001b[32mspec()\u001b[39m       masks \u001b[34myardstick\u001b[39m::spec()\n",
      "Warning message:\n",
      "\"package 'glmnet' was built under R version 4.1.3\"\n",
      "Loading required package: Matrix\n",
      "\n",
      "Warning message:\n",
      "\"package 'Matrix' was built under R version 4.1.3\"\n",
      "\n",
      "Attaching package: 'Matrix'\n",
      "\n",
      "\n",
      "The following objects are masked from 'package:tidyr':\n",
      "\n",
      "    expand, pack, unpack\n",
      "\n",
      "\n",
      "Loaded glmnet 4.1-4\n",
      "\n"
     ]
    }
   ],
   "source": [
    "library(\"tidymodels\")\n",
    "library(\"tidyverse\")\n",
    "library(\"stringr\")\n",
    "library('glmnet')"
   ]
  },
  {
   "cell_type": "markdown",
   "metadata": {},
   "source": [
    "The processed Seoul bike sharing dataset `seoul_bike_sharing_converted_normalized.csv`,  includes the converted indicator variables, and the numerical variables have been normalized.\n",
    "Let's read it as a dataframe first:\n"
   ]
  },
  {
   "cell_type": "code",
   "execution_count": 3,
   "metadata": {},
   "outputs": [
    {
     "name": "stderr",
     "output_type": "stream",
     "text": [
      "\u001b[1mRows: \u001b[22m\u001b[34m8465\u001b[39m \u001b[1mColumns: \u001b[22m\u001b[34m41\u001b[39m\n",
      "\u001b[36m--\u001b[39m \u001b[1mColumn specification\u001b[22m \u001b[36m------------------------------------------------------------------------------------------------\u001b[39m\n",
      "\u001b[1mDelimiter:\u001b[22m \",\"\n",
      "\u001b[31mchr\u001b[39m  (2): DATE, FUNCTIONING_DAY\n",
      "\u001b[32mdbl\u001b[39m (39): RENTED_BIKE_COUNT, TEMPERATURE, HUMIDITY, WIND_SPEED, VISIBILITY, ...\n",
      "\n",
      "\u001b[36mi\u001b[39m Use `spec()` to retrieve the full column specification for this data.\n",
      "\u001b[36mi\u001b[39m Specify the column types or set `show_col_types = FALSE` to quiet this message.\n"
     ]
    },
    {
     "data": {
      "text/plain": [
       "cols(\n",
       "  DATE = \u001b[31mcol_character()\u001b[39m,\n",
       "  RENTED_BIKE_COUNT = \u001b[32mcol_double()\u001b[39m,\n",
       "  TEMPERATURE = \u001b[32mcol_double()\u001b[39m,\n",
       "  HUMIDITY = \u001b[32mcol_double()\u001b[39m,\n",
       "  WIND_SPEED = \u001b[32mcol_double()\u001b[39m,\n",
       "  VISIBILITY = \u001b[32mcol_double()\u001b[39m,\n",
       "  DEW_POINT_TEMPERATURE = \u001b[32mcol_double()\u001b[39m,\n",
       "  SOLAR_RADIATION = \u001b[32mcol_double()\u001b[39m,\n",
       "  RAINFALL = \u001b[32mcol_double()\u001b[39m,\n",
       "  SNOWFALL = \u001b[32mcol_double()\u001b[39m,\n",
       "  FUNCTIONING_DAY = \u001b[31mcol_character()\u001b[39m,\n",
       "  `0` = \u001b[32mcol_double()\u001b[39m,\n",
       "  `1` = \u001b[32mcol_double()\u001b[39m,\n",
       "  `10` = \u001b[32mcol_double()\u001b[39m,\n",
       "  `11` = \u001b[32mcol_double()\u001b[39m,\n",
       "  `12` = \u001b[32mcol_double()\u001b[39m,\n",
       "  `13` = \u001b[32mcol_double()\u001b[39m,\n",
       "  `14` = \u001b[32mcol_double()\u001b[39m,\n",
       "  `15` = \u001b[32mcol_double()\u001b[39m,\n",
       "  `16` = \u001b[32mcol_double()\u001b[39m,\n",
       "  `17` = \u001b[32mcol_double()\u001b[39m,\n",
       "  `18` = \u001b[32mcol_double()\u001b[39m,\n",
       "  `19` = \u001b[32mcol_double()\u001b[39m,\n",
       "  `2` = \u001b[32mcol_double()\u001b[39m,\n",
       "  `20` = \u001b[32mcol_double()\u001b[39m,\n",
       "  `21` = \u001b[32mcol_double()\u001b[39m,\n",
       "  `22` = \u001b[32mcol_double()\u001b[39m,\n",
       "  `23` = \u001b[32mcol_double()\u001b[39m,\n",
       "  `3` = \u001b[32mcol_double()\u001b[39m,\n",
       "  `4` = \u001b[32mcol_double()\u001b[39m,\n",
       "  `5` = \u001b[32mcol_double()\u001b[39m,\n",
       "  `6` = \u001b[32mcol_double()\u001b[39m,\n",
       "  `7` = \u001b[32mcol_double()\u001b[39m,\n",
       "  `8` = \u001b[32mcol_double()\u001b[39m,\n",
       "  `9` = \u001b[32mcol_double()\u001b[39m,\n",
       "  AUTUMN = \u001b[32mcol_double()\u001b[39m,\n",
       "  SPRING = \u001b[32mcol_double()\u001b[39m,\n",
       "  SUMMER = \u001b[32mcol_double()\u001b[39m,\n",
       "  WINTER = \u001b[32mcol_double()\u001b[39m,\n",
       "  HOLIDAY = \u001b[32mcol_double()\u001b[39m,\n",
       "  NO_HOLIDAY = \u001b[32mcol_double()\u001b[39m\n",
       ")"
      ]
     },
     "metadata": {},
     "output_type": "display_data"
    }
   ],
   "source": [
    "# Dataset URL\n",
    "dataset_url <- \"https://cf-courses-data.s3.us.cloud-object-storage.appdomain.cloud/IBMDeveloperSkillsNetwork-RP0321EN-SkillsNetwork/labs/datasets/seoul_bike_sharing_converted_normalized.csv\"\n",
    "bike_sharing_df <- read_csv(dataset_url)\n",
    "spec(bike_sharing_df)"
   ]
  },
  {
   "cell_type": "markdown",
   "metadata": {},
   "source": [
    "We won't be using the `DATE` column, because 'as is', it basically acts like an data entry index. (However, given more time, we could use the `DATE` colum to create a 'day of week' or 'isWeekend' column, which we might expect has an affect on preferred bike rental times.) We also do not need the `FUNCTIONAL DAY` column because it only has one distinct value remaining (`YES`) after missing value processing.\n"
   ]
  },
  {
   "cell_type": "code",
   "execution_count": 4,
   "metadata": {},
   "outputs": [],
   "source": [
    "bike_sharing_df <- bike_sharing_df %>% \n",
    "                   select(-DATE, -FUNCTIONING_DAY)"
   ]
  },
  {
   "cell_type": "code",
   "execution_count": 5,
   "metadata": {},
   "outputs": [
    {
     "data": {
      "text/html": [
       "<table class=\"dataframe\">\n",
       "<caption>A tibble: 6 × 39</caption>\n",
       "<thead>\n",
       "\t<tr><th scope=col>RENTED_BIKE_COUNT</th><th scope=col>TEMPERATURE</th><th scope=col>HUMIDITY</th><th scope=col>WIND_SPEED</th><th scope=col>VISIBILITY</th><th scope=col>DEW_POINT_TEMPERATURE</th><th scope=col>SOLAR_RADIATION</th><th scope=col>RAINFALL</th><th scope=col>SNOWFALL</th><th scope=col>0</th><th scope=col>...</th><th scope=col>6</th><th scope=col>7</th><th scope=col>8</th><th scope=col>9</th><th scope=col>AUTUMN</th><th scope=col>SPRING</th><th scope=col>SUMMER</th><th scope=col>WINTER</th><th scope=col>HOLIDAY</th><th scope=col>NO_HOLIDAY</th></tr>\n",
       "\t<tr><th scope=col>&lt;dbl&gt;</th><th scope=col>&lt;dbl&gt;</th><th scope=col>&lt;dbl&gt;</th><th scope=col>&lt;dbl&gt;</th><th scope=col>&lt;dbl&gt;</th><th scope=col>&lt;dbl&gt;</th><th scope=col>&lt;dbl&gt;</th><th scope=col>&lt;dbl&gt;</th><th scope=col>&lt;dbl&gt;</th><th scope=col>&lt;dbl&gt;</th><th scope=col>...</th><th scope=col>&lt;dbl&gt;</th><th scope=col>&lt;dbl&gt;</th><th scope=col>&lt;dbl&gt;</th><th scope=col>&lt;dbl&gt;</th><th scope=col>&lt;dbl&gt;</th><th scope=col>&lt;dbl&gt;</th><th scope=col>&lt;dbl&gt;</th><th scope=col>&lt;dbl&gt;</th><th scope=col>&lt;dbl&gt;</th><th scope=col>&lt;dbl&gt;</th></tr>\n",
       "</thead>\n",
       "<tbody>\n",
       "\t<tr><td>254</td><td>0.2202797</td><td>0.3775510</td><td>0.2972973</td><td>1</td><td>0.2249135</td><td>0</td><td>0</td><td>0</td><td>1</td><td>...</td><td>0</td><td>0</td><td>0</td><td>0</td><td>0</td><td>0</td><td>0</td><td>1</td><td>0</td><td>1</td></tr>\n",
       "\t<tr><td>204</td><td>0.2150350</td><td>0.3877551</td><td>0.1081081</td><td>1</td><td>0.2249135</td><td>0</td><td>0</td><td>0</td><td>0</td><td>...</td><td>0</td><td>0</td><td>0</td><td>0</td><td>0</td><td>0</td><td>0</td><td>1</td><td>0</td><td>1</td></tr>\n",
       "\t<tr><td>173</td><td>0.2062937</td><td>0.3979592</td><td>0.1351351</td><td>1</td><td>0.2231834</td><td>0</td><td>0</td><td>0</td><td>0</td><td>...</td><td>0</td><td>0</td><td>0</td><td>0</td><td>0</td><td>0</td><td>0</td><td>1</td><td>0</td><td>1</td></tr>\n",
       "\t<tr><td>107</td><td>0.2027972</td><td>0.4081633</td><td>0.1216216</td><td>1</td><td>0.2249135</td><td>0</td><td>0</td><td>0</td><td>0</td><td>...</td><td>0</td><td>0</td><td>0</td><td>0</td><td>0</td><td>0</td><td>0</td><td>1</td><td>0</td><td>1</td></tr>\n",
       "\t<tr><td> 78</td><td>0.2062937</td><td>0.3673469</td><td>0.3108108</td><td>1</td><td>0.2076125</td><td>0</td><td>0</td><td>0</td><td>0</td><td>...</td><td>0</td><td>0</td><td>0</td><td>0</td><td>0</td><td>0</td><td>0</td><td>1</td><td>0</td><td>1</td></tr>\n",
       "\t<tr><td>100</td><td>0.1993007</td><td>0.3775510</td><td>0.2027027</td><td>1</td><td>0.2058824</td><td>0</td><td>0</td><td>0</td><td>0</td><td>...</td><td>0</td><td>0</td><td>0</td><td>0</td><td>0</td><td>0</td><td>0</td><td>1</td><td>0</td><td>1</td></tr>\n",
       "</tbody>\n",
       "</table>\n"
      ],
      "text/latex": [
       "A tibble: 6 × 39\n",
       "\\begin{tabular}{lllllllllllllllllllll}\n",
       " RENTED\\_BIKE\\_COUNT & TEMPERATURE & HUMIDITY & WIND\\_SPEED & VISIBILITY & DEW\\_POINT\\_TEMPERATURE & SOLAR\\_RADIATION & RAINFALL & SNOWFALL & 0 & ... & 6 & 7 & 8 & 9 & AUTUMN & SPRING & SUMMER & WINTER & HOLIDAY & NO\\_HOLIDAY\\\\\n",
       " <dbl> & <dbl> & <dbl> & <dbl> & <dbl> & <dbl> & <dbl> & <dbl> & <dbl> & <dbl> & ... & <dbl> & <dbl> & <dbl> & <dbl> & <dbl> & <dbl> & <dbl> & <dbl> & <dbl> & <dbl>\\\\\n",
       "\\hline\n",
       "\t 254 & 0.2202797 & 0.3775510 & 0.2972973 & 1 & 0.2249135 & 0 & 0 & 0 & 1 & ... & 0 & 0 & 0 & 0 & 0 & 0 & 0 & 1 & 0 & 1\\\\\n",
       "\t 204 & 0.2150350 & 0.3877551 & 0.1081081 & 1 & 0.2249135 & 0 & 0 & 0 & 0 & ... & 0 & 0 & 0 & 0 & 0 & 0 & 0 & 1 & 0 & 1\\\\\n",
       "\t 173 & 0.2062937 & 0.3979592 & 0.1351351 & 1 & 0.2231834 & 0 & 0 & 0 & 0 & ... & 0 & 0 & 0 & 0 & 0 & 0 & 0 & 1 & 0 & 1\\\\\n",
       "\t 107 & 0.2027972 & 0.4081633 & 0.1216216 & 1 & 0.2249135 & 0 & 0 & 0 & 0 & ... & 0 & 0 & 0 & 0 & 0 & 0 & 0 & 1 & 0 & 1\\\\\n",
       "\t  78 & 0.2062937 & 0.3673469 & 0.3108108 & 1 & 0.2076125 & 0 & 0 & 0 & 0 & ... & 0 & 0 & 0 & 0 & 0 & 0 & 0 & 1 & 0 & 1\\\\\n",
       "\t 100 & 0.1993007 & 0.3775510 & 0.2027027 & 1 & 0.2058824 & 0 & 0 & 0 & 0 & ... & 0 & 0 & 0 & 0 & 0 & 0 & 0 & 1 & 0 & 1\\\\\n",
       "\\end{tabular}\n"
      ],
      "text/markdown": [
       "\n",
       "A tibble: 6 × 39\n",
       "\n",
       "| RENTED_BIKE_COUNT &lt;dbl&gt; | TEMPERATURE &lt;dbl&gt; | HUMIDITY &lt;dbl&gt; | WIND_SPEED &lt;dbl&gt; | VISIBILITY &lt;dbl&gt; | DEW_POINT_TEMPERATURE &lt;dbl&gt; | SOLAR_RADIATION &lt;dbl&gt; | RAINFALL &lt;dbl&gt; | SNOWFALL &lt;dbl&gt; | 0 &lt;dbl&gt; | ... ... | 6 &lt;dbl&gt; | 7 &lt;dbl&gt; | 8 &lt;dbl&gt; | 9 &lt;dbl&gt; | AUTUMN &lt;dbl&gt; | SPRING &lt;dbl&gt; | SUMMER &lt;dbl&gt; | WINTER &lt;dbl&gt; | HOLIDAY &lt;dbl&gt; | NO_HOLIDAY &lt;dbl&gt; |\n",
       "|---|---|---|---|---|---|---|---|---|---|---|---|---|---|---|---|---|---|---|---|---|\n",
       "| 254 | 0.2202797 | 0.3775510 | 0.2972973 | 1 | 0.2249135 | 0 | 0 | 0 | 1 | ... | 0 | 0 | 0 | 0 | 0 | 0 | 0 | 1 | 0 | 1 |\n",
       "| 204 | 0.2150350 | 0.3877551 | 0.1081081 | 1 | 0.2249135 | 0 | 0 | 0 | 0 | ... | 0 | 0 | 0 | 0 | 0 | 0 | 0 | 1 | 0 | 1 |\n",
       "| 173 | 0.2062937 | 0.3979592 | 0.1351351 | 1 | 0.2231834 | 0 | 0 | 0 | 0 | ... | 0 | 0 | 0 | 0 | 0 | 0 | 0 | 1 | 0 | 1 |\n",
       "| 107 | 0.2027972 | 0.4081633 | 0.1216216 | 1 | 0.2249135 | 0 | 0 | 0 | 0 | ... | 0 | 0 | 0 | 0 | 0 | 0 | 0 | 1 | 0 | 1 |\n",
       "|  78 | 0.2062937 | 0.3673469 | 0.3108108 | 1 | 0.2076125 | 0 | 0 | 0 | 0 | ... | 0 | 0 | 0 | 0 | 0 | 0 | 0 | 1 | 0 | 1 |\n",
       "| 100 | 0.1993007 | 0.3775510 | 0.2027027 | 1 | 0.2058824 | 0 | 0 | 0 | 0 | ... | 0 | 0 | 0 | 0 | 0 | 0 | 0 | 1 | 0 | 1 |\n",
       "\n"
      ],
      "text/plain": [
       "  RENTED_BIKE_COUNT TEMPERATURE HUMIDITY  WIND_SPEED VISIBILITY\n",
       "1 254               0.2202797   0.3775510 0.2972973  1         \n",
       "2 204               0.2150350   0.3877551 0.1081081  1         \n",
       "3 173               0.2062937   0.3979592 0.1351351  1         \n",
       "4 107               0.2027972   0.4081633 0.1216216  1         \n",
       "5  78               0.2062937   0.3673469 0.3108108  1         \n",
       "6 100               0.1993007   0.3775510 0.2027027  1         \n",
       "  DEW_POINT_TEMPERATURE SOLAR_RADIATION RAINFALL SNOWFALL 0 ... 6 7 8 9 AUTUMN\n",
       "1 0.2249135             0               0        0        1 ... 0 0 0 0 0     \n",
       "2 0.2249135             0               0        0        0 ... 0 0 0 0 0     \n",
       "3 0.2231834             0               0        0        0 ... 0 0 0 0 0     \n",
       "4 0.2249135             0               0        0        0 ... 0 0 0 0 0     \n",
       "5 0.2076125             0               0        0        0 ... 0 0 0 0 0     \n",
       "6 0.2058824             0               0        0        0 ... 0 0 0 0 0     \n",
       "  SPRING SUMMER WINTER HOLIDAY NO_HOLIDAY\n",
       "1 0      0      1      0       1         \n",
       "2 0      0      1      0       1         \n",
       "3 0      0      1      0       1         \n",
       "4 0      0      1      0       1         \n",
       "5 0      0      1      0       1         \n",
       "6 0      0      1      0       1         "
      ]
     },
     "metadata": {},
     "output_type": "display_data"
    }
   ],
   "source": [
    "head(bike_sharing_df)"
   ]
  },
  {
   "cell_type": "markdown",
   "metadata": {},
   "source": [
    "Define a linear regression model specification.\n"
   ]
  },
  {
   "cell_type": "code",
   "execution_count": 6,
   "metadata": {},
   "outputs": [],
   "source": [
    "lm_spec <- linear_reg() %>%\n",
    "  set_engine(\"lm\") %>% \n",
    "  set_mode(\"regression\")"
   ]
  },
  {
   "cell_type": "markdown",
   "metadata": {},
   "source": [
    "Split the data into training and testing datasets.\n"
   ]
  },
  {
   "cell_type": "code",
   "execution_count": 7,
   "metadata": {},
   "outputs": [],
   "source": [
    "set.seed(1234)\n",
    "data_split <- initial_split(bike_sharing_df, prop = 4/5)\n",
    "train_data <- training(data_split)\n",
    "test_data <- testing(data_split)"
   ]
  },
  {
   "cell_type": "markdown",
   "metadata": {},
   "source": [
    "Now we are ready to refine the previous baseline regression model.\n"
   ]
  },
  {
   "cell_type": "markdown",
   "metadata": {},
   "source": [
    "# TASK: Add polynomial terms\n"
   ]
  },
  {
   "cell_type": "markdown",
   "metadata": {},
   "source": [
    "Linear regression models are the most suitable models to capture the linear correlations among variables. However, in real world data, many relationships may be non-linear.\n"
   ]
  },
  {
   "cell_type": "markdown",
   "metadata": {},
   "source": [
    "For example, the correlation between `RENTED_BIKE_COUNT` and `TEMPERATURE` does not look like linear:\n"
   ]
  },
  {
   "cell_type": "code",
   "execution_count": 8,
   "metadata": {},
   "outputs": [
    {
     "name": "stderr",
     "output_type": "stream",
     "text": [
      "Warning message:\n",
      "\"package 'repr' was built under R version 4.1.3\"\n"
     ]
    }
   ],
   "source": [
    "library(repr)\n",
    "options(repr.plot.width=12, repr.plot.height=8)"
   ]
  },
  {
   "cell_type": "code",
   "execution_count": 9,
   "metadata": {},
   "outputs": [
    {
     "data": {
      "image/png": "[encoded data removed]",
      "text/plain": [
       "plot without title"
      ]
     },
     "metadata": {
      "image/png": {
       "height": 480,
       "width": 720
      }
     },
     "output_type": "display_data"
    }
   ],
   "source": [
    "ggplot(data = train_data, aes(RENTED_BIKE_COUNT, TEMPERATURE)) + \n",
    "    geom_point() "
   ]
  },
  {
   "cell_type": "raw",
   "metadata": {},
   "source": [
    "One solution to handle such nonlinearity is using polynomial regression by adding polynomial terms. As shown before, higher order polynomials are better than the first order polynomial.  "
   ]
  },
  {
   "cell_type": "code",
   "execution_count": 10,
   "metadata": {},
   "outputs": [
    {
     "data": {
      "image/png": "[encoded data removed]",
      "text/plain": [
       "plot without title"
      ]
     },
     "metadata": {
      "image/png": {
       "height": 480,
       "width": 720
      }
     },
     "output_type": "display_data"
    }
   ],
   "source": [
    "# Plot the higher order polynomial fits\n",
    "ggplot(data=train_data, aes(RENTED_BIKE_COUNT, TEMPERATURE)) + \n",
    "    geom_point() + \n",
    "    geom_smooth(method = \"lm\", formula = y ~ x, color=\"red\") + \n",
    "    geom_smooth(method = \"lm\", formula = y ~ poly(x, 2), color=\"yellow\") + \n",
    "    geom_smooth(method = \"lm\", formula = y ~ poly(x, 4), color=\"green\") + \n",
    "    geom_smooth(method = \"lm\", formula = y ~ poly(x, 6), color=\"blue\")"
   ]
  },
  {
   "cell_type": "code",
   "execution_count": 11,
   "metadata": {},
   "outputs": [
    {
     "data": {
      "image/png": "[encoded data removed]",
      "text/plain": [
       "plot without title"
      ]
     },
     "metadata": {
      "image/png": {
       "height": 480,
       "width": 720
      }
     },
     "output_type": "display_data"
    }
   ],
   "source": [
    "ggplot(data=train_data, aes(RENTED_BIKE_COUNT, HUMIDITY)) + \n",
    "    geom_point() + \n",
    "    geom_smooth(method = \"lm\", formula = y ~ x, color=\"red\") + \n",
    "    geom_smooth(method = \"lm\", formula = y ~ poly(x, 2), color=\"yellow\") + \n",
    "    geom_smooth(method = \"lm\", formula = y ~ poly(x, 3), color=\"green\") + \n",
    "    geom_smooth(method = \"lm\", formula = y ~ poly(x, 4), color=\"blue\")"
   ]
  },
  {
   "cell_type": "code",
   "execution_count": 12,
   "metadata": {},
   "outputs": [
    {
     "data": {
      "image/png": "[encoded data removed]",
      "text/plain": [
       "plot without title"
      ]
     },
     "metadata": {
      "image/png": {
       "height": 480,
       "width": 720
      }
     },
     "output_type": "display_data"
    }
   ],
   "source": [
    "ggplot(data=train_data, aes(RENTED_BIKE_COUNT, RAINFALL)) + \n",
    "    geom_point() + \n",
    "    geom_smooth(method = \"lm\", formula = y ~ x, color=\"red\") + \n",
    "    geom_smooth(method = \"lm\", formula = y ~ poly(x, 7), color=\"yellow\") + \n",
    "    geom_smooth(method = \"lm\", formula = y ~ poly(x, 8), color=\"green\") + \n",
    "    geom_smooth(method = \"lm\", formula = y ~ poly(x, 9), color=\"blue\")"
   ]
  },
  {
   "cell_type": "code",
   "execution_count": 13,
   "metadata": {},
   "outputs": [
    {
     "data": {
      "image/png": "[encoded data removed]",
      "text/plain": [
       "plot without title"
      ]
     },
     "metadata": {
      "image/png": {
       "height": 480,
       "width": 720
      }
     },
     "output_type": "display_data"
    }
   ],
   "source": [
    "ggplot(data=train_data, aes(RENTED_BIKE_COUNT, DEW_POINT_TEMPERATURE)) + \n",
    "    geom_point() + \n",
    "    geom_smooth(method = \"lm\", formula = y ~ x, color=\"red\") + \n",
    "    geom_smooth(method = \"lm\", formula = y ~ poly(x, 2), color=\"yellow\") + \n",
    "    geom_smooth(method = \"lm\", formula = y ~ poly(x, 3), color=\"green\") + \n",
    "    geom_smooth(method = \"lm\", formula = y ~ poly(x, 4), color=\"blue\")"
   ]
  },
  {
   "cell_type": "markdown",
   "metadata": {},
   "source": [
    "OK, let's add some higher order polynomials of important variables to the regression models\n"
   ]
  },
  {
   "cell_type": "markdown",
   "metadata": {},
   "source": [
    "*TODO:* Fit a linear regression model `lm_poly` with higher order polynomial terms on the important variables (larger coefficients) found in the baseline model\n"
   ]
  },
  {
   "cell_type": "code",
   "execution_count": 14,
   "metadata": {},
   "outputs": [],
   "source": [
    "# Fit a linear model with higher order polynomial on some important variables \n",
    "# #HINT: Use ploy function to build polynomial terms, lm_poly <- RENTED_BIKE_COUNT ~ poly(TEMPERATURE, 6) + poly(HUMIDITY, 4) .....\n",
    "lm_poly <- lm(RENTED_BIKE_COUNT ~ poly(RAINFALL, 8, raw=TRUE) + poly(HUMIDITY, 4, raw=TRUE) + `18` +\n",
    "              poly(TEMPERATURE, 4, raw=TRUE) + poly(DEW_POINT_TEMPERATURE, 3, raw=TRUE) + `19`+ `8` + `21` + `20`+ \n",
    "              `4` + `5`+ AUTUMN + `22` + `3` +  `17` + SOLAR_RADIATION + SNOWFALL + `11`+ `10` + `2` +  \n",
    "              `12` + `8` + SUMMER +`14` + SPRING + `13` + HOLIDAY + `1`+ `15` + `7` + `23` + WIND_SPEED +\n",
    "               `0` + `16` + VISIBILITY, data = train_data)"
   ]
  },
  {
   "cell_type": "code",
   "execution_count": 15,
   "metadata": {},
   "outputs": [
    {
     "data": {
      "text/plain": [
       "\n",
       "Call:\n",
       "lm(formula = RENTED_BIKE_COUNT ~ poly(RAINFALL, 8, raw = TRUE) + \n",
       "    poly(HUMIDITY, 4, raw = TRUE) + `18` + poly(TEMPERATURE, \n",
       "    4, raw = TRUE) + poly(DEW_POINT_TEMPERATURE, 3, raw = TRUE) + \n",
       "    `19` + `8` + `21` + `20` + `4` + `5` + AUTUMN + `22` + `3` + \n",
       "    `17` + SOLAR_RADIATION + SNOWFALL + `11` + `10` + `2` + `12` + \n",
       "    `8` + SUMMER + `14` + SPRING + `13` + HOLIDAY + `1` + `15` + \n",
       "    `7` + `23` + WIND_SPEED + `0` + `16` + VISIBILITY, data = train_data)\n",
       "\n",
       "Residuals:\n",
       "     Min       1Q   Median       3Q      Max \n",
       "-1576.39  -204.70     2.35   188.45  1467.76 \n",
       "\n",
       "Coefficients:\n",
       "                                              Estimate Std. Error t value\n",
       "(Intercept)                                 -1.455e+02  9.261e+01  -1.571\n",
       "poly(RAINFALL, 8, raw = TRUE)1              -2.800e+04  2.270e+03 -12.336\n",
       "poly(RAINFALL, 8, raw = TRUE)2               5.466e+05  6.758e+04   8.089\n",
       "poly(RAINFALL, 8, raw = TRUE)3              -4.476e+06  7.281e+05  -6.147\n",
       "poly(RAINFALL, 8, raw = TRUE)4               1.853e+07  3.688e+06   5.025\n",
       "poly(RAINFALL, 8, raw = TRUE)5              -4.223e+07  9.817e+06  -4.302\n",
       "poly(RAINFALL, 8, raw = TRUE)6               5.364e+07  1.410e+07   3.803\n",
       "poly(RAINFALL, 8, raw = TRUE)7              -3.552e+07  1.031e+07  -3.444\n",
       "poly(RAINFALL, 8, raw = TRUE)8               9.543e+06  3.003e+06   3.178\n",
       "poly(HUMIDITY, 4, raw = TRUE)1               7.306e+02  7.173e+02   1.019\n",
       "poly(HUMIDITY, 4, raw = TRUE)2              -2.734e+03  2.591e+03  -1.055\n",
       "poly(HUMIDITY, 4, raw = TRUE)3               5.148e+03  3.374e+03   1.526\n",
       "poly(HUMIDITY, 4, raw = TRUE)4              -3.297e+03  1.500e+03  -2.198\n",
       "`18`                                         9.290e+02  2.538e+01  36.608\n",
       "poly(TEMPERATURE, 4, raw = TRUE)1            2.413e+03  7.822e+02   3.085\n",
       "poly(TEMPERATURE, 4, raw = TRUE)2           -1.757e+04  2.505e+03  -7.015\n",
       "poly(TEMPERATURE, 4, raw = TRUE)3            4.224e+04  3.474e+03  12.161\n",
       "poly(TEMPERATURE, 4, raw = TRUE)4           -2.652e+04  1.656e+03 -16.017\n",
       "poly(DEW_POINT_TEMPERATURE, 3, raw = TRUE)1  2.446e+02  5.215e+02   0.469\n",
       "poly(DEW_POINT_TEMPERATURE, 3, raw = TRUE)2  5.926e+02  7.609e+02   0.779\n",
       "poly(DEW_POINT_TEMPERATURE, 3, raw = TRUE)3 -1.999e+03  4.444e+02  -4.498\n",
       "`19`                                         6.384e+02  2.500e+01  25.533\n",
       "`8`                                          5.291e+02  2.393e+01  22.111\n",
       "`21`                                         5.292e+02  2.487e+01  21.281\n",
       "`20`                                         5.231e+02  2.491e+01  21.002\n",
       "`4`                                         -3.151e+02  2.456e+01 -12.828\n",
       "`5`                                         -2.874e+02  2.410e+01 -11.926\n",
       "AUTUMN                                       3.309e+02  1.982e+01  16.697\n",
       "`22`                                         4.108e+02  2.466e+01  16.659\n",
       "`3`                                         -2.318e+02  2.477e+01  -9.360\n",
       "`17`                                         4.808e+02  2.564e+01  18.749\n",
       "SOLAR_RADIATION                              5.663e+01  3.735e+01   1.516\n",
       "SNOWFALL                                    -1.521e+01  9.022e+01  -0.169\n",
       "`11`                                        -6.089e+01  2.666e+01  -2.284\n",
       "`10`                                        -7.944e+01  2.503e+01  -3.174\n",
       "`2`                                         -1.738e+02  2.441e+01  -7.120\n",
       "`12`                                         2.694e+01  2.740e+01   0.983\n",
       "SUMMER                                       2.876e+02  2.528e+01  11.378\n",
       "`14`                                         4.887e+01  2.712e+01   1.801\n",
       "SPRING                                       1.859e+02  1.930e+01   9.631\n",
       "`13`                                         3.235e+01  2.806e+01   1.153\n",
       "HOLIDAY                                     -1.033e+02  1.950e+01  -5.300\n",
       "`1`                                         -6.346e+01  2.444e+01  -2.596\n",
       "`15`                                         1.143e+02  2.688e+01   4.252\n",
       "`7`                                          1.816e+02  2.427e+01   7.482\n",
       "`23`                                         1.675e+02  2.453e+01   6.828\n",
       "WIND_SPEED                                   1.478e+01  3.439e+01   0.430\n",
       "`0`                                          5.328e+01  2.473e+01   2.154\n",
       "`16`                                         2.314e+02  2.611e+01   8.861\n",
       "VISIBILITY                                  -3.309e+01  1.802e+01  -1.837\n",
       "                                            Pr(>|t|)    \n",
       "(Intercept)                                 0.116165    \n",
       "poly(RAINFALL, 8, raw = TRUE)1               < 2e-16 ***\n",
       "poly(RAINFALL, 8, raw = TRUE)2              7.09e-16 ***\n",
       "poly(RAINFALL, 8, raw = TRUE)3              8.35e-10 ***\n",
       "poly(RAINFALL, 8, raw = TRUE)4              5.17e-07 ***\n",
       "poly(RAINFALL, 8, raw = TRUE)5              1.72e-05 ***\n",
       "poly(RAINFALL, 8, raw = TRUE)6              0.000144 ***\n",
       "poly(RAINFALL, 8, raw = TRUE)7              0.000576 ***\n",
       "poly(RAINFALL, 8, raw = TRUE)8              0.001489 ** \n",
       "poly(HUMIDITY, 4, raw = TRUE)1              0.308472    \n",
       "poly(HUMIDITY, 4, raw = TRUE)2              0.291396    \n",
       "poly(HUMIDITY, 4, raw = TRUE)3              0.127163    \n",
       "poly(HUMIDITY, 4, raw = TRUE)4              0.027979 *  \n",
       "`18`                                         < 2e-16 ***\n",
       "poly(TEMPERATURE, 4, raw = TRUE)1           0.002044 ** \n",
       "poly(TEMPERATURE, 4, raw = TRUE)2           2.53e-12 ***\n",
       "poly(TEMPERATURE, 4, raw = TRUE)3            < 2e-16 ***\n",
       "poly(TEMPERATURE, 4, raw = TRUE)4            < 2e-16 ***\n",
       "poly(DEW_POINT_TEMPERATURE, 3, raw = TRUE)1 0.639054    \n",
       "poly(DEW_POINT_TEMPERATURE, 3, raw = TRUE)2 0.436125    \n",
       "poly(DEW_POINT_TEMPERATURE, 3, raw = TRUE)3 6.98e-06 ***\n",
       "`19`                                         < 2e-16 ***\n",
       "`8`                                          < 2e-16 ***\n",
       "`21`                                         < 2e-16 ***\n",
       "`20`                                         < 2e-16 ***\n",
       "`4`                                          < 2e-16 ***\n",
       "`5`                                          < 2e-16 ***\n",
       "AUTUMN                                       < 2e-16 ***\n",
       "`22`                                         < 2e-16 ***\n",
       "`3`                                          < 2e-16 ***\n",
       "`17`                                         < 2e-16 ***\n",
       "SOLAR_RADIATION                             0.129551    \n",
       "SNOWFALL                                    0.866095    \n",
       "`11`                                        0.022389 *  \n",
       "`10`                                        0.001513 ** \n",
       "`2`                                         1.19e-12 ***\n",
       "`12`                                        0.325478    \n",
       "SUMMER                                       < 2e-16 ***\n",
       "`14`                                        0.071671 .  \n",
       "SPRING                                       < 2e-16 ***\n",
       "`13`                                        0.248961    \n",
       "HOLIDAY                                     1.19e-07 ***\n",
       "`1`                                         0.009450 ** \n",
       "`15`                                        2.14e-05 ***\n",
       "`7`                                         8.28e-14 ***\n",
       "`23`                                        9.38e-12 ***\n",
       "WIND_SPEED                                  0.667428    \n",
       "`0`                                         0.031254 *  \n",
       "`16`                                         < 2e-16 ***\n",
       "VISIBILITY                                  0.066315 .  \n",
       "---\n",
       "Signif. codes:  0 '***' 0.001 '**' 0.01 '*' 0.05 '.' 0.1 ' ' 1\n",
       "\n",
       "Residual standard error: 329.9 on 6722 degrees of freedom\n",
       "Multiple R-squared:   0.74,\tAdjusted R-squared:  0.7381 \n",
       "F-statistic: 390.3 on 49 and 6722 DF,  p-value: < 2.2e-16\n"
      ]
     },
     "metadata": {},
     "output_type": "display_data"
    }
   ],
   "source": [
    "summary(lm_poly)"
   ]
  },
  {
   "cell_type": "code",
   "execution_count": 16,
   "metadata": {},
   "outputs": [
    {
     "data": {
      "text/plain": [
       "   Min. 1st Qu.  Median    Mean 3rd Qu.    Max. \n",
       " -771.2   285.9   702.8   734.9  1144.4  2463.3 "
      ]
     },
     "metadata": {},
     "output_type": "display_data"
    }
   ],
   "source": [
    "# Print model summary\n",
    "summary(lm_poly$fit)"
   ]
  },
  {
   "cell_type": "code",
   "execution_count": 17,
   "metadata": {},
   "outputs": [],
   "source": [
    "lm_poly_fit <- lm_spec %>% \n",
    "    fit(RENTED_BIKE_COUNT ~ poly(RAINFALL, 8, raw=TRUE) + poly(HUMIDITY, 4, raw=TRUE) + `18` +\n",
    "              poly(TEMPERATURE, 4, raw=TRUE) + poly(DEW_POINT_TEMPERATURE, 3, raw=TRUE) + `19`+ `8` + `21` + `20`+ \n",
    "              `4` + `5`+ AUTUMN + `22` + `3` +  `17` + SOLAR_RADIATION + SNOWFALL + `11`+ `10` + `2` +  \n",
    "              `12` + `8` + SUMMER +`14` + SPRING + `13` + HOLIDAY + `1`+ `15` + `7` + `23` + WIND_SPEED +\n",
    "               `0` + `16` + VISIBILITY, data = train_data)"
   ]
  },
  {
   "cell_type": "markdown",
   "metadata": {},
   "source": [
    "*TODO:* Make predictions on test dataset using the `lm_poly` models\n"
   ]
  },
  {
   "cell_type": "code",
   "execution_count": 18,
   "metadata": {},
   "outputs": [],
   "source": [
    "# Use predict() function to generate test results for `lm_poly`\n",
    "train_poly_results <- lm_poly_fit %>%\n",
    "  # Make the predictions and save the predicted values\n",
    "  predict(new_data = train_data) %>%\n",
    "  # Create a new column to save the true values\n",
    "  mutate(truth = train_data$RENTED_BIKE_COUNT)\n",
    "\n",
    "test_poly_results <- lm_poly_fit %>%\n",
    "  # Make the predictions and save the predicted values\n",
    "  predict(new_data = test_data) %>%\n",
    "  # Create a new column to save the true values\n",
    "  mutate(truth = test_data$RENTED_BIKE_COUNT)"
   ]
  },
  {
   "cell_type": "markdown",
   "metadata": {},
   "source": [
    "Another minor improvement we could do here is to convert all negative prediction results to zero, because we can not have negative rented bike counts\n"
   ]
  },
  {
   "cell_type": "code",
   "execution_count": 19,
   "metadata": {},
   "outputs": [],
   "source": [
    "test_poly_results[test_poly_results<0] <- 0"
   ]
  },
  {
   "cell_type": "markdown",
   "metadata": {},
   "source": [
    "Now, calculate R-squared and RMSE for the test results generated by `lm_ploy` model\n"
   ]
  },
  {
   "cell_type": "code",
   "execution_count": 20,
   "metadata": {},
   "outputs": [
    {
     "data": {
      "text/html": [
       "<table class=\"dataframe\">\n",
       "<caption>A tibble: 1 × 3</caption>\n",
       "<thead>\n",
       "\t<tr><th scope=col>.metric</th><th scope=col>.estimator</th><th scope=col>.estimate</th></tr>\n",
       "\t<tr><th scope=col>&lt;chr&gt;</th><th scope=col>&lt;chr&gt;</th><th scope=col>&lt;dbl&gt;</th></tr>\n",
       "</thead>\n",
       "<tbody>\n",
       "\t<tr><td>rsq</td><td>standard</td><td>0.7589189</td></tr>\n",
       "</tbody>\n",
       "</table>\n"
      ],
      "text/latex": [
       "A tibble: 1 × 3\n",
       "\\begin{tabular}{lll}\n",
       " .metric & .estimator & .estimate\\\\\n",
       " <chr> & <chr> & <dbl>\\\\\n",
       "\\hline\n",
       "\t rsq & standard & 0.7589189\\\\\n",
       "\\end{tabular}\n"
      ],
      "text/markdown": [
       "\n",
       "A tibble: 1 × 3\n",
       "\n",
       "| .metric &lt;chr&gt; | .estimator &lt;chr&gt; | .estimate &lt;dbl&gt; |\n",
       "|---|---|---|\n",
       "| rsq | standard | 0.7589189 |\n",
       "\n"
      ],
      "text/plain": [
       "  .metric .estimator .estimate\n",
       "1 rsq     standard   0.7589189"
      ]
     },
     "metadata": {},
     "output_type": "display_data"
    },
    {
     "data": {
      "text/html": [
       "<table class=\"dataframe\">\n",
       "<caption>A tibble: 1 × 3</caption>\n",
       "<thead>\n",
       "\t<tr><th scope=col>.metric</th><th scope=col>.estimator</th><th scope=col>.estimate</th></tr>\n",
       "\t<tr><th scope=col>&lt;chr&gt;</th><th scope=col>&lt;chr&gt;</th><th scope=col>&lt;dbl&gt;</th></tr>\n",
       "</thead>\n",
       "<tbody>\n",
       "\t<tr><td>rmse</td><td>standard</td><td>312.3996</td></tr>\n",
       "</tbody>\n",
       "</table>\n"
      ],
      "text/latex": [
       "A tibble: 1 × 3\n",
       "\\begin{tabular}{lll}\n",
       " .metric & .estimator & .estimate\\\\\n",
       " <chr> & <chr> & <dbl>\\\\\n",
       "\\hline\n",
       "\t rmse & standard & 312.3996\\\\\n",
       "\\end{tabular}\n"
      ],
      "text/markdown": [
       "\n",
       "A tibble: 1 × 3\n",
       "\n",
       "| .metric &lt;chr&gt; | .estimator &lt;chr&gt; | .estimate &lt;dbl&gt; |\n",
       "|---|---|---|\n",
       "| rmse | standard | 312.3996 |\n",
       "\n"
      ],
      "text/plain": [
       "  .metric .estimator .estimate\n",
       "1 rmse    standard   312.3996 "
      ]
     },
     "metadata": {},
     "output_type": "display_data"
    }
   ],
   "source": [
    "# Calculate R-squared and RMSE from the test results\n",
    "rsq_poly <- rsq(test_poly_results, truth = truth, estimate = .pred)\n",
    "rsq_poly\n",
    "rmse_poly <- rmse(test_poly_results, truth = truth, estimate = .pred)\n",
    "rmse_poly"
   ]
  },
  {
   "cell_type": "markdown",
   "metadata": {},
   "source": [
    "If you include all variables, and additionally include some of the more important ones as higher order poly terms, then you should notice improved  `R-squared` and `RMSE` values.\n"
   ]
  },
  {
   "cell_type": "markdown",
   "metadata": {},
   "source": [
    "# TASK: Add interaction terms\n"
   ]
  },
  {
   "cell_type": "markdown",
   "metadata": {},
   "source": [
    "In real-world scenarios, in addition to non-linear relationships between response variables and predictor variables, you may also encounter relationships among variables called `interaction effects`.\n",
    "\n",
    "For example, the effect of predictor variable `TEMPERATURE` on `RENTED_BIKE_COUNT` may also depend on other variables such as `HUMIDITY`, `RAINFALL`, or both (they `interact`) and the effect of `SEASON` on `RENTED_BIKE_COUNT` may also depend on `HOLIDAY`, `HOUR`, or both.\n",
    "\n",
    "To capture such interaction effects, we could add some interaction terms such as `RAINFALL*HUMIDITY` to the regression model, similar to what we did with polynominal terms. In this task, you will explore and conduct some experiments to search for interaction terms which will improve the model performance.\n"
   ]
  },
  {
   "cell_type": "markdown",
   "metadata": {},
   "source": [
    "*TODO:* Try adding some interaction terms to the previous polynomial models.\n"
   ]
  },
  {
   "cell_type": "code",
   "execution_count": 21,
   "metadata": {},
   "outputs": [
    {
     "data": {
      "text/plain": [
       "\n",
       "Call:\n",
       "lm(formula = RENTED_BIKE_COUNT ~ TEMPERATURE + HUMIDITY * TEMPERATURE + \n",
       "    RAINFALL * TEMPERATURE + RAINFALL + HUMIDITY + `18` + DEW_POINT_TEMPERATURE + \n",
       "    `19` + `8` + `21` + `20` + `4` + `5` + AUTUMN + `22` + `3` + \n",
       "    `17` + SOLAR_RADIATION + SNOWFALL + `11` + `10` + `2` + `12` + \n",
       "    `8` + SUMMER + `14` + SPRING + `13` + HOLIDAY + `1` + `15` + \n",
       "    `7` + `23` + WIND_SPEED + `0` + `16` + VISIBILITY, data = train_data)\n",
       "\n",
       "Residuals:\n",
       "     Min       1Q   Median       3Q      Max \n",
       "-1438.30  -216.61    -5.55   200.40  1741.49 \n",
       "\n",
       "Coefficients:\n",
       "                       Estimate Std. Error t value Pr(>|t|)    \n",
       "(Intercept)            -223.700     58.905  -3.798 0.000147 ***\n",
       "TEMPERATURE            1315.007    212.202   6.197 6.10e-10 ***\n",
       "HUMIDITY               -267.752    116.508  -2.298 0.021584 *  \n",
       "RAINFALL              -2181.676   1058.443  -2.061 0.039321 *  \n",
       "`18`                    878.966     28.769  30.553  < 2e-16 ***\n",
       "DEW_POINT_TEMPERATURE   810.966    213.000   3.807 0.000142 ***\n",
       "`19`                    615.038     28.381  21.671  < 2e-16 ***\n",
       "`8`                     555.966     27.223  20.423  < 2e-16 ***\n",
       "`21`                    546.290     28.234  19.348  < 2e-16 ***\n",
       "`20`                    530.869     28.279  18.772  < 2e-16 ***\n",
       "`4`                    -287.612     27.899 -10.309  < 2e-16 ***\n",
       "`5`                    -268.445     27.372  -9.807  < 2e-16 ***\n",
       "AUTUMN                  349.759     19.518  17.920  < 2e-16 ***\n",
       "`22`                    433.189     28.048  15.444  < 2e-16 ***\n",
       "`3`                    -223.976     28.181  -7.948 2.21e-15 ***\n",
       "`17`                    405.112     29.046  13.947  < 2e-16 ***\n",
       "SOLAR_RADIATION         196.795     41.087   4.790 1.71e-06 ***\n",
       "SNOWFALL                 18.795    101.960   0.184 0.853757    \n",
       "`11`                   -120.418     30.124  -3.997 6.47e-05 ***\n",
       "`10`                   -112.445     28.337  -3.968 7.32e-05 ***\n",
       "`2`                    -137.362     27.756  -4.949 7.65e-07 ***\n",
       "`12`                    -75.605     30.785  -2.456 0.014079 *  \n",
       "SUMMER                  225.086     28.376   7.932 2.50e-15 ***\n",
       "`14`                    -73.691     30.506  -2.416 0.015736 *  \n",
       "SPRING                  179.404     18.670   9.609  < 2e-16 ***\n",
       "`13`                    -60.560     31.566  -1.918 0.055090 .  \n",
       "HOLIDAY                -128.586     22.063  -5.828 5.86e-09 ***\n",
       "`1`                     -27.442     27.806  -0.987 0.323724    \n",
       "`15`                     -7.147     30.318  -0.236 0.813652    \n",
       "`7`                     205.261     27.551   7.450 1.05e-13 ***\n",
       "`23`                    196.339     27.902   7.037 2.16e-12 ***\n",
       "WIND_SPEED               57.905     38.833   1.491 0.135975    \n",
       "`0`                      76.258     28.133   2.711 0.006732 ** \n",
       "`16`                    124.169     29.492   4.210 2.58e-05 ***\n",
       "VISIBILITY               36.617     19.609   1.867 0.061892 .  \n",
       "TEMPERATURE:HUMIDITY  -1386.703    140.517  -9.869  < 2e-16 ***\n",
       "TEMPERATURE:RAINFALL    453.483   1595.786   0.284 0.776285    \n",
       "---\n",
       "Signif. codes:  0 '***' 0.001 '**' 0.01 '*' 0.05 '.' 0.1 ' ' 1\n",
       "\n",
       "Residual standard error: 375.6 on 6735 degrees of freedom\n",
       "Multiple R-squared:  0.6623,\tAdjusted R-squared:  0.6605 \n",
       "F-statistic: 366.9 on 36 and 6735 DF,  p-value: < 2.2e-16\n"
      ]
     },
     "metadata": {},
     "output_type": "display_data"
    }
   ],
   "source": [
    "# Print model summary\n",
    "train_int<- lm(RENTED_BIKE_COUNT ~ TEMPERATURE + HUMIDITY*TEMPERATURE + RAINFALL*TEMPERATURE + RAINFALL + HUMIDITY + `18` +\n",
    "                            DEW_POINT_TEMPERATURE + `19`+ `8` + `21` + `20`+ `4` + `5`+ AUTUMN + `22` + `3` + `17` + \n",
    "                            SOLAR_RADIATION + SNOWFALL + `11`+ `10` + `2` + `12` + `8` + SUMMER +`14` + SPRING + \n",
    "                            `13` + HOLIDAY + `1`+ `15` + `7` + `23` + WIND_SPEED + `0` + `16` + VISIBILITY, data = train_data)\n",
    "summary(train_int)"
   ]
  },
  {
   "cell_type": "code",
   "execution_count": 22,
   "metadata": {},
   "outputs": [],
   "source": [
    "# Add interaction terms to the poly regression built in previous step\n",
    "\n",
    "# HINT: You could use `*` operator to create interaction terms such as HUMIDITY*TEMPERATURE and make the formula look like:\n",
    "# RENTED_BIKE_COUNT ~ RAINFALL*HUMIDITY ...\n",
    "train_int_fit <- lm_spec %>% \n",
    "    fit(RENTED_BIKE_COUNT ~ TEMPERATURE + HUMIDITY*TEMPERATURE + RAINFALL*TEMPERATURE + RAINFALL + HUMIDITY + `18` +\n",
    "                            DEW_POINT_TEMPERATURE + `19`+ `8` + `21` + `20`+ `4` + `5`+ AUTUMN + `22` + `3` + `17` + \n",
    "                            SOLAR_RADIATION + SNOWFALL + `11`+ `10` + `2` + `12` + `8` + SUMMER +`14` + SPRING + \n",
    "                            `13` + HOLIDAY + `1`+ `15` + `7` + `23` + WIND_SPEED + `0` + `16` + VISIBILITY, data = train_data)"
   ]
  },
  {
   "cell_type": "code",
   "execution_count": 23,
   "metadata": {},
   "outputs": [],
   "source": [
    "test_int_results <- train_int_fit %>%\n",
    "  # Make the predictions and save the predicted values\n",
    "  predict(new_data = test_data) %>%\n",
    "  # Create a new column to save the true values\n",
    "  mutate(truth = test_data$RENTED_BIKE_COUNT)"
   ]
  },
  {
   "cell_type": "code",
   "execution_count": 24,
   "metadata": {},
   "outputs": [
    {
     "data": {
      "text/html": [
       "<table class=\"dataframe\">\n",
       "<caption>A tibble: 1 × 3</caption>\n",
       "<thead>\n",
       "\t<tr><th scope=col>.metric</th><th scope=col>.estimator</th><th scope=col>.estimate</th></tr>\n",
       "\t<tr><th scope=col>&lt;chr&gt;</th><th scope=col>&lt;chr&gt;</th><th scope=col>&lt;dbl&gt;</th></tr>\n",
       "</thead>\n",
       "<tbody>\n",
       "\t<tr><td>rsq</td><td>standard</td><td>0.6735662</td></tr>\n",
       "</tbody>\n",
       "</table>\n"
      ],
      "text/latex": [
       "A tibble: 1 × 3\n",
       "\\begin{tabular}{lll}\n",
       " .metric & .estimator & .estimate\\\\\n",
       " <chr> & <chr> & <dbl>\\\\\n",
       "\\hline\n",
       "\t rsq & standard & 0.6735662\\\\\n",
       "\\end{tabular}\n"
      ],
      "text/markdown": [
       "\n",
       "A tibble: 1 × 3\n",
       "\n",
       "| .metric &lt;chr&gt; | .estimator &lt;chr&gt; | .estimate &lt;dbl&gt; |\n",
       "|---|---|---|\n",
       "| rsq | standard | 0.6735662 |\n",
       "\n"
      ],
      "text/plain": [
       "  .metric .estimator .estimate\n",
       "1 rsq     standard   0.6735662"
      ]
     },
     "metadata": {},
     "output_type": "display_data"
    },
    {
     "data": {
      "text/html": [
       "<table class=\"dataframe\">\n",
       "<caption>A tibble: 1 × 3</caption>\n",
       "<thead>\n",
       "\t<tr><th scope=col>.metric</th><th scope=col>.estimator</th><th scope=col>.estimate</th></tr>\n",
       "\t<tr><th scope=col>&lt;chr&gt;</th><th scope=col>&lt;chr&gt;</th><th scope=col>&lt;dbl&gt;</th></tr>\n",
       "</thead>\n",
       "<tbody>\n",
       "\t<tr><td>rmse</td><td>standard</td><td>361.6293</td></tr>\n",
       "</tbody>\n",
       "</table>\n"
      ],
      "text/latex": [
       "A tibble: 1 × 3\n",
       "\\begin{tabular}{lll}\n",
       " .metric & .estimator & .estimate\\\\\n",
       " <chr> & <chr> & <dbl>\\\\\n",
       "\\hline\n",
       "\t rmse & standard & 361.6293\\\\\n",
       "\\end{tabular}\n"
      ],
      "text/markdown": [
       "\n",
       "A tibble: 1 × 3\n",
       "\n",
       "| .metric &lt;chr&gt; | .estimator &lt;chr&gt; | .estimate &lt;dbl&gt; |\n",
       "|---|---|---|\n",
       "| rmse | standard | 361.6293 |\n",
       "\n"
      ],
      "text/plain": [
       "  .metric .estimator .estimate\n",
       "1 rmse    standard   361.6293 "
      ]
     },
     "metadata": {},
     "output_type": "display_data"
    }
   ],
   "source": [
    "# Calculate R-squared and RMSE for the new model to see if performance has improved\n",
    "rsq_lint <- rsq(test_int_results, truth = truth, estimate = .pred)\n",
    "rsq_lint\n",
    "rmse_lint <- rmse(test_int_results, truth = truth, estimate = .pred)\n",
    "rmse_lint"
   ]
  },
  {
   "cell_type": "markdown",
   "metadata": {},
   "source": [
    "# TASK: Add regularization\n"
   ]
  },
  {
   "cell_type": "markdown",
   "metadata": {},
   "source": [
    "In previous tasks, you were asked to add polynominal and interaction terms to the model, aiming to capture nonlinearity and interaction effects between the predictor variables. Hopefully, your updated models have better R-squared and RMSE values.\n",
    "\n",
    "However, adding these terms makes your model more complicated, more difficult to explain, and more likely to suffer from overfitting. To overcome these issues, one solution is to add regularization terms to your models.\n"
   ]
  },
  {
   "cell_type": "markdown",
   "metadata": {},
   "source": [
    "When building the baseline model, we used the basic `lm` engine. In this task, you will use a more advanced and generalized `glmnet` engine. It provides a generalized linear model with Lasso, Ridge, and Elastic Net regularizations.\n",
    "\n",
    "In general, using `glmnet` can enhance your models in the following ways:\n",
    "\n",
    "*   Address overfitting issues by shrinking the coefficients\n",
    "*   Address predictor variable colinearity by selecting only one variable from each group of colinear variables (by shrinking their coefficients to zero)\n",
    "*   Make your models more interpretable due to simplification (fewer variables in the outcome models)\n"
   ]
  },
  {
   "cell_type": "markdown",
   "metadata": {},
   "source": [
    "Now, let's switch our regression engine to `glmnet`\n"
   ]
  },
  {
   "cell_type": "markdown",
   "metadata": {},
   "source": [
    "*TODO:* Define a linear regression model specification `glmnet_spec` using `glmnet` engine\n"
   ]
  },
  {
   "cell_type": "code",
   "execution_count": 25,
   "metadata": {},
   "outputs": [],
   "source": [
    "# HINT: Use linear_reg() function with two parameters: penalty and mixture\n",
    "# - penalty controls the intensity of model regularization\n",
    "# - mixture controls the tradeoff between L1 and L2 regularizations\n",
    "# You could manually try different parameter combinations or use grid search to find optimal combinations"
   ]
  },
  {
   "cell_type": "code",
   "execution_count": 26,
   "metadata": {},
   "outputs": [],
   "source": [
    "set.seed(1234)\n",
    "cv_folds <- vfold_cv(train_data, v = 10)"
   ]
  },
  {
   "cell_type": "code",
   "execution_count": 27,
   "metadata": {},
   "outputs": [],
   "source": [
    "ridge_recipe <-\n",
    "  recipe(RENTED_BIKE_COUNT ~ ., data = train_data)"
   ]
  },
  {
   "cell_type": "code",
   "execution_count": 28,
   "metadata": {},
   "outputs": [],
   "source": [
    "ridge_wf <- workflow() %>%\n",
    "  add_recipe(ridge_recipe)"
   ]
  },
  {
   "cell_type": "code",
   "execution_count": 29,
   "metadata": {},
   "outputs": [],
   "source": [
    "lambda_grid <- grid_regular(levels = 50,\n",
    "  penalty(range = c(-1, 0.5)))"
   ]
  },
  {
   "cell_type": "markdown",
   "metadata": {},
   "source": [
    "Fit a glmnet model called  `lm_glmnet` using the `fit()` function. For the formula part, keep the polynominal and interaction terms you used in the previous task.\n"
   ]
  },
  {
   "cell_type": "code",
   "execution_count": 30,
   "metadata": {},
   "outputs": [],
   "source": [
    "#install.packages('glmnet')\n",
    "#library('glmnet')"
   ]
  },
  {
   "cell_type": "code",
   "execution_count": 31,
   "metadata": {},
   "outputs": [
    {
     "data": {
      "text/html": [
       "<table class=\"dataframe\">\n",
       "<caption>A tibble: 5 × 7</caption>\n",
       "<thead>\n",
       "\t<tr><th scope=col>penalty</th><th scope=col>.metric</th><th scope=col>.estimator</th><th scope=col>mean</th><th scope=col>n</th><th scope=col>std_err</th><th scope=col>.config</th></tr>\n",
       "\t<tr><th scope=col>&lt;dbl&gt;</th><th scope=col>&lt;chr&gt;</th><th scope=col>&lt;chr&gt;</th><th scope=col>&lt;dbl&gt;</th><th scope=col>&lt;int&gt;</th><th scope=col>&lt;dbl&gt;</th><th scope=col>&lt;chr&gt;</th></tr>\n",
       "</thead>\n",
       "<tbody>\n",
       "\t<tr><td>0.1000000</td><td>rmse</td><td>standard</td><td>379.135</td><td>10</td><td>3.188739</td><td>Preprocessor1_Model01</td></tr>\n",
       "\t<tr><td>0.1073031</td><td>rmse</td><td>standard</td><td>379.135</td><td>10</td><td>3.188739</td><td>Preprocessor1_Model02</td></tr>\n",
       "\t<tr><td>0.1151395</td><td>rmse</td><td>standard</td><td>379.135</td><td>10</td><td>3.188739</td><td>Preprocessor1_Model03</td></tr>\n",
       "\t<tr><td>0.1235483</td><td>rmse</td><td>standard</td><td>379.135</td><td>10</td><td>3.188739</td><td>Preprocessor1_Model04</td></tr>\n",
       "\t<tr><td>0.1325711</td><td>rmse</td><td>standard</td><td>379.135</td><td>10</td><td>3.188739</td><td>Preprocessor1_Model05</td></tr>\n",
       "</tbody>\n",
       "</table>\n"
      ],
      "text/latex": [
       "A tibble: 5 × 7\n",
       "\\begin{tabular}{lllllll}\n",
       " penalty & .metric & .estimator & mean & n & std\\_err & .config\\\\\n",
       " <dbl> & <chr> & <chr> & <dbl> & <int> & <dbl> & <chr>\\\\\n",
       "\\hline\n",
       "\t 0.1000000 & rmse & standard & 379.135 & 10 & 3.188739 & Preprocessor1\\_Model01\\\\\n",
       "\t 0.1073031 & rmse & standard & 379.135 & 10 & 3.188739 & Preprocessor1\\_Model02\\\\\n",
       "\t 0.1151395 & rmse & standard & 379.135 & 10 & 3.188739 & Preprocessor1\\_Model03\\\\\n",
       "\t 0.1235483 & rmse & standard & 379.135 & 10 & 3.188739 & Preprocessor1\\_Model04\\\\\n",
       "\t 0.1325711 & rmse & standard & 379.135 & 10 & 3.188739 & Preprocessor1\\_Model05\\\\\n",
       "\\end{tabular}\n"
      ],
      "text/markdown": [
       "\n",
       "A tibble: 5 × 7\n",
       "\n",
       "| penalty &lt;dbl&gt; | .metric &lt;chr&gt; | .estimator &lt;chr&gt; | mean &lt;dbl&gt; | n &lt;int&gt; | std_err &lt;dbl&gt; | .config &lt;chr&gt; |\n",
       "|---|---|---|---|---|---|---|\n",
       "| 0.1000000 | rmse | standard | 379.135 | 10 | 3.188739 | Preprocessor1_Model01 |\n",
       "| 0.1073031 | rmse | standard | 379.135 | 10 | 3.188739 | Preprocessor1_Model02 |\n",
       "| 0.1151395 | rmse | standard | 379.135 | 10 | 3.188739 | Preprocessor1_Model03 |\n",
       "| 0.1235483 | rmse | standard | 379.135 | 10 | 3.188739 | Preprocessor1_Model04 |\n",
       "| 0.1325711 | rmse | standard | 379.135 | 10 | 3.188739 | Preprocessor1_Model05 |\n",
       "\n"
      ],
      "text/plain": [
       "  penalty   .metric .estimator mean    n  std_err  .config              \n",
       "1 0.1000000 rmse    standard   379.135 10 3.188739 Preprocessor1_Model01\n",
       "2 0.1073031 rmse    standard   379.135 10 3.188739 Preprocessor1_Model02\n",
       "3 0.1151395 rmse    standard   379.135 10 3.188739 Preprocessor1_Model03\n",
       "4 0.1235483 rmse    standard   379.135 10 3.188739 Preprocessor1_Model04\n",
       "5 0.1325711 rmse    standard   379.135 10 3.188739 Preprocessor1_Model05"
      ]
     },
     "metadata": {},
     "output_type": "display_data"
    },
    {
     "data": {
      "text/html": [
       "<table class=\"dataframe\">\n",
       "<caption>A tibble: 5 × 7</caption>\n",
       "<thead>\n",
       "\t<tr><th scope=col>penalty</th><th scope=col>.metric</th><th scope=col>.estimator</th><th scope=col>mean</th><th scope=col>n</th><th scope=col>std_err</th><th scope=col>.config</th></tr>\n",
       "\t<tr><th scope=col>&lt;dbl&gt;</th><th scope=col>&lt;chr&gt;</th><th scope=col>&lt;chr&gt;</th><th scope=col>&lt;dbl&gt;</th><th scope=col>&lt;int&gt;</th><th scope=col>&lt;dbl&gt;</th><th scope=col>&lt;chr&gt;</th></tr>\n",
       "</thead>\n",
       "<tbody>\n",
       "\t<tr><td>0.1000000</td><td>rsq</td><td>standard</td><td>0.6553548</td><td>10</td><td>0.005245765</td><td>Preprocessor1_Model01</td></tr>\n",
       "\t<tr><td>0.1073031</td><td>rsq</td><td>standard</td><td>0.6553548</td><td>10</td><td>0.005245765</td><td>Preprocessor1_Model02</td></tr>\n",
       "\t<tr><td>0.1151395</td><td>rsq</td><td>standard</td><td>0.6553548</td><td>10</td><td>0.005245765</td><td>Preprocessor1_Model03</td></tr>\n",
       "\t<tr><td>0.1235483</td><td>rsq</td><td>standard</td><td>0.6553548</td><td>10</td><td>0.005245765</td><td>Preprocessor1_Model04</td></tr>\n",
       "\t<tr><td>0.1325711</td><td>rsq</td><td>standard</td><td>0.6553548</td><td>10</td><td>0.005245765</td><td>Preprocessor1_Model05</td></tr>\n",
       "</tbody>\n",
       "</table>\n"
      ],
      "text/latex": [
       "A tibble: 5 × 7\n",
       "\\begin{tabular}{lllllll}\n",
       " penalty & .metric & .estimator & mean & n & std\\_err & .config\\\\\n",
       " <dbl> & <chr> & <chr> & <dbl> & <int> & <dbl> & <chr>\\\\\n",
       "\\hline\n",
       "\t 0.1000000 & rsq & standard & 0.6553548 & 10 & 0.005245765 & Preprocessor1\\_Model01\\\\\n",
       "\t 0.1073031 & rsq & standard & 0.6553548 & 10 & 0.005245765 & Preprocessor1\\_Model02\\\\\n",
       "\t 0.1151395 & rsq & standard & 0.6553548 & 10 & 0.005245765 & Preprocessor1\\_Model03\\\\\n",
       "\t 0.1235483 & rsq & standard & 0.6553548 & 10 & 0.005245765 & Preprocessor1\\_Model04\\\\\n",
       "\t 0.1325711 & rsq & standard & 0.6553548 & 10 & 0.005245765 & Preprocessor1\\_Model05\\\\\n",
       "\\end{tabular}\n"
      ],
      "text/markdown": [
       "\n",
       "A tibble: 5 × 7\n",
       "\n",
       "| penalty &lt;dbl&gt; | .metric &lt;chr&gt; | .estimator &lt;chr&gt; | mean &lt;dbl&gt; | n &lt;int&gt; | std_err &lt;dbl&gt; | .config &lt;chr&gt; |\n",
       "|---|---|---|---|---|---|---|\n",
       "| 0.1000000 | rsq | standard | 0.6553548 | 10 | 0.005245765 | Preprocessor1_Model01 |\n",
       "| 0.1073031 | rsq | standard | 0.6553548 | 10 | 0.005245765 | Preprocessor1_Model02 |\n",
       "| 0.1151395 | rsq | standard | 0.6553548 | 10 | 0.005245765 | Preprocessor1_Model03 |\n",
       "| 0.1235483 | rsq | standard | 0.6553548 | 10 | 0.005245765 | Preprocessor1_Model04 |\n",
       "| 0.1325711 | rsq | standard | 0.6553548 | 10 | 0.005245765 | Preprocessor1_Model05 |\n",
       "\n"
      ],
      "text/plain": [
       "  penalty   .metric .estimator mean      n  std_err     .config              \n",
       "1 0.1000000 rsq     standard   0.6553548 10 0.005245765 Preprocessor1_Model01\n",
       "2 0.1073031 rsq     standard   0.6553548 10 0.005245765 Preprocessor1_Model02\n",
       "3 0.1151395 rsq     standard   0.6553548 10 0.005245765 Preprocessor1_Model03\n",
       "4 0.1235483 rsq     standard   0.6553548 10 0.005245765 Preprocessor1_Model04\n",
       "5 0.1325711 rsq     standard   0.6553548 10 0.005245765 Preprocessor1_Model05"
      ]
     },
     "metadata": {},
     "output_type": "display_data"
    }
   ],
   "source": [
    "glmnet_spec <- linear_reg(\n",
    "             penalty = tune(), \n",
    "             mixture = 0) %>% \n",
    "  set_engine(\"glmnet\")\n",
    "\n",
    "ridge_grid <- tune_grid(ridge_wf %>% \n",
    "    add_model(glmnet_spec), \n",
    "    resamples = cv_folds, \n",
    "    grid = lambda_grid)\n",
    "\n",
    "show_best(ridge_grid, metric = \"rmse\")\n",
    "show_best(ridge_grid, metric = \"rsq\")"
   ]
  },
  {
   "cell_type": "code",
   "execution_count": 32,
   "metadata": {},
   "outputs": [],
   "source": [
    "# Fit a glmnet model using the fit() function\n"
   ]
  },
  {
   "cell_type": "code",
   "execution_count": 33,
   "metadata": {},
   "outputs": [],
   "source": [
    "# Report rsq and rmse of the `lm_glmnet` model\n"
   ]
  },
  {
   "cell_type": "markdown",
   "metadata": {},
   "source": [
    "# TASK: Experiment to search for improved models\n"
   ]
  },
  {
   "cell_type": "markdown",
   "metadata": {},
   "source": [
    "Now you understand some of the methods that you can use to try to improve your models.\n"
   ]
  },
  {
   "cell_type": "markdown",
   "metadata": {},
   "source": [
    "*TODO:* Experiment by building and testing at least five different models. For each of your experiments, include polynomial terms, interaction terms, and one of the three regularizations we introduced.\n"
   ]
  },
  {
   "cell_type": "code",
   "execution_count": 34,
   "metadata": {},
   "outputs": [],
   "source": [
    "# Build at least five different models using polynomial terms, interaction terms, and regularizations.\n",
    "train_plr_fit <- lm_spec %>% \n",
    "    fit(RENTED_BIKE_COUNT ~ poly(RAINFALL, 8, raw=TRUE) + poly(HUMIDITY, 4, raw=TRUE) + `18` +\n",
    "              poly(TEMPERATURE, 4, raw=TRUE) + poly(DEW_POINT_TEMPERATURE, 3, raw=TRUE) + `19`+ `8` + `21` + `20`+ \n",
    "              `4` + `5`+ AUTUMN + `22` + `3` +  `17` + SOLAR_RADIATION + SNOWFALL + `11`+ `10` + `2` +  \n",
    "              `12` + `8` + SUMMER +`14` + SPRING + `13` + HOLIDAY + `1`+ `15` + `7` + `23` + WIND_SPEED +\n",
    "               `0` + `16` + VISIBILITY, data = train_data)"
   ]
  },
  {
   "cell_type": "code",
   "execution_count": 35,
   "metadata": {},
   "outputs": [],
   "source": [
    "test_plr_results <- train_plr_fit %>%\n",
    "  # Make the predictions and save the predicted values\n",
    "  predict(new_data = test_data) %>%\n",
    "  # Create a new column to save the true values\n",
    "  mutate(truth = test_data$RENTED_BIKE_COUNT)"
   ]
  },
  {
   "cell_type": "code",
   "execution_count": 36,
   "metadata": {},
   "outputs": [],
   "source": [
    "test_plr_results[test_plr_results<0] <- 0"
   ]
  },
  {
   "cell_type": "code",
   "execution_count": 37,
   "metadata": {},
   "outputs": [
    {
     "data": {
      "text/html": [
       "<table class=\"dataframe\">\n",
       "<caption>A tibble: 1 × 3</caption>\n",
       "<thead>\n",
       "\t<tr><th scope=col>.metric</th><th scope=col>.estimator</th><th scope=col>.estimate</th></tr>\n",
       "\t<tr><th scope=col>&lt;chr&gt;</th><th scope=col>&lt;chr&gt;</th><th scope=col>&lt;dbl&gt;</th></tr>\n",
       "</thead>\n",
       "<tbody>\n",
       "\t<tr><td>rsq</td><td>standard</td><td>0.7589189</td></tr>\n",
       "</tbody>\n",
       "</table>\n"
      ],
      "text/latex": [
       "A tibble: 1 × 3\n",
       "\\begin{tabular}{lll}\n",
       " .metric & .estimator & .estimate\\\\\n",
       " <chr> & <chr> & <dbl>\\\\\n",
       "\\hline\n",
       "\t rsq & standard & 0.7589189\\\\\n",
       "\\end{tabular}\n"
      ],
      "text/markdown": [
       "\n",
       "A tibble: 1 × 3\n",
       "\n",
       "| .metric &lt;chr&gt; | .estimator &lt;chr&gt; | .estimate &lt;dbl&gt; |\n",
       "|---|---|---|\n",
       "| rsq | standard | 0.7589189 |\n",
       "\n"
      ],
      "text/plain": [
       "  .metric .estimator .estimate\n",
       "1 rsq     standard   0.7589189"
      ]
     },
     "metadata": {},
     "output_type": "display_data"
    },
    {
     "data": {
      "text/html": [
       "<table class=\"dataframe\">\n",
       "<caption>A tibble: 1 × 3</caption>\n",
       "<thead>\n",
       "\t<tr><th scope=col>.metric</th><th scope=col>.estimator</th><th scope=col>.estimate</th></tr>\n",
       "\t<tr><th scope=col>&lt;chr&gt;</th><th scope=col>&lt;chr&gt;</th><th scope=col>&lt;dbl&gt;</th></tr>\n",
       "</thead>\n",
       "<tbody>\n",
       "\t<tr><td>rmse</td><td>standard</td><td>312.3996</td></tr>\n",
       "</tbody>\n",
       "</table>\n"
      ],
      "text/latex": [
       "A tibble: 1 × 3\n",
       "\\begin{tabular}{lll}\n",
       " .metric & .estimator & .estimate\\\\\n",
       " <chr> & <chr> & <dbl>\\\\\n",
       "\\hline\n",
       "\t rmse & standard & 312.3996\\\\\n",
       "\\end{tabular}\n"
      ],
      "text/markdown": [
       "\n",
       "A tibble: 1 × 3\n",
       "\n",
       "| .metric &lt;chr&gt; | .estimator &lt;chr&gt; | .estimate &lt;dbl&gt; |\n",
       "|---|---|---|\n",
       "| rmse | standard | 312.3996 |\n",
       "\n"
      ],
      "text/plain": [
       "  .metric .estimator .estimate\n",
       "1 rmse    standard   312.3996 "
      ]
     },
     "metadata": {},
     "output_type": "display_data"
    }
   ],
   "source": [
    "# Report the best performed model in terms of rmse and rsq\n",
    "plr_rsq_t<-rsq(test_plr_results, truth = truth,\n",
    "    estimate = .pred)\n",
    "plr_rsq_t\n",
    "plr_rmse_t <- rmse(test_plr_results, truth = truth, estimate = .pred)\n",
    "plr_rmse_t"
   ]
  },
  {
   "cell_type": "markdown",
   "metadata": {},
   "source": [
    "Here are the performance requirements for your best model:\n",
    "\n",
    "*   The RMSE should be less than 330 (rougly 10% of the max value in test dataset)\n",
    "*   R-squared should be greater than 0.72\n"
   ]
  },
  {
   "cell_type": "markdown",
   "metadata": {},
   "source": [
    "*TODO:* Visualize the saved RMSE and R-squared values using a grouped barchart\n"
   ]
  },
  {
   "cell_type": "code",
   "execution_count": 38,
   "metadata": {},
   "outputs": [
    {
     "data": {
      "text/html": [
       "<table class=\"dataframe\">\n",
       "<caption>A data.frame: 4 × 3</caption>\n",
       "<thead>\n",
       "\t<tr><th scope=col>MODEL_NAME</th><th scope=col>RMSE</th><th scope=col>R_SQUARED</th></tr>\n",
       "\t<tr><th scope=col>&lt;chr&gt;</th><th scope=col>&lt;dbl&gt;</th><th scope=col>&lt;dbl&gt;</th></tr>\n",
       "</thead>\n",
       "<tbody>\n",
       "\t<tr><td>Simple Linear Regression   </td><td>364.4235</td><td>0.6690204</td></tr>\n",
       "\t<tr><td>Polynomial Regression      </td><td>312.3996</td><td>0.7589189</td></tr>\n",
       "\t<tr><td>Regression with Interaction</td><td>361.6293</td><td>0.6735662</td></tr>\n",
       "\t<tr><td>Ridge Regression           </td><td>379.1350</td><td>0.6553548</td></tr>\n",
       "</tbody>\n",
       "</table>\n"
      ],
      "text/latex": [
       "A data.frame: 4 × 3\n",
       "\\begin{tabular}{lll}\n",
       " MODEL\\_NAME & RMSE & R\\_SQUARED\\\\\n",
       " <chr> & <dbl> & <dbl>\\\\\n",
       "\\hline\n",
       "\t Simple Linear Regression    & 364.4235 & 0.6690204\\\\\n",
       "\t Polynomial Regression       & 312.3996 & 0.7589189\\\\\n",
       "\t Regression with Interaction & 361.6293 & 0.6735662\\\\\n",
       "\t Ridge Regression            & 379.1350 & 0.6553548\\\\\n",
       "\\end{tabular}\n"
      ],
      "text/markdown": [
       "\n",
       "A data.frame: 4 × 3\n",
       "\n",
       "| MODEL_NAME &lt;chr&gt; | RMSE &lt;dbl&gt; | R_SQUARED &lt;dbl&gt; |\n",
       "|---|---|---|\n",
       "| Simple Linear Regression    | 364.4235 | 0.6690204 |\n",
       "| Polynomial Regression       | 312.3996 | 0.7589189 |\n",
       "| Regression with Interaction | 361.6293 | 0.6735662 |\n",
       "| Ridge Regression            | 379.1350 | 0.6553548 |\n",
       "\n"
      ],
      "text/plain": [
       "  MODEL_NAME                  RMSE     R_SQUARED\n",
       "1 Simple Linear Regression    364.4235 0.6690204\n",
       "2 Polynomial Regression       312.3996 0.7589189\n",
       "3 Regression with Interaction 361.6293 0.6735662\n",
       "4 Ridge Regression            379.1350 0.6553548"
      ]
     },
     "metadata": {},
     "output_type": "display_data"
    }
   ],
   "source": [
    "# HINT: Use ggplot() + geom_bar()\n",
    "rmse_rsq<-data.frame(MODEL_NAME<-c('Simple Linear Regression', 'Polynomial Regression','Regression with Interaction', 'Ridge Regression'), RMSE=c(364.4235, 312.3996, 361.6293, 379.135), R_SQUARED=c(0.6690204, 0.7589189, 0.6735662,0.6553548)) \n",
    "names(rmse_rsq)<-c('MODEL_NAME', 'RMSE', 'R_SQUARED')\n",
    "rmse_rsq"
   ]
  },
  {
   "cell_type": "code",
   "execution_count": 39,
   "metadata": {},
   "outputs": [
    {
     "data": {
      "image/png": "[encoded data removed]",
      "text/plain": [
       "plot without title"
      ]
     },
     "metadata": {
      "image/png": {
       "height": 480,
       "width": 720
      }
     },
     "output_type": "display_data"
    }
   ],
   "source": [
    "ggplot(rmse_rsq, aes(x=MODEL_NAME, y=RMSE)) + geom_bar(stat=\"identity\") + labs(x='MODEL', y='RMSE')"
   ]
  },
  {
   "cell_type": "code",
   "execution_count": 40,
   "metadata": {},
   "outputs": [
    {
     "data": {
      "image/png": "[encoded data removed]",
      "text/plain": [
       "plot without title"
      ]
     },
     "metadata": {
      "image/png": {
       "height": 480,
       "width": 720
      }
     },
     "output_type": "display_data"
    }
   ],
   "source": [
    "ggplot(rmse_rsq, aes(x=MODEL_NAME, y=R_SQUARED)) + geom_bar(stat=\"identity\") + labs(x='MODEL', y='R_SQUARED')"
   ]
  },
  {
   "cell_type": "markdown",
   "metadata": {},
   "source": [
    "*TODO:* Create a Q-Q plot by plotting the distribution difference between the predictions generated by your best model and the true values on the test dataset."
   ]
  },
  {
   "cell_type": "code",
   "execution_count": 41,
   "metadata": {},
   "outputs": [
    {
     "data": {
      "text/html": [
       "<table class=\"dataframe\">\n",
       "<caption>A tibble: 1693 × 2</caption>\n",
       "<thead>\n",
       "\t<tr><th scope=col>.pred</th><th scope=col>truth</th></tr>\n",
       "\t<tr><th scope=col>&lt;dbl&gt;</th><th scope=col>&lt;dbl&gt;</th></tr>\n",
       "</thead>\n",
       "<tbody>\n",
       "\t<tr><td>  0.00000</td><td>100</td></tr>\n",
       "\t<tr><td> 48.77599</td><td>181</td></tr>\n",
       "\t<tr><td>  0.00000</td><td>360</td></tr>\n",
       "\t<tr><td>568.98918</td><td>405</td></tr>\n",
       "\t<tr><td> 44.08817</td><td>328</td></tr>\n",
       "\t<tr><td>198.12572</td><td>479</td></tr>\n",
       "\t<tr><td>689.16475</td><td>359</td></tr>\n",
       "\t<tr><td>687.57062</td><td>377</td></tr>\n",
       "\t<tr><td> 91.08532</td><td>227</td></tr>\n",
       "\t<tr><td>  0.00000</td><td> 32</td></tr>\n",
       "\t<tr><td>125.44272</td><td> 22</td></tr>\n",
       "\t<tr><td>  0.00000</td><td>273</td></tr>\n",
       "\t<tr><td>553.22172</td><td>397</td></tr>\n",
       "\t<tr><td>552.64107</td><td>385</td></tr>\n",
       "\t<tr><td>400.15559</td><td>350</td></tr>\n",
       "\t<tr><td>643.82839</td><td>937</td></tr>\n",
       "\t<tr><td>120.71965</td><td>393</td></tr>\n",
       "\t<tr><td>520.93099</td><td>515</td></tr>\n",
       "\t<tr><td>679.29164</td><td>568</td></tr>\n",
       "\t<tr><td>600.87685</td><td>397</td></tr>\n",
       "\t<tr><td>  0.00000</td><td> 42</td></tr>\n",
       "\t<tr><td>228.94171</td><td>381</td></tr>\n",
       "\t<tr><td>586.70073</td><td>812</td></tr>\n",
       "\t<tr><td>  0.00000</td><td>334</td></tr>\n",
       "\t<tr><td>151.97448</td><td>353</td></tr>\n",
       "\t<tr><td> 79.97574</td><td>142</td></tr>\n",
       "\t<tr><td>262.43966</td><td>379</td></tr>\n",
       "\t<tr><td>109.01746</td><td>440</td></tr>\n",
       "\t<tr><td>207.60434</td><td>442</td></tr>\n",
       "\t<tr><td>681.59674</td><td>204</td></tr>\n",
       "\t<tr><td>...</td><td>...</td></tr>\n",
       "\t<tr><td> 897.69807</td><td> 872</td></tr>\n",
       "\t<tr><td>1115.04207</td><td> 813</td></tr>\n",
       "\t<tr><td>1149.72646</td><td> 616</td></tr>\n",
       "\t<tr><td> 993.88354</td><td> 570</td></tr>\n",
       "\t<tr><td>  53.15123</td><td> 119</td></tr>\n",
       "\t<tr><td> 824.40371</td><td> 718</td></tr>\n",
       "\t<tr><td> 499.66577</td><td> 496</td></tr>\n",
       "\t<tr><td>  93.04596</td><td> 140</td></tr>\n",
       "\t<tr><td> 394.37282</td><td> 317</td></tr>\n",
       "\t<tr><td> 574.05899</td><td> 815</td></tr>\n",
       "\t<tr><td> 478.18588</td><td> 800</td></tr>\n",
       "\t<tr><td> 755.95110</td><td> 671</td></tr>\n",
       "\t<tr><td>1158.22979</td><td> 825</td></tr>\n",
       "\t<tr><td> 980.38636</td><td> 740</td></tr>\n",
       "\t<tr><td> 573.45949</td><td> 450</td></tr>\n",
       "\t<tr><td> 154.53105</td><td> 128</td></tr>\n",
       "\t<tr><td> 627.94301</td><td> 635</td></tr>\n",
       "\t<tr><td> 917.66098</td><td> 808</td></tr>\n",
       "\t<tr><td>1073.81090</td><td>1099</td></tr>\n",
       "\t<tr><td>1465.94330</td><td>1536</td></tr>\n",
       "\t<tr><td> 605.57764</td><td> 555</td></tr>\n",
       "\t<tr><td> 958.18173</td><td>1635</td></tr>\n",
       "\t<tr><td> 764.71773</td><td> 748</td></tr>\n",
       "\t<tr><td>1326.60681</td><td>1577</td></tr>\n",
       "\t<tr><td> 633.58188</td><td> 559</td></tr>\n",
       "\t<tr><td> 508.64719</td><td> 474</td></tr>\n",
       "\t<tr><td> 966.36598</td><td>1527</td></tr>\n",
       "\t<tr><td> 393.18840</td><td> 554</td></tr>\n",
       "\t<tr><td> 979.07820</td><td> 764</td></tr>\n",
       "\t<tr><td> 600.98523</td><td> 584</td></tr>\n",
       "</tbody>\n",
       "</table>\n"
      ],
      "text/latex": [
       "A tibble: 1693 × 2\n",
       "\\begin{tabular}{ll}\n",
       " .pred & truth\\\\\n",
       " <dbl> & <dbl>\\\\\n",
       "\\hline\n",
       "\t   0.00000 & 100\\\\\n",
       "\t  48.77599 & 181\\\\\n",
       "\t   0.00000 & 360\\\\\n",
       "\t 568.98918 & 405\\\\\n",
       "\t  44.08817 & 328\\\\\n",
       "\t 198.12572 & 479\\\\\n",
       "\t 689.16475 & 359\\\\\n",
       "\t 687.57062 & 377\\\\\n",
       "\t  91.08532 & 227\\\\\n",
       "\t   0.00000 &  32\\\\\n",
       "\t 125.44272 &  22\\\\\n",
       "\t   0.00000 & 273\\\\\n",
       "\t 553.22172 & 397\\\\\n",
       "\t 552.64107 & 385\\\\\n",
       "\t 400.15559 & 350\\\\\n",
       "\t 643.82839 & 937\\\\\n",
       "\t 120.71965 & 393\\\\\n",
       "\t 520.93099 & 515\\\\\n",
       "\t 679.29164 & 568\\\\\n",
       "\t 600.87685 & 397\\\\\n",
       "\t   0.00000 &  42\\\\\n",
       "\t 228.94171 & 381\\\\\n",
       "\t 586.70073 & 812\\\\\n",
       "\t   0.00000 & 334\\\\\n",
       "\t 151.97448 & 353\\\\\n",
       "\t  79.97574 & 142\\\\\n",
       "\t 262.43966 & 379\\\\\n",
       "\t 109.01746 & 440\\\\\n",
       "\t 207.60434 & 442\\\\\n",
       "\t 681.59674 & 204\\\\\n",
       "\t ... & ...\\\\\n",
       "\t  897.69807 &  872\\\\\n",
       "\t 1115.04207 &  813\\\\\n",
       "\t 1149.72646 &  616\\\\\n",
       "\t  993.88354 &  570\\\\\n",
       "\t   53.15123 &  119\\\\\n",
       "\t  824.40371 &  718\\\\\n",
       "\t  499.66577 &  496\\\\\n",
       "\t   93.04596 &  140\\\\\n",
       "\t  394.37282 &  317\\\\\n",
       "\t  574.05899 &  815\\\\\n",
       "\t  478.18588 &  800\\\\\n",
       "\t  755.95110 &  671\\\\\n",
       "\t 1158.22979 &  825\\\\\n",
       "\t  980.38636 &  740\\\\\n",
       "\t  573.45949 &  450\\\\\n",
       "\t  154.53105 &  128\\\\\n",
       "\t  627.94301 &  635\\\\\n",
       "\t  917.66098 &  808\\\\\n",
       "\t 1073.81090 & 1099\\\\\n",
       "\t 1465.94330 & 1536\\\\\n",
       "\t  605.57764 &  555\\\\\n",
       "\t  958.18173 & 1635\\\\\n",
       "\t  764.71773 &  748\\\\\n",
       "\t 1326.60681 & 1577\\\\\n",
       "\t  633.58188 &  559\\\\\n",
       "\t  508.64719 &  474\\\\\n",
       "\t  966.36598 & 1527\\\\\n",
       "\t  393.18840 &  554\\\\\n",
       "\t  979.07820 &  764\\\\\n",
       "\t  600.98523 &  584\\\\\n",
       "\\end{tabular}\n"
      ],
      "text/markdown": [
       "\n",
       "A tibble: 1693 × 2\n",
       "\n",
       "| .pred &lt;dbl&gt; | truth &lt;dbl&gt; |\n",
       "|---|---|\n",
       "|   0.00000 | 100 |\n",
       "|  48.77599 | 181 |\n",
       "|   0.00000 | 360 |\n",
       "| 568.98918 | 405 |\n",
       "|  44.08817 | 328 |\n",
       "| 198.12572 | 479 |\n",
       "| 689.16475 | 359 |\n",
       "| 687.57062 | 377 |\n",
       "|  91.08532 | 227 |\n",
       "|   0.00000 |  32 |\n",
       "| 125.44272 |  22 |\n",
       "|   0.00000 | 273 |\n",
       "| 553.22172 | 397 |\n",
       "| 552.64107 | 385 |\n",
       "| 400.15559 | 350 |\n",
       "| 643.82839 | 937 |\n",
       "| 120.71965 | 393 |\n",
       "| 520.93099 | 515 |\n",
       "| 679.29164 | 568 |\n",
       "| 600.87685 | 397 |\n",
       "|   0.00000 |  42 |\n",
       "| 228.94171 | 381 |\n",
       "| 586.70073 | 812 |\n",
       "|   0.00000 | 334 |\n",
       "| 151.97448 | 353 |\n",
       "|  79.97574 | 142 |\n",
       "| 262.43966 | 379 |\n",
       "| 109.01746 | 440 |\n",
       "| 207.60434 | 442 |\n",
       "| 681.59674 | 204 |\n",
       "| ... | ... |\n",
       "|  897.69807 |  872 |\n",
       "| 1115.04207 |  813 |\n",
       "| 1149.72646 |  616 |\n",
       "|  993.88354 |  570 |\n",
       "|   53.15123 |  119 |\n",
       "|  824.40371 |  718 |\n",
       "|  499.66577 |  496 |\n",
       "|   93.04596 |  140 |\n",
       "|  394.37282 |  317 |\n",
       "|  574.05899 |  815 |\n",
       "|  478.18588 |  800 |\n",
       "|  755.95110 |  671 |\n",
       "| 1158.22979 |  825 |\n",
       "|  980.38636 |  740 |\n",
       "|  573.45949 |  450 |\n",
       "|  154.53105 |  128 |\n",
       "|  627.94301 |  635 |\n",
       "|  917.66098 |  808 |\n",
       "| 1073.81090 | 1099 |\n",
       "| 1465.94330 | 1536 |\n",
       "|  605.57764 |  555 |\n",
       "|  958.18173 | 1635 |\n",
       "|  764.71773 |  748 |\n",
       "| 1326.60681 | 1577 |\n",
       "|  633.58188 |  559 |\n",
       "|  508.64719 |  474 |\n",
       "|  966.36598 | 1527 |\n",
       "|  393.18840 |  554 |\n",
       "|  979.07820 |  764 |\n",
       "|  600.98523 |  584 |\n",
       "\n"
      ],
      "text/plain": [
       "     .pred      truth\n",
       "1      0.00000  100  \n",
       "2     48.77599  181  \n",
       "3      0.00000  360  \n",
       "4    568.98918  405  \n",
       "5     44.08817  328  \n",
       "6    198.12572  479  \n",
       "7    689.16475  359  \n",
       "8    687.57062  377  \n",
       "9     91.08532  227  \n",
       "10     0.00000   32  \n",
       "11   125.44272   22  \n",
       "12     0.00000  273  \n",
       "13   553.22172  397  \n",
       "14   552.64107  385  \n",
       "15   400.15559  350  \n",
       "16   643.82839  937  \n",
       "17   120.71965  393  \n",
       "18   520.93099  515  \n",
       "19   679.29164  568  \n",
       "20   600.87685  397  \n",
       "21     0.00000   42  \n",
       "22   228.94171  381  \n",
       "23   586.70073  812  \n",
       "24     0.00000  334  \n",
       "25   151.97448  353  \n",
       "26    79.97574  142  \n",
       "27   262.43966  379  \n",
       "28   109.01746  440  \n",
       "29   207.60434  442  \n",
       "30   681.59674  204  \n",
       "...  ...        ...  \n",
       "1664  897.69807  872 \n",
       "1665 1115.04207  813 \n",
       "1666 1149.72646  616 \n",
       "1667  993.88354  570 \n",
       "1668   53.15123  119 \n",
       "1669  824.40371  718 \n",
       "1670  499.66577  496 \n",
       "1671   93.04596  140 \n",
       "1672  394.37282  317 \n",
       "1673  574.05899  815 \n",
       "1674  478.18588  800 \n",
       "1675  755.95110  671 \n",
       "1676 1158.22979  825 \n",
       "1677  980.38636  740 \n",
       "1678  573.45949  450 \n",
       "1679  154.53105  128 \n",
       "1680  627.94301  635 \n",
       "1681  917.66098  808 \n",
       "1682 1073.81090 1099 \n",
       "1683 1465.94330 1536 \n",
       "1684  605.57764  555 \n",
       "1685  958.18173 1635 \n",
       "1686  764.71773  748 \n",
       "1687 1326.60681 1577 \n",
       "1688  633.58188  559 \n",
       "1689  508.64719  474 \n",
       "1690  966.36598 1527 \n",
       "1691  393.18840  554 \n",
       "1692  979.07820  764 \n",
       "1693  600.98523  584 "
      ]
     },
     "metadata": {},
     "output_type": "display_data"
    }
   ],
   "source": [
    "test_plr_results"
   ]
  },
  {
   "cell_type": "code",
   "execution_count": 42,
   "metadata": {},
   "outputs": [
    {
     "data": {
      "text/html": [
       "<style>\n",
       ".list-inline {list-style: none; margin:0; padding: 0}\n",
       ".list-inline>li {display: inline-block}\n",
       ".list-inline>li:not(:last-child)::after {content: \"\\00b7\"; padding: 0 .5ex}\n",
       "</style>\n",
       "<ol class=list-inline><li>'.pred'</li><li>'truth'</li></ol>\n"
      ],
      "text/latex": [
       "\\begin{enumerate*}\n",
       "\\item '.pred'\n",
       "\\item 'truth'\n",
       "\\end{enumerate*}\n"
      ],
      "text/markdown": [
       "1. '.pred'\n",
       "2. 'truth'\n",
       "\n",
       "\n"
      ],
      "text/plain": [
       "[1] \".pred\" \"truth\""
      ]
     },
     "metadata": {},
     "output_type": "display_data"
    }
   ],
   "source": [
    "names(test_plr_results)"
   ]
  },
  {
   "cell_type": "code",
   "execution_count": 43,
   "metadata": {},
   "outputs": [],
   "source": [
    "names(test_plr_results)=c('prediction', 'truth')"
   ]
  },
  {
   "cell_type": "code",
   "execution_count": 44,
   "metadata": {},
   "outputs": [
    {
     "data": {
      "text/html": [
       "<table class=\"dataframe\">\n",
       "<caption>A tibble: 1693 × 2</caption>\n",
       "<thead>\n",
       "\t<tr><th scope=col>prediction</th><th scope=col>truth</th></tr>\n",
       "\t<tr><th scope=col>&lt;dbl&gt;</th><th scope=col>&lt;dbl&gt;</th></tr>\n",
       "</thead>\n",
       "<tbody>\n",
       "\t<tr><td>  0.00000</td><td>100</td></tr>\n",
       "\t<tr><td> 48.77599</td><td>181</td></tr>\n",
       "\t<tr><td>  0.00000</td><td>360</td></tr>\n",
       "\t<tr><td>568.98918</td><td>405</td></tr>\n",
       "\t<tr><td> 44.08817</td><td>328</td></tr>\n",
       "\t<tr><td>198.12572</td><td>479</td></tr>\n",
       "\t<tr><td>689.16475</td><td>359</td></tr>\n",
       "\t<tr><td>687.57062</td><td>377</td></tr>\n",
       "\t<tr><td> 91.08532</td><td>227</td></tr>\n",
       "\t<tr><td>  0.00000</td><td> 32</td></tr>\n",
       "\t<tr><td>125.44272</td><td> 22</td></tr>\n",
       "\t<tr><td>  0.00000</td><td>273</td></tr>\n",
       "\t<tr><td>553.22172</td><td>397</td></tr>\n",
       "\t<tr><td>552.64107</td><td>385</td></tr>\n",
       "\t<tr><td>400.15559</td><td>350</td></tr>\n",
       "\t<tr><td>643.82839</td><td>937</td></tr>\n",
       "\t<tr><td>120.71965</td><td>393</td></tr>\n",
       "\t<tr><td>520.93099</td><td>515</td></tr>\n",
       "\t<tr><td>679.29164</td><td>568</td></tr>\n",
       "\t<tr><td>600.87685</td><td>397</td></tr>\n",
       "\t<tr><td>  0.00000</td><td> 42</td></tr>\n",
       "\t<tr><td>228.94171</td><td>381</td></tr>\n",
       "\t<tr><td>586.70073</td><td>812</td></tr>\n",
       "\t<tr><td>  0.00000</td><td>334</td></tr>\n",
       "\t<tr><td>151.97448</td><td>353</td></tr>\n",
       "\t<tr><td> 79.97574</td><td>142</td></tr>\n",
       "\t<tr><td>262.43966</td><td>379</td></tr>\n",
       "\t<tr><td>109.01746</td><td>440</td></tr>\n",
       "\t<tr><td>207.60434</td><td>442</td></tr>\n",
       "\t<tr><td>681.59674</td><td>204</td></tr>\n",
       "\t<tr><td>...</td><td>...</td></tr>\n",
       "\t<tr><td> 897.69807</td><td> 872</td></tr>\n",
       "\t<tr><td>1115.04207</td><td> 813</td></tr>\n",
       "\t<tr><td>1149.72646</td><td> 616</td></tr>\n",
       "\t<tr><td> 993.88354</td><td> 570</td></tr>\n",
       "\t<tr><td>  53.15123</td><td> 119</td></tr>\n",
       "\t<tr><td> 824.40371</td><td> 718</td></tr>\n",
       "\t<tr><td> 499.66577</td><td> 496</td></tr>\n",
       "\t<tr><td>  93.04596</td><td> 140</td></tr>\n",
       "\t<tr><td> 394.37282</td><td> 317</td></tr>\n",
       "\t<tr><td> 574.05899</td><td> 815</td></tr>\n",
       "\t<tr><td> 478.18588</td><td> 800</td></tr>\n",
       "\t<tr><td> 755.95110</td><td> 671</td></tr>\n",
       "\t<tr><td>1158.22979</td><td> 825</td></tr>\n",
       "\t<tr><td> 980.38636</td><td> 740</td></tr>\n",
       "\t<tr><td> 573.45949</td><td> 450</td></tr>\n",
       "\t<tr><td> 154.53105</td><td> 128</td></tr>\n",
       "\t<tr><td> 627.94301</td><td> 635</td></tr>\n",
       "\t<tr><td> 917.66098</td><td> 808</td></tr>\n",
       "\t<tr><td>1073.81090</td><td>1099</td></tr>\n",
       "\t<tr><td>1465.94330</td><td>1536</td></tr>\n",
       "\t<tr><td> 605.57764</td><td> 555</td></tr>\n",
       "\t<tr><td> 958.18173</td><td>1635</td></tr>\n",
       "\t<tr><td> 764.71773</td><td> 748</td></tr>\n",
       "\t<tr><td>1326.60681</td><td>1577</td></tr>\n",
       "\t<tr><td> 633.58188</td><td> 559</td></tr>\n",
       "\t<tr><td> 508.64719</td><td> 474</td></tr>\n",
       "\t<tr><td> 966.36598</td><td>1527</td></tr>\n",
       "\t<tr><td> 393.18840</td><td> 554</td></tr>\n",
       "\t<tr><td> 979.07820</td><td> 764</td></tr>\n",
       "\t<tr><td> 600.98523</td><td> 584</td></tr>\n",
       "</tbody>\n",
       "</table>\n"
      ],
      "text/latex": [
       "A tibble: 1693 × 2\n",
       "\\begin{tabular}{ll}\n",
       " prediction & truth\\\\\n",
       " <dbl> & <dbl>\\\\\n",
       "\\hline\n",
       "\t   0.00000 & 100\\\\\n",
       "\t  48.77599 & 181\\\\\n",
       "\t   0.00000 & 360\\\\\n",
       "\t 568.98918 & 405\\\\\n",
       "\t  44.08817 & 328\\\\\n",
       "\t 198.12572 & 479\\\\\n",
       "\t 689.16475 & 359\\\\\n",
       "\t 687.57062 & 377\\\\\n",
       "\t  91.08532 & 227\\\\\n",
       "\t   0.00000 &  32\\\\\n",
       "\t 125.44272 &  22\\\\\n",
       "\t   0.00000 & 273\\\\\n",
       "\t 553.22172 & 397\\\\\n",
       "\t 552.64107 & 385\\\\\n",
       "\t 400.15559 & 350\\\\\n",
       "\t 643.82839 & 937\\\\\n",
       "\t 120.71965 & 393\\\\\n",
       "\t 520.93099 & 515\\\\\n",
       "\t 679.29164 & 568\\\\\n",
       "\t 600.87685 & 397\\\\\n",
       "\t   0.00000 &  42\\\\\n",
       "\t 228.94171 & 381\\\\\n",
       "\t 586.70073 & 812\\\\\n",
       "\t   0.00000 & 334\\\\\n",
       "\t 151.97448 & 353\\\\\n",
       "\t  79.97574 & 142\\\\\n",
       "\t 262.43966 & 379\\\\\n",
       "\t 109.01746 & 440\\\\\n",
       "\t 207.60434 & 442\\\\\n",
       "\t 681.59674 & 204\\\\\n",
       "\t ... & ...\\\\\n",
       "\t  897.69807 &  872\\\\\n",
       "\t 1115.04207 &  813\\\\\n",
       "\t 1149.72646 &  616\\\\\n",
       "\t  993.88354 &  570\\\\\n",
       "\t   53.15123 &  119\\\\\n",
       "\t  824.40371 &  718\\\\\n",
       "\t  499.66577 &  496\\\\\n",
       "\t   93.04596 &  140\\\\\n",
       "\t  394.37282 &  317\\\\\n",
       "\t  574.05899 &  815\\\\\n",
       "\t  478.18588 &  800\\\\\n",
       "\t  755.95110 &  671\\\\\n",
       "\t 1158.22979 &  825\\\\\n",
       "\t  980.38636 &  740\\\\\n",
       "\t  573.45949 &  450\\\\\n",
       "\t  154.53105 &  128\\\\\n",
       "\t  627.94301 &  635\\\\\n",
       "\t  917.66098 &  808\\\\\n",
       "\t 1073.81090 & 1099\\\\\n",
       "\t 1465.94330 & 1536\\\\\n",
       "\t  605.57764 &  555\\\\\n",
       "\t  958.18173 & 1635\\\\\n",
       "\t  764.71773 &  748\\\\\n",
       "\t 1326.60681 & 1577\\\\\n",
       "\t  633.58188 &  559\\\\\n",
       "\t  508.64719 &  474\\\\\n",
       "\t  966.36598 & 1527\\\\\n",
       "\t  393.18840 &  554\\\\\n",
       "\t  979.07820 &  764\\\\\n",
       "\t  600.98523 &  584\\\\\n",
       "\\end{tabular}\n"
      ],
      "text/markdown": [
       "\n",
       "A tibble: 1693 × 2\n",
       "\n",
       "| prediction &lt;dbl&gt; | truth &lt;dbl&gt; |\n",
       "|---|---|\n",
       "|   0.00000 | 100 |\n",
       "|  48.77599 | 181 |\n",
       "|   0.00000 | 360 |\n",
       "| 568.98918 | 405 |\n",
       "|  44.08817 | 328 |\n",
       "| 198.12572 | 479 |\n",
       "| 689.16475 | 359 |\n",
       "| 687.57062 | 377 |\n",
       "|  91.08532 | 227 |\n",
       "|   0.00000 |  32 |\n",
       "| 125.44272 |  22 |\n",
       "|   0.00000 | 273 |\n",
       "| 553.22172 | 397 |\n",
       "| 552.64107 | 385 |\n",
       "| 400.15559 | 350 |\n",
       "| 643.82839 | 937 |\n",
       "| 120.71965 | 393 |\n",
       "| 520.93099 | 515 |\n",
       "| 679.29164 | 568 |\n",
       "| 600.87685 | 397 |\n",
       "|   0.00000 |  42 |\n",
       "| 228.94171 | 381 |\n",
       "| 586.70073 | 812 |\n",
       "|   0.00000 | 334 |\n",
       "| 151.97448 | 353 |\n",
       "|  79.97574 | 142 |\n",
       "| 262.43966 | 379 |\n",
       "| 109.01746 | 440 |\n",
       "| 207.60434 | 442 |\n",
       "| 681.59674 | 204 |\n",
       "| ... | ... |\n",
       "|  897.69807 |  872 |\n",
       "| 1115.04207 |  813 |\n",
       "| 1149.72646 |  616 |\n",
       "|  993.88354 |  570 |\n",
       "|   53.15123 |  119 |\n",
       "|  824.40371 |  718 |\n",
       "|  499.66577 |  496 |\n",
       "|   93.04596 |  140 |\n",
       "|  394.37282 |  317 |\n",
       "|  574.05899 |  815 |\n",
       "|  478.18588 |  800 |\n",
       "|  755.95110 |  671 |\n",
       "| 1158.22979 |  825 |\n",
       "|  980.38636 |  740 |\n",
       "|  573.45949 |  450 |\n",
       "|  154.53105 |  128 |\n",
       "|  627.94301 |  635 |\n",
       "|  917.66098 |  808 |\n",
       "| 1073.81090 | 1099 |\n",
       "| 1465.94330 | 1536 |\n",
       "|  605.57764 |  555 |\n",
       "|  958.18173 | 1635 |\n",
       "|  764.71773 |  748 |\n",
       "| 1326.60681 | 1577 |\n",
       "|  633.58188 |  559 |\n",
       "|  508.64719 |  474 |\n",
       "|  966.36598 | 1527 |\n",
       "|  393.18840 |  554 |\n",
       "|  979.07820 |  764 |\n",
       "|  600.98523 |  584 |\n",
       "\n"
      ],
      "text/plain": [
       "     prediction truth\n",
       "1      0.00000  100  \n",
       "2     48.77599  181  \n",
       "3      0.00000  360  \n",
       "4    568.98918  405  \n",
       "5     44.08817  328  \n",
       "6    198.12572  479  \n",
       "7    689.16475  359  \n",
       "8    687.57062  377  \n",
       "9     91.08532  227  \n",
       "10     0.00000   32  \n",
       "11   125.44272   22  \n",
       "12     0.00000  273  \n",
       "13   553.22172  397  \n",
       "14   552.64107  385  \n",
       "15   400.15559  350  \n",
       "16   643.82839  937  \n",
       "17   120.71965  393  \n",
       "18   520.93099  515  \n",
       "19   679.29164  568  \n",
       "20   600.87685  397  \n",
       "21     0.00000   42  \n",
       "22   228.94171  381  \n",
       "23   586.70073  812  \n",
       "24     0.00000  334  \n",
       "25   151.97448  353  \n",
       "26    79.97574  142  \n",
       "27   262.43966  379  \n",
       "28   109.01746  440  \n",
       "29   207.60434  442  \n",
       "30   681.59674  204  \n",
       "...  ...        ...  \n",
       "1664  897.69807  872 \n",
       "1665 1115.04207  813 \n",
       "1666 1149.72646  616 \n",
       "1667  993.88354  570 \n",
       "1668   53.15123  119 \n",
       "1669  824.40371  718 \n",
       "1670  499.66577  496 \n",
       "1671   93.04596  140 \n",
       "1672  394.37282  317 \n",
       "1673  574.05899  815 \n",
       "1674  478.18588  800 \n",
       "1675  755.95110  671 \n",
       "1676 1158.22979  825 \n",
       "1677  980.38636  740 \n",
       "1678  573.45949  450 \n",
       "1679  154.53105  128 \n",
       "1680  627.94301  635 \n",
       "1681  917.66098  808 \n",
       "1682 1073.81090 1099 \n",
       "1683 1465.94330 1536 \n",
       "1684  605.57764  555 \n",
       "1685  958.18173 1635 \n",
       "1686  764.71773  748 \n",
       "1687 1326.60681 1577 \n",
       "1688  633.58188  559 \n",
       "1689  508.64719  474 \n",
       "1690  966.36598 1527 \n",
       "1691  393.18840  554 \n",
       "1692  979.07820  764 \n",
       "1693  600.98523  584 "
      ]
     },
     "metadata": {},
     "output_type": "display_data"
    }
   ],
   "source": [
    "test_plr_results"
   ]
  },
  {
   "cell_type": "code",
   "execution_count": 45,
   "metadata": {},
   "outputs": [
    {
     "data": {
      "image/png": "[encoded data removed]",
      "text/plain": [
       "plot without title"
      ]
     },
     "metadata": {
      "image/png": {
       "height": 480,
       "width": 720
      }
     },
     "output_type": "display_data"
    }
   ],
   "source": [
    "test_plr_results %>% ggplot() +\n",
    "    stat_qq(aes(sample=truth), color='green') +\n",
    "    stat_qq(aes(sample=prediction), color='red')"
   ]
  },
  {
   "cell_type": "markdown",
   "metadata": {},
   "source": [
    "One example of such Q-Q plot may look like this:\n"
   ]
  },
  {
   "cell_type": "markdown",
   "metadata": {},
   "source": [
    "<a href=\"https://cognitiveclass.ai/?utm_medium=Exinfluencer&utm_source=Exinfluencer&utm_content=000026UJ&utm_term=10006555&utm_id=NA-SkillsNetwork-Channel-SkillsNetworkCoursesIBMDeveloperSkillsNetworkRP0321ENSkillsNetwork25371262-2022-01-01\">\n",
    "    <img src=\"https://cf-courses-data.s3.us.cloud-object-storage.appdomain.cloud/IBMDeveloperSkillsNetwork-RP0321EN-SkillsNetwork/labs/module_4/images/example_qq_plot.png\" width=\"600\" align=\"center\">\n",
    "</a>\n"
   ]
  },
  {
   "cell_type": "markdown",
   "metadata": {},
   "source": [
    "# More model improvment methods beyond this course\n"
   ]
  },
  {
   "cell_type": "markdown",
   "metadata": {},
   "source": [
    "In addition to the methods mentioned in this lab and previous data analysis courses, you could also explore to try the following methods yourself to see if they could improve model performance:\n",
    "\n",
    "*   Remove potential redundant variables. If two variables have extremly high correlated, it is possible that they are redundant and could be removed from the model to improve the performance.\n",
    "*   Remove some outliers. Linear regression models are very sensitive to outliers, you could try to remove some outliers to see if it would improve performance\n",
    "*   Apply logarithm transformation. In case variable distributions are not normal distribution such as log-normal distribution, you could apply logaritm transformation on the variable to make them more look like normal distribution. In addition, logarithm transformation helps capture the non-linear relationships.\n",
    "\n",
    "If you have time, you could research and try more methods by searching related research papers/articles, discussion forums, etc. If you know how to use other machine learning models with `Tidymodels` such as Neural Networks, Tree models, or Boosting models, you can also try and compare them with the linear regression models.\n"
   ]
  },
  {
   "cell_type": "markdown",
   "metadata": {},
   "source": [
    "# Next Steps:\n"
   ]
  },
  {
   "cell_type": "markdown",
   "metadata": {},
   "source": [
    "Great! You have improved your baseline model using polynomial terms, interaction terms, and regularizations, and have found your best model.\n",
    "\n",
    "Now it's time to build an interactive dashboard to provide more interactive user-interactions.\n"
   ]
  },
  {
   "cell_type": "markdown",
   "metadata": {},
   "source": [
    "## Authors\n",
    "\n",
    "<a href=\"https://www.linkedin.com/in/yan-luo-96288783/?utm_medium=Exinfluencer&utm_source=Exinfluencer&utm_content=000026UJ&utm_term=10006555&utm_id=NA-SkillsNetwork-Channel-SkillsNetworkCoursesIBMDeveloperSkillsNetworkRP0321ENSkillsNetwork25371262-2022-01-01\" target=\"_blank\">Yan Luo</a>\n"
   ]
  },
  {
   "cell_type": "markdown",
   "metadata": {},
   "source": [
    "### Other Contributors\n",
    "\n",
    "Jeff Grossman\n"
   ]
  },
  {
   "cell_type": "markdown",
   "metadata": {},
   "source": [
    "## Change Log\n",
    "\n",
    "| Date (YYYY-MM-DD) | Version | Changed By | Change Description      |\n",
    "| ----------------- | ------- | ---------- | ----------------------- |\n",
    "| 2021-04-08        | 1.0     | Yan        | Initial version created |\n",
    "|                   |         |            |                         |\n",
    "|                   |         |            |                         |\n",
    "\n",
    "## <h3 align=\"center\"> © IBM Corporation 2021. All rights reserved. <h3/>\n"
   ]
  }
 ],
 "metadata": {
  "kernelspec": {
   "display_name": "R",
   "language": "R",
   "name": "ir"
  },
  "language_info": {
   "codemirror_mode": "r",
   "file_extension": ".r",
   "mimetype": "text/x-r-source",
   "name": "R",
   "pygments_lexer": "r",
   "version": "4.1.0"
  },
  "toc": {
   "base_numbering": 1,
   "nav_menu": {},
   "number_sections": true,
   "sideBar": true,
   "skip_h1_title": false,
   "title_cell": "Table of Contents",
   "title_sidebar": "Contents",
   "toc_cell": false,
   "toc_position": {},
   "toc_section_display": true,
   "toc_window_display": false
  }
 },
 "nbformat": 4,
 "nbformat_minor": 4
}
